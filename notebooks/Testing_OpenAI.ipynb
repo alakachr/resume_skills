{
 "cells": [
  {
   "cell_type": "code",
   "execution_count": 33,
   "id": "c1144859-b54a-4cad-9117-a6f74ba7d9a4",
   "metadata": {},
   "outputs": [],
   "source": [
    "from openai import OpenAI\n",
    "from resume_skills.env.setings import OPEN_API_KEY\n",
    "\n",
    "import json\n",
    "import ast\n",
    "from tqdm import tqdm\n",
    "import base64\n",
    "import requests\n",
    "from pathlib import Path\n",
    "import backoff \n",
    "from tenacity import (\n",
    "    retry,\n",
    "    stop_after_attempt,\n",
    "    wait_random_exponential,\n",
    ")  "
   ]
  },
  {
   "cell_type": "code",
   "execution_count": 22,
   "id": "106bdec3-41fd-470d-863f-2d957be045fc",
   "metadata": {},
   "outputs": [],
   "source": [
    "\n",
    "# OpenAI API Key\n",
    "api_key = OPEN_API_KEY\n",
    "\n",
    "# Function to encode the image\n",
    "def encode_image(image_path):\n",
    "  with open(image_path, \"rb\") as image_file:\n",
    "    return base64.b64encode(image_file.read()).decode('utf-8')"
   ]
  },
  {
   "cell_type": "code",
   "execution_count": 23,
   "id": "ac750c49-ab5c-4062-b29f-76f6ef1b2106",
   "metadata": {},
   "outputs": [],
   "source": [
    "text = \"\"\"\n",
    "Give the different skills listed in the skill section of this resume and their indicated level in percentage. \n",
    "Give them as a list of list like this : SKILLS [[skill1, level1], [skill2, level2]...]. \n",
    "If there are no indicated skill level , give a value of 0 : SKILLS [[skill1,0]..].\n",
    "If there is no skill section, give an empty list : SKILLS [].\n",
    "Write each skill in the list in quotes.\n",
    "      \"\"\"\n"
   ]
  },
  {
   "cell_type": "code",
   "execution_count": 50,
   "id": "4615afac-135f-48fa-83f2-a70420b56893",
   "metadata": {},
   "outputs": [],
   "source": [
    "@retry(wait=wait_random_exponential(min=1, max=60), stop=stop_after_attempt(6))\n",
    "def completions_with_backoff(headers, payload):\n",
    "    response= requests.post(\"https://api.openai.com/v1/chat/completions\", headers=headers, json=payload)\n",
    "    string = response.json()[\"choices\"][0][\"message\"][\"content\"]\n",
    "    return string , response\n",
    "\n",
    "\n"
   ]
  },
  {
   "cell_type": "code",
   "execution_count": 52,
   "id": "34bfe8c7-1d85-479e-8ce2-c45b62356260",
   "metadata": {},
   "outputs": [
    {
     "name": "stderr",
     "output_type": "stream",
     "text": [
      "  0%|▏                                                                                                                                      | 1/871 [00:02<38:41,  2.67s/it]"
     ]
    },
    {
     "name": "stdout",
     "output_type": "stream",
     "text": [
      "[]\n"
     ]
    },
    {
     "name": "stderr",
     "output_type": "stream",
     "text": [
      "  0%|▎                                                                                                                                      | 2/871 [00:04<27:59,  1.93s/it]"
     ]
    },
    {
     "name": "stdout",
     "output_type": "stream",
     "text": [
      "[]\n"
     ]
    },
    {
     "name": "stderr",
     "output_type": "stream",
     "text": [
      "  0%|▍                                                                                                                                      | 3/871 [00:06<30:30,  2.11s/it]"
     ]
    },
    {
     "name": "stdout",
     "output_type": "stream",
     "text": [
      "[['Japanese Proficient', 100], ['French Proficient', 100], ['MS Office Proficient', 100], ['Hunt and webpage design Proficient', 100]]\n"
     ]
    },
    {
     "name": "stderr",
     "output_type": "stream",
     "text": [
      "  0%|▌                                                                                                                                      | 4/871 [00:08<32:35,  2.26s/it]"
     ]
    },
    {
     "name": "stdout",
     "output_type": "stream",
     "text": [
      "[]\n"
     ]
    },
    {
     "name": "stderr",
     "output_type": "stream",
     "text": [
      "  1%|▊                                                                                                                                      | 5/871 [00:11<32:12,  2.23s/it]"
     ]
    },
    {
     "name": "stdout",
     "output_type": "stream",
     "text": [
      "[['Wise Decision Maker', 0], ['Knowledge in Accounting', 0], ['Proficient in MS Office', 0], ['Proficient in QuickBooks', 0], ['Punctual-Finisher', 0]]\n"
     ]
    },
    {
     "name": "stderr",
     "output_type": "stream",
     "text": [
      "  1%|▉                                                                                                                                      | 6/871 [00:12<29:51,  2.07s/it]"
     ]
    },
    {
     "name": "stdout",
     "output_type": "stream",
     "text": [
      "[]\n"
     ]
    },
    {
     "name": "stderr",
     "output_type": "stream",
     "text": [
      "  1%|█                                                                                                                                      | 7/871 [00:15<31:13,  2.17s/it]"
     ]
    },
    {
     "name": "stdout",
     "output_type": "stream",
     "text": [
      "[['ILLUSTRATOR', 0], ['PHOTOSHOP', 0], ['INDESIGN', 0], ['BOOTSTRAP', 0], ['HTML 5', 0], ['CSS 3', 0]]\n"
     ]
    },
    {
     "name": "stderr",
     "output_type": "stream",
     "text": [
      "  1%|█▏                                                                                                                                     | 8/871 [00:18<37:45,  2.62s/it]"
     ]
    },
    {
     "name": "stdout",
     "output_type": "stream",
     "text": [
      "[['Illustrator', 0], ['Photoshop', 0], ['InDesign', 0], ['Bootstrap', 0], ['HTML 5', 0], ['CSS 3', 0]]\n"
     ]
    },
    {
     "name": "stderr",
     "output_type": "stream",
     "text": [
      "  1%|█▍                                                                                                                                     | 9/871 [00:21<36:07,  2.51s/it]"
     ]
    },
    {
     "name": "stdout",
     "output_type": "stream",
     "text": [
      "[['Japanese Proficient', 0], ['French Proficient', 0], ['MS Office Proficient', 0], ['Hunt and webpage design Proficient', 0]]\n"
     ]
    },
    {
     "name": "stderr",
     "output_type": "stream",
     "text": [
      "  1%|█▌                                                                                                                                    | 10/871 [00:23<37:01,  2.58s/it]"
     ]
    },
    {
     "name": "stdout",
     "output_type": "stream",
     "text": [
      "[['Wise Decision Maker', 0], ['Knowledge in Accounting', 0], ['Proficient in MS Office', 0], ['Proficient in QuickBooks', 0], ['Punctual-Finisher', 0]]\n"
     ]
    },
    {
     "name": "stderr",
     "output_type": "stream",
     "text": [
      "  1%|█▋                                                                                                                                    | 11/871 [00:25<33:32,  2.34s/it]"
     ]
    },
    {
     "name": "stdout",
     "output_type": "stream",
     "text": [
      "[]\n"
     ]
    },
    {
     "name": "stderr",
     "output_type": "stream",
     "text": [
      "  1%|█▊                                                                                                                                    | 12/871 [00:28<36:52,  2.58s/it]"
     ]
    },
    {
     "name": "stdout",
     "output_type": "stream",
     "text": [
      "[]\n"
     ]
    },
    {
     "name": "stderr",
     "output_type": "stream",
     "text": [
      "  1%|██                                                                                                                                    | 13/871 [00:32<40:03,  2.80s/it]"
     ]
    },
    {
     "name": "stdout",
     "output_type": "stream",
     "text": [
      "[['ILLUSTRATOR', 0], ['PHOTOSHOP', 0], ['INDESIGN', 0], ['BOOTSTRAP', 0], ['HTML 5', 0], ['CSS 3', 0]]\n"
     ]
    },
    {
     "name": "stderr",
     "output_type": "stream",
     "text": [
      "  2%|██▏                                                                                                                                   | 14/871 [00:35<42:48,  3.00s/it]"
     ]
    },
    {
     "name": "stdout",
     "output_type": "stream",
     "text": [
      "[['Microsoft Office', 60], ['InDesign', 0], ['PHP MySQL', 0], ['Google Ads', 0], ['French', 80], ['German', 70], ['Italian', 40], ['Creative', 70], ['Serious', 60], ['Innovator', 80], ['Organized', 30]]\n"
     ]
    },
    {
     "name": "stderr",
     "output_type": "stream",
     "text": [
      "  2%|██▎                                                                                                                                   | 15/871 [00:39<45:12,  3.17s/it]"
     ]
    },
    {
     "name": "stdout",
     "output_type": "stream",
     "text": [
      "[['Microsoft Office', 70], ['InDesign', 0], ['PHP MySQL', 0], ['Google Ads', 0], ['French', 80], ['German', 60], ['Italian', 40], ['Creative', 60], ['Serious', 80], ['Innovator', 40], ['Organized', 20]]\n"
     ]
    },
    {
     "name": "stderr",
     "output_type": "stream",
     "text": [
      "  2%|██▍                                                                                                                                   | 16/871 [00:42<46:11,  3.24s/it]"
     ]
    },
    {
     "name": "stdout",
     "output_type": "stream",
     "text": [
      "[['Microsoft Office', 80], ['InDesign', 0], ['PHP MySQL', 0], ['Google Ads', 0], ['French', 60], ['German', 40], ['Italian', 20], ['Creative', 70], ['Serious', 50], ['Innovator', 80], ['Organized', 30]]\n"
     ]
    },
    {
     "name": "stderr",
     "output_type": "stream",
     "text": [
      "  2%|██▌                                                                                                                                   | 17/871 [00:46<48:27,  3.40s/it]"
     ]
    },
    {
     "name": "stdout",
     "output_type": "stream",
     "text": [
      "[['Photoshop cc', 70], ['HTML/CSS', 90], ['JavaScript/jQuery', 85], ['Version Control/Git', 75], ['Testing/Debbuging', 65], ['Designing Line', 60]]\n"
     ]
    },
    {
     "name": "stderr",
     "output_type": "stream",
     "text": [
      "  2%|██▊                                                                                                                                   | 18/871 [00:49<46:45,  3.29s/it]"
     ]
    },
    {
     "name": "stdout",
     "output_type": "stream",
     "text": [
      "[['outils de communication', 0], ['intime et externe', 0], [\"management d'équipe\", 0], ['marketing associatif', 0]]\n"
     ]
    },
    {
     "name": "stderr",
     "output_type": "stream",
     "text": [
      "  2%|██▉                                                                                                                                   | 19/871 [00:52<46:49,  3.30s/it]"
     ]
    },
    {
     "name": "stdout",
     "output_type": "stream",
     "text": [
      "[['French', 0], ['english', 0], ['spanish', 0], ['Microsoft Office', 0], ['Windows 7', 0], ['Autocad', 0], ['Class 1 driving license', 0], ['personal truck', 0]]\n"
     ]
    },
    {
     "name": "stderr",
     "output_type": "stream",
     "text": [
      "  2%|███                                                                                                                                   | 20/871 [00:54<41:26,  2.92s/it]"
     ]
    },
    {
     "name": "stdout",
     "output_type": "stream",
     "text": [
      "[['outils de communication', 0], ['interne et externe', 0], [\"management d'équipe\", 0], ['marketing associatif', 0]]\n"
     ]
    },
    {
     "name": "stderr",
     "output_type": "stream",
     "text": [
      "  2%|███▏                                                                                                                                  | 21/871 [00:57<41:52,  2.96s/it]"
     ]
    },
    {
     "name": "stdout",
     "output_type": "stream",
     "text": [
      "[['French', 0], ['english', 0], ['spanish', 0], ['Microsoft Office', 0], ['Windows 7', 0], ['8', 0], ['Autocad', 0], ['Class 1 driving license', 0], ['personal truck', 0]]\n"
     ]
    },
    {
     "name": "stderr",
     "output_type": "stream",
     "text": [
      "  3%|███▍                                                                                                                                  | 22/871 [01:01<46:29,  3.29s/it]"
     ]
    },
    {
     "name": "stdout",
     "output_type": "stream",
     "text": [
      "[['Photoshop cc', 70], ['HTML/CSS', 90], ['JavaScript/jQuery', 80], ['Version Control/Git', 60], ['Testing/Debbuging', 50], ['Backend Line', 40]]\n"
     ]
    },
    {
     "name": "stderr",
     "output_type": "stream",
     "text": [
      "  3%|███▌                                                                                                                                  | 23/871 [01:04<42:28,  3.01s/it]"
     ]
    },
    {
     "name": "stdout",
     "output_type": "stream",
     "text": [
      "[['outils de communication', 0], ['interne et externe', 0], [\"management d'équipe\", 0], ['marketing associatif', 0]]\n"
     ]
    },
    {
     "name": "stderr",
     "output_type": "stream",
     "text": [
      "  3%|███▋                                                                                                                                  | 24/871 [01:08<48:24,  3.43s/it]"
     ]
    },
    {
     "name": "stdout",
     "output_type": "stream",
     "text": [
      "[['Photoshop cc', 70], ['HTML/CSS', 85], ['JavaScript/jQuery', 90], ['Version Control/Git', 75], ['Testing/Debbuging', 60], ['Documenting', 50]]\n"
     ]
    },
    {
     "name": "stderr",
     "output_type": "stream",
     "text": [
      "  3%|███▊                                                                                                                                  | 25/871 [01:11<45:47,  3.25s/it]"
     ]
    },
    {
     "name": "stdout",
     "output_type": "stream",
     "text": [
      "[['French', 0], ['english', 0], ['spanish', 0], ['Microsoft Office', 0], ['Windows 7', 0], ['8', 0], ['Autocad', 0], ['Class 1 driving license', 0], ['personal truck', 0]]\n"
     ]
    },
    {
     "name": "stderr",
     "output_type": "stream",
     "text": [
      "  3%|████                                                                                                                                  | 26/871 [01:13<42:50,  3.04s/it]"
     ]
    },
    {
     "name": "stdout",
     "output_type": "stream",
     "text": [
      "[]\n"
     ]
    },
    {
     "name": "stderr",
     "output_type": "stream",
     "text": [
      "  3%|████▏                                                                                                                                 | 27/871 [01:17<44:50,  3.19s/it]"
     ]
    },
    {
     "name": "stdout",
     "output_type": "stream",
     "text": [
      "[['Knowledge in improving usability of websites', 0], ['Knowledge of web technologies HTML, CSS', 0], ['Supporting advertising campaigns in social media', 0]]\n"
     ]
    },
    {
     "name": "stderr",
     "output_type": "stream",
     "text": [
      "  3%|████▎                                                                                                                                 | 28/871 [01:19<41:31,  2.96s/it]"
     ]
    },
    {
     "name": "stdout",
     "output_type": "stream",
     "text": [
      "invalid character '“' (U+201C) (<unknown>, line 1)\n"
     ]
    },
    {
     "name": "stderr",
     "output_type": "stream",
     "text": [
      "  3%|████▍                                                                                                                                 | 29/871 [01:24<49:59,  3.56s/it]"
     ]
    },
    {
     "name": "stdout",
     "output_type": "stream",
     "text": [
      "[['C', 50], ['C++', 50], ['Python', 50], ['Java', 50], ['PHP', 50], ['JavaScript', 50], ['HTML', 50], ['CSS', 50], ['SQL', 50], ['Android', 50], ['MySQL', 50], ['AS3', 0]]\n"
     ]
    },
    {
     "name": "stderr",
     "output_type": "stream",
     "text": [
      "  3%|████▌                                                                                                                                 | 30/871 [01:27<46:05,  3.29s/it]"
     ]
    },
    {
     "name": "stdout",
     "output_type": "stream",
     "text": [
      "[]\n"
     ]
    },
    {
     "name": "stderr",
     "output_type": "stream",
     "text": [
      "  4%|████▊                                                                                                                                 | 31/871 [01:30<43:42,  3.12s/it]"
     ]
    },
    {
     "name": "stdout",
     "output_type": "stream",
     "text": [
      "[['Programming', 0], ['JavaScript', 0], ['C', 0], ['C++', 0], ['Python', 0], ['Java', 0], ['HTML', 0], ['CSS', 0], ['Android', 0], ['MySQL', 0]]\n"
     ]
    },
    {
     "name": "stderr",
     "output_type": "stream",
     "text": [
      "  4%|████▉                                                                                                                                 | 32/871 [01:33<45:20,  3.24s/it]"
     ]
    },
    {
     "name": "stdout",
     "output_type": "stream",
     "text": [
      "[['C', 50], ['C++', 50], ['C #', 50], ['Java', 50], ['Python', 50], ['JavaScript', 50], ['HTML', 50], ['CSS', 50], ['PHP', 50], ['PostgreSQL', 50], ['MySQL', 50], ['Android', 50], ['iOS', 50], ['Machine Learning', 50], ['Data Structures', 50], ['Algorithms', 50]]\n"
     ]
    },
    {
     "name": "stderr",
     "output_type": "stream",
     "text": [
      "  4%|█████                                                                                                                                 | 33/871 [01:36<41:49,  2.99s/it]"
     ]
    },
    {
     "name": "stdout",
     "output_type": "stream",
     "text": [
      "[]\n"
     ]
    },
    {
     "name": "stderr",
     "output_type": "stream",
     "text": [
      "  4%|█████▏                                                                                                                                | 34/871 [01:37<35:47,  2.57s/it]"
     ]
    },
    {
     "name": "stdout",
     "output_type": "stream",
     "text": [
      "[['Knowledge in improving usability of websites', 0], ['Knowledge of web technologies HTML, CSS', 0], ['Supporting advertising campaigns in social media', 0]]\n"
     ]
    },
    {
     "name": "stderr",
     "output_type": "stream",
     "text": [
      "  4%|█████▍                                                                                                                                | 35/871 [01:39<32:39,  2.34s/it]"
     ]
    },
    {
     "name": "stdout",
     "output_type": "stream",
     "text": [
      "[]\n"
     ]
    },
    {
     "name": "stderr",
     "output_type": "stream",
     "text": [
      "  4%|█████▌                                                                                                                                | 36/871 [01:41<32:09,  2.31s/it]"
     ]
    },
    {
     "name": "stdout",
     "output_type": "stream",
     "text": [
      "[]\n"
     ]
    },
    {
     "name": "stderr",
     "output_type": "stream",
     "text": [
      "  4%|█████▋                                                                                                                                | 37/871 [01:46<41:17,  2.97s/it]"
     ]
    },
    {
     "name": "stdout",
     "output_type": "stream",
     "text": [
      "[['Web design', 0], ['Graphic design', 0], ['UI/UX', 0], ['Drawing', 0], ['Animation', 0], ['Creativity', 0], ['Teamwork', 0], ['Management', 0], ['Leadership', 0]]\n"
     ]
    },
    {
     "name": "stderr",
     "output_type": "stream",
     "text": [
      "  4%|█████▊                                                                                                                                | 38/871 [01:48<39:41,  2.86s/it]"
     ]
    },
    {
     "name": "stdout",
     "output_type": "stream",
     "text": [
      "[]\n"
     ]
    },
    {
     "name": "stderr",
     "output_type": "stream",
     "text": [
      "  4%|██████                                                                                                                                | 39/871 [01:51<38:09,  2.75s/it]"
     ]
    },
    {
     "name": "stdout",
     "output_type": "stream",
     "text": [
      "[['Web design', 0], ['Graphic design', 0], ['UI/UX', 0], ['Drawing', 0], ['Animation', 0], ['Creativity', 0], ['Teamwork', 0], ['Management', 0], ['Leader', 0]]\n"
     ]
    },
    {
     "name": "stderr",
     "output_type": "stream",
     "text": [
      "  5%|██████▏                                                                                                                               | 40/871 [01:54<40:23,  2.92s/it]"
     ]
    },
    {
     "name": "stdout",
     "output_type": "stream",
     "text": [
      "[]\n"
     ]
    },
    {
     "name": "stderr",
     "output_type": "stream",
     "text": [
      "  5%|██████▎                                                                                                                               | 41/871 [01:57<40:17,  2.91s/it]"
     ]
    },
    {
     "name": "stdout",
     "output_type": "stream",
     "text": [
      "[['Web design', 0], ['Graphic design', 0], ['UI', 0], ['Drawing', 0], ['Animation', 0], ['Creativity', 0], ['Teamwork', 0], ['Management', 0], ['Leader', 0]]\n"
     ]
    },
    {
     "name": "stderr",
     "output_type": "stream",
     "text": [
      "  5%|██████▍                                                                                                                               | 42/871 [02:00<41:31,  3.01s/it]"
     ]
    },
    {
     "name": "stdout",
     "output_type": "stream",
     "text": [
      "[]\n"
     ]
    },
    {
     "name": "stderr",
     "output_type": "stream",
     "text": [
      "  5%|██████▌                                                                                                                               | 43/871 [02:03<40:01,  2.90s/it]"
     ]
    },
    {
     "name": "stdout",
     "output_type": "stream",
     "text": [
      "[]\n"
     ]
    },
    {
     "name": "stderr",
     "output_type": "stream",
     "text": [
      "  5%|██████▊                                                                                                                               | 44/871 [02:05<38:11,  2.77s/it]"
     ]
    },
    {
     "name": "stdout",
     "output_type": "stream",
     "text": [
      "[['Business Development', 0], ['Marketing Strategy', 0], ['Sales Management', 0], ['Client Relationship Management', 0], ['Negotiation', 0], ['Presentation Skills', 0], ['Team Leadership', 0]]\n"
     ]
    },
    {
     "name": "stderr",
     "output_type": "stream",
     "text": [
      "  5%|██████▉                                                                                                                               | 45/871 [02:08<36:53,  2.68s/it]"
     ]
    },
    {
     "name": "stdout",
     "output_type": "stream",
     "text": [
      "[['Business Development', 0], ['Market Research', 0], ['Sales Strategy', 0], ['Client Management', 0]]\n"
     ]
    },
    {
     "name": "stderr",
     "output_type": "stream",
     "text": [
      "  5%|███████                                                                                                                               | 46/871 [02:11<36:46,  2.67s/it]"
     ]
    },
    {
     "name": "stdout",
     "output_type": "stream",
     "text": [
      "[['Organisation', 0], ['Statistical Analysis', 0], ['Communication & Leadership', 0]]\n"
     ]
    },
    {
     "name": "stderr",
     "output_type": "stream",
     "text": [
      "  5%|███████▏                                                                                                                              | 47/871 [02:14<41:25,  3.02s/it]"
     ]
    },
    {
     "name": "stdout",
     "output_type": "stream",
     "text": [
      "[['Gestion du temps', 0], ['Adaptation', 0], ['Communication', 0], ['Créativité et curiosité', 0]]\n"
     ]
    },
    {
     "name": "stderr",
     "output_type": "stream",
     "text": [
      "  6%|███████▍                                                                                                                              | 48/871 [02:17<38:15,  2.79s/it]"
     ]
    },
    {
     "name": "stdout",
     "output_type": "stream",
     "text": [
      "[['Organisation', 0], ['Statistical Analysis', 0], ['Communication & Leadership', 0]]\n"
     ]
    },
    {
     "name": "stderr",
     "output_type": "stream",
     "text": [
      "  6%|███████▌                                                                                                                              | 49/871 [02:21<42:57,  3.14s/it]"
     ]
    },
    {
     "name": "stdout",
     "output_type": "stream",
     "text": [
      "[['Gestion du temps', 0], ['Adaptation', 0], ['Communication', 0], ['Créativité et curiosité', 0]]\n"
     ]
    },
    {
     "name": "stderr",
     "output_type": "stream",
     "text": [
      "  6%|███████▋                                                                                                                              | 50/871 [02:24<44:44,  3.27s/it]"
     ]
    },
    {
     "name": "stdout",
     "output_type": "stream",
     "text": [
      "[['Organisation', 0], ['Statistical Analysis', 0], ['Communication & Leadership', 0]]\n"
     ]
    },
    {
     "name": "stderr",
     "output_type": "stream",
     "text": [
      "  6%|███████▊                                                                                                                              | 51/871 [02:27<43:30,  3.18s/it]"
     ]
    },
    {
     "name": "stdout",
     "output_type": "stream",
     "text": [
      "[['Gestion du temps', 0], ['Adaptation', 0], ['Communication', 0], ['Créativité et curiosité', 0]]\n"
     ]
    },
    {
     "name": "stderr",
     "output_type": "stream",
     "text": [
      "  6%|████████                                                                                                                              | 52/871 [02:30<41:26,  3.04s/it]"
     ]
    },
    {
     "name": "stdout",
     "output_type": "stream",
     "text": [
      "[['PLANIFICATION', 80], ['GESTION DE PROJET', 90], ['MANAGEMENT', 80], ['RECRUTEMENT', 70], ['OFFICE', 80], ['M.S PROJECT', 70], ['LOTYS NOTE', 60], ['AUTOCAD', 50]]\n"
     ]
    },
    {
     "name": "stderr",
     "output_type": "stream",
     "text": [
      "  6%|████████▏                                                                                                                             | 53/871 [02:35<50:25,  3.70s/it]"
     ]
    },
    {
     "name": "stdout",
     "output_type": "stream",
     "text": [
      "[['MAC et PC', 0], ['Adobe Creative Suite 5', 0], ['Indesign', 0], ['Photoshop', 0], ['Illustrator', 0], ['Flash', 0], ['Quark Xpress', 0], ['Pack Office', 0], ['Word', 0], ['Excel', 0], ['Powerpoint', 0], ['Notions de Webdesign', 0], ['XHTML', 0], ['CSS', 0], ['Bonne humeur', 0], ['Autonome', 0], ['Réactive', 0], ['Organisée', 0], ['Rigoureuse', 0], [\"Esprit d'équipe\", 0]]\n"
     ]
    },
    {
     "name": "stderr",
     "output_type": "stream",
     "text": [
      "  6%|████████▎                                                                                                                             | 54/871 [02:38<46:47,  3.44s/it]"
     ]
    },
    {
     "name": "stdout",
     "output_type": "stream",
     "text": [
      "[['Photoshop', 0], ['HTML/CSS', 0], ['Illustrator', 0], ['MS Word', 0], ['Design', 0], ['Leadership', 0], ['Analytical', 0], ['Honesty', 0], ['Wordpress', 0]]\n"
     ]
    },
    {
     "name": "stderr",
     "output_type": "stream",
     "text": [
      "  6%|████████▍                                                                                                                             | 55/871 [02:40<40:59,  3.01s/it]"
     ]
    },
    {
     "name": "stdout",
     "output_type": "stream",
     "text": [
      "[['Professional', 0], ['Personal', 0], ['Technical', 0]]\n"
     ]
    },
    {
     "name": "stderr",
     "output_type": "stream",
     "text": [
      "  6%|████████▌                                                                                                                             | 56/871 [02:42<35:57,  2.65s/it]"
     ]
    },
    {
     "name": "stdout",
     "output_type": "stream",
     "text": [
      "[]\n"
     ]
    },
    {
     "name": "stderr",
     "output_type": "stream",
     "text": [
      "  7%|████████▊                                                                                                                             | 57/871 [02:44<35:18,  2.60s/it]"
     ]
    },
    {
     "name": "stdout",
     "output_type": "stream",
     "text": [
      "[]\n"
     ]
    },
    {
     "name": "stderr",
     "output_type": "stream",
     "text": [
      "  7%|████████▉                                                                                                                             | 58/871 [02:48<38:46,  2.86s/it]"
     ]
    },
    {
     "name": "stdout",
     "output_type": "stream",
     "text": [
      "[['Voice', 5], ['Piano', 10], ['Singing', 0], ['Dancing', 0], ['Skating', 0], ['Rollerblading', 0], ['Skiing', 0], ['Juggling', 0], ['Sports', 0], ['Imitations', 0], ['Dialects', 0], ['Gymnastics', 0]]\n"
     ]
    },
    {
     "name": "stderr",
     "output_type": "stream",
     "text": [
      "  7%|█████████                                                                                                                             | 59/871 [02:51<39:40,  2.93s/it]"
     ]
    },
    {
     "name": "stdout",
     "output_type": "stream",
     "text": [
      "[['Punctual', 0], [\"travail d'équipe\", 0], ['autonome', 0], ['travaillant', 0]]\n"
     ]
    },
    {
     "name": "stderr",
     "output_type": "stream",
     "text": [
      "  7%|█████████▏                                                                                                                            | 60/871 [02:53<37:56,  2.81s/it]"
     ]
    },
    {
     "name": "stdout",
     "output_type": "stream",
     "text": [
      "[['Photoshop', 0], ['HTML/CSS', 0], ['Illustrator', 0], ['MS Word', 0], ['InDesign', 0], ['WordPress', 0], ['Analytical', 0], ['Leadership', 0], ['Honesty', 0]]\n"
     ]
    },
    {
     "name": "stderr",
     "output_type": "stream",
     "text": [
      "  7%|█████████▍                                                                                                                            | 61/871 [02:55<34:04,  2.52s/it]"
     ]
    },
    {
     "name": "stdout",
     "output_type": "stream",
     "text": [
      "[]\n"
     ]
    },
    {
     "name": "stderr",
     "output_type": "stream",
     "text": [
      "  7%|█████████▌                                                                                                                            | 62/871 [02:58<36:16,  2.69s/it]"
     ]
    },
    {
     "name": "stdout",
     "output_type": "stream",
     "text": [
      "[['Auditioning for Commercials', 0], ['How to Act & Eat at the Same Time', 0], ['On-Camera Acting Coach', 0], ['Breaking Into The Business', 0], ['Voice - 5 years (Marc Anthony)', 0], ['Piano - 10 years (A Mozart)', 0], ['Gymnastics', 0], ['Dancing', 0]]\n"
     ]
    },
    {
     "name": "stderr",
     "output_type": "stream",
     "text": [
      "  7%|█████████▋                                                                                                                            | 63/871 [03:02<39:58,  2.97s/it]"
     ]
    },
    {
     "name": "stdout",
     "output_type": "stream",
     "text": [
      "[['Voice', 5], ['Piano', 10], ['Gymnastics', 0], ['Dancing', 0]]\n"
     ]
    },
    {
     "name": "stderr",
     "output_type": "stream",
     "text": [
      "  7%|█████████▊                                                                                                                            | 64/871 [03:05<38:52,  2.89s/it]"
     ]
    },
    {
     "name": "stdout",
     "output_type": "stream",
     "text": [
      "[['Adobe Photoshop', 0], ['Adobe Illustrator', 0], ['Adobe Indesign', 0], ['Microsoft Word', 0], ['Microsoft Powerpoint', 0], ['Microsoft Excel', 0]]\n"
     ]
    },
    {
     "name": "stderr",
     "output_type": "stream",
     "text": [
      "  7%|██████████                                                                                                                            | 65/871 [03:07<36:59,  2.75s/it]"
     ]
    },
    {
     "name": "stdout",
     "output_type": "stream",
     "text": [
      "[['Photoshop', 0], ['HTML/CSS', 0], ['Illustrator', 0], ['MS Word', 0], ['MS Design', 0], ['WordPress', 0]]\n"
     ]
    },
    {
     "name": "stderr",
     "output_type": "stream",
     "text": [
      "  8%|██████████▏                                                                                                                           | 66/871 [03:10<36:35,  2.73s/it]"
     ]
    },
    {
     "name": "stdout",
     "output_type": "stream",
     "text": [
      "[['PLANIFICATION', 80], ['GESTION DE PROJET', 80], ['MANAGEMENT', 80], ['RECRUTEMENT', 80], ['OFFICE', 80], ['PROJETS', 80], ['LOGICIELS', 80], ['AUTODIDACTE', 80]]\n"
     ]
    },
    {
     "name": "stderr",
     "output_type": "stream",
     "text": [
      "  8%|██████████▎                                                                                                                           | 67/871 [03:12<33:36,  2.51s/it]"
     ]
    },
    {
     "name": "stdout",
     "output_type": "stream",
     "text": [
      "[]\n"
     ]
    },
    {
     "name": "stderr",
     "output_type": "stream",
     "text": [
      "  8%|██████████▍                                                                                                                           | 68/871 [03:17<45:00,  3.36s/it]"
     ]
    },
    {
     "name": "stdout",
     "output_type": "stream",
     "text": [
      "[['MAC et PC', 0], ['Adobe Creative Suite 5', 0], ['InDesign', 0], ['Photoshop', 0], ['Illustrator', 0], ['Flash', 0], ['Quark Xpress', 0], ['Pack Office', 0], ['Word', 0], ['Excel', 0], ['Powerpoint', 0], ['XH-HTML', 0], ['CSS', 0], ['Bonne humeur', 0], ['Autonome', 0], ['Réactive', 0], ['Organisée', 0], ['Rigoureuse', 0], [\"Esprit d'équipe\", 0]]\n"
     ]
    },
    {
     "name": "stderr",
     "output_type": "stream",
     "text": [
      "  8%|██████████▌                                                                                                                           | 69/871 [03:19<40:59,  3.07s/it]"
     ]
    },
    {
     "name": "stdout",
     "output_type": "stream",
     "text": [
      "[['Punctual', 0], [\"travail d'équipe\", 0], ['autonome', 0], ['travaillant', 0]]\n"
     ]
    },
    {
     "name": "stderr",
     "output_type": "stream",
     "text": [
      "  8%|██████████▊                                                                                                                           | 70/871 [03:22<38:38,  2.89s/it]"
     ]
    },
    {
     "name": "stdout",
     "output_type": "stream",
     "text": [
      "[['Adobe Photoshop', 0], ['Adobe Illustrator', 0], ['Adobe InDesign', 0], ['Microsoft Word', 0], ['Microsoft PowerPoint', 0], ['Microsoft Excel', 0]]\n"
     ]
    },
    {
     "name": "stderr",
     "output_type": "stream",
     "text": [
      "  8%|██████████▉                                                                                                                           | 71/871 [03:23<33:01,  2.48s/it]"
     ]
    },
    {
     "name": "stdout",
     "output_type": "stream",
     "text": [
      "[]\n"
     ]
    },
    {
     "name": "stderr",
     "output_type": "stream",
     "text": [
      "  8%|███████████                                                                                                                           | 72/871 [03:26<33:28,  2.51s/it]"
     ]
    },
    {
     "name": "stdout",
     "output_type": "stream",
     "text": [
      "[['planification', 5], ['gestion de projet', 5], ['management', 5], ['recrutement', 5], ['Office', 5], ['projets', 5], ['lytics', 5], ['autodidacte', 5]]\n"
     ]
    },
    {
     "name": "stderr",
     "output_type": "stream",
     "text": [
      "  8%|███████████▏                                                                                                                          | 73/871 [03:29<34:47,  2.62s/it]"
     ]
    },
    {
     "name": "stdout",
     "output_type": "stream",
     "text": [
      "[['Punctual', 0], [\"travail d'équipe\", 0], ['autonome', 0], ['travaillant', 0]]\n"
     ]
    },
    {
     "name": "stderr",
     "output_type": "stream",
     "text": [
      "  8%|███████████▍                                                                                                                          | 74/871 [03:32<36:54,  2.78s/it]"
     ]
    },
    {
     "name": "stdout",
     "output_type": "stream",
     "text": [
      "[['Salesforce platforms: Sales Cloud, Marketing Cloud, and Service Cloud', 0], ['Skilled in process automation and system configuration', 0], ['Passionate about optimizing office productivity', 0]]\n"
     ]
    },
    {
     "name": "stderr",
     "output_type": "stream",
     "text": [
      "  9%|███████████▌                                                                                                                          | 75/871 [03:35<36:49,  2.78s/it]"
     ]
    },
    {
     "name": "stdout",
     "output_type": "stream",
     "text": [
      "[['Salesforce platforms: Sales Cloud, Marketing Cloud, and Service Cloud', 0], ['Skilled in process automation and system configuration', 0], ['Passionate about optimizing office productivity', 0]]\n"
     ]
    },
    {
     "name": "stderr",
     "output_type": "stream",
     "text": [
      "  9%|███████████▋                                                                                                                          | 76/871 [03:37<35:55,  2.71s/it]"
     ]
    },
    {
     "name": "stdout",
     "output_type": "stream",
     "text": [
      "[['Salesforce platforms: Sales Cloud, Marketing Cloud, and Service Cloud', 0], ['Skilled in process automation and system configuration', 0], ['Passionate about optimizing office productivity', 0]]\n"
     ]
    },
    {
     "name": "stderr",
     "output_type": "stream",
     "text": [
      "  9%|███████████▊                                                                                                                          | 77/871 [03:41<40:06,  3.03s/it]"
     ]
    },
    {
     "name": "stdout",
     "output_type": "stream",
     "text": [
      "[]\n"
     ]
    },
    {
     "name": "stderr",
     "output_type": "stream",
     "text": [
      "  9%|████████████                                                                                                                          | 78/871 [03:43<36:59,  2.80s/it]"
     ]
    },
    {
     "name": "stdout",
     "output_type": "stream",
     "text": [
      "[]\n"
     ]
    },
    {
     "name": "stderr",
     "output_type": "stream",
     "text": [
      "  9%|████████████▏                                                                                                                         | 79/871 [03:46<37:13,  2.82s/it]"
     ]
    },
    {
     "name": "stdout",
     "output_type": "stream",
     "text": [
      "[]\n"
     ]
    },
    {
     "name": "stderr",
     "output_type": "stream",
     "text": [
      "  9%|████████████▎                                                                                                                         | 80/871 [03:48<32:00,  2.43s/it]"
     ]
    },
    {
     "name": "stdout",
     "output_type": "stream",
     "text": [
      "[]\n"
     ]
    },
    {
     "name": "stderr",
     "output_type": "stream",
     "text": [
      "  9%|████████████▍                                                                                                                         | 81/871 [03:51<34:43,  2.64s/it]"
     ]
    },
    {
     "name": "stdout",
     "output_type": "stream",
     "text": [
      "[['French', 0], ['english', 0], ['spanish', 0], ['Microsoft Office', 0], ['Windows 7', 0], ['8', 0], ['Autocad', 0], ['Describe your best skills here', 0], ['Class 1 driving license and personal truck', 0]]\n"
     ]
    },
    {
     "name": "stderr",
     "output_type": "stream",
     "text": [
      "  9%|████████████▌                                                                                                                         | 82/871 [03:53<31:34,  2.40s/it]"
     ]
    },
    {
     "name": "stdout",
     "output_type": "stream",
     "text": [
      "[]\n"
     ]
    },
    {
     "name": "stderr",
     "output_type": "stream",
     "text": [
      " 10%|████████████▊                                                                                                                         | 83/871 [03:56<33:16,  2.53s/it]"
     ]
    },
    {
     "name": "stdout",
     "output_type": "stream",
     "text": [
      "[]\n"
     ]
    },
    {
     "name": "stderr",
     "output_type": "stream",
     "text": [
      " 10%|████████████▉                                                                                                                         | 84/871 [03:59<38:40,  2.95s/it]"
     ]
    },
    {
     "name": "stdout",
     "output_type": "stream",
     "text": [
      "[['Communication', 0], ['Content Expert', 0], ['Adaptivity', 0], ['Time Management', 0], ['Ability to Work Under Pressure', 0], ['Review & Revise', 0]]\n"
     ]
    },
    {
     "name": "stderr",
     "output_type": "stream",
     "text": [
      " 10%|█████████████                                                                                                                         | 85/871 [04:03<41:57,  3.20s/it]"
     ]
    },
    {
     "name": "stdout",
     "output_type": "stream",
     "text": [
      "[['French', 0], ['english', 0], ['spanish', 0], ['Microsoft Office', 0], ['Windows 7', 0], ['8', 0], ['Autocad', 0], ['Class 1 driving license', 0], ['personal truck', 0]]\n"
     ]
    },
    {
     "name": "stderr",
     "output_type": "stream",
     "text": [
      " 10%|█████████████▏                                                                                                                        | 86/871 [04:05<36:16,  2.77s/it]"
     ]
    },
    {
     "name": "stdout",
     "output_type": "stream",
     "text": [
      "[]\n"
     ]
    },
    {
     "name": "stderr",
     "output_type": "stream",
     "text": [
      " 10%|█████████████▍                                                                                                                        | 87/871 [04:08<38:05,  2.91s/it]"
     ]
    },
    {
     "name": "stdout",
     "output_type": "stream",
     "text": [
      "[['Leadership', 0], [\"Esprit d'équipe\", 0], ['Gestion du stress', 0], ['Communication orale', 0], ['Management', 0]]\n"
     ]
    },
    {
     "name": "stderr",
     "output_type": "stream",
     "text": [
      " 10%|█████████████▌                                                                                                                        | 88/871 [04:10<34:52,  2.67s/it]"
     ]
    },
    {
     "name": "stdout",
     "output_type": "stream",
     "text": [
      "[]\n"
     ]
    },
    {
     "name": "stderr",
     "output_type": "stream",
     "text": [
      " 10%|█████████████▋                                                                                                                        | 89/871 [04:12<32:05,  2.46s/it]"
     ]
    },
    {
     "name": "stdout",
     "output_type": "stream",
     "text": [
      "[]\n"
     ]
    },
    {
     "name": "stderr",
     "output_type": "stream",
     "text": [
      " 10%|█████████████▊                                                                                                                        | 90/871 [04:15<33:27,  2.57s/it]"
     ]
    },
    {
     "name": "stdout",
     "output_type": "stream",
     "text": [
      "[['French', 0], ['english', 0], ['spanish', 0], ['Microsoft Office', 0], ['Windows 7', 0], ['8', 0], ['Autocad', 0], ['Class 1 driving license', 0], ['personal truck', 0]]\n"
     ]
    },
    {
     "name": "stderr",
     "output_type": "stream",
     "text": [
      " 10%|██████████████                                                                                                                        | 91/871 [04:18<33:23,  2.57s/it]"
     ]
    },
    {
     "name": "stdout",
     "output_type": "stream",
     "text": [
      "[['Leadership', 0], [\"Esprit d'équipe\", 0], ['Gestion du stress', 0], ['Communication orale', 0], ['Management', 0]]\n"
     ]
    },
    {
     "name": "stderr",
     "output_type": "stream",
     "text": [
      " 11%|██████████████▏                                                                                                                       | 92/871 [04:20<33:26,  2.58s/it]"
     ]
    },
    {
     "name": "stdout",
     "output_type": "stream",
     "text": [
      "[]\n"
     ]
    },
    {
     "name": "stderr",
     "output_type": "stream",
     "text": [
      " 11%|██████████████▎                                                                                                                       | 93/871 [04:23<34:52,  2.69s/it]"
     ]
    },
    {
     "name": "stdout",
     "output_type": "stream",
     "text": [
      "[]\n"
     ]
    },
    {
     "name": "stderr",
     "output_type": "stream",
     "text": [
      " 11%|██████████████▍                                                                                                                       | 94/871 [04:26<33:32,  2.59s/it]"
     ]
    },
    {
     "name": "stdout",
     "output_type": "stream",
     "text": [
      "[['Private equity', 0], ['Portfolio maintenance', 0], ['Portfolio monitoring', 0], ['Time management', 0], ['Direct client relations', 0], ['Product research', 0], ['Pension funds', 0], ['Unit trusts', 0], ['Troubleshooting', 0]]\n"
     ]
    },
    {
     "name": "stderr",
     "output_type": "stream",
     "text": [
      " 11%|██████████████▌                                                                                                                       | 95/871 [04:28<32:26,  2.51s/it]"
     ]
    },
    {
     "name": "stdout",
     "output_type": "stream",
     "text": [
      "[]\n"
     ]
    },
    {
     "name": "stderr",
     "output_type": "stream",
     "text": [
      " 11%|██████████████▊                                                                                                                       | 96/871 [04:30<28:45,  2.23s/it]"
     ]
    },
    {
     "name": "stdout",
     "output_type": "stream",
     "text": [
      "[]\n"
     ]
    },
    {
     "name": "stderr",
     "output_type": "stream",
     "text": [
      " 11%|██████████████▉                                                                                                                       | 97/871 [04:31<26:09,  2.03s/it]"
     ]
    },
    {
     "name": "stdout",
     "output_type": "stream",
     "text": [
      "[]\n"
     ]
    },
    {
     "name": "stderr",
     "output_type": "stream",
     "text": [
      " 11%|███████████████                                                                                                                       | 98/871 [04:33<26:11,  2.03s/it]"
     ]
    },
    {
     "name": "stdout",
     "output_type": "stream",
     "text": [
      "[['Private equity', 0], ['Portfolio maintenance', 0], ['Portfolio monitoring', 0], ['Time management', 0], ['Direct client relations', 0], ['Product research', 0], ['Pension funds', 0], ['Unit trusts', 0], ['Troubleshooting', 0]]\n"
     ]
    },
    {
     "name": "stderr",
     "output_type": "stream",
     "text": [
      " 11%|███████████████▏                                                                                                                      | 99/871 [04:35<26:03,  2.03s/it]"
     ]
    },
    {
     "name": "stdout",
     "output_type": "stream",
     "text": [
      "[]\n"
     ]
    },
    {
     "name": "stderr",
     "output_type": "stream",
     "text": [
      " 11%|███████████████▎                                                                                                                     | 100/871 [04:38<28:29,  2.22s/it]"
     ]
    },
    {
     "name": "stdout",
     "output_type": "stream",
     "text": [
      "[['MAC/PC SYSTEMS', 0], ['MICROSOFT WORD', 0], ['POWERPOINT', 0], ['BLOGGING', 0], ['PHOTOSHOP CS', 0]]\n"
     ]
    },
    {
     "name": "stderr",
     "output_type": "stream",
     "text": [
      " 12%|███████████████▏                                                                                                                   | 101/871 [05:09<2:21:52, 11.06s/it]"
     ]
    },
    {
     "name": "stdout",
     "output_type": "stream",
     "text": [
      "[['MAC/PC SYSTEMS', 0], ['MICROSOFT WORD', 0], ['POWERPOINT', 0], ['BLOGGING', 0], ['PHOTOSHOP CS', 0]]\n"
     ]
    },
    {
     "name": "stderr",
     "output_type": "stream",
     "text": [
      " 12%|███████████████▎                                                                                                                   | 102/871 [05:12<1:49:51,  8.57s/it]"
     ]
    },
    {
     "name": "stdout",
     "output_type": "stream",
     "text": [
      "[['MAC/PC SYSTEMS', 0], ['MICROSOFT WORD', 0], ['POWERPOINT', 0], ['BLOGGING', 0], ['PHOTOSHOP CS', 0]]\n"
     ]
    },
    {
     "name": "stderr",
     "output_type": "stream",
     "text": [
      " 12%|███████████████▍                                                                                                                   | 103/871 [05:16<1:31:56,  7.18s/it]"
     ]
    },
    {
     "name": "stdout",
     "output_type": "stream",
     "text": [
      "[['Adobe Photoshop', 0], ['Illustrator', 0], ['InDesign', 0], ['Microsoft PowerPoint', 0], ['HTML / PHP', 0], ['Visual Design', 0], ['Design Theory', 0], ['Marketing', 0], ['Leadership and Training', 0], ['Branding and Forecasting', 0], ['Budgeting', 0]]\n"
     ]
    },
    {
     "name": "stderr",
     "output_type": "stream",
     "text": [
      " 12%|███████████████▋                                                                                                                   | 104/871 [05:21<1:23:32,  6.53s/it]"
     ]
    },
    {
     "name": "stdout",
     "output_type": "stream",
     "text": [
      "[['Photoshop', 0], ['Wordpress', 0], ['InDesign', 0], ['Illustrator', 0], ['PowerPoint', 0], ['HTML 5', 0], ['CSS 3', 0]]\n"
     ]
    },
    {
     "name": "stderr",
     "output_type": "stream",
     "text": [
      " 12%|███████████████▊                                                                                                                   | 105/871 [05:25<1:14:40,  5.85s/it]"
     ]
    },
    {
     "name": "stdout",
     "output_type": "stream",
     "text": [
      "[]\n"
     ]
    },
    {
     "name": "stderr",
     "output_type": "stream",
     "text": [
      " 12%|███████████████▉                                                                                                                   | 106/871 [05:28<1:00:59,  4.78s/it]"
     ]
    },
    {
     "name": "stdout",
     "output_type": "stream",
     "text": [
      "[]\n"
     ]
    },
    {
     "name": "stderr",
     "output_type": "stream",
     "text": [
      " 12%|████████████████▎                                                                                                                    | 107/871 [05:31<56:27,  4.43s/it]"
     ]
    },
    {
     "name": "stdout",
     "output_type": "stream",
     "text": [
      "[['HTML', 0], ['CSS', 0], ['JQUERY', 0], ['WORDPRESS', 0], ['JUMLA', 0], ['PHOTOSHOP', 0]]\n"
     ]
    },
    {
     "name": "stderr",
     "output_type": "stream",
     "text": [
      " 12%|████████████████▍                                                                                                                    | 108/871 [05:34<50:40,  3.99s/it]"
     ]
    },
    {
     "name": "stdout",
     "output_type": "stream",
     "text": [
      "[]\n"
     ]
    },
    {
     "name": "stderr",
     "output_type": "stream",
     "text": [
      " 13%|████████████████▋                                                                                                                    | 109/871 [05:36<43:06,  3.39s/it]"
     ]
    },
    {
     "name": "stdout",
     "output_type": "stream",
     "text": [
      "[['Business Development', 0], ['Sales', 0], ['Marketing', 0], ['Customer Relationship Management', 0]]\n"
     ]
    },
    {
     "name": "stderr",
     "output_type": "stream",
     "text": [
      " 13%|████████████████▊                                                                                                                    | 110/871 [05:39<41:06,  3.24s/it]"
     ]
    },
    {
     "name": "stdout",
     "output_type": "stream",
     "text": [
      "[['MANAGEMENT', 0], ['TEAMWORK', 0], ['COOKING', 0], ['HANDLING CUSTOMER SERVICE', 0], ['SPORTS/GYM', 0], ['COMMUNICATION', 0]]\n"
     ]
    },
    {
     "name": "stderr",
     "output_type": "stream",
     "text": [
      " 13%|████████████████▉                                                                                                                    | 111/871 [05:43<42:52,  3.38s/it]"
     ]
    },
    {
     "name": "stdout",
     "output_type": "stream",
     "text": [
      "[['Compétence 1', 0], ['Compétence 2', 0], ['Compétence 3', 0], ['Compétence 4', 0], ['Compétence 5', 0], ['Compétence 6', 0], ['Compétence 7', 0]]\n"
     ]
    },
    {
     "name": "stderr",
     "output_type": "stream",
     "text": [
      " 13%|█████████████████                                                                                                                    | 112/871 [05:46<41:38,  3.29s/it]"
     ]
    },
    {
     "name": "stdout",
     "output_type": "stream",
     "text": [
      "[['Adobe Photoshop', 0], ['Illustrator', 0], ['InDesign', 0], ['Microsoft PowerPoint', 0], ['HTML / PHP', 0], ['Visual Design', 0], ['Design Theory', 0], ['Marketing', 0], ['Leadership and Training', 0], ['Branding and Forecasting', 0], ['Budgeting', 0]]\n"
     ]
    },
    {
     "name": "stderr",
     "output_type": "stream",
     "text": [
      " 13%|█████████████████▎                                                                                                                   | 113/871 [05:49<39:34,  3.13s/it]"
     ]
    },
    {
     "name": "stdout",
     "output_type": "stream",
     "text": [
      "[['ADOBE ILLUSTRATOR', 0], ['ADOBE IN DESIGN', 0], ['ADOBE PHOTOSHOP', 0], ['ADOBE FLASH', 0], ['ENGLISH', 0], ['SPANISH', 0], ['GERMAN', 0], ['NORDAN', 0]]\n"
     ]
    },
    {
     "name": "stderr",
     "output_type": "stream",
     "text": [
      " 13%|█████████████████▍                                                                                                                   | 114/871 [05:52<40:43,  3.23s/it]"
     ]
    },
    {
     "name": "stdout",
     "output_type": "stream",
     "text": [
      "invalid character '“' (U+201C) (<unknown>, line 1)\n"
     ]
    },
    {
     "name": "stderr",
     "output_type": "stream",
     "text": [
      " 13%|█████████████████▌                                                                                                                   | 115/871 [05:56<43:25,  3.45s/it]"
     ]
    },
    {
     "name": "stdout",
     "output_type": "stream",
     "text": [
      "[['Compétence 1', 0], ['Compétence 2', 0], ['Compétence 3', 0], ['Compétence 4', 0], ['Compétence 5', 0], ['Compétence 6', 0], ['Compétence 7', 0]]\n"
     ]
    },
    {
     "name": "stderr",
     "output_type": "stream",
     "text": [
      " 13%|█████████████████▋                                                                                                                   | 116/871 [06:00<44:53,  3.57s/it]"
     ]
    },
    {
     "name": "stdout",
     "output_type": "stream",
     "text": [
      "[]\n"
     ]
    },
    {
     "name": "stderr",
     "output_type": "stream",
     "text": [
      " 13%|█████████████████▊                                                                                                                   | 117/871 [06:03<42:51,  3.41s/it]"
     ]
    },
    {
     "name": "stdout",
     "output_type": "stream",
     "text": [
      "[['ADOBE ILLUSTRATOR', 0], ['ADOBE IN DESIGN', 0], ['ADOBE PHOTOSHOP', 0], ['ADOBE FLASH', 0], ['ENGLISH', 0], ['SPANISH', 0], ['GERMAN', 0], ['NORDIAN', 0]]\n"
     ]
    },
    {
     "name": "stderr",
     "output_type": "stream",
     "text": [
      " 14%|██████████████████                                                                                                                   | 118/871 [06:06<40:27,  3.22s/it]"
     ]
    },
    {
     "name": "stdout",
     "output_type": "stream",
     "text": [
      "[['Photoshop', 0], ['Wordpress', 0], ['InDesign', 0], ['Illustrator', 0], ['PowerPoint', 0], ['HTML 5', 0], ['CSS 3', 0]]\n"
     ]
    },
    {
     "name": "stderr",
     "output_type": "stream",
     "text": [
      " 14%|██████████████████▏                                                                                                                  | 119/871 [06:08<35:58,  2.87s/it]"
     ]
    },
    {
     "name": "stdout",
     "output_type": "stream",
     "text": [
      "[]\n"
     ]
    },
    {
     "name": "stderr",
     "output_type": "stream",
     "text": [
      " 14%|██████████████████▎                                                                                                                  | 120/871 [06:11<37:02,  2.96s/it]"
     ]
    },
    {
     "name": "stdout",
     "output_type": "stream",
     "text": [
      "[['HTML', 0], ['CSS', 0], ['JQUERY', 0], ['WORDPRESS', 0], ['JUMLA', 0], ['PHOTOSHOP', 0]]\n"
     ]
    },
    {
     "name": "stderr",
     "output_type": "stream",
     "text": [
      " 14%|██████████████████▍                                                                                                                  | 121/871 [06:14<37:17,  2.98s/it]"
     ]
    },
    {
     "name": "stdout",
     "output_type": "stream",
     "text": [
      "[['Adobe Photoshop', 0], ['Illustrator', 0], ['InDesign', 0], ['Microsoft PowerPoint', 0], ['HTML / PHP', 0], ['Visual Design', 0], ['Design Theory', 0], ['Marketing', 0], ['Leadership and Training', 0], ['Branding and Forecasting', 0], ['Budgeting', 0]]\n"
     ]
    },
    {
     "name": "stderr",
     "output_type": "stream",
     "text": [
      " 14%|██████████████████▋                                                                                                                  | 122/871 [06:16<32:51,  2.63s/it]"
     ]
    },
    {
     "name": "stdout",
     "output_type": "stream",
     "text": [
      "[]\n"
     ]
    },
    {
     "name": "stderr",
     "output_type": "stream",
     "text": [
      " 14%|██████████████████▊                                                                                                                  | 123/871 [06:19<33:38,  2.70s/it]"
     ]
    },
    {
     "name": "stdout",
     "output_type": "stream",
     "text": [
      "[['HTML', 80], ['CSS', 70], ['JQUERY', 60], ['WORDPRESS', 75], ['JUMLA', 50], ['PHOTOSHOP', 90]]\n"
     ]
    },
    {
     "name": "stderr",
     "output_type": "stream",
     "text": [
      " 14%|██████████████████▉                                                                                                                  | 124/871 [06:22<36:44,  2.95s/it]"
     ]
    },
    {
     "name": "stdout",
     "output_type": "stream",
     "text": [
      "invalid character '“' (U+201C) (<unknown>, line 1)\n"
     ]
    },
    {
     "name": "stderr",
     "output_type": "stream",
     "text": [
      " 14%|███████████████████                                                                                                                  | 125/871 [06:25<33:58,  2.73s/it]"
     ]
    },
    {
     "name": "stdout",
     "output_type": "stream",
     "text": [
      "[['Photoshop', 0], ['Wordpress', 0], ['InDesign', 0], ['Illustrator', 0], ['PowerPoint', 0], ['HTML 5', 0], ['CSS 3', 0]]\n"
     ]
    },
    {
     "name": "stderr",
     "output_type": "stream",
     "text": [
      " 14%|███████████████████▏                                                                                                                 | 126/871 [06:28<36:33,  2.94s/it]"
     ]
    },
    {
     "name": "stdout",
     "output_type": "stream",
     "text": [
      "[['Research, Synthesis', 0], ['Prototyping and Evaluation', 0], ['Typography', 0], ['Digital Photography', 0], ['Flash', 0], ['Photoshop', 0], ['Illustrator', 0], ['InDesign', 0], ['AfterEffects', 0], ['Fireworks', 0], ['HTML / CSS', 0], ['ActionScript 3.0', 0], ['Java', 0], ['Familiarity with JavaScript and PHP', 0]]\n"
     ]
    },
    {
     "name": "stderr",
     "output_type": "stream",
     "text": [
      " 15%|███████████████████▍                                                                                                                 | 127/871 [06:30<32:07,  2.59s/it]"
     ]
    },
    {
     "name": "stdout",
     "output_type": "stream",
     "text": [
      "[]\n"
     ]
    },
    {
     "name": "stderr",
     "output_type": "stream",
     "text": [
      " 15%|███████████████████▌                                                                                                                 | 128/871 [06:33<35:18,  2.85s/it]"
     ]
    },
    {
     "name": "stdout",
     "output_type": "stream",
     "text": [
      "invalid syntax (<unknown>, line 1)\n"
     ]
    },
    {
     "name": "stderr",
     "output_type": "stream",
     "text": [
      " 15%|███████████████████▋                                                                                                                 | 129/871 [06:38<41:50,  3.38s/it]"
     ]
    },
    {
     "name": "stdout",
     "output_type": "stream",
     "text": [
      "[['Project management', 0], ['Strong decision maker', 0], ['Complex problem solver', 0], ['Innovative', 0], ['Strategic vision', 0], ['Creative team leadership', 0], ['Product positioning & branding', 0], ['Time management', 0]]\n"
     ]
    },
    {
     "name": "stderr",
     "output_type": "stream",
     "text": [
      " 15%|███████████████████▊                                                                                                                 | 130/871 [06:41<41:31,  3.36s/it]"
     ]
    },
    {
     "name": "stdout",
     "output_type": "stream",
     "text": [
      "[['Project management', 0], ['Strong decision maker', 0], ['Complex problem solver', 0], ['Innovative', 0], ['Strategic vision', 0], ['Creative team leadership', 0], ['Product positioning & branding', 0], ['Time management', 0]]\n"
     ]
    },
    {
     "name": "stderr",
     "output_type": "stream",
     "text": [
      " 15%|████████████████████                                                                                                                 | 131/871 [06:45<43:16,  3.51s/it]"
     ]
    },
    {
     "name": "stdout",
     "output_type": "stream",
     "text": [
      "[['Project management', 0], ['Strong decision maker', 0], ['Complex problem solver', 0], ['Innovative', 0], ['Strategic vision', 0], ['Creative team leadership', 0], ['Product positioning & branding', 0], ['Time management', 0]]\n"
     ]
    },
    {
     "name": "stderr",
     "output_type": "stream",
     "text": [
      " 15%|████████████████████▏                                                                                                                | 132/871 [06:48<42:01,  3.41s/it]"
     ]
    },
    {
     "name": "stdout",
     "output_type": "stream",
     "text": [
      "[['Research, Synthesis', 0], ['Prototyping and Evaluation', 0], ['Typography', 0], ['Digital Photography', 0], ['Flash', 0], ['Photoshop', 0], ['Illustrator', 0], ['InDesign', 0], ['AfterEffects', 0], ['Fireworks', 0], ['HTML / CSS', 0], ['ActionScript 3.0', 0], ['Java', 0], ['JavaScript and PHP', 0]]\n"
     ]
    },
    {
     "name": "stderr",
     "output_type": "stream",
     "text": [
      " 15%|████████████████████▎                                                                                                                | 133/871 [06:51<39:41,  3.23s/it]"
     ]
    },
    {
     "name": "stdout",
     "output_type": "stream",
     "text": [
      "[['Research, Synthesis', 0], ['Prototyping and Evaluation', 0], ['Typography', 0], ['Digital Photography', 0], ['Flash', 0], ['Photoshop', 0], ['Illustrator', 0], ['InDesign', 0], ['AfterEffects', 0], ['Fireworks', 0], ['HTML / CSS', 0], ['ActionScript 3.0', 0], ['Java', 0], ['JavaScript and PHP', 0]]\n"
     ]
    },
    {
     "name": "stderr",
     "output_type": "stream",
     "text": [
      " 15%|████████████████████▍                                                                                                                | 134/871 [06:53<34:19,  2.79s/it]"
     ]
    },
    {
     "name": "stdout",
     "output_type": "stream",
     "text": [
      "[]\n"
     ]
    },
    {
     "name": "stderr",
     "output_type": "stream",
     "text": [
      " 15%|████████████████████▌                                                                                                                | 135/871 [06:55<31:15,  2.55s/it]"
     ]
    },
    {
     "name": "stdout",
     "output_type": "stream",
     "text": [
      "[]\n"
     ]
    },
    {
     "name": "stderr",
     "output_type": "stream",
     "text": [
      " 16%|████████████████████▊                                                                                                                | 136/871 [06:57<31:18,  2.56s/it]"
     ]
    },
    {
     "name": "stdout",
     "output_type": "stream",
     "text": [
      "[['Ux Design', 0], ['UI Design', 0], ['User Research', 0], ['Design System', 0], ['Design System', 0], ['User Research', 0]]\n"
     ]
    },
    {
     "name": "stderr",
     "output_type": "stream",
     "text": [
      " 16%|████████████████████▉                                                                                                                | 137/871 [07:00<33:11,  2.71s/it]"
     ]
    },
    {
     "name": "stdout",
     "output_type": "stream",
     "text": [
      "[['photoshop', 90], ['illustrator', 90], ['flash (animation)', 80], ['indesign', 70], ['after effects', 60], ['final cut pro', 40]]\n"
     ]
    },
    {
     "name": "stderr",
     "output_type": "stream",
     "text": [
      " 16%|█████████████████████                                                                                                                | 138/871 [07:03<32:16,  2.64s/it]"
     ]
    },
    {
     "name": "stdout",
     "output_type": "stream",
     "text": [
      "[['Ux Design', 0], ['Ui Design', 0], ['User Research', 0], ['Design System', 0], ['Design System', 0]]\n"
     ]
    },
    {
     "name": "stderr",
     "output_type": "stream",
     "text": [
      " 16%|█████████████████████▏                                                                                                               | 139/871 [07:06<34:32,  2.83s/it]"
     ]
    },
    {
     "name": "stdout",
     "output_type": "stream",
     "text": [
      "[['photoshop', 90], ['illustrator', 90], ['flash (animation)', 80], ['indesign', 70], ['after effects', 60], ['final cut pro', 40]]\n"
     ]
    },
    {
     "name": "stderr",
     "output_type": "stream",
     "text": [
      " 16%|█████████████████████▍                                                                                                               | 140/871 [07:10<37:02,  3.04s/it]"
     ]
    },
    {
     "name": "stdout",
     "output_type": "stream",
     "text": [
      "[['Business Process Improvement', 0], ['Vendor Management', 0], ['Sales Analysis', 0], ['Strategic Planning', 0], ['Communication Skills', 0]]\n"
     ]
    },
    {
     "name": "stderr",
     "output_type": "stream",
     "text": [
      " 16%|█████████████████████▌                                                                                                               | 141/871 [07:13<39:09,  3.22s/it]"
     ]
    },
    {
     "name": "stdout",
     "output_type": "stream",
     "text": [
      "[['Exceptional performance skills', 0], ['Sound knowledge of body posture, movement and facial expressions', 0], ['Remarkable knowledge of body and face care', 0], ['Thorough knowledge of make-up, hairstyles and fashion', 0], ['Exceptional ability to memorize routines', 0], ['Strong knowledge of sales techniques', 0], ['Uncommon confidence, patience and punctuality', 0], ['Remarkable ability to judge and be able to accept criticism', 0], ['Possession of huge professionalism and concentration on duty', 0], ['Exceptionally attractive skin and personality', 0], ['Great coordination, flexible body, clear speech, tidy appearance, and immensely fit and healthy', 0]]\n"
     ]
    },
    {
     "name": "stderr",
     "output_type": "stream",
     "text": [
      " 16%|█████████████████████▋                                                                                                               | 142/871 [07:17<39:21,  3.24s/it]"
     ]
    },
    {
     "name": "stdout",
     "output_type": "stream",
     "text": [
      "[['Management procedures', 0], ['Project management', 0], ['Controlling budgets', 0], ['On time delivery', 0], ['Business improvement', 0], ['Employee relations', 0], ['Forecasting', 0], ['Customer facing', 0], ['Financial awareness', 0]]\n"
     ]
    },
    {
     "name": "stderr",
     "output_type": "stream",
     "text": [
      " 16%|█████████████████████▊                                                                                                               | 143/871 [07:20<41:17,  3.40s/it]"
     ]
    },
    {
     "name": "stdout",
     "output_type": "stream",
     "text": [
      "[['Business Process Improvement', 0], ['Vendor Management', 0], ['Sales Analysis', 0], ['Strategic Planning', 0], ['Communication Skills', 0]]\n"
     ]
    },
    {
     "name": "stderr",
     "output_type": "stream",
     "text": [
      " 17%|█████████████████████▉                                                                                                               | 144/871 [07:23<38:50,  3.21s/it]"
     ]
    },
    {
     "name": "stdout",
     "output_type": "stream",
     "text": [
      "[['Management procedures', 0], ['Project management', 0], ['Controlling budgets', 0], ['On time delivery', 0], ['Business improvement', 0], ['Employee relations', 0], ['Forecasting', 0], ['Customer facing', 0], ['Financial awareness', 0]]\n"
     ]
    },
    {
     "name": "stderr",
     "output_type": "stream",
     "text": [
      " 17%|██████████████████████▏                                                                                                              | 145/871 [07:26<36:43,  3.04s/it]"
     ]
    },
    {
     "name": "stdout",
     "output_type": "stream",
     "text": [
      "[['Business Process Improvement', 0], ['Vendor Management', 0], ['Sales Analysis', 0], ['Strategic Planning', 0], ['Communication Skills', 0]]\n"
     ]
    },
    {
     "name": "stderr",
     "output_type": "stream",
     "text": [
      " 17%|██████████████████████▎                                                                                                              | 146/871 [07:33<52:30,  4.35s/it]"
     ]
    },
    {
     "name": "stdout",
     "output_type": "stream",
     "text": [
      "[['Exceptional performance skills', 0], ['Sound knowledge of body posture, movement and facial expressions', 0], ['Remarkable knowledge of body and face care', 0], ['Thorough knowledge of make-up, hairstyles and fashion', 0], ['Exceptional ability to memorize routines', 0], ['Strong knowledge of sales techniques', 0], ['Uncommon confidence, patience and punctuality', 0], ['Remarkable ability to adapt and be able to accept criticism', 0], ['Possession of huge professionalism and concentration on duty', 0], ['Exceptionally attractive skin and personality', 0], ['Great coordination, flexible body, clear speech, tidy appearance, and immensely fit and healthy', 0]]\n"
     ]
    },
    {
     "name": "stderr",
     "output_type": "stream",
     "text": [
      " 17%|██████████████████████▍                                                                                                              | 147/871 [07:37<51:22,  4.26s/it]"
     ]
    },
    {
     "name": "stdout",
     "output_type": "stream",
     "text": [
      "[['Exceptional performance skills', 0], ['Sound knowledge of body posture, movement and facial expressions', 0], ['Remarkable knowledge of body and face care', 0], ['Thorough knowledge of make-up, hairstyles and fashion', 0], ['Exceptional ability to memorize routines', 0], ['Strong knowledge of sales techniques', 0], ['Uncommon confidence, patience and punctuality', 0], ['Remarkable ability to adapt and be able to accept criticism', 0], ['Possession of huge professionalism and concentration on duty', 0], ['Exceptionally attractive skin and personality', 0], ['Great coordination, flexible body, clear speech, tidy appearance, and immensely fit and healthy', 0]]\n"
     ]
    },
    {
     "name": "stderr",
     "output_type": "stream",
     "text": [
      " 17%|██████████████████████▌                                                                                                              | 148/871 [07:40<45:01,  3.74s/it]"
     ]
    },
    {
     "name": "stdout",
     "output_type": "stream",
     "text": [
      "[['Website', 0], ['Product', 0], ['UI/UX', 0], ['Illustration', 0]]\n"
     ]
    },
    {
     "name": "stderr",
     "output_type": "stream",
     "text": [
      " 17%|██████████████████████▊                                                                                                              | 149/871 [07:43<42:37,  3.54s/it]"
     ]
    },
    {
     "name": "stdout",
     "output_type": "stream",
     "text": [
      "[['Website', 0], ['Product', 0], ['UI/UX', 0], ['Illustration', 0]]\n"
     ]
    },
    {
     "name": "stderr",
     "output_type": "stream",
     "text": [
      " 17%|██████████████████████▉                                                                                                              | 150/871 [07:45<39:02,  3.25s/it]"
     ]
    },
    {
     "name": "stdout",
     "output_type": "stream",
     "text": [
      "[]\n"
     ]
    },
    {
     "name": "stderr",
     "output_type": "stream",
     "text": [
      " 17%|███████████████████████                                                                                                              | 151/871 [07:49<38:32,  3.21s/it]"
     ]
    },
    {
     "name": "stdout",
     "output_type": "stream",
     "text": [
      "[]\n"
     ]
    },
    {
     "name": "stderr",
     "output_type": "stream",
     "text": [
      " 17%|███████████████████████▏                                                                                                             | 152/871 [07:52<40:35,  3.39s/it]"
     ]
    },
    {
     "name": "stdout",
     "output_type": "stream",
     "text": [
      "[['Adobe Illustrator', 60], ['Adobe Photoshop', 60], ['Adobe InDesign', 60], ['HTML', 50], ['CSS', 30]]\n"
     ]
    },
    {
     "name": "stderr",
     "output_type": "stream",
     "text": [
      " 18%|███████████████████████▎                                                                                                             | 153/871 [07:56<39:47,  3.33s/it]"
     ]
    },
    {
     "name": "stdout",
     "output_type": "stream",
     "text": [
      "[['WordPress', 0], ['HTML5 & CSS3', 0], ['jQuery', 0], ['Adobe Photoshop', 0], ['Adobe Illustrator', 0], ['Social Marketing', 0], ['Creativity', 0], ['Communication', 0], ['Team Work', 0]]\n"
     ]
    },
    {
     "name": "stderr",
     "output_type": "stream",
     "text": [
      " 18%|███████████████████████▌                                                                                                             | 154/871 [07:58<35:29,  2.97s/it]"
     ]
    },
    {
     "name": "stdout",
     "output_type": "stream",
     "text": [
      "[]\n"
     ]
    },
    {
     "name": "stderr",
     "output_type": "stream",
     "text": [
      " 18%|███████████████████████▋                                                                                                             | 155/871 [08:01<35:55,  3.01s/it]"
     ]
    },
    {
     "name": "stdout",
     "output_type": "stream",
     "text": [
      "[]\n"
     ]
    },
    {
     "name": "stderr",
     "output_type": "stream",
     "text": [
      " 18%|███████████████████████▊                                                                                                             | 156/871 [08:04<38:00,  3.19s/it]"
     ]
    },
    {
     "name": "stdout",
     "output_type": "stream",
     "text": [
      "[['ILLUSTRATIONS', 88], ['SKETCHING', 100], ['VIDEO COMMERCIALS', 65], ['AUDIO TUNING', 50]]\n"
     ]
    },
    {
     "name": "stderr",
     "output_type": "stream",
     "text": [
      " 18%|███████████████████████▉                                                                                                             | 157/871 [08:07<34:23,  2.89s/it]"
     ]
    },
    {
     "name": "stdout",
     "output_type": "stream",
     "text": [
      "[]\n"
     ]
    },
    {
     "name": "stderr",
     "output_type": "stream",
     "text": [
      " 18%|████████████████████████▏                                                                                                            | 158/871 [08:10<37:08,  3.13s/it]"
     ]
    },
    {
     "name": "stdout",
     "output_type": "stream",
     "text": [
      "[['ui/ux', 0], ['brand', 0], ['art', 0]]\n"
     ]
    },
    {
     "name": "stderr",
     "output_type": "stream",
     "text": [
      " 18%|████████████████████████▎                                                                                                            | 159/871 [08:14<39:34,  3.34s/it]"
     ]
    },
    {
     "name": "stdout",
     "output_type": "stream",
     "text": [
      "[['Website', 0], ['Product', 0], ['UI/UX', 0], ['Illustration', 0]]\n"
     ]
    },
    {
     "name": "stderr",
     "output_type": "stream",
     "text": [
      " 18%|████████████████████████▍                                                                                                            | 160/871 [08:19<44:55,  3.79s/it]"
     ]
    },
    {
     "name": "stdout",
     "output_type": "stream",
     "text": [
      "[['ILLUSTRATIONS', 88], ['SKETCHING', 100], ['VIDEO COMMERCIALS', 65], ['AUDIO TUNING', 50]]\n"
     ]
    },
    {
     "name": "stderr",
     "output_type": "stream",
     "text": [
      " 18%|████████████████████████▌                                                                                                            | 161/871 [08:23<44:41,  3.78s/it]"
     ]
    },
    {
     "name": "stdout",
     "output_type": "stream",
     "text": [
      "invalid character '“' (U+201C) (<unknown>, line 1)\n"
     ]
    },
    {
     "name": "stderr",
     "output_type": "stream",
     "text": [
      " 19%|████████████████████████▋                                                                                                            | 162/871 [08:26<43:35,  3.69s/it]"
     ]
    },
    {
     "name": "stdout",
     "output_type": "stream",
     "text": [
      "[['WordPress', 0], ['HTML5 & CSS3', 0], ['jQuery', 0], ['Adobe Photoshop', 0], ['Adobe Illustrator', 0], ['Social Marketing', 0], ['Creativity', 0], ['Communication', 0], ['Team work', 0]]\n"
     ]
    },
    {
     "name": "stderr",
     "output_type": "stream",
     "text": [
      " 19%|████████████████████████▉                                                                                                            | 163/871 [08:30<44:50,  3.80s/it]"
     ]
    },
    {
     "name": "stdout",
     "output_type": "stream",
     "text": [
      "[['ILLUSTRATIONS', 88], ['SKETCHING', 100], ['VIDEO COMMERCIALS', 65], ['AUDIO TUNING', 50]]\n"
     ]
    },
    {
     "name": "stderr",
     "output_type": "stream",
     "text": [
      " 19%|█████████████████████████                                                                                                            | 164/871 [08:34<43:34,  3.70s/it]"
     ]
    },
    {
     "name": "stdout",
     "output_type": "stream",
     "text": [
      "[['Adobe Illustrator', 100], ['Adobe Photoshop', 100], ['Adobe InDesign', 100], ['HTML', 50], ['CSS', 30]]\n"
     ]
    },
    {
     "name": "stderr",
     "output_type": "stream",
     "text": [
      " 19%|█████████████████████████▏                                                                                                           | 165/871 [08:37<41:02,  3.49s/it]"
     ]
    },
    {
     "name": "stdout",
     "output_type": "stream",
     "text": [
      "[['Adobe Illustrator', 0], ['Adobe Photoshop', 0], ['Adobe InDesign', 0], ['HTML', 0], ['CSS', 0]]\n"
     ]
    },
    {
     "name": "stderr",
     "output_type": "stream",
     "text": [
      " 19%|█████████████████████████▎                                                                                                           | 166/871 [08:40<40:58,  3.49s/it]"
     ]
    },
    {
     "name": "stdout",
     "output_type": "stream",
     "text": [
      "[['WordPress', 0], ['HTML5 & CSS3', 0], ['jQuery', 0], ['Adobe Photoshop', 0], ['Adobe Illustrator', 0], ['Social Marketing', 0], ['Creativity', 0], ['Communication', 0], ['Team work', 0]]\n"
     ]
    },
    {
     "name": "stderr",
     "output_type": "stream",
     "text": [
      " 19%|█████████████████████████▌                                                                                                           | 167/871 [08:43<37:13,  3.17s/it]"
     ]
    },
    {
     "name": "stdout",
     "output_type": "stream",
     "text": [
      "[['Microsoft SQL server', 0], ['Microsoft ASP.NET (C#)', 0], ['Javascript', 0], ['Software design', 0], ['Code reviews', 0], ['Testing', 0], ['Video Streaming', 0], ['Technologies C++', 0], ['Unix Linux', 0]]\n"
     ]
    },
    {
     "name": "stderr",
     "output_type": "stream",
     "text": [
      " 19%|█████████████████████████▋                                                                                                           | 168/871 [08:45<35:48,  3.06s/it]"
     ]
    },
    {
     "name": "stdout",
     "output_type": "stream",
     "text": [
      "[['Microsoft SQL server', 0], ['Microsoft ASP.NET (C#)', 0], ['Javascript', 0], ['Software design', 0], ['Code reviews', 0], ['Testing', 0], ['Video Streaming', 0], ['Technologies C++', 0], ['Unix Linux', 0]]\n"
     ]
    },
    {
     "name": "stderr",
     "output_type": "stream",
     "text": [
      " 19%|█████████████████████████▊                                                                                                           | 169/871 [08:48<36:04,  3.08s/it]"
     ]
    },
    {
     "name": "stdout",
     "output_type": "stream",
     "text": [
      "[['Microsoft SQL server', 0], ['Microsoft ASP.NET (C#)', 0], ['Javascript', 0], ['Software design', 0], ['Code reviews', 0], ['Testing', 0], ['Video Streaming', 0], ['Technologies C++', 0], ['Unix Linux', 0]]\n"
     ]
    },
    {
     "name": "stderr",
     "output_type": "stream",
     "text": [
      " 20%|█████████████████████████▉                                                                                                           | 170/871 [08:51<33:28,  2.87s/it]"
     ]
    },
    {
     "name": "stdout",
     "output_type": "stream",
     "text": [
      "[['Word', 0], ['Excel', 0]]\n"
     ]
    },
    {
     "name": "stderr",
     "output_type": "stream",
     "text": [
      " 20%|██████████████████████████                                                                                                           | 171/871 [08:53<30:59,  2.66s/it]"
     ]
    },
    {
     "name": "stdout",
     "output_type": "stream",
     "text": [
      "[]\n"
     ]
    },
    {
     "name": "stderr",
     "output_type": "stream",
     "text": [
      " 20%|██████████████████████████▎                                                                                                          | 172/871 [08:55<29:37,  2.54s/it]"
     ]
    },
    {
     "name": "stdout",
     "output_type": "stream",
     "text": [
      "[['Organizational Skills', 0], ['Google Suite', 0], ['Excel', 0], ['HTML & CSS', 0], ['Time Management', 0], ['Problem Solving', 0]]\n"
     ]
    },
    {
     "name": "stderr",
     "output_type": "stream",
     "text": [
      " 20%|██████████████████████████▍                                                                                                          | 173/871 [08:58<31:44,  2.73s/it]"
     ]
    },
    {
     "name": "stdout",
     "output_type": "stream",
     "text": [
      "invalid syntax (<unknown>, line 1)\n"
     ]
    },
    {
     "name": "stderr",
     "output_type": "stream",
     "text": [
      " 20%|██████████████████████████▌                                                                                                          | 174/871 [09:02<34:04,  2.93s/it]"
     ]
    },
    {
     "name": "stdout",
     "output_type": "stream",
     "text": [
      "[['Word', 0], ['Excel', 0]]\n"
     ]
    },
    {
     "name": "stderr",
     "output_type": "stream",
     "text": [
      " 20%|██████████████████████████▋                                                                                                          | 175/871 [09:09<47:20,  4.08s/it]"
     ]
    },
    {
     "name": "stdout",
     "output_type": "stream",
     "text": [
      "invalid syntax (<unknown>, line 1)\n"
     ]
    },
    {
     "name": "stderr",
     "output_type": "stream",
     "text": [
      " 20%|██████████████████████████▊                                                                                                          | 176/871 [09:10<36:58,  3.19s/it]"
     ]
    },
    {
     "name": "stdout",
     "output_type": "stream",
     "text": [
      "[]\n"
     ]
    },
    {
     "name": "stderr",
     "output_type": "stream",
     "text": [
      " 20%|███████████████████████████                                                                                                          | 177/871 [09:13<37:40,  3.26s/it]"
     ]
    },
    {
     "name": "stdout",
     "output_type": "stream",
     "text": [
      "[['Intermediate Spanish', 0], ['Microsoft Word', 0], ['Excel', 0], ['Powerpoint', 0], ['Social Media: Facebook', 0], ['Twitter', 0], ['Flickr', 0], ['YouTube', 0], ['WordPress', 0], ['SPSS', 0]]\n"
     ]
    },
    {
     "name": "stderr",
     "output_type": "stream",
     "text": [
      " 20%|███████████████████████████▏                                                                                                         | 178/871 [09:19<46:48,  4.05s/it]"
     ]
    },
    {
     "name": "stdout",
     "output_type": "stream",
     "text": [
      "[['Hand Sketching', 0], ['Technical Sketches/Flats', 0], ['Specification Packages', 0], ['Sourcing', 0], ['Overseas Communication', 0], ['Time Management', 0], ['Organization', 0], ['Trend Research', 0], ['Sweater Graphs', 0], ['Machine Knitting', 0], ['Crocheting', 0], ['Sewing/Tailoring', 0], ['Pattern making/Draping', 0], ['Color Matters', 0], ['Microsoft Office/Suite', 0], ['Auto Cad', 0], ['Karat Cad', 0], ['Adobe Illustrator', 0], ['Adobe Photoshop', 0]]\n"
     ]
    },
    {
     "name": "stderr",
     "output_type": "stream",
     "text": [
      " 21%|███████████████████████████▎                                                                                                         | 179/871 [09:21<40:57,  3.55s/it]"
     ]
    },
    {
     "name": "stdout",
     "output_type": "stream",
     "text": [
      "[]\n"
     ]
    },
    {
     "name": "stderr",
     "output_type": "stream",
     "text": [
      " 21%|███████████████████████████▍                                                                                                         | 180/871 [09:23<35:14,  3.06s/it]"
     ]
    },
    {
     "name": "stdout",
     "output_type": "stream",
     "text": [
      "[]\n"
     ]
    },
    {
     "name": "stderr",
     "output_type": "stream",
     "text": [
      " 21%|███████████████████████████▋                                                                                                         | 181/871 [09:25<30:31,  2.65s/it]"
     ]
    },
    {
     "name": "stdout",
     "output_type": "stream",
     "text": [
      "[['Word', 0], ['Excel', 0]]\n"
     ]
    },
    {
     "name": "stderr",
     "output_type": "stream",
     "text": [
      " 21%|███████████████████████████▊                                                                                                         | 182/871 [09:28<31:11,  2.72s/it]"
     ]
    },
    {
     "name": "stdout",
     "output_type": "stream",
     "text": [
      "[['Professional Public Relation', 0], ['Resource management', 0], ['Team Leadership', 0], ['Social Media Marketing', 0], ['Media Planning', 0], ['IT Application', 0]]\n"
     ]
    },
    {
     "name": "stderr",
     "output_type": "stream",
     "text": [
      " 21%|███████████████████████████▉                                                                                                         | 183/871 [09:29<27:11,  2.37s/it]"
     ]
    },
    {
     "name": "stdout",
     "output_type": "stream",
     "text": [
      "[]\n"
     ]
    },
    {
     "name": "stderr",
     "output_type": "stream",
     "text": [
      " 21%|████████████████████████████                                                                                                         | 184/871 [09:32<29:08,  2.55s/it]"
     ]
    },
    {
     "name": "stdout",
     "output_type": "stream",
     "text": [
      "[['Scheduling', 0], ['Travel Arrangements', 0], ['Administrative Procedures', 0], ['Google Suite', 0], ['Microsoft Office', 0], ['HTML', 0], ['CSS', 0]]\n"
     ]
    },
    {
     "name": "stderr",
     "output_type": "stream",
     "text": [
      " 21%|████████████████████████████▏                                                                                                        | 185/871 [09:37<35:01,  3.06s/it]"
     ]
    },
    {
     "name": "stdout",
     "output_type": "stream",
     "text": [
      "invalid syntax (<unknown>, line 1)\n"
     ]
    },
    {
     "name": "stderr",
     "output_type": "stream",
     "text": [
      " 21%|████████████████████████████▍                                                                                                        | 186/871 [09:39<31:25,  2.75s/it]"
     ]
    },
    {
     "name": "stdout",
     "output_type": "stream",
     "text": [
      "[['Organizational Skills', 0], ['Problem Solving', 0], ['Excel', 0], ['G Suite', 0], ['PowerPoint', 0]]\n"
     ]
    },
    {
     "name": "stderr",
     "output_type": "stream",
     "text": [
      " 21%|████████████████████████████▌                                                                                                        | 187/871 [09:42<33:34,  2.95s/it]"
     ]
    },
    {
     "name": "stdout",
     "output_type": "stream",
     "text": [
      "[['Lean Manufacturing', 50], ['Pallet Jack', 100], ['Packing', 50], ['Construction Labor', 100], ['Carpentry', 100]]\n"
     ]
    },
    {
     "name": "stderr",
     "output_type": "stream",
     "text": [
      " 22%|████████████████████████████▋                                                                                                        | 188/871 [09:47<39:28,  3.47s/it]"
     ]
    },
    {
     "name": "stdout",
     "output_type": "stream",
     "text": [
      "[['Lean Manufacturing', 50], ['Pallet Jack', 100], ['Packing', 50], ['Construction Labor', 100], ['Carpentry', 100]]\n"
     ]
    },
    {
     "name": "stderr",
     "output_type": "stream",
     "text": [
      " 22%|████████████████████████████▊                                                                                                        | 189/871 [09:49<36:28,  3.21s/it]"
     ]
    },
    {
     "name": "stdout",
     "output_type": "stream",
     "text": [
      "[['Lean Manufacturing', 50], ['Pallet Jack', 100], ['Packing', 50], ['Construction Labor', 100], ['Carpentry', 100]]\n"
     ]
    },
    {
     "name": "stderr",
     "output_type": "stream",
     "text": [
      " 22%|█████████████████████████████                                                                                                        | 190/871 [09:53<35:59,  3.17s/it]"
     ]
    },
    {
     "name": "stdout",
     "output_type": "stream",
     "text": [
      "[['Up-to-date computer skill', 0], ['Up-to-date programming skill', 0], ['Up-to-date software skill', 0]]\n"
     ]
    },
    {
     "name": "stderr",
     "output_type": "stream",
     "text": [
      " 22%|█████████████████████████████▏                                                                                                       | 191/871 [09:55<33:23,  2.95s/it]"
     ]
    },
    {
     "name": "stdout",
     "output_type": "stream",
     "text": [
      "[]\n"
     ]
    },
    {
     "name": "stderr",
     "output_type": "stream",
     "text": [
      " 22%|█████████████████████████████▎                                                                                                       | 192/871 [09:57<29:36,  2.62s/it]"
     ]
    },
    {
     "name": "stdout",
     "output_type": "stream",
     "text": [
      "[]\n"
     ]
    },
    {
     "name": "stderr",
     "output_type": "stream",
     "text": [
      " 22%|█████████████████████████████▍                                                                                                       | 193/871 [09:59<27:45,  2.46s/it]"
     ]
    },
    {
     "name": "stdout",
     "output_type": "stream",
     "text": [
      "[['General Securities License', 70], ['Expert Programming in SQL', 0], ['Visual Basic', 0], ['MS Access', 0], ['DB2/VSAM environment', 0], ['Microsoft Office Applications', 0]]\n"
     ]
    },
    {
     "name": "stderr",
     "output_type": "stream",
     "text": [
      " 22%|█████████████████████████████▌                                                                                                       | 194/871 [10:03<31:45,  2.81s/it]"
     ]
    },
    {
     "name": "stdout",
     "output_type": "stream",
     "text": [
      "[['General Securities License', 70], ['Experienced Programming in SQL', 0], ['Visual Basic', 0], ['MS Access', 0], ['DB2/VSAM environment', 0], ['Microsoft Office Applications', 0]]\n"
     ]
    },
    {
     "name": "stderr",
     "output_type": "stream",
     "text": [
      " 22%|█████████████████████████████▊                                                                                                       | 195/871 [10:04<26:42,  2.37s/it]"
     ]
    },
    {
     "name": "stdout",
     "output_type": "stream",
     "text": [
      "[]\n"
     ]
    },
    {
     "name": "stderr",
     "output_type": "stream",
     "text": [
      " 23%|█████████████████████████████▉                                                                                                       | 196/871 [10:07<28:17,  2.52s/it]"
     ]
    },
    {
     "name": "stdout",
     "output_type": "stream",
     "text": [
      "[['General Securities License', 70], ['Expelled Programming in SQL', 0], ['Visual Basic', 0], ['Access', 0], ['DB2/VSAM environment', 0], ['Microsoft Office Applications', 0]]\n"
     ]
    },
    {
     "name": "stderr",
     "output_type": "stream",
     "text": [
      " 23%|██████████████████████████████                                                                                                       | 197/871 [10:10<31:41,  2.82s/it]"
     ]
    },
    {
     "name": "stdout",
     "output_type": "stream",
     "text": [
      "[['Great political skills', 0], ['Graphical design', 0], ['Leadership', 0], ['Multiple languages', 0], ['Like to work hard', 0]]\n"
     ]
    },
    {
     "name": "stderr",
     "output_type": "stream",
     "text": [
      " 23%|██████████████████████████████▏                                                                                                      | 198/871 [10:14<35:41,  3.18s/it]"
     ]
    },
    {
     "name": "stdout",
     "output_type": "stream",
     "text": [
      "[['Adobe Illustrator', 70], ['Adobe Photoshop', 85], ['Adobe InDesign', 75], ['Adobe Dreamweaver', 0], ['Adobe After Effects', 60]]\n"
     ]
    },
    {
     "name": "stderr",
     "output_type": "stream",
     "text": [
      " 23%|██████████████████████████████▍                                                                                                      | 199/871 [10:17<34:06,  3.05s/it]"
     ]
    },
    {
     "name": "stdout",
     "output_type": "stream",
     "text": [
      "[['Great political skills', 0], ['Graphical design', 0], ['Leadership', 0], ['Multiple languages', 0], ['Like to work hard', 0]]\n"
     ]
    },
    {
     "name": "stderr",
     "output_type": "stream",
     "text": [
      " 23%|██████████████████████████████▌                                                                                                      | 200/871 [10:20<33:33,  3.00s/it]"
     ]
    },
    {
     "name": "stdout",
     "output_type": "stream",
     "text": [
      "[['Great political skills', 0], ['Graphical design', 0], ['Leadership', 0], ['Multiple languages', 0], ['Like to work hard', 0]]\n"
     ]
    },
    {
     "name": "stderr",
     "output_type": "stream",
     "text": [
      " 23%|██████████████████████████████▋                                                                                                      | 201/871 [10:24<37:08,  3.33s/it]"
     ]
    },
    {
     "name": "stdout",
     "output_type": "stream",
     "text": [
      "[['Adobe Illustrator', 80], ['Adobe Photoshop', 90], ['Adobe InDesign', 70], ['Adobe Dreamweaver', 60], ['Adobe After Effects', 75]]\n"
     ]
    },
    {
     "name": "stderr",
     "output_type": "stream",
     "text": [
      " 23%|██████████████████████████████▊                                                                                                      | 202/871 [10:28<38:48,  3.48s/it]"
     ]
    },
    {
     "name": "stdout",
     "output_type": "stream",
     "text": [
      "[['Adobe Illustrator', 80], ['Adobe Photoshop', 70], ['Adobe InDesign', 60], ['Adobe Dreamweaver', 50], ['Adobe After Effects', 40]]\n"
     ]
    },
    {
     "name": "stderr",
     "output_type": "stream",
     "text": [
      " 23%|██████████████████████████████▉                                                                                                      | 203/871 [10:29<32:19,  2.90s/it]"
     ]
    },
    {
     "name": "stdout",
     "output_type": "stream",
     "text": [
      "[]\n"
     ]
    },
    {
     "name": "stderr",
     "output_type": "stream",
     "text": [
      " 23%|███████████████████████████████▏                                                                                                     | 204/871 [10:31<28:03,  2.52s/it]"
     ]
    },
    {
     "name": "stdout",
     "output_type": "stream",
     "text": [
      "invalid character '“' (U+201C) (<unknown>, line 1)\n"
     ]
    },
    {
     "name": "stderr",
     "output_type": "stream",
     "text": [
      " 24%|███████████████████████████████▎                                                                                                     | 205/871 [10:32<24:18,  2.19s/it]"
     ]
    },
    {
     "name": "stdout",
     "output_type": "stream",
     "text": [
      "[]\n"
     ]
    },
    {
     "name": "stderr",
     "output_type": "stream",
     "text": [
      " 24%|███████████████████████████████▍                                                                                                     | 206/871 [10:35<25:55,  2.34s/it]"
     ]
    },
    {
     "name": "stdout",
     "output_type": "stream",
     "text": [
      "[['Photoshop', 80], ['Database', 70], ['JavaScript', 75], ['HTML/PHP', 70], ['WordPress', 85]]\n"
     ]
    },
    {
     "name": "stderr",
     "output_type": "stream",
     "text": [
      " 24%|███████████████████████████████▌                                                                                                     | 207/871 [10:38<29:19,  2.65s/it]"
     ]
    },
    {
     "name": "stdout",
     "output_type": "stream",
     "text": [
      "[['Skill 1', 0], ['Skill 2', 0], ['Skill 3', 0], ['Skill 4', 0], ['Skill 5', 0]]\n"
     ]
    },
    {
     "name": "stderr",
     "output_type": "stream",
     "text": [
      " 24%|███████████████████████████████▊                                                                                                     | 208/871 [10:43<35:48,  3.24s/it]"
     ]
    },
    {
     "name": "stdout",
     "output_type": "stream",
     "text": [
      "invalid character '“' (U+201C) (<unknown>, line 1)\n"
     ]
    },
    {
     "name": "stderr",
     "output_type": "stream",
     "text": [
      " 24%|███████████████████████████████▉                                                                                                     | 209/871 [10:47<36:33,  3.31s/it]"
     ]
    },
    {
     "name": "stdout",
     "output_type": "stream",
     "text": [
      "[['Gestion de projet', 0], ['Gestion budgétaire', 0], [\"Management d'équipe\", 0]]\n"
     ]
    },
    {
     "name": "stderr",
     "output_type": "stream",
     "text": [
      " 24%|████████████████████████████████                                                                                                     | 210/871 [10:49<34:10,  3.10s/it]"
     ]
    },
    {
     "name": "stdout",
     "output_type": "stream",
     "text": [
      "[['Photoshop', 70], ['Database', 60], ['Java Script', 80], ['HTML/PHP', 75], ['Wordpress', 65]]\n"
     ]
    },
    {
     "name": "stderr",
     "output_type": "stream",
     "text": [
      " 24%|████████████████████████████████▏                                                                                                    | 211/871 [10:53<35:24,  3.22s/it]"
     ]
    },
    {
     "name": "stdout",
     "output_type": "stream",
     "text": [
      "[]\n"
     ]
    },
    {
     "name": "stderr",
     "output_type": "stream",
     "text": [
      " 24%|████████████████████████████████▎                                                                                                    | 212/871 [10:56<35:29,  3.23s/it]"
     ]
    },
    {
     "name": "stdout",
     "output_type": "stream",
     "text": [
      "[['Gestion de projet', 0], ['Gestion budgétaire', 0], [\"Management d'équipe\", 0]]\n"
     ]
    },
    {
     "name": "stderr",
     "output_type": "stream",
     "text": [
      " 24%|████████████████████████████████▌                                                                                                    | 213/871 [10:59<35:00,  3.19s/it]"
     ]
    },
    {
     "name": "stdout",
     "output_type": "stream",
     "text": [
      "[['Management', 0], ['Interpersonal', 0], ['Personal management', 0], ['Communication', 0], ['Electronics and technology', 0], ['Practical', 0]]\n"
     ]
    },
    {
     "name": "stderr",
     "output_type": "stream",
     "text": [
      " 25%|████████████████████████████████▋                                                                                                    | 214/871 [11:03<38:32,  3.52s/it]"
     ]
    },
    {
     "name": "stdout",
     "output_type": "stream",
     "text": [
      "[['Skill 1', 0], ['Skill 2', 0], ['Skill 3', 0], ['Skill 4', 0], ['Skill 5', 0]]\n"
     ]
    },
    {
     "name": "stderr",
     "output_type": "stream",
     "text": [
      " 25%|████████████████████████████████▊                                                                                                    | 215/871 [11:07<37:51,  3.46s/it]"
     ]
    },
    {
     "name": "stdout",
     "output_type": "stream",
     "text": [
      "[['Skill 1', 0], ['Skill 2', 0], ['Skill 3', 0], ['Skill 4', 0], ['Skill 5', 0]]\n"
     ]
    },
    {
     "name": "stderr",
     "output_type": "stream",
     "text": [
      " 25%|████████████████████████████████▉                                                                                                    | 216/871 [11:12<42:42,  3.91s/it]"
     ]
    },
    {
     "name": "stdout",
     "output_type": "stream",
     "text": [
      "[['Photoshop', 100], ['Database', 100], ['Java Script', 100], ['HTML/PHP', 100], ['Wordpress', 100], ['Creativity', 100], ['Leadership', 100], ['Organization', 100], ['Teamwork', 100]]\n"
     ]
    },
    {
     "name": "stderr",
     "output_type": "stream",
     "text": [
      " 25%|█████████████████████████████████▏                                                                                                   | 217/871 [11:14<37:40,  3.46s/it]"
     ]
    },
    {
     "name": "stdout",
     "output_type": "stream",
     "text": [
      "[['Gestion de projet', 0], ['Gestion budgétaire', 0], [\"Management d'équipe\", 0]]\n"
     ]
    },
    {
     "name": "stderr",
     "output_type": "stream",
     "text": [
      " 25%|█████████████████████████████████▎                                                                                                   | 218/871 [11:17<35:28,  3.26s/it]"
     ]
    },
    {
     "name": "stdout",
     "output_type": "stream",
     "text": [
      "[['Establish rapport', 0], ['Ability to establish rapport among other nurses', 0], ['Ability to maintain an efficient and friendly team of nurses', 0], ['Leadership', 0], ['Supervision', 0], ['Assessment', 0], ['Communication', 0], ['Organizing', 0], ['Time management', 0], ['Working with children', 0], ['Personal development', 0], ['Self-confidence', 0], ['Ability to transfer optimism', 0]]\n"
     ]
    },
    {
     "name": "stderr",
     "output_type": "stream",
     "text": [
      " 25%|█████████████████████████████████▍                                                                                                   | 219/871 [11:20<33:51,  3.12s/it]"
     ]
    },
    {
     "name": "stdout",
     "output_type": "stream",
     "text": [
      "[['Ability to establish rapport among other nurses', 0], ['Ability to teach and mentor young age patients', 0], ['Ability to maintain an efficient and friendly team of nurses', 0], ['Leadership and experience qualifications', 0], ['Nurse education', 0], ['Patient care', 0], ['Communication', 0], ['Ability to work with children', 0], ['Self-confidence', 0], ['Ability to transfer optimism', 0]]\n"
     ]
    },
    {
     "name": "stderr",
     "output_type": "stream",
     "text": [
      " 25%|█████████████████████████████████▌                                                                                                   | 220/871 [11:21<29:30,  2.72s/it]"
     ]
    },
    {
     "name": "stdout",
     "output_type": "stream",
     "text": [
      "[['Habilidad 1', 0], ['Habilidad 2', 0], ['Habilidad 3', 0]]\n"
     ]
    },
    {
     "name": "stderr",
     "output_type": "stream",
     "text": [
      " 25%|█████████████████████████████████▋                                                                                                   | 221/871 [11:24<30:04,  2.78s/it]"
     ]
    },
    {
     "name": "stdout",
     "output_type": "stream",
     "text": [
      "[['Teamwork', 0], ['Text here', 0], ['Text here', 0], ['Text here', 0]]\n"
     ]
    },
    {
     "name": "stderr",
     "output_type": "stream",
     "text": [
      " 25%|█████████████████████████████████▉                                                                                                   | 222/871 [11:28<34:22,  3.18s/it]"
     ]
    },
    {
     "name": "stdout",
     "output_type": "stream",
     "text": [
      "[['Habilidad 1', 0], ['Habilidad 2', 0], ['Habilidad 3', 0], ['Habilidad 4', 0], ['Habilidad 5', 0], ['Habilidad 6', 0], ['Habilidad 7', 0], ['Habilidad 8', 0]]\n"
     ]
    },
    {
     "name": "stderr",
     "output_type": "stream",
     "text": [
      " 26%|██████████████████████████████████                                                                                                   | 223/871 [11:32<36:35,  3.39s/it]"
     ]
    },
    {
     "name": "stdout",
     "output_type": "stream",
     "text": [
      "[['Teamwork', 0], ['Text here', 0], ['Text here', 0], ['Text here', 0]]\n"
     ]
    },
    {
     "name": "stderr",
     "output_type": "stream",
     "text": [
      " 26%|██████████████████████████████████▏                                                                                                  | 224/871 [11:34<32:29,  3.01s/it]"
     ]
    },
    {
     "name": "stdout",
     "output_type": "stream",
     "text": [
      "[['Habilidad 1', 0], ['Habilidad 2', 0], ['Habilidad 3', 0], ['Habilidad 4', 0], ['Habilidad 5', 0]]\n"
     ]
    },
    {
     "name": "stderr",
     "output_type": "stream",
     "text": [
      " 26%|██████████████████████████████████▎                                                                                                  | 225/871 [11:37<30:16,  2.81s/it]"
     ]
    },
    {
     "name": "stdout",
     "output_type": "stream",
     "text": [
      "[['Establish rapport', 0], ['Ability to establish respect among other nurses', 0], ['Ability to remain efficient and friendly team of nurses', 0], ['Leadership', 0], ['Assessment skills', 0], ['Ability to work effectively with others', 0], ['Self-confidence', 0], ['Ability to transfer optimism', 0]]\n"
     ]
    },
    {
     "name": "stderr",
     "output_type": "stream",
     "text": [
      " 26%|██████████████████████████████████▌                                                                                                  | 226/871 [11:41<33:47,  3.14s/it]"
     ]
    },
    {
     "name": "stdout",
     "output_type": "stream",
     "text": [
      "[['Quisque aliquam', 0], ['Tempor magna', 0], ['Saliquam habitant', 0], ['Pellentesque cursus', 0], ['Pellentesque porttitor', 0], ['Quisque aliquam', 0], ['Tempor magna', 0], ['Magna habitant', 0], ['Pellentesque cursus', 0], ['Sagittis felis', 0], ['Tempor aliquam', 0]]\n"
     ]
    },
    {
     "name": "stderr",
     "output_type": "stream",
     "text": [
      " 26%|██████████████████████████████████▋                                                                                                  | 227/871 [11:45<36:44,  3.42s/it]"
     ]
    },
    {
     "name": "stdout",
     "output_type": "stream",
     "text": [
      "[['Quisque aliquam', 0], ['Tempor magna', 0], ['Saliquam habitant', 0], ['Pellentesque cursus', 0], ['Pellentesque porttitor', 0], ['Quisque aliquam', 0], ['Tempor magna', 0], ['Magna habitant', 0], ['Pellentesque cursus', 0], ['Sagittis felis', 0]]\n"
     ]
    },
    {
     "name": "stderr",
     "output_type": "stream",
     "text": [
      " 26%|██████████████████████████████████▊                                                                                                  | 228/871 [11:47<33:25,  3.12s/it]"
     ]
    },
    {
     "name": "stdout",
     "output_type": "stream",
     "text": [
      "[['Teamwork', 0], ['Text here', 0], ['Text here', 0], ['Text here', 0]]\n"
     ]
    },
    {
     "name": "stderr",
     "output_type": "stream",
     "text": [
      " 26%|██████████████████████████████████▉                                                                                                  | 229/871 [11:53<41:21,  3.86s/it]"
     ]
    },
    {
     "name": "stdout",
     "output_type": "stream",
     "text": [
      "[['Quisque aliquam', 0], ['Tempor magna', 0], ['Salquam habitant', 0], ['Pellentesque cursus', 0], ['Pellentesque porttitor', 0], ['Quisque aliquam', 0], ['Tempor magna', 0], ['Magna habitant', 0], ['Pellentesque cursus', 0], ['Sagitits felis', 0], ['Tempor aliquam', 0]]\n"
     ]
    },
    {
     "name": "stderr",
     "output_type": "stream",
     "text": [
      " 26%|███████████████████████████████████                                                                                                  | 230/871 [11:57<41:01,  3.84s/it]"
     ]
    },
    {
     "name": "stdout",
     "output_type": "stream",
     "text": [
      "[['SKILL #1', 100], ['SKILL #2', 80], ['SKILL #3', 60], ['SKILL #4', 40], ['SKILL #5', 20], ['SKILL #6', 0]]\n"
     ]
    },
    {
     "name": "stderr",
     "output_type": "stream",
     "text": [
      " 27%|███████████████████████████████████▎                                                                                                 | 231/871 [12:01<44:08,  4.14s/it]"
     ]
    },
    {
     "name": "stdout",
     "output_type": "stream",
     "text": [
      "[['SKILL #1', 100], ['SKILL #2', 80], ['SKILL #3', 60], ['SKILL #4', 40], ['SKILL #5', 20], ['SKILL #6', 0]]\n"
     ]
    },
    {
     "name": "stderr",
     "output_type": "stream",
     "text": [
      " 27%|███████████████████████████████████▍                                                                                                 | 232/871 [12:05<41:29,  3.90s/it]"
     ]
    },
    {
     "name": "stdout",
     "output_type": "stream",
     "text": [
      "[['Financial reporting', 80], ['Full-cycle accounting', 70], ['SAP ERP', 60], ['QuickBooks', 60], ['Cash flow optimization', 80], ['SAGE 100', 0]]\n"
     ]
    },
    {
     "name": "stderr",
     "output_type": "stream",
     "text": [
      " 27%|███████████████████████████████████▌                                                                                                 | 233/871 [12:07<36:34,  3.44s/it]"
     ]
    },
    {
     "name": "stdout",
     "output_type": "stream",
     "text": [
      "[['ADOBE PHOTOSHOP', 90], ['ADOBE ILLUSTRATOR', 80], ['ADOBE XD', 60], ['FILMORA', 87], ['MICROSOFT OFFICE', 90]]\n"
     ]
    },
    {
     "name": "stderr",
     "output_type": "stream",
     "text": [
      " 27%|███████████████████████████████████▋                                                                                                 | 234/871 [12:11<39:32,  3.72s/it]"
     ]
    },
    {
     "name": "stdout",
     "output_type": "stream",
     "text": [
      "[['ADOBE PHOTOSHOP', 90], ['ADOBE ILLUSTRATOR', 80], ['ADOBE XD', 60], ['FILMORA', 87], ['MICROSOFT OFFICE', 90]]\n"
     ]
    },
    {
     "name": "stderr",
     "output_type": "stream",
     "text": [
      " 27%|███████████████████████████████████▉                                                                                                 | 235/871 [12:15<37:44,  3.56s/it]"
     ]
    },
    {
     "name": "stdout",
     "output_type": "stream",
     "text": [
      "[['Financial reporting', 80], ['Full-cycle accounting', 60], ['SAP ERP', 40], ['QuickBooks', 60], ['Cash flow optimization', 80], ['SAGE 100', 20]]\n"
     ]
    },
    {
     "name": "stderr",
     "output_type": "stream",
     "text": [
      " 27%|████████████████████████████████████                                                                                                 | 236/871 [12:18<38:15,  3.62s/it]"
     ]
    },
    {
     "name": "stdout",
     "output_type": "stream",
     "text": [
      "[['ADOBE PHOTOSHOP', 90], ['ADOBE ILLUSTRATOR', 80], ['ADOBE XD', 60], ['FILMORA', 87], ['MICROSOFT OFFICE', 90]]\n"
     ]
    },
    {
     "name": "stderr",
     "output_type": "stream",
     "text": [
      " 27%|████████████████████████████████████▏                                                                                                | 237/871 [12:21<36:26,  3.45s/it]"
     ]
    },
    {
     "name": "stdout",
     "output_type": "stream",
     "text": [
      "[['Financial reporting', 80], ['Full-cycle accounting', 60], ['SAP ERP', 40], ['QuickBooks', 40], ['Cash flow optimization', 60], ['SAGE 100', 20]]\n"
     ]
    },
    {
     "name": "stderr",
     "output_type": "stream",
     "text": [
      " 27%|████████████████████████████████████▎                                                                                                | 238/871 [12:27<42:15,  4.01s/it]"
     ]
    },
    {
     "name": "stdout",
     "output_type": "stream",
     "text": [
      "[]\n"
     ]
    },
    {
     "name": "stderr",
     "output_type": "stream",
     "text": [
      " 27%|████████████████████████████████████▍                                                                                                | 239/871 [12:29<36:25,  3.46s/it]"
     ]
    },
    {
     "name": "stdout",
     "output_type": "stream",
     "text": [
      "[['Framework', 0], ['HTML5', 0], ['WordPress', 0], ['PHP', 0]]\n"
     ]
    },
    {
     "name": "stderr",
     "output_type": "stream",
     "text": [
      " 28%|████████████████████████████████████▋                                                                                                | 240/871 [12:32<35:32,  3.38s/it]"
     ]
    },
    {
     "name": "stdout",
     "output_type": "stream",
     "text": [
      "[]\n"
     ]
    },
    {
     "name": "stderr",
     "output_type": "stream",
     "text": [
      " 28%|████████████████████████████████████▊                                                                                                | 241/871 [12:37<39:24,  3.75s/it]"
     ]
    },
    {
     "name": "stdout",
     "output_type": "stream",
     "text": [
      "[]\n"
     ]
    },
    {
     "name": "stderr",
     "output_type": "stream",
     "text": [
      " 28%|████████████████████████████████████▉                                                                                                | 242/871 [12:39<35:25,  3.38s/it]"
     ]
    },
    {
     "name": "stdout",
     "output_type": "stream",
     "text": [
      "[['Framework', 0], ['html5', 0], ['Wordpress', 0], ['Php', 0]]\n"
     ]
    },
    {
     "name": "stderr",
     "output_type": "stream",
     "text": [
      " 28%|█████████████████████████████████████                                                                                                | 243/871 [12:42<31:57,  3.05s/it]"
     ]
    },
    {
     "name": "stdout",
     "output_type": "stream",
     "text": [
      "[['Framework', 0], ['html5', 0], ['Wordpress', 0], ['Php', 0]]\n"
     ]
    },
    {
     "name": "stderr",
     "output_type": "stream",
     "text": [
      " 28%|█████████████████████████████████████▎                                                                                               | 244/871 [12:45<31:55,  3.05s/it]"
     ]
    },
    {
     "name": "stdout",
     "output_type": "stream",
     "text": [
      "[['#SKILL 1', 0], ['#SKILL 2', 0], ['#SKILL 3', 0], ['#SKILL 4', 0], ['#SKILL 5', 0], ['#SKILL 6', 0]]\n"
     ]
    },
    {
     "name": "stderr",
     "output_type": "stream",
     "text": [
      " 28%|█████████████████████████████████████▍                                                                                               | 245/871 [12:48<33:45,  3.24s/it]"
     ]
    },
    {
     "name": "stdout",
     "output_type": "stream",
     "text": [
      "[['Excellent relationnel', 0], ['Connaissance du domaine', 0], ['Grande capacité d’adaptation', 0], ['Travail en parfaite autonomie', 0], ['Persévérance', 0], ['Qualités de négociatrice', 0], ['Sens de l’écoute', 0]]\n"
     ]
    },
    {
     "name": "stderr",
     "output_type": "stream",
     "text": [
      " 28%|█████████████████████████████████████▌                                                                                               | 246/871 [12:51<32:03,  3.08s/it]"
     ]
    },
    {
     "name": "stdout",
     "output_type": "stream",
     "text": [
      "[['#SKILL 1', 0], ['#SKILL 2', 0], ['#SKILL 3', 0], ['#SKILL 4', 0], ['#SKILL 5', 0], ['#SKILL 6', 0]]\n"
     ]
    },
    {
     "name": "stderr",
     "output_type": "stream",
     "text": [
      " 28%|█████████████████████████████████████▋                                                                                               | 247/871 [12:58<43:52,  4.22s/it]"
     ]
    },
    {
     "name": "stdout",
     "output_type": "stream",
     "text": [
      "[['Excellent relationnel', 0], ['Connaissance du domaine', 0], [\"Grande capacité d'adaptation\", 0], ['Travail en parfaite autonomie', 0], ['Persévérance', 0], ['Qualités de négociatrice', 0], [\"Sens de l'écoute\", 0]]\n"
     ]
    },
    {
     "name": "stderr",
     "output_type": "stream",
     "text": [
      " 28%|█████████████████████████████████████▊                                                                                               | 248/871 [13:01<41:10,  3.97s/it]"
     ]
    },
    {
     "name": "stdout",
     "output_type": "stream",
     "text": [
      "[['Anglais', 50], ['Espagnol', 20], ['Excellent relationnel', 0], ['Connaissance du domaine', 0], [\"Grande capacité d'adaptation\", 0], ['Travail en parfaite autonomie', 0], ['Persévérance', 0], ['Qualités de négociatrice', 0], [\"Sens de l'écoute\", 0]]\n"
     ]
    },
    {
     "name": "stderr",
     "output_type": "stream",
     "text": [
      " 29%|██████████████████████████████████████                                                                                               | 249/871 [13:04<36:45,  3.55s/it]"
     ]
    },
    {
     "name": "stdout",
     "output_type": "stream",
     "text": [
      "[]\n"
     ]
    },
    {
     "name": "stderr",
     "output_type": "stream",
     "text": [
      " 29%|██████████████████████████████████████▏                                                                                              | 250/871 [13:06<33:21,  3.22s/it]"
     ]
    },
    {
     "name": "stdout",
     "output_type": "stream",
     "text": [
      "[]\n"
     ]
    },
    {
     "name": "stderr",
     "output_type": "stream",
     "text": [
      " 29%|██████████████████████████████████████▎                                                                                              | 251/871 [13:10<34:58,  3.38s/it]"
     ]
    },
    {
     "name": "stdout",
     "output_type": "stream",
     "text": [
      "[]\n"
     ]
    },
    {
     "name": "stderr",
     "output_type": "stream",
     "text": [
      " 29%|██████████████████████████████████████▍                                                                                              | 252/871 [13:12<29:48,  2.89s/it]"
     ]
    },
    {
     "name": "stdout",
     "output_type": "stream",
     "text": [
      "[['Languages', 0], ['Software', 0], ['Skills', 0], ['License', 0]]\n"
     ]
    },
    {
     "name": "stderr",
     "output_type": "stream",
     "text": [
      " 29%|██████████████████████████████████████▋                                                                                              | 253/871 [13:15<30:03,  2.92s/it]"
     ]
    },
    {
     "name": "stdout",
     "output_type": "stream",
     "text": [
      "[]\n"
     ]
    },
    {
     "name": "stderr",
     "output_type": "stream",
     "text": [
      " 29%|██████████████████████████████████████▊                                                                                              | 254/871 [13:17<29:00,  2.82s/it]"
     ]
    },
    {
     "name": "stdout",
     "output_type": "stream",
     "text": [
      "[['Gestion de projet', 0], ['Créativité', 0], ['Management', 0], ['Adaptation', 0]]\n"
     ]
    },
    {
     "name": "stderr",
     "output_type": "stream",
     "text": [
      " 29%|██████████████████████████████████████▉                                                                                              | 255/871 [13:19<24:34,  2.39s/it]"
     ]
    },
    {
     "name": "stdout",
     "output_type": "stream",
     "text": [
      "[]\n"
     ]
    },
    {
     "name": "stderr",
     "output_type": "stream",
     "text": [
      " 29%|███████████████████████████████████████                                                                                              | 256/871 [13:21<22:54,  2.24s/it]"
     ]
    },
    {
     "name": "stdout",
     "output_type": "stream",
     "text": [
      "[]\n"
     ]
    },
    {
     "name": "stderr",
     "output_type": "stream",
     "text": [
      " 30%|███████████████████████████████████████▏                                                                                             | 257/871 [13:23<23:30,  2.30s/it]"
     ]
    },
    {
     "name": "stdout",
     "output_type": "stream",
     "text": [
      "[['Gestion de projet', 0], ['Créativité', 0], ['Management', 0], ['Adaptation', 0]]\n"
     ]
    },
    {
     "name": "stderr",
     "output_type": "stream",
     "text": [
      " 30%|███████████████████████████████████████▍                                                                                             | 258/871 [13:27<28:07,  2.75s/it]"
     ]
    },
    {
     "name": "stdout",
     "output_type": "stream",
     "text": [
      "[['Gestion de projet', 0], ['Créativité', 0], ['Management', 0], ['Adaptation', 0]]\n"
     ]
    },
    {
     "name": "stderr",
     "output_type": "stream",
     "text": [
      " 30%|███████████████████████████████████████▌                                                                                             | 259/871 [13:30<27:57,  2.74s/it]"
     ]
    },
    {
     "name": "stdout",
     "output_type": "stream",
     "text": [
      "[['Languages', 0], ['Software', 0], ['Skills', 0], ['License', 0]]\n"
     ]
    },
    {
     "name": "stderr",
     "output_type": "stream",
     "text": [
      " 30%|███████████████████████████████████████▋                                                                                             | 260/871 [13:31<24:26,  2.40s/it]"
     ]
    },
    {
     "name": "stdout",
     "output_type": "stream",
     "text": [
      "[]\n"
     ]
    },
    {
     "name": "stderr",
     "output_type": "stream",
     "text": [
      " 30%|███████████████████████████████████████▊                                                                                             | 261/871 [13:33<21:32,  2.12s/it]"
     ]
    },
    {
     "name": "stdout",
     "output_type": "stream",
     "text": [
      "[]\n"
     ]
    },
    {
     "name": "stderr",
     "output_type": "stream",
     "text": [
      " 30%|████████████████████████████████████████                                                                                             | 262/871 [13:35<21:48,  2.15s/it]"
     ]
    },
    {
     "name": "stdout",
     "output_type": "stream",
     "text": [
      "[]\n"
     ]
    },
    {
     "name": "stderr",
     "output_type": "stream",
     "text": [
      " 30%|████████████████████████████████████████▏                                                                                            | 263/871 [13:39<27:26,  2.71s/it]"
     ]
    },
    {
     "name": "stdout",
     "output_type": "stream",
     "text": [
      "[['French', 0], ['english', 0], ['spanish', 0], ['Microsoft Office', 0], ['Windows 7', 0], ['Windows 8', 0], ['Autocad', 0], ['Describe your best skills here', 0], ['Class 1 driving license', 0], ['personnal truck', 0]]\n"
     ]
    },
    {
     "name": "stderr",
     "output_type": "stream",
     "text": [
      " 30%|████████████████████████████████████████▎                                                                                            | 264/871 [13:42<28:10,  2.79s/it]"
     ]
    },
    {
     "name": "stdout",
     "output_type": "stream",
     "text": [
      "[['SKILL #1', 80], ['SKILL #2', 70], ['SKILL #3', 60], ['SKILL #4', 50], ['SKILL #5', 90], ['SKILL #6', 40]]\n"
     ]
    },
    {
     "name": "stderr",
     "output_type": "stream",
     "text": [
      " 30%|████████████████████████████████████████▍                                                                                            | 265/871 [13:44<25:47,  2.55s/it]"
     ]
    },
    {
     "name": "stdout",
     "output_type": "stream",
     "text": [
      "[]\n"
     ]
    },
    {
     "name": "stderr",
     "output_type": "stream",
     "text": [
      " 31%|████████████████████████████████████████▌                                                                                            | 266/871 [13:48<29:07,  2.89s/it]"
     ]
    },
    {
     "name": "stdout",
     "output_type": "stream",
     "text": [
      "[['SKILL #1', 90], ['SKILL #2', 80], ['SKILL #3', 70], ['SKILL #4', 60], ['SKILL #5', 50], ['SKILL #6', 40]]\n"
     ]
    },
    {
     "name": "stderr",
     "output_type": "stream",
     "text": [
      " 31%|████████████████████████████████████████▊                                                                                            | 267/871 [13:49<24:05,  2.39s/it]"
     ]
    },
    {
     "name": "stdout",
     "output_type": "stream",
     "text": [
      "[]\n"
     ]
    },
    {
     "name": "stderr",
     "output_type": "stream",
     "text": [
      " 31%|████████████████████████████████████████▉                                                                                            | 268/871 [13:51<22:09,  2.20s/it]"
     ]
    },
    {
     "name": "stdout",
     "output_type": "stream",
     "text": [
      "[]\n"
     ]
    },
    {
     "name": "stderr",
     "output_type": "stream",
     "text": [
      " 31%|█████████████████████████████████████████                                                                                            | 269/871 [13:53<21:35,  2.15s/it]"
     ]
    },
    {
     "name": "stdout",
     "output_type": "stream",
     "text": [
      "[['SKILL #1', 80], ['SKILL #2', 60], ['SKILL #3', 0], ['SKILL #4', 0], ['SKILL #5', 40], ['SKILL #6', 20]]\n"
     ]
    },
    {
     "name": "stderr",
     "output_type": "stream",
     "text": [
      " 31%|█████████████████████████████████████████▏                                                                                           | 270/871 [13:56<24:56,  2.49s/it]"
     ]
    },
    {
     "name": "stdout",
     "output_type": "stream",
     "text": [
      "[['Photoshop', 0], ['InDesign', 0], ['Wordpress', 0], ['MS Word', 0], ['Joomla', 0], ['Motivation', 0], ['Honesty', 0], ['Teamleader', 0]]\n"
     ]
    },
    {
     "name": "stderr",
     "output_type": "stream",
     "text": [
      " 31%|█████████████████████████████████████████▍                                                                                           | 271/871 [14:00<29:51,  2.99s/it]"
     ]
    },
    {
     "name": "stdout",
     "output_type": "stream",
     "text": [
      "[['Analytical', 0], ['Clear', 0], ['Flexible', 0], ['Confident', 0], ['Team Player', 0], ['Attention to Detail', 0], ['Resourceful', 0], ['Multi Tasker', 0], ['Competitive', 0], ['Persistent', 0], ['Performance Driven', 0]]\n"
     ]
    },
    {
     "name": "stderr",
     "output_type": "stream",
     "text": [
      " 31%|█████████████████████████████████████████▌                                                                                           | 272/871 [14:03<29:16,  2.93s/it]"
     ]
    },
    {
     "name": "stdout",
     "output_type": "stream",
     "text": [
      "[['Photoshop', 0], ['InDesign', 0], ['Wordpress', 0], ['MS Word', 0], ['Joomla', 0], ['Motivation', 0], ['Honesty', 0], ['Teamleader', 0]]\n"
     ]
    },
    {
     "name": "stderr",
     "output_type": "stream",
     "text": [
      " 31%|█████████████████████████████████████████▋                                                                                           | 273/871 [14:05<26:32,  2.66s/it]"
     ]
    },
    {
     "name": "stdout",
     "output_type": "stream",
     "text": [
      "[['Créativité', 0], ['Travail en équipe', 0], ['Prise de parole', 0], ['Gestion de crise', 0]]\n"
     ]
    },
    {
     "name": "stderr",
     "output_type": "stream",
     "text": [
      " 31%|█████████████████████████████████████████▊                                                                                           | 274/871 [14:09<29:49,  3.00s/it]"
     ]
    },
    {
     "name": "stdout",
     "output_type": "stream",
     "text": [
      "[['AUTOCAD', 0], ['ArcGIS', 0], ['SKETCH UP', 0], ['CITY ENGINE', 0], ['ILLUSTRATOR', 0], ['PHOTOSHOP', 0], ['WORD', 0], ['EXCEL', 0], ['POWERPOINT', 0]]\n"
     ]
    },
    {
     "name": "stderr",
     "output_type": "stream",
     "text": [
      " 32%|█████████████████████████████████████████▉                                                                                           | 275/871 [14:13<32:46,  3.30s/it]"
     ]
    },
    {
     "name": "stdout",
     "output_type": "stream",
     "text": [
      "[['Photoshop', 0], ['InDesign', 0], ['Wordpress', 0], ['MS Word', 0], ['Joomla', 0], ['Motivation', 0], ['Honesty', 0], ['Teamleader', 0]]\n"
     ]
    },
    {
     "name": "stderr",
     "output_type": "stream",
     "text": [
      " 32%|██████████████████████████████████████████▏                                                                                          | 276/871 [14:16<32:25,  3.27s/it]"
     ]
    },
    {
     "name": "stdout",
     "output_type": "stream",
     "text": [
      "[]\n"
     ]
    },
    {
     "name": "stderr",
     "output_type": "stream",
     "text": [
      " 32%|██████████████████████████████████████████▎                                                                                          | 277/871 [14:17<26:52,  2.71s/it]"
     ]
    },
    {
     "name": "stdout",
     "output_type": "stream",
     "text": [
      "[['Créativité', 0], ['Travail en équipe', 0], ['Précision', 0], ['Gestion de crise', 0]]\n"
     ]
    },
    {
     "name": "stderr",
     "output_type": "stream",
     "text": [
      " 32%|██████████████████████████████████████████▍                                                                                          | 278/871 [14:19<24:02,  2.43s/it]"
     ]
    },
    {
     "name": "stdout",
     "output_type": "stream",
     "text": [
      "[['Pack Office', 0], ['Photoshop', 0], ['Office', 0]]\n"
     ]
    },
    {
     "name": "stderr",
     "output_type": "stream",
     "text": [
      " 32%|██████████████████████████████████████████▌                                                                                          | 279/871 [14:22<24:16,  2.46s/it]"
     ]
    },
    {
     "name": "stdout",
     "output_type": "stream",
     "text": [
      "[['Graphic Designer', 0], ['Wordpress Developer', 0], ['Sketch Art Designer', 0]]\n"
     ]
    },
    {
     "name": "stderr",
     "output_type": "stream",
     "text": [
      " 32%|██████████████████████████████████████████▊                                                                                          | 280/871 [14:24<23:12,  2.36s/it]"
     ]
    },
    {
     "name": "stdout",
     "output_type": "stream",
     "text": [
      "[]\n"
     ]
    },
    {
     "name": "stderr",
     "output_type": "stream",
     "text": [
      " 32%|██████████████████████████████████████████▉                                                                                          | 281/871 [14:26<23:48,  2.42s/it]"
     ]
    },
    {
     "name": "stdout",
     "output_type": "stream",
     "text": [
      "invalid character '“' (U+201C) (<unknown>, line 1)\n"
     ]
    },
    {
     "name": "stderr",
     "output_type": "stream",
     "text": [
      " 32%|███████████████████████████████████████████                                                                                          | 282/871 [14:30<26:22,  2.69s/it]"
     ]
    },
    {
     "name": "stdout",
     "output_type": "stream",
     "text": [
      "[['Pack Office', 0], ['Photoshop', 0], ['Office', 0]]\n"
     ]
    },
    {
     "name": "stderr",
     "output_type": "stream",
     "text": [
      " 32%|███████████████████████████████████████████▏                                                                                         | 283/871 [14:31<23:34,  2.40s/it]"
     ]
    },
    {
     "name": "stdout",
     "output_type": "stream",
     "text": [
      "[]\n"
     ]
    },
    {
     "name": "stderr",
     "output_type": "stream",
     "text": [
      " 33%|███████████████████████████████████████████▎                                                                                         | 284/871 [14:35<28:32,  2.92s/it]"
     ]
    },
    {
     "name": "stdout",
     "output_type": "stream",
     "text": [
      "[['Creativity', 0], ['Communication', 0], ['Photoshop', 0], ['Lightroom', 0], ['Attention to Detail', 0], ['Social Media', 0], ['Self-management', 0]]\n"
     ]
    },
    {
     "name": "stderr",
     "output_type": "stream",
     "text": [
      " 33%|███████████████████████████████████████████▌                                                                                         | 285/871 [14:40<32:22,  3.31s/it]"
     ]
    },
    {
     "name": "stdout",
     "output_type": "stream",
     "text": [
      "[['Creativity', 0], ['Communication', 0], ['Photoshop', 0], ['Lightroom', 0], ['Attention to Detail', 0], ['Social Media', 0], ['Self-management', 0]]\n"
     ]
    },
    {
     "name": "stderr",
     "output_type": "stream",
     "text": [
      " 33%|███████████████████████████████████████████▋                                                                                         | 286/871 [14:43<32:46,  3.36s/it]"
     ]
    },
    {
     "name": "stdout",
     "output_type": "stream",
     "text": [
      "[['Creativity', 0], ['Communication', 0], ['Photoshop', 0], ['Lightroom', 0], ['Attention to Detail', 0], ['Social Media', 0], ['Self-management', 0]]\n"
     ]
    },
    {
     "name": "stderr",
     "output_type": "stream",
     "text": [
      " 33%|███████████████████████████████████████████▊                                                                                         | 287/871 [14:45<28:12,  2.90s/it]"
     ]
    },
    {
     "name": "stdout",
     "output_type": "stream",
     "text": [
      "[]\n"
     ]
    },
    {
     "name": "stderr",
     "output_type": "stream",
     "text": [
      " 33%|███████████████████████████████████████████▉                                                                                         | 288/871 [14:47<25:04,  2.58s/it]"
     ]
    },
    {
     "name": "stdout",
     "output_type": "stream",
     "text": [
      "[]\n"
     ]
    },
    {
     "name": "stderr",
     "output_type": "stream",
     "text": [
      " 33%|████████████████████████████████████████████▏                                                                                        | 289/871 [14:49<24:05,  2.48s/it]"
     ]
    },
    {
     "name": "stdout",
     "output_type": "stream",
     "text": [
      "[]\n"
     ]
    },
    {
     "name": "stderr",
     "output_type": "stream",
     "text": [
      " 33%|████████████████████████████████████████████▎                                                                                        | 290/871 [14:51<21:14,  2.19s/it]"
     ]
    },
    {
     "name": "stdout",
     "output_type": "stream",
     "text": [
      "[]\n"
     ]
    },
    {
     "name": "stderr",
     "output_type": "stream",
     "text": [
      " 33%|████████████████████████████████████████████▍                                                                                        | 291/871 [14:54<25:32,  2.64s/it]"
     ]
    },
    {
     "name": "stdout",
     "output_type": "stream",
     "text": [
      "[['ILLUSTRATOR', 80], ['PHOTOSHOP', 70], ['INDESIGN', 50], ['MS WORD', 0]]\n"
     ]
    },
    {
     "name": "stderr",
     "output_type": "stream",
     "text": [
      " 34%|████████████████████████████████████████████▌                                                                                        | 292/871 [14:56<24:11,  2.51s/it]"
     ]
    },
    {
     "name": "stdout",
     "output_type": "stream",
     "text": [
      "[]\n"
     ]
    },
    {
     "name": "stderr",
     "output_type": "stream",
     "text": [
      " 34%|████████████████████████████████████████████▋                                                                                        | 293/871 [15:00<27:45,  2.88s/it]"
     ]
    },
    {
     "name": "stdout",
     "output_type": "stream",
     "text": [
      "[['Social Media', 0], ['Public Relations', 0]]\n"
     ]
    },
    {
     "name": "stderr",
     "output_type": "stream",
     "text": [
      " 34%|████████████████████████████████████████████▉                                                                                        | 294/871 [15:03<26:12,  2.73s/it]"
     ]
    },
    {
     "name": "stdout",
     "output_type": "stream",
     "text": [
      "[['GAAP knowledge', 0], ['Budget forecasting expertise', 0], ['Account reconciliation expert', 0], ['Financial statement analysis', 0], ['Team leadership', 0], ['General ledger accounting', 0], ['Reporting proficiency', 0], ['Analytical', 0], ['Organized', 0], ['Detail-oriented', 0]]\n"
     ]
    },
    {
     "name": "stderr",
     "output_type": "stream",
     "text": [
      " 34%|█████████████████████████████████████████████                                                                                        | 295/871 [15:08<33:20,  3.47s/it]"
     ]
    },
    {
     "name": "stdout",
     "output_type": "stream",
     "text": [
      "[]\n"
     ]
    },
    {
     "name": "stderr",
     "output_type": "stream",
     "text": [
      " 34%|█████████████████████████████████████████████▏                                                                                       | 296/871 [15:10<29:58,  3.13s/it]"
     ]
    },
    {
     "name": "stdout",
     "output_type": "stream",
     "text": [
      "[['Social Media', 0], ['Public Relations', 0]]\n"
     ]
    },
    {
     "name": "stderr",
     "output_type": "stream",
     "text": [
      " 34%|█████████████████████████████████████████████▎                                                                                       | 297/871 [15:14<31:33,  3.30s/it]"
     ]
    },
    {
     "name": "stdout",
     "output_type": "stream",
     "text": [
      "[['Social Media', 0], ['Public Relations', 0]]\n"
     ]
    },
    {
     "name": "stderr",
     "output_type": "stream",
     "text": [
      " 34%|█████████████████████████████████████████████▌                                                                                       | 298/871 [15:19<36:31,  3.82s/it]"
     ]
    },
    {
     "name": "stdout",
     "output_type": "stream",
     "text": [
      "[['GAAP knowledge', 0], ['Budget forecasting expertise', 0], ['Account reconciliation expert', 0], ['Financial statement analysis', 0], ['Team leadership', 0], ['General ledger accounting', 0], ['Reporting proficiency', 0], ['Analytical', 0], ['Organized', 0], ['Detail-oriented', 0]]\n"
     ]
    },
    {
     "name": "stderr",
     "output_type": "stream",
     "text": [
      " 34%|█████████████████████████████████████████████▋                                                                                       | 299/871 [15:22<35:46,  3.75s/it]"
     ]
    },
    {
     "name": "stdout",
     "output_type": "stream",
     "text": [
      "[['ILLUSTRATOR', 80], ['PHOTOSHOP', 70], ['INDESIGN', 60], ['MS WORD', 0]]\n"
     ]
    },
    {
     "name": "stderr",
     "output_type": "stream",
     "text": [
      " 34%|█████████████████████████████████████████████▊                                                                                       | 300/871 [15:25<32:06,  3.37s/it]"
     ]
    },
    {
     "name": "stdout",
     "output_type": "stream",
     "text": [
      "[['Photoshop', 0], ['HTML/CSS', 0], ['MS Word', 0], ['MS Excel', 0], ['Leadership', 0], ['Teamwork', 0], ['Honesty', 0]]\n"
     ]
    },
    {
     "name": "stderr",
     "output_type": "stream",
     "text": [
      " 35%|█████████████████████████████████████████████▉                                                                                       | 301/871 [15:28<30:21,  3.20s/it]"
     ]
    },
    {
     "name": "stdout",
     "output_type": "stream",
     "text": [
      "[['Photoshop', 0], ['HTML/CSS', 0], ['MS Word', 0], ['MS Excel', 0], ['Leadership', 0], ['Creativity', 0], ['Honesty', 0]]\n"
     ]
    },
    {
     "name": "stderr",
     "output_type": "stream",
     "text": [
      " 35%|██████████████████████████████████████████████                                                                                       | 302/871 [15:30<29:01,  3.06s/it]"
     ]
    },
    {
     "name": "stdout",
     "output_type": "stream",
     "text": [
      "[['Photoshop', 0], ['HTML/CSS', 0], ['MS Word', 0], ['MS Excel', 0], ['Leadership', 0], ['Teamwork', 0], ['Creativity', 0], ['Honesty', 0]]\n"
     ]
    },
    {
     "name": "stderr",
     "output_type": "stream",
     "text": [
      " 35%|██████████████████████████████████████████████▎                                                                                      | 303/871 [15:34<30:07,  3.18s/it]"
     ]
    },
    {
     "name": "stdout",
     "output_type": "stream",
     "text": [
      "[['GAAP knowledge', 0], ['Budget forecasting expertise', 0], ['Account reconciliation expert', 0], ['Financial statement analysis', 0], ['Team leadership', 0], ['General ledger accounting', 0], ['Reporting proficiency', 0], ['Analytical', 0], ['Organized', 0], ['Detail-oriented', 0]]\n"
     ]
    },
    {
     "name": "stderr",
     "output_type": "stream",
     "text": [
      " 35%|██████████████████████████████████████████████▍                                                                                      | 304/871 [15:36<26:08,  2.77s/it]"
     ]
    },
    {
     "name": "stdout",
     "output_type": "stream",
     "text": [
      "[]\n"
     ]
    },
    {
     "name": "stderr",
     "output_type": "stream",
     "text": [
      " 35%|██████████████████████████████████████████████▌                                                                                      | 305/871 [15:38<23:46,  2.52s/it]"
     ]
    },
    {
     "name": "stdout",
     "output_type": "stream",
     "text": [
      "[]\n"
     ]
    },
    {
     "name": "stderr",
     "output_type": "stream",
     "text": [
      " 35%|██████████████████████████████████████████████▋                                                                                      | 306/871 [15:39<20:32,  2.18s/it]"
     ]
    },
    {
     "name": "stdout",
     "output_type": "stream",
     "text": [
      "[]\n"
     ]
    },
    {
     "name": "stderr",
     "output_type": "stream",
     "text": [
      " 35%|██████████████████████████████████████████████▉                                                                                      | 307/871 [15:40<17:50,  1.90s/it]"
     ]
    },
    {
     "name": "stdout",
     "output_type": "stream",
     "text": [
      "[]\n"
     ]
    },
    {
     "name": "stderr",
     "output_type": "stream",
     "text": [
      " 35%|███████████████████████████████████████████████                                                                                      | 308/871 [15:42<17:15,  1.84s/it]"
     ]
    },
    {
     "name": "stdout",
     "output_type": "stream",
     "text": [
      "[]\n"
     ]
    },
    {
     "name": "stderr",
     "output_type": "stream",
     "text": [
      " 35%|███████████████████████████████████████████████▏                                                                                     | 309/871 [15:44<17:41,  1.89s/it]"
     ]
    },
    {
     "name": "stdout",
     "output_type": "stream",
     "text": [
      "[['Marketing', 0], ['Project Management', 0], ['Budget Planning', 0], ['Social Media', 0]]\n"
     ]
    },
    {
     "name": "stderr",
     "output_type": "stream",
     "text": [
      " 36%|███████████████████████████████████████████████▎                                                                                     | 310/871 [15:48<22:33,  2.41s/it]"
     ]
    },
    {
     "name": "stdout",
     "output_type": "stream",
     "text": [
      "[['Communication', 80], ['Time Management', 80], ['Oral Comprehension', 80], ['Microsoft Access', 70], ['Google Calendar', 70], ['Interpersonal Skills', 60]]\n"
     ]
    },
    {
     "name": "stderr",
     "output_type": "stream",
     "text": [
      " 36%|███████████████████████████████████████████████▍                                                                                     | 311/871 [15:51<25:44,  2.76s/it]"
     ]
    },
    {
     "name": "stdout",
     "output_type": "stream",
     "text": [
      "[['Communication', 90], ['Time Management', 90], ['Oral Comprehension', 90], ['Microsoft Access', 80], ['Google Calendar', 80], ['Interpersonal Skills', 90]]\n"
     ]
    },
    {
     "name": "stderr",
     "output_type": "stream",
     "text": [
      " 36%|███████████████████████████████████████████████▋                                                                                     | 312/871 [15:55<28:51,  3.10s/it]"
     ]
    },
    {
     "name": "stdout",
     "output_type": "stream",
     "text": [
      "[['Adobe Illustrator', 0], ['Adobe Photoshop', 0], ['Graphic Design', 0], ['Photography', 0], ['Corel Draw', 0], ['Word', 0], ['Excel', 0]]\n"
     ]
    },
    {
     "name": "stderr",
     "output_type": "stream",
     "text": [
      " 36%|███████████████████████████████████████████████▊                                                                                     | 313/871 [16:00<33:45,  3.63s/it]"
     ]
    },
    {
     "name": "stdout",
     "output_type": "stream",
     "text": [
      "[['Adobe Illustrator', 0], ['Adobe Photoshop', 0], ['Graphic Design', 0], ['Photography', 0], ['Corel Draw', 0], ['Word', 0], ['Excel', 0]]\n"
     ]
    },
    {
     "name": "stderr",
     "output_type": "stream",
     "text": [
      " 36%|███████████████████████████████████████████████▉                                                                                     | 314/871 [16:01<27:42,  2.98s/it]"
     ]
    },
    {
     "name": "stdout",
     "output_type": "stream",
     "text": [
      "[['Marketing', 0], ['Project Management', 0], ['Budget Planning', 0], ['Social Media', 0]]\n"
     ]
    },
    {
     "name": "stderr",
     "output_type": "stream",
     "text": [
      " 36%|████████████████████████████████████████████████                                                                                     | 315/871 [16:04<25:28,  2.75s/it]"
     ]
    },
    {
     "name": "stdout",
     "output_type": "stream",
     "text": [
      "[['Marketing', 0], ['Project Management', 0], ['Budget Planning', 0], ['Social Media', 0]]\n"
     ]
    },
    {
     "name": "stderr",
     "output_type": "stream",
     "text": [
      " 36%|████████████████████████████████████████████████▎                                                                                    | 316/871 [16:07<27:08,  2.93s/it]"
     ]
    },
    {
     "name": "stdout",
     "output_type": "stream",
     "text": [
      "[['Communication', 80], ['Time Management', 80], ['Oral Comprehension', 80], ['Microsoft Access', 70], ['Google Calendar', 70], ['Interpersonal Skills', 80]]\n"
     ]
    },
    {
     "name": "stderr",
     "output_type": "stream",
     "text": [
      " 36%|████████████████████████████████████████████████▍                                                                                    | 317/871 [16:09<24:52,  2.69s/it]"
     ]
    },
    {
     "name": "stdout",
     "output_type": "stream",
     "text": [
      "[['Gestion de projet', 0], ['Management', 0], ['Accueil client', 0], ['Microsoft Excel', 0], ['Conseil clients', 0]]\n"
     ]
    },
    {
     "name": "stderr",
     "output_type": "stream",
     "text": [
      " 37%|████████████████████████████████████████████████▌                                                                                    | 318/871 [16:11<23:51,  2.59s/it]"
     ]
    },
    {
     "name": "stdout",
     "output_type": "stream",
     "text": [
      "[['Anglais', 50], ['Français', 70], ['Espagnol', 30], ['HTML', 80], ['CSS', 60], ['JavaScript', 40]]\n"
     ]
    },
    {
     "name": "stderr",
     "output_type": "stream",
     "text": [
      " 37%|████████████████████████████████████████████████▋                                                                                    | 319/871 [16:13<22:04,  2.40s/it]"
     ]
    },
    {
     "name": "stdout",
     "output_type": "stream",
     "text": [
      "[['Anglais', 50], ['Français', 80], ['Espagnol', 0], ['Gestion de projet', 70], ['Leadership', 60]]\n"
     ]
    },
    {
     "name": "stderr",
     "output_type": "stream",
     "text": [
      " 37%|████████████████████████████████████████████████▊                                                                                    | 320/871 [16:15<20:55,  2.28s/it]"
     ]
    },
    {
     "name": "stdout",
     "output_type": "stream",
     "text": [
      "[['Gestion de projet', 0], ['Management', 0], ['Accueil client', 0], ['Microsoft Excel', 0], ['Conseil client', 0]]\n"
     ]
    },
    {
     "name": "stderr",
     "output_type": "stream",
     "text": [
      " 37%|█████████████████████████████████████████████████                                                                                    | 321/871 [16:18<21:40,  2.37s/it]"
     ]
    },
    {
     "name": "stdout",
     "output_type": "stream",
     "text": [
      "[['Gestion de projet', 0], ['Management', 0], ['Accueil client', 0], ['Microsoft Excel', 0], ['Conseil client', 0]]\n"
     ]
    },
    {
     "name": "stderr",
     "output_type": "stream",
     "text": [
      " 37%|█████████████████████████████████████████████████▏                                                                                   | 322/871 [16:22<27:32,  3.01s/it]"
     ]
    },
    {
     "name": "stdout",
     "output_type": "stream",
     "text": [
      "[['HTML5 / CSS3', 0], ['PHP / MySQL', 0], ['Laravel', 0], ['JavaScript', 0], ['Adobe Photoshop', 0], ['Adobe Illustrator', 0], ['Adobe InDesign', 0], ['Adobe DreamWeaver', 0]]\n"
     ]
    },
    {
     "name": "stderr",
     "output_type": "stream",
     "text": [
      " 37%|█████████████████████████████████████████████████▎                                                                                   | 323/871 [16:27<31:41,  3.47s/it]"
     ]
    },
    {
     "name": "stdout",
     "output_type": "stream",
     "text": [
      "[['HTML5 / CSS3', 0], ['PHP / MySQL', 0], ['Laravel', 0], ['JavaScript', 0], ['Adobe Photoshop', 0], ['Adobe Illustrator', 0], ['Adobe InDesign', 0], ['Adobe DreamWeaver', 0]]\n"
     ]
    },
    {
     "name": "stderr",
     "output_type": "stream",
     "text": [
      " 37%|█████████████████████████████████████████████████▍                                                                                   | 324/871 [16:31<32:40,  3.58s/it]"
     ]
    },
    {
     "name": "stdout",
     "output_type": "stream",
     "text": [
      "[['HTML5 / CSS3', 0], ['PHP / MySQL', 0], ['Laravel', 0], ['JavaScript', 0], ['Adobe Photoshop', 0], ['Adobe Illustrator', 0], ['Adobe InDesign', 0], ['Adobe DreamWeaver', 0]]\n"
     ]
    },
    {
     "name": "stderr",
     "output_type": "stream",
     "text": [
      " 37%|█████████████████████████████████████████████████▋                                                                                   | 325/871 [16:34<30:31,  3.35s/it]"
     ]
    },
    {
     "name": "stdout",
     "output_type": "stream",
     "text": [
      "[]\n"
     ]
    },
    {
     "name": "stderr",
     "output_type": "stream",
     "text": [
      " 37%|█████████████████████████████████████████████████▊                                                                                   | 326/871 [16:38<33:06,  3.64s/it]"
     ]
    },
    {
     "name": "stdout",
     "output_type": "stream",
     "text": [
      "[]\n"
     ]
    },
    {
     "name": "stderr",
     "output_type": "stream",
     "text": [
      " 38%|█████████████████████████████████████████████████▉                                                                                   | 327/871 [16:42<34:20,  3.79s/it]"
     ]
    },
    {
     "name": "stdout",
     "output_type": "stream",
     "text": [
      "[['Exceptional and improvisational problem-solving skills', 0], ['Thorough, accountable, clear, and timely written research and reports', 0], ['Highly efficient and organized at handling multiple complex tasks simultaneously', 0], ['Excellent written and verbal communication skills in English', 0], ['Efficient and organized planning along with extensive experience traveling and living internationally', 0], ['Ability to communicate and interact with senior business executives as well as officials at all levels of government', 0]]\n"
     ]
    },
    {
     "name": "stderr",
     "output_type": "stream",
     "text": [
      " 38%|██████████████████████████████████████████████████                                                                                   | 328/871 [16:47<36:19,  4.01s/it]"
     ]
    },
    {
     "name": "stdout",
     "output_type": "stream",
     "text": [
      "[['Exceptional and improvisational problem-solving skills', 0], ['Thorough, accountable, clear, and timely written research and reports', 0], ['Highly efficient and organized at handling multiple complex tasks simultaneously', 0], ['Excellent written and verbal communication skills in English', 0], ['Efficient and organized planning along with extensive experience traveling and living internationally', 0], ['Ability to communicate and interact with senior business executives as well as officials at all levels of government', 0]]\n"
     ]
    },
    {
     "name": "stderr",
     "output_type": "stream",
     "text": [
      " 38%|██████████████████████████████████████████████████▏                                                                                  | 329/871 [16:52<39:55,  4.42s/it]"
     ]
    },
    {
     "name": "stdout",
     "output_type": "stream",
     "text": [
      "[['Exceptional and improvisational problem-solving skills', 0], ['Thorough, accountable, clear, and timely written research and reports', 0], ['Highly efficient and organized at handling multiple complex tasks simultaneously', 0], ['Excellent written and verbal communication skills in English', 0], ['Efficient and organized planning along with extensive experience traveling and living internationally', 0], ['Ability to communicate and interact with senior business executives as well as officials at all levels of government', 0]]\n"
     ]
    },
    {
     "name": "stderr",
     "output_type": "stream",
     "text": [
      " 38%|██████████████████████████████████████████████████▍                                                                                  | 330/871 [16:54<32:48,  3.64s/it]"
     ]
    },
    {
     "name": "stdout",
     "output_type": "stream",
     "text": [
      "[]\n"
     ]
    },
    {
     "name": "stderr",
     "output_type": "stream",
     "text": [
      " 38%|██████████████████████████████████████████████████▌                                                                                  | 331/871 [16:57<30:34,  3.40s/it]"
     ]
    },
    {
     "name": "stdout",
     "output_type": "stream",
     "text": [
      "[['WordPress', 0], ['Google Analytics', 0]]\n"
     ]
    },
    {
     "name": "stderr",
     "output_type": "stream",
     "text": [
      " 38%|██████████████████████████████████████████████████▋                                                                                  | 332/871 [16:59<28:46,  3.20s/it]"
     ]
    },
    {
     "name": "stdout",
     "output_type": "stream",
     "text": [
      "[]\n"
     ]
    },
    {
     "name": "stderr",
     "output_type": "stream",
     "text": [
      " 38%|██████████████████████████████████████████████████▊                                                                                  | 333/871 [17:02<26:18,  2.93s/it]"
     ]
    },
    {
     "name": "stdout",
     "output_type": "stream",
     "text": [
      "[['WordPress', 0], ['Google Analytics', 0]]\n"
     ]
    },
    {
     "name": "stderr",
     "output_type": "stream",
     "text": [
      " 38%|███████████████████████████████████████████████████                                                                                  | 334/871 [17:04<25:25,  2.84s/it]"
     ]
    },
    {
     "name": "stdout",
     "output_type": "stream",
     "text": [
      "[]\n"
     ]
    },
    {
     "name": "stderr",
     "output_type": "stream",
     "text": [
      " 38%|███████████████████████████████████████████████████▏                                                                                 | 335/871 [17:07<25:42,  2.88s/it]"
     ]
    },
    {
     "name": "stdout",
     "output_type": "stream",
     "text": [
      "[['Professional', 90], ['Visualization', 80], ['User Experience', 70], ['Sodium', 60], ['Technical', 85], ['Curation', 75], ['Quality Assurance', 80], ['Personal', 70], ['Design', 75], ['Editing', 65], ['Collaboration', 90], ['Communication', 85]]\n"
     ]
    },
    {
     "name": "stderr",
     "output_type": "stream",
     "text": [
      " 39%|███████████████████████████████████████████████████▎                                                                                 | 336/871 [17:10<25:01,  2.81s/it]"
     ]
    },
    {
     "name": "stdout",
     "output_type": "stream",
     "text": [
      "[['Professional', 90], ['Management', 80], ['Negotiation', 75], ['Communication', 80], ['Teamwork', 85], ['Technical', 85], ['CSharp', 70], ['SQL', 80], ['Java', 70], ['HTML', 80], ['Personal', 75], ['Design', 80], ['Creativity', 70], ['Attention to detail', 80], ['Adaptability', 90]]\n"
     ]
    },
    {
     "name": "stderr",
     "output_type": "stream",
     "text": [
      " 39%|███████████████████████████████████████████████████▍                                                                                 | 337/871 [17:12<24:04,  2.71s/it]"
     ]
    },
    {
     "name": "stdout",
     "output_type": "stream",
     "text": [
      "[['Wordpress', 0], ['Google Analytics', 0]]\n"
     ]
    },
    {
     "name": "stderr",
     "output_type": "stream",
     "text": [
      " 39%|███████████████████████████████████████████████████▌                                                                                 | 338/871 [17:15<23:19,  2.63s/it]"
     ]
    },
    {
     "name": "stdout",
     "output_type": "stream",
     "text": [
      "[]\n"
     ]
    },
    {
     "name": "stderr",
     "output_type": "stream",
     "text": [
      " 39%|███████████████████████████████████████████████████▊                                                                                 | 339/871 [17:18<24:40,  2.78s/it]"
     ]
    },
    {
     "name": "stdout",
     "output_type": "stream",
     "text": [
      "[]\n"
     ]
    },
    {
     "name": "stderr",
     "output_type": "stream",
     "text": [
      " 39%|███████████████████████████████████████████████████▉                                                                                 | 340/871 [17:22<28:09,  3.18s/it]"
     ]
    },
    {
     "name": "stdout",
     "output_type": "stream",
     "text": [
      "[['TATA LETAK', 0], ['DESAIN GRAFIS', 0], ['ILUSTRASI', 0], ['ANIMASI', 0], ['FOTOGRAFI', 0], ['VIDEO', 0]]\n"
     ]
    },
    {
     "name": "stderr",
     "output_type": "stream",
     "text": [
      " 39%|████████████████████████████████████████████████████                                                                                 | 341/871 [17:25<27:07,  3.07s/it]"
     ]
    },
    {
     "name": "stdout",
     "output_type": "stream",
     "text": [
      "[]\n"
     ]
    },
    {
     "name": "stderr",
     "output_type": "stream",
     "text": [
      " 39%|████████████████████████████████████████████████████▏                                                                                | 342/871 [17:30<31:23,  3.56s/it]"
     ]
    },
    {
     "name": "stdout",
     "output_type": "stream",
     "text": [
      "[['tata letak', 0], ['desain grafis', 0], ['ilustrasi', 0], ['animasi', 0], ['fotografi', 0], ['video', 0]]\n"
     ]
    },
    {
     "name": "stderr",
     "output_type": "stream",
     "text": [
      " 39%|████████████████████████████████████████████████████▍                                                                                | 343/871 [17:33<31:55,  3.63s/it]"
     ]
    },
    {
     "name": "stdout",
     "output_type": "stream",
     "text": [
      "[['tata letak', 0], ['desain grafis', 0], ['ilustrasi', 0], ['animasi', 0], ['fotografi', 0], ['video', 0]]\n"
     ]
    },
    {
     "name": "stderr",
     "output_type": "stream",
     "text": [
      " 39%|████████████████████████████████████████████████████▌                                                                                | 344/871 [17:35<26:51,  3.06s/it]"
     ]
    },
    {
     "name": "stdout",
     "output_type": "stream",
     "text": [
      "[]\n"
     ]
    },
    {
     "name": "stderr",
     "output_type": "stream",
     "text": [
      " 40%|████████████████████████████████████████████████████▋                                                                                | 345/871 [17:39<28:57,  3.30s/it]"
     ]
    },
    {
     "name": "stdout",
     "output_type": "stream",
     "text": [
      "[['Argumentation commerciale', 0], [\"Modalités d'accueil\", 0], ['Principes de la relation client', 0], [\"Procédures d'encaissement\", 0], ['Règles de gestion de stocks', 0], ['Techniques de mise en rayon', 0], ['Techniques de vente', 0], ['Word', 0], ['Excel', 0]]\n"
     ]
    },
    {
     "name": "stderr",
     "output_type": "stream",
     "text": [
      " 40%|████████████████████████████████████████████████████▊                                                                                | 346/871 [17:45<36:24,  4.16s/it]"
     ]
    },
    {
     "name": "stdout",
     "output_type": "stream",
     "text": [
      "[['Argumentation commerciale', 0], [\"Modalités d'accueil\", 0], ['Principes de la relation client', 0], [\"Procédures d'encaissement\", 0], ['Règles de gestion de stocks', 0], ['Techniques de mise en rayon', 0], ['Techniques de vente', 0], ['Word', 0], ['Excel', 0]]\n"
     ]
    },
    {
     "name": "stderr",
     "output_type": "stream",
     "text": [
      " 40%|████████████████████████████████████████████████████▉                                                                                | 347/871 [17:49<34:47,  3.98s/it]"
     ]
    },
    {
     "name": "stdout",
     "output_type": "stream",
     "text": [
      "[['Argumentation commerciale', 0], [\"Modalités d'accueil\", 0], ['Principes de la relation client', 0], [\"Procédures d'encaissement\", 0], ['Règles de gestion de stocks', 0], ['Techniques de mise en rayon', 0], ['Techniques de vente', 0], ['Word', 0], ['Excel', 0]]\n"
     ]
    },
    {
     "name": "stderr",
     "output_type": "stream",
     "text": [
      " 40%|█████████████████████████████████████████████████████▏                                                                               | 348/871 [17:53<36:13,  4.16s/it]"
     ]
    },
    {
     "name": "stdout",
     "output_type": "stream",
     "text": [
      "[['Outlook', 0], ['Exchange', 0], ['Vmware', 0], ['logiciels de Help Desk', 0], ['Linux', 0], ['Active Directory', 0], ['DNS', 0], ['DHCP', 0], ['réseaux', 0], ['VoIP', 0], ['services', 0], ['HP', 0], ['Python', 70], ['HTML', 50], ['CSS', 40], ['SQL', 40], ['Anglais', 60], ['Les nouvelles technologies', 0], [\"Montage d'ordinateurs\", 0], ['Jeux vidéo', 0], ['Les mangas', 0], ['Culture japonaise', 0]]\n"
     ]
    },
    {
     "name": "stderr",
     "output_type": "stream",
     "text": [
      " 40%|█████████████████████████████████████████████████████▎                                                                               | 349/871 [17:56<32:26,  3.73s/it]"
     ]
    },
    {
     "name": "stdout",
     "output_type": "stream",
     "text": [
      "[['Web Design', 0], ['Graphic Design', 0], ['Digital Art', 0], ['Drawing', 0], ['Animation', 0]]\n"
     ]
    },
    {
     "name": "stderr",
     "output_type": "stream",
     "text": [
      " 40%|█████████████████████████████████████████████████████▍                                                                               | 350/871 [17:59<31:31,  3.63s/it]"
     ]
    },
    {
     "name": "stdout",
     "output_type": "stream",
     "text": [
      "[['Web Design', 0], ['Graphic Design', 0], ['Digital Art', 0], ['Drawing', 0], ['Animation', 0]]\n"
     ]
    },
    {
     "name": "stderr",
     "output_type": "stream",
     "text": [
      " 40%|█████████████████████████████████████████████████████▌                                                                               | 351/871 [18:02<27:27,  3.17s/it]"
     ]
    },
    {
     "name": "stdout",
     "output_type": "stream",
     "text": [
      "[['PHOTOSHOP', 0], ['INDESIGN', 0], ['ILLUSTRATOR', 0], ['LIGHTROOM', 0]]\n"
     ]
    },
    {
     "name": "stderr",
     "output_type": "stream",
     "text": [
      " 40%|█████████████████████████████████████████████████████▋                                                                               | 352/871 [18:06<30:32,  3.53s/it]"
     ]
    },
    {
     "name": "stdout",
     "output_type": "stream",
     "text": [
      "[['Outlook', 0], ['Exchange', 0], ['Vmware', 0], ['logiciels de Help Desk', 0], ['Linux', 0], ['Active Directory', 0], ['DNS', 0], ['DHCP', 0], ['sérver WSUS', 0], ['VoIP', 0], ['email', 0], ['Python', 80], ['HTML', 70], ['CSS', 60], ['SQL', 70], ['Anglais', 80], ['Tennis', 0], ['Judo', 0], ['Basketball', 0], ['Nouvelles technologies', 0], ['Montage d’ordinateurs', 0], ['Jeux vidéo', 0], ['Culture japonaise', 0], ['mangas', 0]]\n"
     ]
    },
    {
     "name": "stderr",
     "output_type": "stream",
     "text": [
      " 41%|█████████████████████████████████████████████████████▉                                                                               | 353/871 [18:08<26:48,  3.11s/it]"
     ]
    },
    {
     "name": "stdout",
     "output_type": "stream",
     "text": [
      "[['PHOTOSHOP', 0], ['INDESIGN', 0], ['ILLUSTRATOR', 0], ['LIGHTROOM', 0]]\n"
     ]
    },
    {
     "name": "stderr",
     "output_type": "stream",
     "text": [
      " 41%|██████████████████████████████████████████████████████                                                                               | 354/871 [18:15<37:23,  4.34s/it]"
     ]
    },
    {
     "name": "stdout",
     "output_type": "stream",
     "text": [
      "invalid syntax (<unknown>, line 1)\n"
     ]
    },
    {
     "name": "stderr",
     "output_type": "stream",
     "text": [
      " 41%|██████████████████████████████████████████████████████▏                                                                              | 355/871 [18:17<31:33,  3.67s/it]"
     ]
    },
    {
     "name": "stdout",
     "output_type": "stream",
     "text": [
      "[]\n"
     ]
    },
    {
     "name": "stderr",
     "output_type": "stream",
     "text": [
      " 41%|██████████████████████████████████████████████████████▎                                                                              | 356/871 [18:19<24:58,  2.91s/it]"
     ]
    },
    {
     "name": "stdout",
     "output_type": "stream",
     "text": [
      "[]\n"
     ]
    },
    {
     "name": "stderr",
     "output_type": "stream",
     "text": [
      " 41%|██████████████████████████████████████████████████████▌                                                                              | 357/871 [18:24<31:28,  3.67s/it]"
     ]
    },
    {
     "name": "stdout",
     "output_type": "stream",
     "text": [
      "[['Brand Management', 0], ['Market Research', 0], ['Advertising', 0], ['Integrated Marketing', 0], ['Communication', 0], ['Agency Management', 0], ['Media Planning & Buying', 0], ['Sales Promotion', 0]]\n"
     ]
    },
    {
     "name": "stderr",
     "output_type": "stream",
     "text": [
      " 41%|██████████████████████████████████████████████████████▋                                                                              | 358/871 [18:28<33:13,  3.89s/it]"
     ]
    },
    {
     "name": "stdout",
     "output_type": "stream",
     "text": [
      "[['Brand Management', 0], ['Market Research', 0], ['Advertising', 0], ['Integrated Marketing', 0], ['Communication', 0], ['Agency Management', 0], ['Media Planning & Buying', 0], ['Sales Promotion', 0]]\n"
     ]
    },
    {
     "name": "stderr",
     "output_type": "stream",
     "text": [
      " 41%|██████████████████████████████████████████████████████▊                                                                              | 359/871 [18:31<31:02,  3.64s/it]"
     ]
    },
    {
     "name": "stdout",
     "output_type": "stream",
     "text": [
      "[['Ms word', 0], ['Ms powerpoint', 0], ['Ms excel', 0], ['Ms access', 0], ['Adobe Photoshop', 0], ['Adobe Indesign', 0], ['Adobe illustrator', 0], ['Adobe illustrator', 0]]\n"
     ]
    },
    {
     "name": "stderr",
     "output_type": "stream",
     "text": [
      " 41%|██████████████████████████████████████████████████████▉                                                                              | 360/871 [18:34<27:03,  3.18s/it]"
     ]
    },
    {
     "name": "stdout",
     "output_type": "stream",
     "text": [
      "[['Microsoft Office Word', 0], ['Microsoft Office Excel', 0], ['Microsoft Office Power Point', 0], ['Internet Browsing', 0], ['C++', 0], ['HTML', 0], ['JAVA Script', 0]]\n"
     ]
    },
    {
     "name": "stderr",
     "output_type": "stream",
     "text": [
      " 41%|███████████████████████████████████████████████████████                                                                              | 361/871 [18:36<25:08,  2.96s/it]"
     ]
    },
    {
     "name": "stdout",
     "output_type": "stream",
     "text": [
      "[['Ms word', 0], ['Ms powerpoint', 0], ['Ms excel', 0], ['Ms access', 0], ['Adobe Photoshop', 0], ['Adobe Indesign', 0], ['Adobe illustrator', 0], ['Adobe illustrator', 0]]\n"
     ]
    },
    {
     "name": "stderr",
     "output_type": "stream",
     "text": [
      " 42%|███████████████████████████████████████████████████████▎                                                                             | 362/871 [18:40<28:22,  3.34s/it]"
     ]
    },
    {
     "name": "stdout",
     "output_type": "stream",
     "text": [
      "[]\n"
     ]
    },
    {
     "name": "stderr",
     "output_type": "stream",
     "text": [
      " 42%|███████████████████████████████████████████████████████▍                                                                             | 363/871 [18:43<25:43,  3.04s/it]"
     ]
    },
    {
     "name": "stdout",
     "output_type": "stream",
     "text": [
      "[]\n"
     ]
    },
    {
     "name": "stderr",
     "output_type": "stream",
     "text": [
      " 42%|███████████████████████████████████████████████████████▌                                                                             | 364/871 [18:44<21:10,  2.51s/it]"
     ]
    },
    {
     "name": "stdout",
     "output_type": "stream",
     "text": [
      "[]\n"
     ]
    },
    {
     "name": "stderr",
     "output_type": "stream",
     "text": [
      " 42%|███████████████████████████████████████████████████████▋                                                                             | 365/871 [18:47<22:27,  2.66s/it]"
     ]
    },
    {
     "name": "stdout",
     "output_type": "stream",
     "text": [
      "[['Ms word', 0], ['Ms powerpoint', 0], ['Ms excel', 0], ['Ms access', 0], ['Adobe Photoshop', 0], ['Adobe Indesign', 0], ['Adobe illustrator', 0], ['Adobe illustrator', 0]]\n"
     ]
    },
    {
     "name": "stderr",
     "output_type": "stream",
     "text": [
      " 42%|███████████████████████████████████████████████████████▉                                                                             | 366/871 [18:50<22:43,  2.70s/it]"
     ]
    },
    {
     "name": "stdout",
     "output_type": "stream",
     "text": [
      "[['Best skill #1', 0], ['Skill #1', 0], ['Skill #2', 0]]\n"
     ]
    },
    {
     "name": "stderr",
     "output_type": "stream",
     "text": [
      " 42%|████████████████████████████████████████████████████████                                                                             | 367/871 [18:52<22:14,  2.65s/it]"
     ]
    },
    {
     "name": "stdout",
     "output_type": "stream",
     "text": [
      "[['Best skill #1', 0], ['Skill #2', 0], ['Skill #2', 0]]\n"
     ]
    },
    {
     "name": "stderr",
     "output_type": "stream",
     "text": [
      " 42%|████████████████████████████████████████████████████████▏                                                                            | 368/871 [18:54<20:50,  2.49s/it]"
     ]
    },
    {
     "name": "stdout",
     "output_type": "stream",
     "text": [
      "[['Photoshop', 0], ['Illustrator', 0], ['InDesign', 0], ['Dreamweaver', 0]]\n"
     ]
    },
    {
     "name": "stderr",
     "output_type": "stream",
     "text": [
      " 42%|████████████████████████████████████████████████████████▎                                                                            | 369/871 [18:56<19:21,  2.31s/it]"
     ]
    },
    {
     "name": "stdout",
     "output_type": "stream",
     "text": [
      "[['communication skills', 0], ['business skills', 0]]\n"
     ]
    },
    {
     "name": "stderr",
     "output_type": "stream",
     "text": [
      " 42%|████████████████████████████████████████████████████████▍                                                                            | 370/871 [18:58<18:48,  2.25s/it]"
     ]
    },
    {
     "name": "stdout",
     "output_type": "stream",
     "text": [
      "[['Photoshop', 0], ['Illustrator', 0], ['InDesign', 0], ['Dreamweaver', 0]]\n"
     ]
    },
    {
     "name": "stderr",
     "output_type": "stream",
     "text": [
      " 43%|████████████████████████████████████████████████████████▋                                                                            | 371/871 [19:02<23:01,  2.76s/it]"
     ]
    },
    {
     "name": "stdout",
     "output_type": "stream",
     "text": [
      "[]\n"
     ]
    },
    {
     "name": "stderr",
     "output_type": "stream",
     "text": [
      " 43%|████████████████████████████████████████████████████████▊                                                                            | 372/871 [19:06<24:36,  2.96s/it]"
     ]
    },
    {
     "name": "stdout",
     "output_type": "stream",
     "text": [
      "[['Microsoft Office Word', 0], ['Microsoft Office Excel', 0], ['Microsoft Office Power Point', 0], ['Internet Browsing', 0], ['C++', 0], ['HTML', 0], ['JAVAScript', 0]]\n"
     ]
    },
    {
     "name": "stderr",
     "output_type": "stream",
     "text": [
      " 43%|████████████████████████████████████████████████████████▉                                                                            | 373/871 [19:08<23:37,  2.85s/it]"
     ]
    },
    {
     "name": "stdout",
     "output_type": "stream",
     "text": [
      "[['Best skill #1', 0], ['Skill #2', 0], ['Skill #2', 0]]\n"
     ]
    },
    {
     "name": "stderr",
     "output_type": "stream",
     "text": [
      " 43%|█████████████████████████████████████████████████████████                                                                            | 374/871 [19:11<22:22,  2.70s/it]"
     ]
    },
    {
     "name": "stdout",
     "output_type": "stream",
     "text": [
      "[['Photoshop', 0], ['Illustrator', 0], ['InDesign', 0], ['Dreamweaver', 0]]\n"
     ]
    },
    {
     "name": "stderr",
     "output_type": "stream",
     "text": [
      " 43%|█████████████████████████████████████████████████████████▎                                                                           | 375/871 [19:12<19:08,  2.32s/it]"
     ]
    },
    {
     "name": "stdout",
     "output_type": "stream",
     "text": [
      "[]\n"
     ]
    },
    {
     "name": "stderr",
     "output_type": "stream",
     "text": [
      " 43%|█████████████████████████████████████████████████████████▍                                                                           | 376/871 [19:14<17:47,  2.16s/it]"
     ]
    },
    {
     "name": "stdout",
     "output_type": "stream",
     "text": [
      "[['Microsoft Office', 80], ['Google Analytics', 70], ['Reporting Skills', 60]]\n"
     ]
    },
    {
     "name": "stderr",
     "output_type": "stream",
     "text": [
      " 43%|█████████████████████████████████████████████████████████▌                                                                           | 377/871 [19:20<26:49,  3.26s/it]"
     ]
    },
    {
     "name": "stdout",
     "output_type": "stream",
     "text": [
      "[['Web Design', 80], ['Graphic Design', 100], ['Digital Art', 0], ['Drawing', 0], ['Animation', 40]]\n"
     ]
    },
    {
     "name": "stderr",
     "output_type": "stream",
     "text": [
      " 43%|█████████████████████████████████████████████████████████▋                                                                           | 378/871 [19:24<29:55,  3.64s/it]"
     ]
    },
    {
     "name": "stdout",
     "output_type": "stream",
     "text": [
      "[['Word Processing Programmes (CATS)', 0], ['Content Management Systems', 0], ['Ace Translator', 0], ['MemoQ', 0], ['Interpreting Information', 0], ['Conversion of technical concepts', 0], ['Grammar Structures', 0], ['Technical Terminologies', 0], ['SDL Trados', 0], ['Simultaneous Translation', 0], ['Linguistic continuities', 0], ['Proofreading', 0], ['Research', 0], ['English (Candian): Native Proficiency (ILR 5, CEFR C2+, ACTFL Distinguished)', 0]]\n"
     ]
    },
    {
     "name": "stderr",
     "output_type": "stream",
     "text": [
      " 44%|█████████████████████████████████████████████████████████▊                                                                           | 379/871 [19:26<25:03,  3.06s/it]"
     ]
    },
    {
     "name": "stdout",
     "output_type": "stream",
     "text": [
      "[]\n"
     ]
    },
    {
     "name": "stderr",
     "output_type": "stream",
     "text": [
      " 44%|██████████████████████████████████████████████████████████                                                                           | 380/871 [19:30<26:47,  3.27s/it]"
     ]
    },
    {
     "name": "stdout",
     "output_type": "stream",
     "text": [
      "[['Analytic and problem solving', 0], ['Risk Assessment', 0], ['Accident Investigation', 0], ['Hazard Analysis', 0], ['Process Safety', 0], ['Presentation', 0], ['Ms-Office Specialist (Word, Excel, PowerPoint)', 0]]\n"
     ]
    },
    {
     "name": "stderr",
     "output_type": "stream",
     "text": [
      " 44%|██████████████████████████████████████████████████████████▏                                                                          | 381/871 [19:35<30:59,  3.80s/it]"
     ]
    },
    {
     "name": "stdout",
     "output_type": "stream",
     "text": [
      "[['Word Processing Programmes (CATS)', 0], ['Content Management Systems', 0], ['Ace Translator', 0], ['MemoQ', 0], ['Interpreting Information', 0], ['Conversion of technical concepts', 0], ['Grammar Structures', 0], ['Technical Terminologies', 0], ['SDL Trados', 0], ['Simultaneous Translation', 0], ['Linguistic continuities', 0], ['Proofreading', 0], ['Research', 0], ['English (Candid): Native Proficiency (ILR 5, CEFR C2+, ACTFL Distinguished)', 0]]\n"
     ]
    },
    {
     "name": "stderr",
     "output_type": "stream",
     "text": [
      " 44%|██████████████████████████████████████████████████████████▎                                                                          | 382/871 [19:41<36:46,  4.51s/it]"
     ]
    },
    {
     "name": "stdout",
     "output_type": "stream",
     "text": [
      "[['Analytic and problem solving', 0], ['Risk Assessment', 0], ['Accident Investigation', 0], ['Hazard Analysis', 0], ['Process Safety', 0], ['Presentation', 0], ['Ms-Office Specialist (Word, Excel, PowerPoint)', 0]]\n"
     ]
    },
    {
     "name": "stderr",
     "output_type": "stream",
     "text": [
      " 44%|██████████████████████████████████████████████████████████▍                                                                          | 383/871 [19:44<32:23,  3.98s/it]"
     ]
    },
    {
     "name": "stdout",
     "output_type": "stream",
     "text": [
      "[['Web Design', 70], ['Graphic Design', 0], ['Digital Art', 0], ['Drawing', 0], ['Animation', 40]]\n"
     ]
    },
    {
     "name": "stderr",
     "output_type": "stream",
     "text": [
      " 44%|██████████████████████████████████████████████████████████▋                                                                          | 384/871 [19:52<41:56,  5.17s/it]"
     ]
    },
    {
     "name": "stdout",
     "output_type": "stream",
     "text": [
      "[['Word Processing Programmes (CATS)', 0], ['Content Management Systems', 0], ['Ace Translator', 0], ['MemoQ', 0], ['Interpreting Information', 0], ['Conversion of technical concepts', 0], ['Grammar Structures', 0], ['Technical Terminologies', 0], ['SDL Trados', 0], ['Simultaneous Translation', 0], ['Linguistic continuities', 0], ['Proofreading', 0], ['Research', 0], ['English (Candid): Native Proficiency (ILR 5, CEFR C2+, ACTFL Distinguished)', 0]]\n"
     ]
    },
    {
     "name": "stderr",
     "output_type": "stream",
     "text": [
      " 44%|██████████████████████████████████████████████████████████▊                                                                          | 385/871 [19:56<39:05,  4.83s/it]"
     ]
    },
    {
     "name": "stdout",
     "output_type": "stream",
     "text": [
      "[['Web Design', 70], ['Graphic Design', 0], ['Digital Art', 0], ['Drawing', 0], ['Animation', 60]]\n"
     ]
    },
    {
     "name": "stderr",
     "output_type": "stream",
     "text": [
      " 44%|██████████████████████████████████████████████████████████▉                                                                          | 386/871 [20:00<37:50,  4.68s/it]"
     ]
    },
    {
     "name": "stdout",
     "output_type": "stream",
     "text": [
      "[['Analytic and problem solving', 0], ['Risk Assessment', 0], ['Accident Investigation', 0], ['Hazard Analysis', 0], ['Process Safety', 0], ['Presentation', 0], ['Ms-Office Specialist (Word, Excel, PowerPoint)', 0]]\n"
     ]
    },
    {
     "name": "stderr",
     "output_type": "stream",
     "text": [
      " 44%|███████████████████████████████████████████████████████████                                                                          | 387/871 [20:01<29:10,  3.62s/it]"
     ]
    },
    {
     "name": "stdout",
     "output_type": "stream",
     "text": [
      "[]\n"
     ]
    },
    {
     "name": "stderr",
     "output_type": "stream",
     "text": [
      " 45%|███████████████████████████████████████████████████████████▏                                                                         | 388/871 [20:03<24:30,  3.05s/it]"
     ]
    },
    {
     "name": "stdout",
     "output_type": "stream",
     "text": [
      "[['Gestion de projet', 80], ['Communication', 90], ['Leadership', 70], ['Analyse', 60], ['Flexibilité', 75], ['Langues', 90], ['Info', 70]]\n"
     ]
    },
    {
     "name": "stderr",
     "output_type": "stream",
     "text": [
      " 45%|███████████████████████████████████████████████████████████▍                                                                         | 389/871 [20:05<22:14,  2.77s/it]"
     ]
    },
    {
     "name": "stdout",
     "output_type": "stream",
     "text": [
      "[['Compétences Professionnelle', 0], ['Compétences Personnelle', 0]]\n"
     ]
    },
    {
     "name": "stderr",
     "output_type": "stream",
     "text": [
      " 45%|███████████████████████████████████████████████████████████▌                                                                         | 390/871 [20:09<24:35,  3.07s/it]"
     ]
    },
    {
     "name": "stdout",
     "output_type": "stream",
     "text": [
      "[['Computer', 100], ['Creativity', 100], ['Evaluating', 100], ['Leadership', 100], ['Maintenance', 100], ['Motivation', 100], ['Planning', 100], ['Service', 100], ['Technology', 100]]\n"
     ]
    },
    {
     "name": "stderr",
     "output_type": "stream",
     "text": [
      " 45%|███████████████████████████████████████████████████████████▋                                                                         | 391/871 [20:10<20:45,  2.59s/it]"
     ]
    },
    {
     "name": "stdout",
     "output_type": "stream",
     "text": [
      "[['Compétences professionnelles', 0], ['Compétences personnelles', 0]]\n"
     ]
    },
    {
     "name": "stderr",
     "output_type": "stream",
     "text": [
      " 45%|███████████████████████████████████████████████████████████▊                                                                         | 392/871 [20:13<22:25,  2.81s/it]"
     ]
    },
    {
     "name": "stdout",
     "output_type": "stream",
     "text": [
      "[['Computer', 80], ['Creativity', 80], ['Evaluating', 80], ['Leadership', 80], ['Maintenance', 80], ['Motivation', 80], ['Planning', 80], ['Service', 80], ['Technology', 80]]\n"
     ]
    },
    {
     "name": "stderr",
     "output_type": "stream",
     "text": [
      " 45%|████████████████████████████████████████████████████████████                                                                         | 393/871 [20:17<24:30,  3.08s/it]"
     ]
    },
    {
     "name": "stdout",
     "output_type": "stream",
     "text": [
      "[['Computer', 100], ['Creativity', 100], ['Evaluating', 100], ['Leadership', 100], ['Maintenance', 100], ['Motivation', 100], ['Planning', 100], ['Service', 100], ['Technology', 100]]\n"
     ]
    },
    {
     "name": "stderr",
     "output_type": "stream",
     "text": [
      " 45%|████████████████████████████████████████████████████████████▏                                                                        | 394/871 [20:21<25:48,  3.25s/it]"
     ]
    },
    {
     "name": "stdout",
     "output_type": "stream",
     "text": [
      "[['Windows', 0], ['MS-Excel', 0], ['MS-Word', 0], ['MS-Powerpoint', 0], ['Tally', 0], ['Face', 0], ['Acer', 0], ['Exel', 0], ['Enrn', 0], ['Chirag', 0], ['Postal', 0], ['Assistant Secretary', 0], ['SAP FICO Module', 0], ['BJS', 0], ['Retail Management System', 0], ['E-Ads', 0], ['ROC software', 0], ['Listening Music', 0], ['Reading Books', 0]]\n"
     ]
    },
    {
     "name": "stderr",
     "output_type": "stream",
     "text": [
      " 45%|████████████████████████████████████████████████████████████▎                                                                        | 395/871 [20:25<27:53,  3.52s/it]"
     ]
    },
    {
     "name": "stdout",
     "output_type": "stream",
     "text": [
      "[['Computer skills', 0], ['Windows', 0], ['MS-Excel', 0], ['MS-Word', 0], ['MS-Powerpoint', 0], ['Tally', 0], ['Face', 0], ['Acer', 0], ['Exl', 0], ['Chinese', 0], ['Adobe', 0], ['SAP', 0], ['BI', 0], ['Retail Management System', 0], ['E-tds', 0], ['ROC software', 0], ['Listening Music', 0], ['Reading Books', 0], ['English', 0], ['Hindi', 0]]\n"
     ]
    },
    {
     "name": "stderr",
     "output_type": "stream",
     "text": [
      " 45%|████████████████████████████████████████████████████████████▍                                                                        | 396/871 [20:29<29:36,  3.74s/it]"
     ]
    },
    {
     "name": "stdout",
     "output_type": "stream",
     "text": [
      "[['Computer skills', 0], ['MS-Excel', 0], ['MS-Word', 0], ['MS-PowerPoint', 0], ['Tally', 0], ['Face', 0], ['Acer', 0], ['Exactly', 0], ['Exlgin', 0], ['Chennai', 0], ['Assistant Secretary', 0], ['SAP FICO', 0], ['BAS', 0], ['Retail Management System', 0], ['E-Tabs', 0], ['ROC software', 0]]\n"
     ]
    },
    {
     "name": "stderr",
     "output_type": "stream",
     "text": [
      " 46%|████████████████████████████████████████████████████████████▌                                                                        | 397/871 [20:31<24:06,  3.05s/it]"
     ]
    },
    {
     "name": "stdout",
     "output_type": "stream",
     "text": [
      "[['Professional', 0], ['Technical', 0], ['Soft', 0], ['Management', 0]]\n"
     ]
    },
    {
     "name": "stderr",
     "output_type": "stream",
     "text": [
      " 46%|████████████████████████████████████████████████████████████▊                                                                        | 398/871 [20:33<21:38,  2.74s/it]"
     ]
    },
    {
     "name": "stdout",
     "output_type": "stream",
     "text": [
      "[['Professional & technical skill', 0], ['Interpersonal & relational skill', 0], ['Organizational skill', 0], ['Leadership skill', 0]]\n"
     ]
    },
    {
     "name": "stderr",
     "output_type": "stream",
     "text": [
      " 46%|████████████████████████████████████████████████████████████▉                                                                        | 399/871 [20:35<21:23,  2.72s/it]"
     ]
    },
    {
     "name": "stdout",
     "output_type": "stream",
     "text": [
      "[['Photoshop', 85], ['Illustrator', 80], ['HTML', 75], ['CSS', 70], ['Creativity', 90], ['Teamwork', 75], ['Communication', 80], ['MS Excel', 60]]\n"
     ]
    },
    {
     "name": "stderr",
     "output_type": "stream",
     "text": [
      " 46%|█████████████████████████████████████████████████████████████                                                                        | 400/871 [20:38<21:20,  2.72s/it]"
     ]
    },
    {
     "name": "stdout",
     "output_type": "stream",
     "text": [
      "[['Creativity', 0], ['Order', 0], ['Design', 0], ['Responsibility', 0], ['Management', 0], ['Kindness', 0]]\n"
     ]
    },
    {
     "name": "stderr",
     "output_type": "stream",
     "text": [
      " 46%|█████████████████████████████████████████████████████████████▏                                                                       | 401/871 [20:40<19:48,  2.53s/it]"
     ]
    },
    {
     "name": "stdout",
     "output_type": "stream",
     "text": [
      "[['SKILL NUMBER 1', 0], ['SKILL NUMBER 2', 0]]\n"
     ]
    },
    {
     "name": "stderr",
     "output_type": "stream",
     "text": [
      " 46%|█████████████████████████████████████████████████████████████▍                                                                       | 402/871 [20:43<21:36,  2.76s/it]"
     ]
    },
    {
     "name": "stdout",
     "output_type": "stream",
     "text": [
      "[['simultaneous interpreting', 0], ['consecutive interpreting', 0], ['Spanish-English translation', 0], ['interpersonal communication skills', 0], ['written communication skills', 0], ['oral communication skills', 0], ['data analysis', 0], ['customer service', 0], ['legal research', 0]]\n"
     ]
    },
    {
     "name": "stderr",
     "output_type": "stream",
     "text": [
      " 46%|█████████████████████████████████████████████████████████████▌                                                                       | 403/871 [20:46<20:17,  2.60s/it]"
     ]
    },
    {
     "name": "stdout",
     "output_type": "stream",
     "text": [
      "[['SKILL NUMBER 1', 0], ['SKILL NUMBER 2', 0]]\n"
     ]
    },
    {
     "name": "stderr",
     "output_type": "stream",
     "text": [
      " 46%|█████████████████████████████████████████████████████████████▋                                                                       | 404/871 [20:48<19:00,  2.44s/it]"
     ]
    },
    {
     "name": "stdout",
     "output_type": "stream",
     "text": [
      "invalid character '“' (U+201C) (<unknown>, line 1)\n"
     ]
    },
    {
     "name": "stderr",
     "output_type": "stream",
     "text": [
      " 46%|█████████████████████████████████████████████████████████████▊                                                                       | 405/871 [20:51<20:22,  2.62s/it]"
     ]
    },
    {
     "name": "stdout",
     "output_type": "stream",
     "text": [
      "[['Adobe Illustrator', 60], ['Adobe Photoshop', 86], ['Adobe Indesign', 60], ['Corel-Draw', 58]]\n"
     ]
    },
    {
     "name": "stderr",
     "output_type": "stream",
     "text": [
      " 47%|█████████████████████████████████████████████████████████████▉                                                                       | 406/871 [20:54<21:18,  2.75s/it]"
     ]
    },
    {
     "name": "stdout",
     "output_type": "stream",
     "text": [
      "[['Adobe Illustrator', 60], ['Adobe Photoshop', 86], ['Adobe Indesign', 60], ['Corel-Draw', 58]]\n"
     ]
    },
    {
     "name": "stderr",
     "output_type": "stream",
     "text": [
      " 47%|██████████████████████████████████████████████████████████████▏                                                                      | 407/871 [20:56<20:31,  2.65s/it]"
     ]
    },
    {
     "name": "stdout",
     "output_type": "stream",
     "text": [
      "[['simultaneous interpreting', 0], ['consecutive interpreting', 0], ['interpersonal communication', 0], ['written communication', 0], ['oral communication', 0], ['Spanish-English translation', 0], ['English-Spanish translation', 0], ['problem resolution', 0], ['data analysis', 0], ['customer service', 0]]\n"
     ]
    },
    {
     "name": "stderr",
     "output_type": "stream",
     "text": [
      " 47%|██████████████████████████████████████████████████████████████▎                                                                      | 408/871 [20:59<19:59,  2.59s/it]"
     ]
    },
    {
     "name": "stdout",
     "output_type": "stream",
     "text": [
      "[['SKILL NUMBER 1', 0], ['SKILL NUMBER 2', 0]]\n"
     ]
    },
    {
     "name": "stderr",
     "output_type": "stream",
     "text": [
      " 47%|██████████████████████████████████████████████████████████████▍                                                                      | 409/871 [21:01<19:44,  2.56s/it]"
     ]
    },
    {
     "name": "stdout",
     "output_type": "stream",
     "text": [
      "[['Creativity', 0], ['Order', 0], ['Design', 0], ['Responsibility', 0], ['Management', 0], ['Kindness', 0]]\n"
     ]
    },
    {
     "name": "stderr",
     "output_type": "stream",
     "text": [
      " 47%|██████████████████████████████████████████████████████████████▌                                                                      | 410/871 [21:04<20:12,  2.63s/it]"
     ]
    },
    {
     "name": "stdout",
     "output_type": "stream",
     "text": [
      "[['Adobe Illustrator', 60], ['Adobe Photoshop', 86], ['Adobe Indesign', 60], ['Corel-Draw', 58]]\n"
     ]
    },
    {
     "name": "stderr",
     "output_type": "stream",
     "text": [
      " 47%|██████████████████████████████████████████████████████████████▊                                                                      | 411/871 [21:06<19:05,  2.49s/it]"
     ]
    },
    {
     "name": "stdout",
     "output_type": "stream",
     "text": [
      "[['simultaneous interpreting', 0], ['consecutive interpreting', 0], ['Spanish', 0], ['English', 0], ['interpersonal communication', 0], ['written communication', 0], ['oral communication', 0], ['data analysis', 0], ['customer service', 0]]\n"
     ]
    },
    {
     "name": "stderr",
     "output_type": "stream",
     "text": [
      " 47%|██████████████████████████████████████████████████████████████▉                                                                      | 412/871 [21:09<19:42,  2.58s/it]"
     ]
    },
    {
     "name": "stdout",
     "output_type": "stream",
     "text": [
      "[['PHOTOSHOP', 0], ['ILLUSTRATOR', 0], ['INDESIGN', 0], ['WORD', 0]]\n"
     ]
    },
    {
     "name": "stderr",
     "output_type": "stream",
     "text": [
      " 47%|███████████████████████████████████████████████████████████████                                                                      | 413/871 [21:14<24:25,  3.20s/it]"
     ]
    },
    {
     "name": "stdout",
     "output_type": "stream",
     "text": [
      "[['Windows 7', 0], ['Windows 8', 0], ['Windows Server', 0], ['Adobe Photoshop', 0], ['Autocad 3D', 0], ['English', 0], ['French', 0], ['Spanish', 0], ['Class 5 driving license', 0]]\n"
     ]
    },
    {
     "name": "stderr",
     "output_type": "stream",
     "text": [
      " 48%|███████████████████████████████████████████████████████████████▏                                                                     | 414/871 [21:15<21:09,  2.78s/it]"
     ]
    },
    {
     "name": "stdout",
     "output_type": "stream",
     "text": [
      "[['PHOTOSHOP', 0], ['ILLUSTRATOR', 0], ['INDESIGN', 0], ['WORD', 0]]\n"
     ]
    },
    {
     "name": "stderr",
     "output_type": "stream",
     "text": [
      " 48%|███████████████████████████████████████████████████████████████▎                                                                     | 415/871 [21:19<22:40,  2.98s/it]"
     ]
    },
    {
     "name": "stdout",
     "output_type": "stream",
     "text": [
      "[['Windows 7', 0], ['Windows 8', 0], ['Windows Server', 0], ['Adobe Photoshop', 0], ['Autocad 3D', 0], ['English', 0], ['French', 0], ['Spanish', 0], ['Class 5 driving license', 0]]\n"
     ]
    },
    {
     "name": "stderr",
     "output_type": "stream",
     "text": [
      " 48%|███████████████████████████████████████████████████████████████▌                                                                     | 416/871 [21:23<24:48,  3.27s/it]"
     ]
    },
    {
     "name": "stdout",
     "output_type": "stream",
     "text": [
      "[['Windows 7', 0], ['Windows 8', 0], ['Windows Server', 0], ['Adobe Photoshop', 0], ['Autocad 3D', 0], ['English', 0], ['French', 0], ['Spanish', 0], ['Class 5 driving license', 0]]\n"
     ]
    },
    {
     "name": "stderr",
     "output_type": "stream",
     "text": [
      " 48%|███████████████████████████████████████████████████████████████▋                                                                     | 417/871 [21:26<25:03,  3.31s/it]"
     ]
    },
    {
     "name": "stdout",
     "output_type": "stream",
     "text": [
      "[['Windows 7', 0], ['Windows 8', 0], ['Windows Server', 0], ['Adobe Photoshop', 0], ['Autocad 3D', 0], ['English', 0], ['French', 0], ['Spanish', 0], ['Class 5 driving license', 0]]\n"
     ]
    },
    {
     "name": "stderr",
     "output_type": "stream",
     "text": [
      " 48%|███████████████████████████████████████████████████████████████▊                                                                     | 418/871 [21:28<20:56,  2.77s/it]"
     ]
    },
    {
     "name": "stdout",
     "output_type": "stream",
     "text": [
      "[]\n"
     ]
    },
    {
     "name": "stderr",
     "output_type": "stream",
     "text": [
      " 48%|███████████████████████████████████████████████████████████████▉                                                                     | 419/871 [21:31<22:18,  2.96s/it]"
     ]
    },
    {
     "name": "stdout",
     "output_type": "stream",
     "text": [
      "[['Windows 7, 0'], ['Windows Server, 0'], ['Adobe Photoshop, 0'], ['Autocad 3D, 0'], ['English, 0'], ['French, 0'], ['Spanish, 0'], ['Class 5 driving license, 0']]\n"
     ]
    },
    {
     "name": "stderr",
     "output_type": "stream",
     "text": [
      " 48%|████████████████████████████████████████████████████████████████▏                                                                    | 420/871 [21:35<23:56,  3.18s/it]"
     ]
    },
    {
     "name": "stdout",
     "output_type": "stream",
     "text": [
      "[['Windows 7', 0], ['Windows 8', 0], ['Windows Server', 0], ['Adobe Photoshop', 0], ['Autocad 3D', 0], ['English', 0], ['French', 0], ['Spanish', 0], ['Class 5 driving license', 0]]\n"
     ]
    },
    {
     "name": "stderr",
     "output_type": "stream",
     "text": [
      " 48%|████████████████████████████████████████████████████████████████▎                                                                    | 421/871 [21:37<21:19,  2.84s/it]"
     ]
    },
    {
     "name": "stdout",
     "output_type": "stream",
     "text": [
      "[['PHOTOSHOP', 0], ['ILLUSTRATOR', 0], ['INDESIGN', 0], ['WORD', 0]]\n"
     ]
    },
    {
     "name": "stderr",
     "output_type": "stream",
     "text": [
      " 48%|████████████████████████████████████████████████████████████████▍                                                                    | 422/871 [21:39<20:50,  2.78s/it]"
     ]
    },
    {
     "name": "stdout",
     "output_type": "stream",
     "text": [
      "[['Business Process Improvement', 0], ['Vendor Management', 0], ['Strategic Planning', 0], ['Communication Skills', 0]]\n"
     ]
    },
    {
     "name": "stderr",
     "output_type": "stream",
     "text": [
      " 49%|████████████████████████████████████████████████████████████████▌                                                                    | 423/871 [21:43<21:27,  2.87s/it]"
     ]
    },
    {
     "name": "stdout",
     "output_type": "stream",
     "text": [
      "[['Business Process Improvement', 0], ['Vendor Management', 0], ['Strategic Planning', 0], ['Communication Skills', 0]]\n"
     ]
    },
    {
     "name": "stderr",
     "output_type": "stream",
     "text": [
      " 49%|████████████████████████████████████████████████████████████████▋                                                                    | 424/871 [21:45<19:24,  2.61s/it]"
     ]
    },
    {
     "name": "stdout",
     "output_type": "stream",
     "text": [
      "[['Business Process Improvement', 0], ['Vendor Management', 0], ['Strategic Planning', 0], ['Communication Skills', 0]]\n"
     ]
    },
    {
     "name": "stderr",
     "output_type": "stream",
     "text": [
      " 49%|████████████████████████████████████████████████████████████████▉                                                                    | 425/871 [21:51<27:54,  3.76s/it]"
     ]
    },
    {
     "name": "stdout",
     "output_type": "stream",
     "text": [
      "[['Digital Illustration', 0], ['Traditional Illustration', 0], ['Photography', 0]]\n"
     ]
    },
    {
     "name": "stderr",
     "output_type": "stream",
     "text": [
      " 49%|█████████████████████████████████████████████████████████████████                                                                    | 426/871 [21:54<25:16,  3.41s/it]"
     ]
    },
    {
     "name": "stdout",
     "output_type": "stream",
     "text": [
      "[['Microsoft Office', 0], ['Programming', 0], ['Word', 0], ['Excel', 0], ['PowerPoint', 0], ['HTML5', 0], ['CSS3', 0]]\n"
     ]
    },
    {
     "name": "stderr",
     "output_type": "stream",
     "text": [
      " 49%|█████████████████████████████████████████████████████████████████▏                                                                   | 427/871 [21:57<24:49,  3.35s/it]"
     ]
    },
    {
     "name": "stdout",
     "output_type": "stream",
     "text": [
      "[['Adobe Photoshop', 0], ['Adobe Illustrator', 0], ['Web Design', 0]]\n"
     ]
    },
    {
     "name": "stderr",
     "output_type": "stream",
     "text": [
      " 49%|█████████████████████████████████████████████████████████████████▎                                                                   | 428/871 [22:00<23:51,  3.23s/it]"
     ]
    },
    {
     "name": "stdout",
     "output_type": "stream",
     "text": [
      "[['Microsoft Office', 0], ['Programming', 0], ['Word', 0], ['Excel', 0], ['PowerPoint', 0], ['HTML5', 0], ['CSS3', 0]]\n"
     ]
    },
    {
     "name": "stderr",
     "output_type": "stream",
     "text": [
      " 49%|█████████████████████████████████████████████████████████████████▌                                                                   | 429/871 [22:09<36:53,  5.01s/it]"
     ]
    },
    {
     "name": "stdout",
     "output_type": "stream",
     "text": [
      "[['AutoCAD 2014', 0], ['HAP V4.5', 0], ['McQuay Duct Sizer', 0], ['MS Word 2010', 0], ['MS Excel 2010', 0], ['Outlook 2010', 0]]\n"
     ]
    },
    {
     "name": "stderr",
     "output_type": "stream",
     "text": [
      " 49%|█████████████████████████████████████████████████████████████████▋                                                                   | 430/871 [22:12<32:43,  4.45s/it]"
     ]
    },
    {
     "name": "stdout",
     "output_type": "stream",
     "text": [
      "[['Gestion de projet', 0], [\"Management d'équipe\", 0], ['Gestion du temps', 0], ['Xxxxx', 0], ['Xxxxx', 0], ['Anglais', 0], ['Espagnol', 0], ['Logistiques maîtrisées', 0], ['Excel', 0], ['PowerPoint', 0], ['Word', 0], ['Photoshop', 0], ['Connaissances en', 0]]\n"
     ]
    },
    {
     "name": "stderr",
     "output_type": "stream",
     "text": [
      " 49%|█████████████████████████████████████████████████████████████████▊                                                                   | 431/871 [22:15<28:17,  3.86s/it]"
     ]
    },
    {
     "name": "stdout",
     "output_type": "stream",
     "text": [
      "[['Adobe Photoshop', 0], ['Adobe Illustrator', 0], ['Web Design', 0]]\n"
     ]
    },
    {
     "name": "stderr",
     "output_type": "stream",
     "text": [
      " 50%|█████████████████████████████████████████████████████████████████▉                                                                   | 432/871 [22:18<26:56,  3.68s/it]"
     ]
    },
    {
     "name": "stdout",
     "output_type": "stream",
     "text": [
      "[['Gestion de projet', 0], [\"Management d'équipe\", 0], ['Gestion du temps', 0], ['Xxxx', 0], ['Xxxx', 0], ['Anglais', 0], ['Espagnol', 0], ['Xxxxx', 0], ['Excel', 0], ['PowerPoint', 0], ['Word', 0], ['Photoshop', 0], ['Compatibilité et Design', 0]]\n"
     ]
    },
    {
     "name": "stderr",
     "output_type": "stream",
     "text": [
      " 50%|██████████████████████████████████████████████████████████████████                                                                   | 433/871 [22:21<26:42,  3.66s/it]"
     ]
    },
    {
     "name": "stdout",
     "output_type": "stream",
     "text": [
      "[['AutoCAD 2014+', 100], ['HAP V4.5+', 100], ['McQuay Duct Sizer', 0], ['MS Word 2010+', 100], ['MS Excel 2010+', 100], ['Outlook 2010+', 100]]\n"
     ]
    },
    {
     "name": "stderr",
     "output_type": "stream",
     "text": [
      " 50%|██████████████████████████████████████████████████████████████████▎                                                                  | 434/871 [22:24<24:32,  3.37s/it]"
     ]
    },
    {
     "name": "stdout",
     "output_type": "stream",
     "text": [
      "[['Gestion de projet', 0], [\"Management d'équipe\", 0], ['Gestion du temps', 0], ['Anglais', 0], ['Espagnol', 0], ['Excel', 0], ['PowerPoint', 0], ['Word', 0], ['Photoshop', 0], ['Compatibilité et Design', 0]]\n"
     ]
    },
    {
     "name": "stderr",
     "output_type": "stream",
     "text": [
      " 50%|██████████████████████████████████████████████████████████████████▍                                                                  | 435/871 [22:26<22:13,  3.06s/it]"
     ]
    },
    {
     "name": "stdout",
     "output_type": "stream",
     "text": [
      "[['Digital Illustration', 0], ['Traditional Illustration', 0], ['Photography', 0]]\n"
     ]
    },
    {
     "name": "stderr",
     "output_type": "stream",
     "text": [
      " 50%|██████████████████████████████████████████████████████████████████▌                                                                  | 436/871 [22:30<23:59,  3.31s/it]"
     ]
    },
    {
     "name": "stdout",
     "output_type": "stream",
     "text": [
      "[['Adobe Photoshop', 0], ['Adobe Illustrator', 0], ['Web Design', 0]]\n"
     ]
    },
    {
     "name": "stderr",
     "output_type": "stream",
     "text": [
      " 50%|██████████████████████████████████████████████████████████████████▋                                                                  | 437/871 [22:33<21:48,  3.01s/it]"
     ]
    },
    {
     "name": "stdout",
     "output_type": "stream",
     "text": [
      "[['Microsoft Office', 0], ['Programming', 0]]\n"
     ]
    },
    {
     "name": "stderr",
     "output_type": "stream",
     "text": [
      " 50%|██████████████████████████████████████████████████████████████████▉                                                                  | 438/871 [22:36<21:37,  3.00s/it]"
     ]
    },
    {
     "name": "stdout",
     "output_type": "stream",
     "text": [
      "[['AutoCAD 2014+', 100], ['HAP V4.5+', 100], ['McQuay Duct Sizer', 0], ['MS Word 2010+', 100], ['MS Excel 2010+', 100], ['Outlook 2010+', 100]]\n"
     ]
    },
    {
     "name": "stderr",
     "output_type": "stream",
     "text": [
      " 50%|███████████████████████████████████████████████████████████████████                                                                  | 439/871 [22:37<17:55,  2.49s/it]"
     ]
    },
    {
     "name": "stdout",
     "output_type": "stream",
     "text": [
      "[]\n"
     ]
    },
    {
     "name": "stderr",
     "output_type": "stream",
     "text": [
      " 51%|███████████████████████████████████████████████████████████████████▏                                                                 | 440/871 [22:41<20:19,  2.83s/it]"
     ]
    },
    {
     "name": "stdout",
     "output_type": "stream",
     "text": [
      "[['Executive team leadership', 0], ['Multi-million pound P&L management expertise for South East Region', 0], ['Client/vendor relations', 0], ['Marketing/product line development', 0], ['Staff/training policy development', 0], ['Process improvement', 0]]\n"
     ]
    },
    {
     "name": "stderr",
     "output_type": "stream",
     "text": [
      " 51%|███████████████████████████████████████████████████████████████████▎                                                                 | 441/871 [22:43<18:44,  2.62s/it]"
     ]
    },
    {
     "name": "stdout",
     "output_type": "stream",
     "text": [
      "[]\n"
     ]
    },
    {
     "name": "stderr",
     "output_type": "stream",
     "text": [
      " 51%|███████████████████████████████████████████████████████████████████▍                                                                 | 442/871 [22:45<17:18,  2.42s/it]"
     ]
    },
    {
     "name": "stdout",
     "output_type": "stream",
     "text": [
      "[]\n"
     ]
    },
    {
     "name": "stderr",
     "output_type": "stream",
     "text": [
      " 51%|███████████████████████████████████████████████████████████████████▋                                                                 | 443/871 [22:48<19:31,  2.74s/it]"
     ]
    },
    {
     "name": "stdout",
     "output_type": "stream",
     "text": [
      "[['Executive team leadership', 0], ['Multi-million pound P&L management expertise for South East Region', 0], ['Client/vendor relations', 0], ['Marketing/product line development', 0], ['Staff/training policy development', 0], ['Process improvement', 0]]\n"
     ]
    },
    {
     "name": "stderr",
     "output_type": "stream",
     "text": [
      " 51%|███████████████████████████████████████████████████████████████████▊                                                                 | 444/871 [22:51<20:03,  2.82s/it]"
     ]
    },
    {
     "name": "stdout",
     "output_type": "stream",
     "text": [
      "[['#SKILL 1', 90], ['#SKILL 2', 80], ['#SKILL 3', 70], ['#SKILL 4', 60], ['#SKILL 5', 50], ['#SKILL 6', 40], ['#SKILL 7', 0], ['#SKILL 8', 0], ['#SKILL 9', 0], ['#SKILL 10', 0]]\n"
     ]
    },
    {
     "name": "stderr",
     "output_type": "stream",
     "text": [
      " 51%|███████████████████████████████████████████████████████████████████▉                                                                 | 445/871 [22:55<21:19,  3.00s/it]"
     ]
    },
    {
     "name": "stdout",
     "output_type": "stream",
     "text": [
      "[['Executive team leadership', 0], ['Multi-million pound P&L management expertise for South East Region', 0], ['Client/vendor relations', 0], ['Marketing/product line development', 0], ['Staff/training policy development', 0], ['Process improvement', 0]]\n"
     ]
    },
    {
     "name": "stderr",
     "output_type": "stream",
     "text": [
      " 51%|████████████████████████████████████████████████████████████████████                                                                 | 446/871 [22:56<18:28,  2.61s/it]"
     ]
    },
    {
     "name": "stdout",
     "output_type": "stream",
     "text": [
      "[]\n"
     ]
    },
    {
     "name": "stderr",
     "output_type": "stream",
     "text": [
      " 51%|████████████████████████████████████████████████████████████████████▎                                                                | 447/871 [22:58<17:05,  2.42s/it]"
     ]
    },
    {
     "name": "stdout",
     "output_type": "stream",
     "text": [
      "[]\n"
     ]
    },
    {
     "name": "stderr",
     "output_type": "stream",
     "text": [
      " 51%|████████████████████████████████████████████████████████████████████▍                                                                | 448/871 [23:00<16:43,  2.37s/it]"
     ]
    },
    {
     "name": "stdout",
     "output_type": "stream",
     "text": [
      "[]\n"
     ]
    },
    {
     "name": "stderr",
     "output_type": "stream",
     "text": [
      " 52%|████████████████████████████████████████████████████████████████████▌                                                                | 449/871 [23:03<17:45,  2.53s/it]"
     ]
    },
    {
     "name": "stdout",
     "output_type": "stream",
     "text": [
      "[]\n"
     ]
    },
    {
     "name": "stderr",
     "output_type": "stream",
     "text": [
      " 52%|████████████████████████████████████████████████████████████████████▋                                                                | 450/871 [23:05<16:45,  2.39s/it]"
     ]
    },
    {
     "name": "stdout",
     "output_type": "stream",
     "text": [
      "[]\n"
     ]
    },
    {
     "name": "stderr",
     "output_type": "stream",
     "text": [
      " 52%|████████████████████████████████████████████████████████████████████▊                                                                | 451/871 [23:08<16:34,  2.37s/it]"
     ]
    },
    {
     "name": "stdout",
     "output_type": "stream",
     "text": [
      "[]\n"
     ]
    },
    {
     "name": "stderr",
     "output_type": "stream",
     "text": [
      " 52%|█████████████████████████████████████████████████████████████████████                                                                | 452/871 [23:10<16:12,  2.32s/it]"
     ]
    },
    {
     "name": "stdout",
     "output_type": "stream",
     "text": [
      "[]\n"
     ]
    },
    {
     "name": "stderr",
     "output_type": "stream",
     "text": [
      " 52%|█████████████████████████████████████████████████████████████████████▏                                                               | 453/871 [23:13<18:18,  2.63s/it]"
     ]
    },
    {
     "name": "stdout",
     "output_type": "stream",
     "text": [
      "[['JavaScript/jQuery', 0], ['CSS/LESS/SASS', 0], ['CMS Wordpress & Drupal', 0], ['PHP (5-7, 2)', 0]]\n"
     ]
    },
    {
     "name": "stderr",
     "output_type": "stream",
     "text": [
      " 52%|█████████████████████████████████████████████████████████████████████▎                                                               | 454/871 [23:17<21:13,  3.05s/it]"
     ]
    },
    {
     "name": "stdout",
     "output_type": "stream",
     "text": [
      "[['JavaScript/jQuery', 0], ['CSS/LESS/SASS', 0], ['CMS Wordpress & Drupal', 0], ['PHP (5-6, 7-2)', 0]]\n"
     ]
    },
    {
     "name": "stderr",
     "output_type": "stream",
     "text": [
      " 52%|█████████████████████████████████████████████████████████████████████▍                                                               | 455/871 [23:20<21:18,  3.07s/it]"
     ]
    },
    {
     "name": "stdout",
     "output_type": "stream",
     "text": [
      "[['JavaScript/jQuery', 0], ['CSS/LESS/SASS', 0], ['CMS Wordpress & Drupal', 0], ['PHP 5.6-7.2/SQL', 0]]\n"
     ]
    },
    {
     "name": "stderr",
     "output_type": "stream",
     "text": [
      " 52%|█████████████████████████████████████████████████████████████████████▋                                                               | 456/871 [23:24<21:38,  3.13s/it]"
     ]
    },
    {
     "name": "stdout",
     "output_type": "stream",
     "text": [
      "[['Microsoft Word', 0], ['Microsoft Excel', 0], ['Microsoft PowerPoint', 0], ['Project Management', 0], ['HubSpot', 0], ['Smartsheet', 0], ['Email marketing', 0], ['Asana', 0], ['Java', 0]]\n"
     ]
    },
    {
     "name": "stderr",
     "output_type": "stream",
     "text": [
      " 52%|█████████████████████████████████████████████████████████████████████▊                                                               | 457/871 [23:28<23:25,  3.39s/it]"
     ]
    },
    {
     "name": "stdout",
     "output_type": "stream",
     "text": [
      "[['Strategic Fomentation', 0], ['Attention to Detail', 0], ['Customer Focus', 0], ['Verbal Communication', 0], ['Executive Presentation', 0], ['Collaboration', 0], ['Sales and Pricing Strategy', 0], ['SEO Writing', 0]]\n"
     ]
    },
    {
     "name": "stderr",
     "output_type": "stream",
     "text": [
      " 53%|█████████████████████████████████████████████████████████████████████▉                                                               | 458/871 [23:31<22:49,  3.32s/it]"
     ]
    },
    {
     "name": "stdout",
     "output_type": "stream",
     "text": [
      "[['Strategic Fomentation', 0], ['Attention to Detail', 0], ['Customer Focus', 0], ['Verbal Communication', 0], ['Executive Presentation', 0], ['Collaboration', 0], ['Sales and Pricing Strategy', 0], ['SEO Writing', 0]]\n"
     ]
    },
    {
     "name": "stderr",
     "output_type": "stream",
     "text": [
      " 53%|██████████████████████████████████████████████████████████████████████                                                               | 459/871 [23:34<23:12,  3.38s/it]"
     ]
    },
    {
     "name": "stdout",
     "output_type": "stream",
     "text": [
      "[['Strategic Fomentation', 0], ['Attention to Detail', 0], ['Customer Focus', 0], ['Verbal Communication', 0], ['Executive Presentation', 0], ['Collaboration', 0], ['Sales and Pricing Strategy', 0], ['SEO Writing', 0]]\n"
     ]
    },
    {
     "name": "stderr",
     "output_type": "stream",
     "text": [
      " 53%|██████████████████████████████████████████████████████████████████████▏                                                              | 460/871 [23:39<24:46,  3.62s/it]"
     ]
    },
    {
     "name": "stdout",
     "output_type": "stream",
     "text": [
      "[['Mac OS X', 0], ['Microsoft Windows', 0], ['Proficient in Adobe CS', 0], ['Photoshop', 0], ['Illustrator', 0], ['PowerPoint', 0], ['QuarkXPress', 0], ['Microsoft Word', 0], ['Intermediate in Adobe CS Dreamweaver', 0], ['HTML', 0], ['Microsoft Excel', 0], ['Digital photography', 0], ['Light exposure and development', 0], ['Lighting for studio setting', 0]]\n"
     ]
    },
    {
     "name": "stderr",
     "output_type": "stream",
     "text": [
      " 53%|██████████████████████████████████████████████████████████████████████▍                                                              | 461/871 [23:42<24:48,  3.63s/it]"
     ]
    },
    {
     "name": "stdout",
     "output_type": "stream",
     "text": [
      "[['Strategic Fomentation', 0], ['Attention to Detail', 0], ['Customer Focus', 0], ['Verbal Communication', 0], ['Executive Presentation', 0], ['Collaboration', 0], ['Sales and Pricing Strategy', 0], ['SEO Writing', 0]]\n"
     ]
    },
    {
     "name": "stderr",
     "output_type": "stream",
     "text": [
      " 53%|██████████████████████████████████████████████████████████████████████▌                                                              | 462/871 [23:46<24:15,  3.56s/it]"
     ]
    },
    {
     "name": "stdout",
     "output_type": "stream",
     "text": [
      "[['Mac OS X', 0], ['Microsoft Windows Platforms', 0], ['Proficient in Adobe CS', 0], ['Photoshop', 0], ['Illustrator', 0], ['PowerPoint', 0], ['QuarkXPress', 0], ['Microsoft Word', 0], ['Intermediate in Adobe CS Dreamweaver', 0], ['HTML', 0], ['Microsoft Excel', 0], ['Digital photography', 0], ['Black and white film exposure', 0], ['Development lighting for studio setting', 0]]\n"
     ]
    },
    {
     "name": "stderr",
     "output_type": "stream",
     "text": [
      " 53%|██████████████████████████████████████████████████████████████████████▋                                                              | 463/871 [23:49<24:09,  3.55s/it]"
     ]
    },
    {
     "name": "stdout",
     "output_type": "stream",
     "text": [
      "[['Mac OS X', 0], ['Microsoft Windows Platforms', 0], ['Proficient in Adobe CS', 0], ['Photoshop', 0], ['Illustrator', 0], ['InDesign', 0], ['Basic HTML', 0], ['Intermediate in Adobe CS5 Dreamweaver', 0], ['PowerPoint', 0], ['QuarkXPress', 0], ['Microsoft Word', 0]]\n"
     ]
    },
    {
     "name": "stderr",
     "output_type": "stream",
     "text": [
      " 53%|██████████████████████████████████████████████████████████████████████▊                                                              | 464/871 [23:54<27:42,  4.08s/it]"
     ]
    },
    {
     "name": "stdout",
     "output_type": "stream",
     "text": [
      "invalid syntax (<unknown>, line 1)\n"
     ]
    },
    {
     "name": "stderr",
     "output_type": "stream",
     "text": [
      " 53%|███████████████████████████████████████████████████████████████████████                                                              | 465/871 [24:01<32:21,  4.78s/it]"
     ]
    },
    {
     "name": "stdout",
     "output_type": "stream",
     "text": [
      "[['Thought Leadership', 0], ['Analysis & Presentation', 0], ['Product Management', 0], ['IT Strategies and Delivery', 0], ['Brand Management', 0], ['Quality Assurance', 0], ['Customer Retention', 0], ['Marketing Plan/Execution', 0], ['Canadian GAAP/ASPE/IFRS', 0], ['AccPacc & Great Plains', 0], ['Project Management & Risk Analysis', 0], ['Team Leadership/Negotiation', 0], ['Software Literate', 0], ['Proficient Public Speaker', 0], ['Planning & Executive', 0], ['Financial Staff Supervision', 0], ['Process Review/Implementation', 0], ['Resource Planning', 0], ['Management Reporting Packages', 0], ['ERP systems J.D. Edwards', 0], ['Customer Service Excellence', 0], ['Cross-Cultural Communication', 0], ['Network/Relationship Building', 0], ['Planning & Team Management', 0], ['Analytical Decision Maker', 0], ['Database Management', 0], ['Growth Strategies', 0], ['Needs Analysis', 0], ['Key Client Management', 0], ['Mergers & Acquisitions', 0]]\n"
     ]
    },
    {
     "name": "stderr",
     "output_type": "stream",
     "text": [
      " 54%|███████████████████████████████████████████████████████████████████████▏                                                             | 466/871 [24:06<32:38,  4.84s/it]"
     ]
    },
    {
     "name": "stdout",
     "output_type": "stream",
     "text": [
      "[['Thought Leadership', 0], ['Analysis & Presentation', 0], ['Product Management', 0], ['IT Strategies and Delivery', 0], ['Brand Management', 0], ['Quality Assurance', 0], ['Customer Retention', 0], ['Marketing Plan/Execution', 0], ['Canadian GAAP/ASPE/IFRS', 0], ['AccPac& Great Plains', 0], ['Project Management & Risk Analysis', 0], ['Team Leadership/Negotiation', 0], ['Software Literate', 0], ['Proficient Public Speaker', 0], ['Planning & Executive', 0], ['Financial Staff Supervision', 0], ['Process Reengineering', 0], ['Resource Planning', 0], ['Management Reporting Packages', 0], ['ERP systems JD Edward', 0], ['Customer Service Excellence', 0], ['Cross-Cultural Communication', 0], ['Network/Relationship Building', 0], ['Planning & Team Management', 0], ['Analytical Decision Maker', 0], ['Database Management', 0], ['Growth Solutions', 0], ['Needs Analysis', 0], ['Key Client Management', 0], ['Mergers & Acquisitions', 0]]\n"
     ]
    },
    {
     "name": "stderr",
     "output_type": "stream",
     "text": [
      " 54%|███████████████████████████████████████████████████████████████████████▎                                                             | 467/871 [24:09<29:29,  4.38s/it]"
     ]
    },
    {
     "name": "stdout",
     "output_type": "stream",
     "text": [
      "[['Strategic Fomentation', 0], ['Attention to Detail', 0], ['Customer Focus', 0], ['Verbal Communication', 0], ['Executive Presentation', 0], ['Collaboration', 0], ['Sales and Pricing Strategy', 0], ['SEO Writing', 0]]\n"
     ]
    },
    {
     "name": "stderr",
     "output_type": "stream",
     "text": [
      " 54%|███████████████████████████████████████████████████████████████████████▍                                                             | 468/871 [24:12<26:43,  3.98s/it]"
     ]
    },
    {
     "name": "stdout",
     "output_type": "stream",
     "text": [
      "[['Leadership & Teamwork', 0], ['Analytical skills', 0], ['Time management', 0], ['Interpersonal communication', 0]]\n"
     ]
    },
    {
     "name": "stderr",
     "output_type": "stream",
     "text": [
      " 54%|███████████████████████████████████████████████████████████████████████▌                                                             | 469/871 [24:15<23:51,  3.56s/it]"
     ]
    },
    {
     "name": "stdout",
     "output_type": "stream",
     "text": [
      "[['MICROSOFT OFFICE', 0], ['HTML & CSS', 0], ['ADOBE CREATIVE SUITE', 0], ['WORDPRESS', 0], ['SQUARESPACE', 0], ['PERSONAL ORGANIZATION', 0], ['ATTENTION TO DETAIL', 0]]\n"
     ]
    },
    {
     "name": "stderr",
     "output_type": "stream",
     "text": [
      " 54%|███████████████████████████████████████████████████████████████████████▊                                                             | 470/871 [24:19<25:54,  3.88s/it]"
     ]
    },
    {
     "name": "stdout",
     "output_type": "stream",
     "text": [
      "[['Leadership & Teamwork', 0], ['Analytical skills', 0], ['Time management', 0], ['Interpersonal communication', 0]]\n"
     ]
    },
    {
     "name": "stderr",
     "output_type": "stream",
     "text": [
      " 54%|███████████████████████████████████████████████████████████████████████▉                                                             | 471/871 [24:22<23:11,  3.48s/it]"
     ]
    },
    {
     "name": "stdout",
     "output_type": "stream",
     "text": [
      "[['Leadership & Teamwork', 0], ['Analytical skills', 0], ['Time management', 0], ['Interpersonal communication', 0]]\n"
     ]
    },
    {
     "name": "stderr",
     "output_type": "stream",
     "text": [
      " 54%|████████████████████████████████████████████████████████████████████████                                                             | 472/871 [24:25<21:16,  3.20s/it]"
     ]
    },
    {
     "name": "stdout",
     "output_type": "stream",
     "text": [
      "[['Droit des obligations', 0], ['Droit des sociétés', 0], ['Droit commercial', 0], ['Droit social', 0], ['Langue: Anglais', 0], ['Langue: Chinois', 0]]\n"
     ]
    },
    {
     "name": "stderr",
     "output_type": "stream",
     "text": [
      " 54%|████████████████████████████████████████████████████████████████████████▏                                                            | 473/871 [24:27<19:37,  2.96s/it]"
     ]
    },
    {
     "name": "stdout",
     "output_type": "stream",
     "text": [
      "[['MICROSOFT OFFICE', 0], ['HTML & CSS', 0], ['ADOBE CREATIVE SUITE', 0], ['WORDPRESS', 0], ['SQUARE SPACE', 0], ['ORGANIZATION', 0], ['ATTENTION TO DETAIL', 0]]\n"
     ]
    },
    {
     "name": "stderr",
     "output_type": "stream",
     "text": [
      " 54%|████████████████████████████████████████████████████████████████████████▍                                                            | 474/871 [24:30<20:26,  3.09s/it]"
     ]
    },
    {
     "name": "stdout",
     "output_type": "stream",
     "text": [
      "[['Graphic Design', 80], ['Web Design', 90], ['Interface Design', 70], ['SEO', 75], ['Photoshop', 85], ['Illustrator', 80], ['CSS/HTML', 90], ['JavaScript', 70], ['Office', 60], ['Windows', 75]]\n"
     ]
    },
    {
     "name": "stderr",
     "output_type": "stream",
     "text": [
      " 55%|████████████████████████████████████████████████████████████████████████▌                                                            | 475/871 [24:33<19:45,  2.99s/it]"
     ]
    },
    {
     "name": "stdout",
     "output_type": "stream",
     "text": [
      "[['MICROSOFT OFFICE', 0], ['HTML & CSS', 0], ['ADOBE CREATIVE SUITE', 0], ['WORDPRESS', 0], ['SQUARE SPACE', 0], ['ORGANIZATION', 0], ['ATTENTION TO DETAIL', 0]]\n"
     ]
    },
    {
     "name": "stderr",
     "output_type": "stream",
     "text": [
      " 55%|████████████████████████████████████████████████████████████████████████▋                                                            | 476/871 [24:36<19:13,  2.92s/it]"
     ]
    },
    {
     "name": "stdout",
     "output_type": "stream",
     "text": [
      "[['Droit des obligations', 0], ['Droit des sociétés', 0], ['Droit commercial', 0], ['Droit social', 0], ['Anglais', 0], ['Chinois', 0]]\n"
     ]
    },
    {
     "name": "stderr",
     "output_type": "stream",
     "text": [
      " 55%|████████████████████████████████████████████████████████████████████████▊                                                            | 477/871 [24:38<18:37,  2.84s/it]"
     ]
    },
    {
     "name": "stdout",
     "output_type": "stream",
     "text": [
      "[['droit des obligations', 0], ['droit des sociétés', 0], ['droit commercial', 0], ['droit social', 0], ['anglais', 0], ['chinois', 0]]\n"
     ]
    },
    {
     "name": "stderr",
     "output_type": "stream",
     "text": [
      " 55%|████████████████████████████████████████████████████████████████████████▉                                                            | 478/871 [24:42<19:55,  3.04s/it]"
     ]
    },
    {
     "name": "stdout",
     "output_type": "stream",
     "text": [
      "[['Excellent communication skills, both written and oral', 0], ['Very high statistical awareness', 0], ['Ability to work with a variety of professionals with different skill sets', 0], ['Attention to detail and ability to work in a pressurised, time-sensitive environment', 0], ['Competent working knowledge of Microsoft Office, MATLAB and SPSS', 0]]\n"
     ]
    },
    {
     "name": "stderr",
     "output_type": "stream",
     "text": [
      " 55%|█████████████████████████████████████████████████████████████████████████▏                                                           | 479/871 [24:47<23:11,  3.55s/it]"
     ]
    },
    {
     "name": "stdout",
     "output_type": "stream",
     "text": [
      "[['#SKILL 1', 0], ['#SKILL 2', 0], ['#SKILL 3', 0], ['#SKILL 4', 0], ['#SKILL 5', 0], ['#SKILL 6', 0], ['#SKILL 7', 0], ['#SKILL 8', 0]]\n"
     ]
    },
    {
     "name": "stderr",
     "output_type": "stream",
     "text": [
      " 55%|█████████████████████████████████████████████████████████████████████████▎                                                           | 480/871 [24:53<28:05,  4.31s/it]"
     ]
    },
    {
     "name": "stdout",
     "output_type": "stream",
     "text": [
      "[['Excellent communication skills, both written and oral', 0], ['Very high statistical awareness, with the ability to not only collate and report on data but identify from it potential risks and opportunities for improvement', 0], ['Ability to work with a variety of professionals with different skill sets', 0], ['Attention to detail and ability to work in a pressurized, time-sensitive environment without compromising on the quality of work', 0], ['Competent working knowledge of Microsoft Office, MATLAB and SPSS', 0]]\n"
     ]
    },
    {
     "name": "stderr",
     "output_type": "stream",
     "text": [
      " 55%|█████████████████████████████████████████████████████████████████████████▍                                                           | 481/871 [24:58<30:19,  4.66s/it]"
     ]
    },
    {
     "name": "stdout",
     "output_type": "stream",
     "text": [
      "[['Excellent communication skills, both written and oral', 0], ['Very high statistical awareness, with the ability to not only collate and report on data but identity from potential risks and opportunities for improvement', 0], ['Ability to work with a variety of professionals with different skill sets', 0], ['Attention to detail and ability to work in a pressured, time-sensitive environment without compromising on the quality of work', 0], ['Competent working knowledge of Microsoft Office, MATLAB and SPSS', 0]]\n"
     ]
    },
    {
     "name": "stderr",
     "output_type": "stream",
     "text": [
      " 55%|█████████████████████████████████████████████████████████████████████████▌                                                           | 482/871 [25:02<29:14,  4.51s/it]"
     ]
    },
    {
     "name": "stdout",
     "output_type": "stream",
     "text": [
      "[['#SKILL 1', 0], ['#SKILL 2', 0], ['#SKILL 3', 0], ['#SKILL 4', 0], ['#SKILL 5', 0], ['#SKILL 6', 0], ['#SKILL 7', 0], ['#SKILL 8', 0]]\n"
     ]
    },
    {
     "name": "stderr",
     "output_type": "stream",
     "text": [
      " 55%|█████████████████████████████████████████████████████████████████████████▊                                                           | 483/871 [25:06<27:18,  4.22s/it]"
     ]
    },
    {
     "name": "stdout",
     "output_type": "stream",
     "text": [
      "[['#SKILL 1', 0], ['#SKILL 2', 0], ['#SKILL 3', 0], ['#SKILL 4', 0], ['#SKILL 5', 0], ['#SKILL 6', 0], ['#SKILL 7', 0], ['#SKILL 8', 0]]\n"
     ]
    },
    {
     "name": "stderr",
     "output_type": "stream",
     "text": [
      " 56%|█████████████████████████████████████████████████████████████████████████▉                                                           | 484/871 [25:11<28:23,  4.40s/it]"
     ]
    },
    {
     "name": "stdout",
     "output_type": "stream",
     "text": [
      "[['Office Management', 0], ['Teambuilding & Supervision', 0], ['Staff Development & Training', 0], ['Policies & Procedures', 0], ['Manuals', 0], ['Report & Document Preparation', 0], ['Spreadsheet & Database Creation', 0], ['Accounts Payable / Receivable', 0], ['Bookkeeping & Payroll', 0], ['Records Management', 0], ['Meeting & Event Planning', 0], ['Inventory Management', 0], ['Expense Reduction', 0]]\n"
     ]
    },
    {
     "name": "stderr",
     "output_type": "stream",
     "text": [
      " 56%|██████████████████████████████████████████████████████████████████████████                                                           | 485/871 [25:14<25:25,  3.95s/it]"
     ]
    },
    {
     "name": "stdout",
     "output_type": "stream",
     "text": [
      "[]\n"
     ]
    },
    {
     "name": "stderr",
     "output_type": "stream",
     "text": [
      " 56%|██████████████████████████████████████████████████████████████████████████▏                                                          | 486/871 [25:18<25:30,  3.97s/it]"
     ]
    },
    {
     "name": "stdout",
     "output_type": "stream",
     "text": [
      "[['Office Management', 0], ['Teambuilding & Supervision', 0], ['Staff Development & Training', 0], ['Policies & Procedures', 0], ['Manuals', 0], ['Report & Document Preparation', 0], ['Spreadsheet & Database Creation', 0], ['Accounts Payable / Receivable', 0], ['Bookkeeping & Payroll', 0], ['Records Management', 0], ['Meeting & Event Planning', 0], ['Inventory Management', 0], ['Expense Reduction', 0]]\n"
     ]
    },
    {
     "name": "stderr",
     "output_type": "stream",
     "text": [
      " 56%|██████████████████████████████████████████████████████████████████████████▎                                                          | 487/871 [25:20<21:47,  3.41s/it]"
     ]
    },
    {
     "name": "stdout",
     "output_type": "stream",
     "text": [
      "[]\n"
     ]
    },
    {
     "name": "stderr",
     "output_type": "stream",
     "text": [
      " 56%|██████████████████████████████████████████████████████████████████████████▌                                                          | 488/871 [25:25<24:21,  3.82s/it]"
     ]
    },
    {
     "name": "stdout",
     "output_type": "stream",
     "text": [
      "[['Office Management', 0], ['Teambuilding & Supervision', 0], ['Staff Development & Training', 0], ['Policies & Procedures', 0], ['Manuals', 0], ['Report & Document Preparation', 0], ['Spreadsheet & Database Creation', 0], ['Accounts Payable / Receivable', 0], ['Bookkeeping & Payroll', 0], ['Records Management', 0], ['Meeting & Event Planning', 0], ['Inventory Management', 0], ['Expense Reduction', 0]]\n"
     ]
    },
    {
     "name": "stderr",
     "output_type": "stream",
     "text": [
      " 56%|██████████████████████████████████████████████████████████████████████████▋                                                          | 489/871 [25:27<21:12,  3.33s/it]"
     ]
    },
    {
     "name": "stdout",
     "output_type": "stream",
     "text": [
      "[]\n"
     ]
    },
    {
     "name": "stderr",
     "output_type": "stream",
     "text": [
      " 56%|██████████████████████████████████████████████████████████████████████████▊                                                          | 490/871 [25:30<20:33,  3.24s/it]"
     ]
    },
    {
     "name": "stdout",
     "output_type": "stream",
     "text": [
      "[['Exceptional communication and networking skills', 0], ['Successful working in a team environment, as well as independently', 0], ['The ability to work under pressure and multi-task', 0], ['The ability to follow instructions and deliver quality results', 0]]\n"
     ]
    },
    {
     "name": "stderr",
     "output_type": "stream",
     "text": [
      " 56%|██████████████████████████████████████████████████████████████████████████▉                                                          | 491/871 [25:32<19:09,  3.03s/it]"
     ]
    },
    {
     "name": "stdout",
     "output_type": "stream",
     "text": [
      "[['Exceptional communication and networking skills', 0], ['Successful working in a team environment, as well as independently', 0], ['The ability to work under pressure and multi-task', 0], ['The ability to follow instructions and deliver quality results', 0]]\n"
     ]
    },
    {
     "name": "stderr",
     "output_type": "stream",
     "text": [
      " 56%|███████████████████████████████████████████████████████████████████████████▏                                                         | 492/871 [25:35<17:47,  2.82s/it]"
     ]
    },
    {
     "name": "stdout",
     "output_type": "stream",
     "text": [
      "[]\n"
     ]
    },
    {
     "name": "stderr",
     "output_type": "stream",
     "text": [
      " 57%|███████████████████████████████████████████████████████████████████████████▎                                                         | 493/871 [25:38<18:22,  2.92s/it]"
     ]
    },
    {
     "name": "stdout",
     "output_type": "stream",
     "text": [
      "[]\n"
     ]
    },
    {
     "name": "stderr",
     "output_type": "stream",
     "text": [
      " 57%|███████████████████████████████████████████████████████████████████████████▍                                                         | 494/871 [25:41<19:04,  3.04s/it]"
     ]
    },
    {
     "name": "stdout",
     "output_type": "stream",
     "text": [
      "[['Exceptional communication and networking skills', 0], ['Successful working in a team environment, as well as independently', 0], ['The ability to work under pressure and multi-task', 0], ['The ability to follow instructions and deliver quality results', 0]]\n"
     ]
    },
    {
     "name": "stderr",
     "output_type": "stream",
     "text": [
      " 57%|███████████████████████████████████████████████████████████████████████████▌                                                         | 495/871 [25:44<19:32,  3.12s/it]"
     ]
    },
    {
     "name": "stdout",
     "output_type": "stream",
     "text": [
      "[]\n"
     ]
    },
    {
     "name": "stderr",
     "output_type": "stream",
     "text": [
      " 57%|███████████████████████████████████████████████████████████████████████████▋                                                         | 496/871 [25:46<16:24,  2.63s/it]"
     ]
    },
    {
     "name": "stdout",
     "output_type": "stream",
     "text": [
      "[]\n"
     ]
    },
    {
     "name": "stderr",
     "output_type": "stream",
     "text": [
      " 57%|███████████████████████████████████████████████████████████████████████████▉                                                         | 497/871 [25:49<16:54,  2.71s/it]"
     ]
    },
    {
     "name": "stdout",
     "output_type": "stream",
     "text": [
      "[['Microsoft Office', 80], ['Spanish and English', 100], ['Web and tech savvy', 70], ['Typing speed of 70 WPM', 70], ['Problem solving', 0], ['Team leadership', 0]]\n"
     ]
    },
    {
     "name": "stderr",
     "output_type": "stream",
     "text": [
      " 57%|████████████████████████████████████████████████████████████████████████████                                                         | 498/871 [25:51<15:47,  2.54s/it]"
     ]
    },
    {
     "name": "stdout",
     "output_type": "stream",
     "text": [
      "[['Microsoft Office', 80], ['Spanish and English', 100], ['Web and tech savvy', 60], ['Typing speed of 70 WPM', 70], ['Problem solving', 0], ['Team leadership', 0]]\n"
     ]
    },
    {
     "name": "stderr",
     "output_type": "stream",
     "text": [
      " 57%|████████████████████████████████████████████████████████████████████████████▏                                                        | 499/871 [25:53<13:55,  2.24s/it]"
     ]
    },
    {
     "name": "stdout",
     "output_type": "stream",
     "text": [
      "[]\n"
     ]
    },
    {
     "name": "stderr",
     "output_type": "stream",
     "text": [
      " 57%|████████████████████████████████████████████████████████████████████████████▎                                                        | 500/871 [25:55<15:04,  2.44s/it]"
     ]
    },
    {
     "name": "stdout",
     "output_type": "stream",
     "text": [
      "[['Microsoft Office', 80], ['Spanish and English', 100], ['Web and tech savvy', 60], ['Typing speed of 70 WPM', 70], ['Problem solving', 50], ['Team leadership', 50]]\n"
     ]
    },
    {
     "name": "stderr",
     "output_type": "stream",
     "text": [
      " 58%|████████████████████████████████████████████████████████████████████████████▌                                                        | 501/871 [25:57<12:36,  2.04s/it]"
     ]
    },
    {
     "name": "stdout",
     "output_type": "stream",
     "text": [
      "[]\n"
     ]
    },
    {
     "name": "stderr",
     "output_type": "stream",
     "text": [
      " 58%|████████████████████████████████████████████████████████████████████████████▋                                                        | 502/871 [26:01<17:07,  2.79s/it]"
     ]
    },
    {
     "name": "stdout",
     "output_type": "stream",
     "text": [
      "[['Attention to Detail', 0], ['Verbal Communication', 0], ['Executive Presentations', 0], ['Collaboration', 0], ['Sales and Pricing Strategy', 0], ['SEO Writing', 0], ['Account Management', 0], ['Customer Focus', 0], ['Business Management', 0], ['Strategic Orientation', 0]]\n"
     ]
    },
    {
     "name": "stderr",
     "output_type": "stream",
     "text": [
      " 58%|████████████████████████████████████████████████████████████████████████████▊                                                        | 503/871 [26:04<16:29,  2.69s/it]"
     ]
    },
    {
     "name": "stdout",
     "output_type": "stream",
     "text": [
      "[]\n"
     ]
    },
    {
     "name": "stderr",
     "output_type": "stream",
     "text": [
      " 58%|████████████████████████████████████████████████████████████████████████████▉                                                        | 504/871 [26:06<15:08,  2.47s/it]"
     ]
    },
    {
     "name": "stdout",
     "output_type": "stream",
     "text": [
      "[]\n"
     ]
    },
    {
     "name": "stderr",
     "output_type": "stream",
     "text": [
      " 58%|█████████████████████████████████████████████████████████████████████████████                                                        | 505/871 [26:12<21:39,  3.55s/it]"
     ]
    },
    {
     "name": "stdout",
     "output_type": "stream",
     "text": [
      "[['Attention to Detail', 0], ['Verbal Communication', 0], ['Executive Presentations', 0], ['Collaboration', 0], ['Sales and Pricing Strategy', 0], ['SEO Writing', 0], ['Account Management', 0], ['Customer Focus', 0], ['Business Management', 0], ['Strategic Orientation', 0]]\n"
     ]
    },
    {
     "name": "stderr",
     "output_type": "stream",
     "text": [
      " 58%|█████████████████████████████████████████████████████████████████████████████▎                                                       | 506/871 [26:14<18:40,  3.07s/it]"
     ]
    },
    {
     "name": "stdout",
     "output_type": "stream",
     "text": [
      "[['Photoshop', 0], ['Illustrator', 0], ['InDesign', 0]]\n"
     ]
    },
    {
     "name": "stderr",
     "output_type": "stream",
     "text": [
      " 58%|█████████████████████████████████████████████████████████████████████████████▍                                                       | 507/871 [26:16<18:13,  3.00s/it]"
     ]
    },
    {
     "name": "stdout",
     "output_type": "stream",
     "text": [
      "[['Commerciaux', 0], ['Informatique', 0], ['Gestion', 0], ['Marketing & Digital', 0]]\n"
     ]
    },
    {
     "name": "stderr",
     "output_type": "stream",
     "text": [
      " 58%|█████████████████████████████████████████████████████████████████████████████▌                                                       | 508/871 [26:19<17:24,  2.88s/it]"
     ]
    },
    {
     "name": "stdout",
     "output_type": "stream",
     "text": [
      "[['Photoshop', 0], ['Illustrator', 0], ['InDesign', 0]]\n"
     ]
    },
    {
     "name": "stderr",
     "output_type": "stream",
     "text": [
      " 58%|█████████████████████████████████████████████████████████████████████████████▋                                                       | 509/871 [26:22<16:48,  2.79s/it]"
     ]
    },
    {
     "name": "stdout",
     "output_type": "stream",
     "text": [
      "[['Photoshop', 0], ['Illustrator', 0], ['InDesign', 0]]\n"
     ]
    },
    {
     "name": "stderr",
     "output_type": "stream",
     "text": [
      " 59%|█████████████████████████████████████████████████████████████████████████████▉                                                       | 510/871 [26:26<18:54,  3.14s/it]"
     ]
    },
    {
     "name": "stdout",
     "output_type": "stream",
     "text": [
      "[['Propecter', 0], ['Vendre', 0], ['Négocier', 0], ['Suivre la relation client', 0], ['Fidéliser les clients', 0], ['Pack Office', 0], ['Excel', 0], ['Sphinx', 0], ['Marketing & Digital', 0], ['Elaborer', 0], ['Gérer', 0], ['Développer', 0], ['Suivre', 0], ['Valider', 0], ['Créer', 0], ['Surveiller', 0]]\n"
     ]
    },
    {
     "name": "stderr",
     "output_type": "stream",
     "text": [
      " 59%|██████████████████████████████████████████████████████████████████████████████                                                       | 511/871 [26:31<23:29,  3.91s/it]"
     ]
    },
    {
     "name": "stdout",
     "output_type": "stream",
     "text": [
      "[]\n"
     ]
    },
    {
     "name": "stderr",
     "output_type": "stream",
     "text": [
      " 59%|██████████████████████████████████████████████████████████████████████████████▏                                                      | 512/871 [26:33<19:56,  3.33s/it]"
     ]
    },
    {
     "name": "stdout",
     "output_type": "stream",
     "text": [
      "[]\n"
     ]
    },
    {
     "name": "stderr",
     "output_type": "stream",
     "text": [
      " 59%|██████████████████████████████████████████████████████████████████████████████▎                                                      | 513/871 [26:37<20:59,  3.52s/it]"
     ]
    },
    {
     "name": "stdout",
     "output_type": "stream",
     "text": [
      "[['Attention to Detail', 0], ['Verbal Communication', 0], ['Executive Presentations', 0], ['Collaboration', 0], ['Sales and Pricing Strategy', 0], ['SEO Writing', 0], ['Account Management', 0], ['Customer Focus', 0], ['Business Management', 0], ['Strategic Orientation', 0]]\n"
     ]
    },
    {
     "name": "stderr",
     "output_type": "stream",
     "text": [
      " 59%|██████████████████████████████████████████████████████████████████████████████▍                                                      | 514/871 [26:39<18:24,  3.09s/it]"
     ]
    },
    {
     "name": "stdout",
     "output_type": "stream",
     "text": [
      "[]\n"
     ]
    },
    {
     "name": "stderr",
     "output_type": "stream",
     "text": [
      " 59%|██████████████████████████████████████████████████████████████████████████████▋                                                      | 515/871 [26:42<17:15,  2.91s/it]"
     ]
    },
    {
     "name": "stdout",
     "output_type": "stream",
     "text": [
      "[]\n"
     ]
    },
    {
     "name": "stderr",
     "output_type": "stream",
     "text": [
      " 59%|██████████████████████████████████████████████████████████████████████████████▊                                                      | 516/871 [26:44<15:55,  2.69s/it]"
     ]
    },
    {
     "name": "stdout",
     "output_type": "stream",
     "text": [
      "[]\n"
     ]
    },
    {
     "name": "stderr",
     "output_type": "stream",
     "text": [
      " 59%|██████████████████████████████████████████████████████████████████████████████▉                                                      | 517/871 [26:47<16:51,  2.86s/it]"
     ]
    },
    {
     "name": "stdout",
     "output_type": "stream",
     "text": [
      "[['Decision making', 100], ['MS Office', 60], ['Text here', 0], ['Text here', 0], ['Text here', 0], ['Text here', 0]]\n"
     ]
    },
    {
     "name": "stderr",
     "output_type": "stream",
     "text": [
      " 59%|███████████████████████████████████████████████████████████████████████████████                                                      | 518/871 [26:50<16:07,  2.74s/it]"
     ]
    },
    {
     "name": "stdout",
     "output_type": "stream",
     "text": [
      "[['Decision making', 100], ['MS Office', 75], ['Text here', 0], ['Text here', 0], ['Text here', 0], ['Text here', 0]]\n"
     ]
    },
    {
     "name": "stderr",
     "output_type": "stream",
     "text": [
      " 60%|███████████████████████████████████████████████████████████████████████████████▎                                                     | 519/871 [26:53<17:05,  2.91s/it]"
     ]
    },
    {
     "name": "stdout",
     "output_type": "stream",
     "text": [
      "[['Decision making', 100], ['MS Office', 70], ['Text here', 0], ['Text here', 0], ['Text here', 0], ['Text here', 0]]\n"
     ]
    },
    {
     "name": "stderr",
     "output_type": "stream",
     "text": [
      " 60%|███████████████████████████████████████████████████████████████████████████████▍                                                     | 520/871 [26:58<20:04,  3.43s/it]"
     ]
    },
    {
     "name": "stdout",
     "output_type": "stream",
     "text": [
      "[['Windows', 100], ['Mac Os X', 100], ['Office', 100], ['PowerPoint', 100], ['AutoCAD', 100], ['SketchUp', 100], ['Rhinoceros', 100], ['3ds Max', 100], ['Vray', 100], ['Mental Ray', 100], ['Cinema 4D', 100], ['Photoshop', 100], ['Gimp', 100], ['Illustrator', 100], ['InDesign', 100], ['After Effects', 100], ['2D', 0], ['3D modelling', 0], ['3D rendering', 0]]\n"
     ]
    },
    {
     "name": "stderr",
     "output_type": "stream",
     "text": [
      " 60%|███████████████████████████████████████████████████████████████████████████████▌                                                     | 521/871 [27:01<20:36,  3.53s/it]"
     ]
    },
    {
     "name": "stdout",
     "output_type": "stream",
     "text": [
      "[['Windows', 100], ['Mac OS X', 100], ['Office', 100], ['PowerPoint', 100], ['AutoCAD', 100], ['SketchUp', 100], ['Rhinoceros', 100], ['3ds Max', 100], ['Vray', 100], ['Mental Ray', 100], ['Cinema 4D', 100], ['Photoshop', 100], ['GIMP', 100], ['Illustrator', 100], ['InDesign', 100], ['After Effects', 100], ['3D rendering', 100]]\n"
     ]
    },
    {
     "name": "stderr",
     "output_type": "stream",
     "text": [
      " 60%|███████████████████████████████████████████████████████████████████████████████▋                                                     | 522/871 [27:04<19:05,  3.28s/it]"
     ]
    },
    {
     "name": "stdout",
     "output_type": "stream",
     "text": [
      "[['Skill Number 1', 0], ['Skill Number 2', 0], ['Skill Number 3', 0], ['Skill Number 4', 0], ['Skill Number 5', 0]]\n"
     ]
    },
    {
     "name": "stderr",
     "output_type": "stream",
     "text": [
      " 60%|███████████████████████████████████████████████████████████████████████████████▊                                                     | 523/871 [27:08<19:25,  3.35s/it]"
     ]
    },
    {
     "name": "stdout",
     "output_type": "stream",
     "text": [
      "[['Skill Number 1', 0], ['Skill Number 2', 0], ['Skill Number 3', 0], ['Skill Number 4', 0], ['Skill Number 5', 0]]\n"
     ]
    },
    {
     "name": "stderr",
     "output_type": "stream",
     "text": [
      " 60%|████████████████████████████████████████████████████████████████████████████████                                                     | 524/871 [27:10<18:06,  3.13s/it]"
     ]
    },
    {
     "name": "stdout",
     "output_type": "stream",
     "text": [
      "[['Skill Number 1', 0], ['Skill Number 2', 0], ['Skill Number 3', 0], ['Skill Number 4', 0], ['Skill Number 5', 0]]\n"
     ]
    },
    {
     "name": "stderr",
     "output_type": "stream",
     "text": [
      " 60%|████████████████████████████████████████████████████████████████████████████████▏                                                    | 525/871 [27:12<16:39,  2.89s/it]"
     ]
    },
    {
     "name": "stdout",
     "output_type": "stream",
     "text": [
      "[]\n"
     ]
    },
    {
     "name": "stderr",
     "output_type": "stream",
     "text": [
      " 60%|████████████████████████████████████████████████████████████████████████████████▎                                                    | 526/871 [27:15<15:53,  2.76s/it]"
     ]
    },
    {
     "name": "stdout",
     "output_type": "stream",
     "text": [
      "[]\n"
     ]
    },
    {
     "name": "stderr",
     "output_type": "stream",
     "text": [
      " 61%|████████████████████████████████████████████████████████████████████████████████▍                                                    | 527/871 [27:20<18:58,  3.31s/it]"
     ]
    },
    {
     "name": "stdout",
     "output_type": "stream",
     "text": [
      "[['Windows', 100], ['Mac Os X', 100], ['Office', 100], ['PowerPoint', 100], ['AutoCAD', 100], ['SketchUp', 100], ['Rhino', 100], ['3D Studio Max', 100], ['V-Ray', 100], ['Mental Ray', 100], ['Cinema 4D', 100], ['Photoshop', 100], ['GIMP', 100], ['Illustrator', 100], ['InDesign', 100], ['After Effects', 100], ['Grasshopper', 100]]\n"
     ]
    },
    {
     "name": "stderr",
     "output_type": "stream",
     "text": [
      " 61%|████████████████████████████████████████████████████████████████████████████████▌                                                    | 528/871 [27:22<18:14,  3.19s/it]"
     ]
    },
    {
     "name": "stdout",
     "output_type": "stream",
     "text": [
      "[]\n"
     ]
    },
    {
     "name": "stderr",
     "output_type": "stream",
     "text": [
      " 61%|████████████████████████████████████████████████████████████████████████████████▊                                                    | 529/871 [27:25<17:36,  3.09s/it]"
     ]
    },
    {
     "name": "stdout",
     "output_type": "stream",
     "text": [
      "invalid character '“' (U+201C) (<unknown>, line 1)\n"
     ]
    },
    {
     "name": "stderr",
     "output_type": "stream",
     "text": [
      " 61%|████████████████████████████████████████████████████████████████████████████████▉                                                    | 530/871 [27:29<17:47,  3.13s/it]"
     ]
    },
    {
     "name": "stdout",
     "output_type": "stream",
     "text": [
      "[['Python', 0], ['MATLAB', 0], ['Excel', 0], ['Chinese', 0]]\n"
     ]
    },
    {
     "name": "stderr",
     "output_type": "stream",
     "text": [
      " 61%|█████████████████████████████████████████████████████████████████████████████████                                                    | 531/871 [27:31<17:24,  3.07s/it]"
     ]
    },
    {
     "name": "stdout",
     "output_type": "stream",
     "text": [
      "[['Python', 0], ['MATLAB', 0], ['Excel', 0], ['Chinese', 0]]\n"
     ]
    },
    {
     "name": "stderr",
     "output_type": "stream",
     "text": [
      " 61%|█████████████████████████████████████████████████████████████████████████████████▏                                                   | 532/871 [27:35<17:36,  3.12s/it]"
     ]
    },
    {
     "name": "stdout",
     "output_type": "stream",
     "text": [
      "[['Python', 0], ['MATLAB', 0], ['Excel', 0]]\n"
     ]
    },
    {
     "name": "stderr",
     "output_type": "stream",
     "text": [
      " 61%|█████████████████████████████████████████████████████████████████████████████████▍                                                   | 533/871 [27:38<18:09,  3.22s/it]"
     ]
    },
    {
     "name": "stdout",
     "output_type": "stream",
     "text": [
      "[['Python', 0], ['MATLAB', 0], ['Excel', 0]]\n"
     ]
    },
    {
     "name": "stderr",
     "output_type": "stream",
     "text": [
      " 61%|█████████████████████████████████████████████████████████████████████████████████▌                                                   | 534/871 [27:42<19:34,  3.49s/it]"
     ]
    },
    {
     "name": "stdout",
     "output_type": "stream",
     "text": [
      "[['Python', 0], ['MATLAB', 0], ['Excel', 0]]\n"
     ]
    },
    {
     "name": "stderr",
     "output_type": "stream",
     "text": [
      " 61%|█████████████████████████████████████████████████████████████████████████████████▋                                                   | 535/871 [27:46<19:55,  3.56s/it]"
     ]
    },
    {
     "name": "stdout",
     "output_type": "stream",
     "text": [
      "[['Illustrator', 0], ['Photoshop', 0], ['InDesign', 0], ['SAI', 0], ['FontLab', 0], ['Logic', 0], ['After Effects', 0], ['Final Cut', 0]]\n"
     ]
    },
    {
     "name": "stderr",
     "output_type": "stream",
     "text": [
      " 62%|█████████████████████████████████████████████████████████████████████████████████▊                                                   | 536/871 [27:49<18:55,  3.39s/it]"
     ]
    },
    {
     "name": "stdout",
     "output_type": "stream",
     "text": [
      "[['Illustrator', 0], ['Photoshop', 0], ['InDesign', 0], ['SAI', 0], ['FontLab', 0], ['Logic', 0], ['After Effects', 0], ['Final Cut', 0]]\n"
     ]
    },
    {
     "name": "stderr",
     "output_type": "stream",
     "text": [
      " 62%|█████████████████████████████████████████████████████████████████████████████████▉                                                   | 537/871 [27:53<20:20,  3.65s/it]"
     ]
    },
    {
     "name": "stdout",
     "output_type": "stream",
     "text": [
      "[['Creativity', 70], ['Skill 2', 0], ['Skill 3', 0], ['Skill 4', 0]]\n"
     ]
    },
    {
     "name": "stderr",
     "output_type": "stream",
     "text": [
      " 62%|██████████████████████████████████████████████████████████████████████████████████▏                                                  | 538/871 [27:56<19:21,  3.49s/it]"
     ]
    },
    {
     "name": "stdout",
     "output_type": "stream",
     "text": [
      "[['Creativity', 75], ['Skill 2', 0], ['Skill 3', 0], ['Skill 4', 0]]\n"
     ]
    },
    {
     "name": "stderr",
     "output_type": "stream",
     "text": [
      " 62%|██████████████████████████████████████████████████████████████████████████████████▎                                                  | 539/871 [28:00<18:52,  3.41s/it]"
     ]
    },
    {
     "name": "stdout",
     "output_type": "stream",
     "text": [
      "[['Illustrator', 0], ['Photoshop', 0], ['InDesign', 0], ['SAI', 0], ['FontLab', 0], ['Logic', 0], ['After Effects', 0], ['Final Cut', 0]]\n"
     ]
    },
    {
     "name": "stderr",
     "output_type": "stream",
     "text": [
      " 62%|██████████████████████████████████████████████████████████████████████████████████▍                                                  | 540/871 [28:02<17:41,  3.21s/it]"
     ]
    },
    {
     "name": "stdout",
     "output_type": "stream",
     "text": [
      "[['Creativity', 75], ['Skill 2', 0], ['Skill 3', 0], ['Skill 4', 0]]\n"
     ]
    },
    {
     "name": "stderr",
     "output_type": "stream",
     "text": [
      " 62%|██████████████████████████████████████████████████████████████████████████████████▌                                                  | 541/871 [28:03<14:15,  2.59s/it]"
     ]
    },
    {
     "name": "stdout",
     "output_type": "stream",
     "text": [
      "[]\n"
     ]
    },
    {
     "name": "stderr",
     "output_type": "stream",
     "text": [
      " 62%|██████████████████████████████████████████████████████████████████████████████████▊                                                  | 542/871 [28:04<11:35,  2.11s/it]"
     ]
    },
    {
     "name": "stdout",
     "output_type": "stream",
     "text": [
      "[]\n"
     ]
    },
    {
     "name": "stderr",
     "output_type": "stream",
     "text": [
      " 62%|██████████████████████████████████████████████████████████████████████████████████▉                                                  | 543/871 [28:09<16:00,  2.93s/it]"
     ]
    },
    {
     "name": "stdout",
     "output_type": "stream",
     "text": [
      "[['Hostools', 0], ['Strategic Thinking', 0], ['WordPress', 0], ['Social Media Marketing', 0]]\n"
     ]
    },
    {
     "name": "stderr",
     "output_type": "stream",
     "text": [
      " 62%|███████████████████████████████████████████████████████████████████████████████████                                                  | 544/871 [28:12<15:01,  2.76s/it]"
     ]
    },
    {
     "name": "stdout",
     "output_type": "stream",
     "text": [
      "[['Hospitality', 0], ['Strategic Thinking', 0], ['Social Media Marketing', 0], ['WordPress', 0]]\n"
     ]
    },
    {
     "name": "stderr",
     "output_type": "stream",
     "text": [
      " 63%|███████████████████████████████████████████████████████████████████████████████████▏                                                 | 545/871 [28:13<11:58,  2.20s/it]"
     ]
    },
    {
     "name": "stdout",
     "output_type": "stream",
     "text": [
      "[]\n"
     ]
    },
    {
     "name": "stderr",
     "output_type": "stream",
     "text": [
      " 63%|███████████████████████████████████████████████████████████████████████████████████▎                                                 | 546/871 [28:15<11:31,  2.13s/it]"
     ]
    },
    {
     "name": "stdout",
     "output_type": "stream",
     "text": [
      "[['Hostoital', 0], ['Strategic Thinking', 0], ['Social Media Marketing', 0], ['WordPress', 0]]\n"
     ]
    },
    {
     "name": "stderr",
     "output_type": "stream",
     "text": [
      " 63%|███████████████████████████████████████████████████████████████████████████████████▌                                                 | 547/871 [28:16<11:14,  2.08s/it]"
     ]
    },
    {
     "name": "stdout",
     "output_type": "stream",
     "text": [
      "[]\n"
     ]
    },
    {
     "name": "stderr",
     "output_type": "stream",
     "text": [
      " 63%|███████████████████████████████████████████████████████████████████████████████████▋                                                 | 548/871 [28:18<10:44,  1.99s/it]"
     ]
    },
    {
     "name": "stdout",
     "output_type": "stream",
     "text": [
      "[]\n"
     ]
    },
    {
     "name": "stderr",
     "output_type": "stream",
     "text": [
      " 63%|███████████████████████████████████████████████████████████████████████████████████▊                                                 | 549/871 [28:21<11:20,  2.11s/it]"
     ]
    },
    {
     "name": "stdout",
     "output_type": "stream",
     "text": [
      "[]\n"
     ]
    },
    {
     "name": "stderr",
     "output_type": "stream",
     "text": [
      " 63%|███████████████████████████████████████████████████████████████████████████████████▉                                                 | 550/871 [28:23<12:23,  2.32s/it]"
     ]
    },
    {
     "name": "stdout",
     "output_type": "stream",
     "text": [
      "invalid character '“' (U+201C) (<unknown>, line 1)\n"
     ]
    },
    {
     "name": "stderr",
     "output_type": "stream",
     "text": [
      " 63%|████████████████████████████████████████████████████████████████████████████████████▏                                                | 551/871 [28:26<12:15,  2.30s/it]"
     ]
    },
    {
     "name": "stdout",
     "output_type": "stream",
     "text": [
      "[]\n"
     ]
    },
    {
     "name": "stderr",
     "output_type": "stream",
     "text": [
      " 63%|████████████████████████████████████████████████████████████████████████████████████▎                                                | 552/871 [28:28<12:24,  2.33s/it]"
     ]
    },
    {
     "name": "stdout",
     "output_type": "stream",
     "text": [
      "[]\n"
     ]
    },
    {
     "name": "stderr",
     "output_type": "stream",
     "text": [
      " 63%|████████████████████████████████████████████████████████████████████████████████████▍                                                | 553/871 [28:30<12:22,  2.34s/it]"
     ]
    },
    {
     "name": "stdout",
     "output_type": "stream",
     "text": [
      "[]\n"
     ]
    },
    {
     "name": "stderr",
     "output_type": "stream",
     "text": [
      " 64%|████████████████████████████████████████████████████████████████████████████████████▌                                                | 554/871 [28:32<11:37,  2.20s/it]"
     ]
    },
    {
     "name": "stdout",
     "output_type": "stream",
     "text": [
      "[]\n"
     ]
    },
    {
     "name": "stderr",
     "output_type": "stream",
     "text": [
      " 64%|████████████████████████████████████████████████████████████████████████████████████▋                                                | 555/871 [28:35<11:51,  2.25s/it]"
     ]
    },
    {
     "name": "stdout",
     "output_type": "stream",
     "text": [
      "[]\n"
     ]
    },
    {
     "name": "stderr",
     "output_type": "stream",
     "text": [
      " 64%|████████████████████████████████████████████████████████████████████████████████████▉                                                | 556/871 [28:38<13:58,  2.66s/it]"
     ]
    },
    {
     "name": "stdout",
     "output_type": "stream",
     "text": [
      "[['Adobe Photoshop CS6', 0], ['Adobe Illustrator', 0], ['Pack Microsoft Office', 0], ['Sony Vegas Pro 15', 0]]\n"
     ]
    },
    {
     "name": "stderr",
     "output_type": "stream",
     "text": [
      " 64%|█████████████████████████████████████████████████████████████████████████████████████                                                | 557/871 [28:41<14:34,  2.78s/it]"
     ]
    },
    {
     "name": "stdout",
     "output_type": "stream",
     "text": [
      "[['Photoshop', 0], ['InDesign', 0], ['Wordpress', 0], ['MS Word', 0], ['Joomla', 0], ['Motivation', 0], ['Honesty', 0], ['Teamleader', 0]]\n"
     ]
    },
    {
     "name": "stderr",
     "output_type": "stream",
     "text": [
      " 64%|█████████████████████████████████████████████████████████████████████████████████████▏                                               | 558/871 [28:44<14:49,  2.84s/it]"
     ]
    },
    {
     "name": "stdout",
     "output_type": "stream",
     "text": [
      "[['TECHNICAL SKILL #1', 0], ['TECHNICAL SKILL #2', 0], ['TECHNICAL SKILL #3', 0], ['TECHNICAL SKILL #4', 0], ['TECHNICAL SKILL #5', 0]]\n"
     ]
    },
    {
     "name": "stderr",
     "output_type": "stream",
     "text": [
      " 64%|█████████████████████████████████████████████████████████████████████████████████████▎                                               | 559/871 [28:48<15:45,  3.03s/it]"
     ]
    },
    {
     "name": "stdout",
     "output_type": "stream",
     "text": [
      "[['TECHNICAL SKILL #1', 0], ['TECHNICAL SKILL #2', 0], ['TECHNICAL SKILL #3', 0], ['TECHNICAL SKILL #4', 0], ['TECHNICAL SKILL #5', 0]]\n"
     ]
    },
    {
     "name": "stderr",
     "output_type": "stream",
     "text": [
      " 64%|█████████████████████████████████████████████████████████████████████████████████████▌                                               | 560/871 [28:52<17:10,  3.31s/it]"
     ]
    },
    {
     "name": "stdout",
     "output_type": "stream",
     "text": [
      "[['Photoshop', 0], ['InDesign', 0], ['Wordpress', 0], ['MS Word', 0], ['Joomla', 0], ['Motivation', 0], ['Honesty', 0], ['Teamleader', 0]]\n"
     ]
    },
    {
     "name": "stderr",
     "output_type": "stream",
     "text": [
      " 64%|█████████████████████████████████████████████████████████████████████████████████████▋                                               | 561/871 [28:55<16:41,  3.23s/it]"
     ]
    },
    {
     "name": "stdout",
     "output_type": "stream",
     "text": [
      "[['Google Analytics', 60], ['media sosial', 60], ['Pemasaran', 45], ['Konten Web', 45], ['Blogging', 30]]\n"
     ]
    },
    {
     "name": "stderr",
     "output_type": "stream",
     "text": [
      " 65%|█████████████████████████████████████████████████████████████████████████████████████▊                                               | 562/871 [28:58<16:13,  3.15s/it]"
     ]
    },
    {
     "name": "stdout",
     "output_type": "stream",
     "text": [
      "[['Google Analytics', 60], ['media sosial', 60], ['Pemasaran', 50], ['Konten Web', 50], ['Blogging', 40]]\n"
     ]
    },
    {
     "name": "stderr",
     "output_type": "stream",
     "text": [
      " 65%|█████████████████████████████████████████████████████████████████████████████████████▉                                               | 563/871 [29:01<16:15,  3.17s/it]"
     ]
    },
    {
     "name": "stdout",
     "output_type": "stream",
     "text": [
      "[['Google Analytics', 60], ['media sosial', 60], ['Pemasaran', 50], ['Konten Web', 45], ['Blogging', 40]]\n"
     ]
    },
    {
     "name": "stderr",
     "output_type": "stream",
     "text": [
      " 65%|██████████████████████████████████████████████████████████████████████████████████████                                               | 564/871 [29:05<16:41,  3.26s/it]"
     ]
    },
    {
     "name": "stdout",
     "output_type": "stream",
     "text": [
      "invalid character '“' (U+201C) (<unknown>, line 1)\n"
     ]
    },
    {
     "name": "stderr",
     "output_type": "stream",
     "text": [
      " 65%|██████████████████████████████████████████████████████████████████████████████████████▎                                              | 565/871 [29:08<16:17,  3.19s/it]"
     ]
    },
    {
     "name": "stdout",
     "output_type": "stream",
     "text": [
      "[['Google Analytics', 60], ['media sosial', 60], ['Pemasaran', 0], ['Konten Web', 0], ['Blogging', 0]]\n"
     ]
    },
    {
     "name": "stderr",
     "output_type": "stream",
     "text": [
      " 65%|██████████████████████████████████████████████████████████████████████████████████████▍                                              | 566/871 [29:11<16:36,  3.27s/it]"
     ]
    },
    {
     "name": "stdout",
     "output_type": "stream",
     "text": [
      "[['Google Analytics', 60], ['media sosial', 50], ['Pemasaran', 45], ['Konten Web', 40], ['Blogging', 30]]\n"
     ]
    },
    {
     "name": "stderr",
     "output_type": "stream",
     "text": [
      " 65%|██████████████████████████████████████████████████████████████████████████████████████▌                                              | 567/871 [29:14<15:42,  3.10s/it]"
     ]
    },
    {
     "name": "stdout",
     "output_type": "stream",
     "text": [
      "[['Google Analytics', 60], ['media sosial', 60], ['Pemasaran', 50], ['Konten Web', 40], ['Blogging', 50]]\n"
     ]
    },
    {
     "name": "stderr",
     "output_type": "stream",
     "text": [
      " 65%|██████████████████████████████████████████████████████████████████████████████████████▋                                              | 568/871 [29:16<15:08,  3.00s/it]"
     ]
    },
    {
     "name": "stdout",
     "output_type": "stream",
     "text": [
      "[['Multimedia interactif', 0], ['Design', 0], ['Ergonomie et UX', 0], ['Adobe Master Collection 5.5', 0], ['Photoshop', 0], ['Illustrator', 0], ['After Effect', 0], ['Proactivité', 0], ['Personnalisation', 0], ['Perfectionnisme', 0]]\n"
     ]
    },
    {
     "name": "stderr",
     "output_type": "stream",
     "text": [
      " 65%|██████████████████████████████████████████████████████████████████████████████████████▉                                              | 569/871 [29:21<17:19,  3.44s/it]"
     ]
    },
    {
     "name": "stdout",
     "output_type": "stream",
     "text": [
      "[['Multimedia interactif', 0], ['Création et design numérique', 0], ['Conception ergonomique et UX', 0], ['Adobe Master Collection 5.5', 0], ['Adobe Photoshop', 0], ['Adobe Illustrator', 0], ['Adobe After Effect', 0], [\"Esprit d'équipe\", 0], ['Sens des initiatives', 0], ['Rigueur et perfectionnisme', 0]]\n"
     ]
    },
    {
     "name": "stderr",
     "output_type": "stream",
     "text": [
      " 65%|███████████████████████████████████████████████████████████████████████████████████████                                              | 570/871 [29:28<22:06,  4.41s/it]"
     ]
    },
    {
     "name": "stdout",
     "output_type": "stream",
     "text": [
      "[['Multimedia interactive design', 0], ['Graphic design', 0], ['Web design', 0], ['User experience (UX)', 0], ['Adobe Master Collection 5.5', 0], ['Photoshop', 0], ['InDesign', 0], ['After Effect', 0], ['Creativity', 0], ['Teamwork', 0], ['Organization', 0], ['Perfectionism', 0]]\n"
     ]
    },
    {
     "name": "stderr",
     "output_type": "stream",
     "text": [
      " 66%|███████████████████████████████████████████████████████████████████████████████████████▏                                             | 571/871 [29:31<20:45,  4.15s/it]"
     ]
    },
    {
     "name": "stdout",
     "output_type": "stream",
     "text": [
      "[['Photoshop', 0], ['InDesign', 0], ['Wordpress', 0], ['MS Word', 0], ['Joomla', 0], ['Motivation', 0], ['Honesty', 0], ['Teamleader', 0]]\n"
     ]
    },
    {
     "name": "stderr",
     "output_type": "stream",
     "text": [
      " 66%|███████████████████████████████████████████████████████████████████████████████████████▎                                             | 572/871 [29:34<18:59,  3.81s/it]"
     ]
    },
    {
     "name": "stdout",
     "output_type": "stream",
     "text": [
      "[]\n"
     ]
    },
    {
     "name": "stderr",
     "output_type": "stream",
     "text": [
      " 66%|███████████████████████████████████████████████████████████████████████████████████████▍                                             | 573/871 [29:37<17:51,  3.59s/it]"
     ]
    },
    {
     "name": "stdout",
     "output_type": "stream",
     "text": [
      "[]\n"
     ]
    },
    {
     "name": "stderr",
     "output_type": "stream",
     "text": [
      " 66%|███████████████████████████████████████████████████████████████████████████████████████▋                                             | 574/871 [29:41<17:16,  3.49s/it]"
     ]
    },
    {
     "name": "stdout",
     "output_type": "stream",
     "text": [
      "[]\n"
     ]
    },
    {
     "name": "stderr",
     "output_type": "stream",
     "text": [
      " 66%|███████████████████████████████████████████████████████████████████████████████████████▊                                             | 575/871 [29:44<17:47,  3.61s/it]"
     ]
    },
    {
     "name": "stdout",
     "output_type": "stream",
     "text": [
      "[['Project management', 0], ['French', 0], ['English', 0], ['Spanish', 0], ['Microsoft Office', 0], ['Windows 7', 0], ['Windows 8', 0], ['Windows 10', 0], ['Class 5 driving license', 0]]\n"
     ]
    },
    {
     "name": "stderr",
     "output_type": "stream",
     "text": [
      " 66%|███████████████████████████████████████████████████████████████████████████████████████▉                                             | 576/871 [29:47<16:42,  3.40s/it]"
     ]
    },
    {
     "name": "stdout",
     "output_type": "stream",
     "text": [
      "[['Excel', 100], ['Java', 0], ['AdWords', 0], ['MediaMath T1 Platform', 0], ['Prisma', 0]]\n"
     ]
    },
    {
     "name": "stderr",
     "output_type": "stream",
     "text": [
      " 66%|████████████████████████████████████████████████████████████████████████████████████████                                             | 577/871 [29:51<16:28,  3.36s/it]"
     ]
    },
    {
     "name": "stdout",
     "output_type": "stream",
     "text": [
      "[['Project management', 0], ['French', 0], ['English', 0], ['Spanish', 0], ['Microsoft Office', 0], ['Windows 7', 0], ['Windows 8', 0], ['Windows 10', 0], ['Class 5 driving license', 0]]\n"
     ]
    },
    {
     "name": "stderr",
     "output_type": "stream",
     "text": [
      " 66%|████████████████████████████████████████████████████████████████████████████████████████▎                                            | 578/871 [29:53<15:12,  3.12s/it]"
     ]
    },
    {
     "name": "stdout",
     "output_type": "stream",
     "text": [
      "[['Excel', 100], ['Java', 0], ['AdWords', 0], ['MediaMath T1 Platform', 0], ['Prisma', 0]]\n"
     ]
    },
    {
     "name": "stderr",
     "output_type": "stream",
     "text": [
      " 66%|████████████████████████████████████████████████████████████████████████████████████████▍                                            | 579/871 [29:56<14:53,  3.06s/it]"
     ]
    },
    {
     "name": "stdout",
     "output_type": "stream",
     "text": [
      "[['Excel', 100], ['Java', 0], ['AdWords', 0], ['MediaMath T1 Platform', 0], ['Prisma', 0]]\n"
     ]
    },
    {
     "name": "stderr",
     "output_type": "stream",
     "text": [
      " 67%|████████████████████████████████████████████████████████████████████████████████████████▌                                            | 580/871 [30:00<16:16,  3.36s/it]"
     ]
    },
    {
     "name": "stdout",
     "output_type": "stream",
     "text": [
      "[['Argumentation commerciale', 0], [\"Modalités d'accueil\", 0], ['Principes de la relation client', 0], [\"Procédures d'encaissement\", 0], ['Règles de gestion de stock', 0], ['Techniques de mise en rayon', 0], ['Techniques de vente', 0], ['Word', 0], ['Excel', 0]]\n"
     ]
    },
    {
     "name": "stderr",
     "output_type": "stream",
     "text": [
      " 67%|████████████████████████████████████████████████████████████████████████████████████████▋                                            | 581/871 [30:03<15:40,  3.24s/it]"
     ]
    },
    {
     "name": "stdout",
     "output_type": "stream",
     "text": [
      "[['Project management', 0], ['Other skills you can enter here', 0]]\n"
     ]
    },
    {
     "name": "stderr",
     "output_type": "stream",
     "text": [
      " 67%|████████████████████████████████████████████████████████████████████████████████████████▊                                            | 582/871 [30:05<13:41,  2.84s/it]"
     ]
    },
    {
     "name": "stdout",
     "output_type": "stream",
     "text": [
      "[]\n"
     ]
    },
    {
     "name": "stderr",
     "output_type": "stream",
     "text": [
      " 67%|█████████████████████████████████████████████████████████████████████████████████████████                                            | 583/871 [30:07<12:44,  2.65s/it]"
     ]
    },
    {
     "name": "stdout",
     "output_type": "stream",
     "text": [
      "[]\n"
     ]
    },
    {
     "name": "stderr",
     "output_type": "stream",
     "text": [
      " 67%|█████████████████████████████████████████████████████████████████████████████████████████▏                                           | 584/871 [30:10<12:39,  2.65s/it]"
     ]
    },
    {
     "name": "stdout",
     "output_type": "stream",
     "text": [
      "[['Resultaatgericht', 0], ['Leergierig', 0], ['Zelfstandig', 0], ['Analytisch', 0], ['Betrouwbaar', 0], ['Doorzettend', 0], ['Loyal', 0]]\n"
     ]
    },
    {
     "name": "stderr",
     "output_type": "stream",
     "text": [
      " 67%|█████████████████████████████████████████████████████████████████████████████████████████▎                                           | 585/871 [30:12<11:12,  2.35s/it]"
     ]
    },
    {
     "name": "stdout",
     "output_type": "stream",
     "text": [
      "[]\n"
     ]
    },
    {
     "name": "stderr",
     "output_type": "stream",
     "text": [
      " 67%|█████████████████████████████████████████████████████████████████████████████████████████▍                                           | 586/871 [30:14<11:46,  2.48s/it]"
     ]
    },
    {
     "name": "stdout",
     "output_type": "stream",
     "text": [
      "[['SKILL NUMBER 1', 0], ['SKILL NUMBER 2', 0]]\n"
     ]
    },
    {
     "name": "stderr",
     "output_type": "stream",
     "text": [
      " 67%|█████████████████████████████████████████████████████████████████████████████████████████▋                                           | 587/871 [30:16<10:09,  2.15s/it]"
     ]
    },
    {
     "name": "stdout",
     "output_type": "stream",
     "text": [
      "[]\n"
     ]
    },
    {
     "name": "stderr",
     "output_type": "stream",
     "text": [
      " 68%|█████████████████████████████████████████████████████████████████████████████████████████▊                                           | 588/871 [30:18<09:53,  2.10s/it]"
     ]
    },
    {
     "name": "stdout",
     "output_type": "stream",
     "text": [
      "[]\n"
     ]
    },
    {
     "name": "stderr",
     "output_type": "stream",
     "text": [
      " 68%|█████████████████████████████████████████████████████████████████████████████████████████▉                                           | 589/871 [30:21<11:09,  2.37s/it]"
     ]
    },
    {
     "name": "stdout",
     "output_type": "stream",
     "text": [
      "[['SKILL NUMBER 1', 0], ['SKILL NUMBER 2', 0]]\n"
     ]
    },
    {
     "name": "stderr",
     "output_type": "stream",
     "text": [
      " 68%|██████████████████████████████████████████████████████████████████████████████████████████                                           | 590/871 [30:23<11:16,  2.41s/it]"
     ]
    },
    {
     "name": "stdout",
     "output_type": "stream",
     "text": [
      "[['SKILL NUMBER 1', 0], ['SKILL NUMBER 2', 0]]\n"
     ]
    },
    {
     "name": "stderr",
     "output_type": "stream",
     "text": [
      " 68%|██████████████████████████████████████████████████████████████████████████████████████████▏                                          | 591/871 [30:24<09:23,  2.01s/it]"
     ]
    },
    {
     "name": "stdout",
     "output_type": "stream",
     "text": [
      "[]\n"
     ]
    },
    {
     "name": "stderr",
     "output_type": "stream",
     "text": [
      " 68%|██████████████████████████████████████████████████████████████████████████████████████████▍                                          | 592/871 [30:27<10:07,  2.18s/it]"
     ]
    },
    {
     "name": "stdout",
     "output_type": "stream",
     "text": [
      "[]\n"
     ]
    },
    {
     "name": "stderr",
     "output_type": "stream",
     "text": [
      " 68%|██████████████████████████████████████████████████████████████████████████████████████████▌                                          | 593/871 [30:32<13:39,  2.95s/it]"
     ]
    },
    {
     "name": "stdout",
     "output_type": "stream",
     "text": [
      "[['Php', 0], ['Java', 0], ['NodeJs', 0], ['MongoDB', 0]]\n"
     ]
    },
    {
     "name": "stderr",
     "output_type": "stream",
     "text": [
      " 68%|██████████████████████████████████████████████████████████████████████████████████████████▋                                          | 594/871 [30:35<13:41,  2.96s/it]"
     ]
    },
    {
     "name": "stdout",
     "output_type": "stream",
     "text": [
      "[['Php', 0], ['Java', 0], ['NodeJs', 0], ['MongoDB', 0]]\n"
     ]
    },
    {
     "name": "stderr",
     "output_type": "stream",
     "text": [
      " 68%|██████████████████████████████████████████████████████████████████████████████████████████▊                                          | 595/871 [30:36<11:32,  2.51s/it]"
     ]
    },
    {
     "name": "stdout",
     "output_type": "stream",
     "text": [
      "[]\n"
     ]
    },
    {
     "name": "stderr",
     "output_type": "stream",
     "text": [
      " 68%|███████████████████████████████████████████████████████████████████████████████████████████                                          | 596/871 [30:39<12:28,  2.72s/it]"
     ]
    },
    {
     "name": "stdout",
     "output_type": "stream",
     "text": [
      "[['Microsoft Office package', 0], ['Database operation', 0], ['Statistical operation', 0], ['Programming', 0]]\n"
     ]
    },
    {
     "name": "stderr",
     "output_type": "stream",
     "text": [
      " 69%|███████████████████████████████████████████████████████████████████████████████████████████▏                                         | 597/871 [30:42<12:02,  2.64s/it]"
     ]
    },
    {
     "name": "stdout",
     "output_type": "stream",
     "text": [
      "[['Microsoft Office package', 0], ['Database operation', 0], ['Statistical operation', 0], ['Programming', 0]]\n"
     ]
    },
    {
     "name": "stderr",
     "output_type": "stream",
     "text": [
      " 69%|███████████████████████████████████████████████████████████████████████████████████████████▎                                         | 598/871 [30:44<12:14,  2.69s/it]"
     ]
    },
    {
     "name": "stdout",
     "output_type": "stream",
     "text": [
      "[]\n"
     ]
    },
    {
     "name": "stderr",
     "output_type": "stream",
     "text": [
      " 69%|███████████████████████████████████████████████████████████████████████████████████████████▍                                         | 599/871 [30:48<13:37,  3.00s/it]"
     ]
    },
    {
     "name": "stdout",
     "output_type": "stream",
     "text": [
      "[['Php', 0], ['Java', 0], ['NodeJs', 0], ['MongoDB', 0]]\n"
     ]
    },
    {
     "name": "stderr",
     "output_type": "stream",
     "text": [
      " 69%|███████████████████████████████████████████████████████████████████████████████████████████▌                                         | 600/871 [30:51<12:45,  2.82s/it]"
     ]
    },
    {
     "name": "stdout",
     "output_type": "stream",
     "text": [
      "[['Microsoft Office package', 0], ['Database operation', 0], ['Statistical operation', 0], ['Programming', 0]]\n"
     ]
    },
    {
     "name": "stderr",
     "output_type": "stream",
     "text": [
      " 69%|███████████████████████████████████████████████████████████████████████████████████████████▊                                         | 601/871 [30:54<12:53,  2.86s/it]"
     ]
    },
    {
     "name": "stdout",
     "output_type": "stream",
     "text": [
      "[['Pack Microsoft Office', 0], ['Photoshop CS6', 0], ['Sony Vegas Pro', 0], ['Adobe Illustrator', 0], ['Google gadgets', 0]]\n"
     ]
    },
    {
     "name": "stderr",
     "output_type": "stream",
     "text": [
      " 69%|███████████████████████████████████████████████████████████████████████████████████████████▉                                         | 602/871 [30:55<11:30,  2.57s/it]"
     ]
    },
    {
     "name": "stdout",
     "output_type": "stream",
     "text": [
      "[['Public Relations', 0], ['Media Relations', 0], ['Crisis Communication', 0], ['Event Planning', 0], ['Social Media Management', 0], ['Content Creation', 0], ['Research and Analysis', 0], ['Bilingual Communication', 0]]\n"
     ]
    },
    {
     "name": "stderr",
     "output_type": "stream",
     "text": [
      " 69%|████████████████████████████████████████████████████████████████████████████████████████████                                         | 603/871 [30:59<12:42,  2.85s/it]"
     ]
    },
    {
     "name": "stdout",
     "output_type": "stream",
     "text": [
      "[['Pack Microsoft Office', 0], ['Photoshop CS6', 0], ['Sony Vegas Pro', 0], ['Adobe Illustrator', 0], ['Google gadgets', 0]]\n"
     ]
    },
    {
     "name": "stderr",
     "output_type": "stream",
     "text": [
      " 69%|████████████████████████████████████████████████████████████████████████████████████████████▏                                        | 604/871 [31:02<13:33,  3.05s/it]"
     ]
    },
    {
     "name": "stdout",
     "output_type": "stream",
     "text": [
      "[['Communication', 0], ['Organization', 0], ['Active Listening', 0], ['Office Suite', 0], ['Time Management', 0], ['Attention to Detail', 0], ['Multi-tasking', 0]]\n"
     ]
    },
    {
     "name": "stderr",
     "output_type": "stream",
     "text": [
      " 69%|████████████████████████████████████████████████████████████████████████████████████████████▍                                        | 605/871 [31:07<15:44,  3.55s/it]"
     ]
    },
    {
     "name": "stdout",
     "output_type": "stream",
     "text": [
      "[['ML libraries & algorithms', 0], ['Scrum', 0], ['DevOps', 0], ['Data Migration', 0], ['Data Integration', 0], ['Infrastructure', 0], ['Cloud', 0], ['Product Development', 0], ['SQL', 0], ['Tableau', 0], ['AWS', 0], ['JIRA', 0], ['Python', 0], ['R', 0], ['HTML', 0], ['JavaScript', 0], ['Oracle', 0], ['Ruby', 0], ['Linux', 0]]\n"
     ]
    },
    {
     "name": "stderr",
     "output_type": "stream",
     "text": [
      " 70%|████████████████████████████████████████████████████████████████████████████████████████████▌                                        | 606/871 [31:11<15:37,  3.54s/it]"
     ]
    },
    {
     "name": "stdout",
     "output_type": "stream",
     "text": [
      "[['Communication', 0], ['Organization', 0], ['Active Listening', 0], ['Office Suite', 0], ['Time Management', 0], ['Attention to Detail', 0], ['Multi-tasking', 0]]\n"
     ]
    },
    {
     "name": "stderr",
     "output_type": "stream",
     "text": [
      " 70%|████████████████████████████████████████████████████████████████████████████████████████████▋                                        | 607/871 [31:13<14:28,  3.29s/it]"
     ]
    },
    {
     "name": "stdout",
     "output_type": "stream",
     "text": [
      "[['Pack Microsoft Office', 0], ['Photoshop C56', 0], ['Sony Vegas Pro', 0], ['Adobe Illustrator', 0], ['Google gadgets', 0]]\n"
     ]
    },
    {
     "name": "stderr",
     "output_type": "stream",
     "text": [
      " 70%|████████████████████████████████████████████████████████████████████████████████████████████▊                                        | 608/871 [31:16<14:00,  3.19s/it]"
     ]
    },
    {
     "name": "stdout",
     "output_type": "stream",
     "text": [
      "[['Communication', 0], ['Organization', 0], ['Active Listening', 0], ['Office Suite', 0], ['Time Management', 0], ['Attention to Detail', 0], ['Multi-tasking', 0]]\n"
     ]
    },
    {
     "name": "stderr",
     "output_type": "stream",
     "text": [
      " 70%|████████████████████████████████████████████████████████████████████████████████████████████▉                                        | 609/871 [31:20<14:08,  3.24s/it]"
     ]
    },
    {
     "name": "stdout",
     "output_type": "stream",
     "text": [
      "[['Communication', 0], ['Organization', 0], ['Active Listening', 0], ['Office Suite', 0], ['Time Management', 0], ['Attention to Detail', 0], ['Multi-tasking', 0]]\n"
     ]
    },
    {
     "name": "stderr",
     "output_type": "stream",
     "text": [
      " 70%|█████████████████████████████████████████████████████████████████████████████████████████████▏                                       | 610/871 [31:25<16:29,  3.79s/it]"
     ]
    },
    {
     "name": "stdout",
     "output_type": "stream",
     "text": [
      "[['ML libraries & algorithms', 0], ['Scrum', 0], ['DevOps', 0], ['Data Migration', 0], ['Data Integration', 0], ['Infrastructure', 0], ['Cloud', 0], ['Product Development', 0], ['SQL', 0], ['Tableau', 0], ['AWS', 0], ['JIRA', 0], ['Python', 0], ['R', 0], ['HTML', 0], ['JavaScript', 0], ['Oracle', 0], ['Ruby', 0], ['Linux', 0]]\n"
     ]
    },
    {
     "name": "stderr",
     "output_type": "stream",
     "text": [
      " 70%|█████████████████████████████████████████████████████████████████████████████████████████████▎                                       | 611/871 [31:28<15:23,  3.55s/it]"
     ]
    },
    {
     "name": "stdout",
     "output_type": "stream",
     "text": [
      "[['Communication', 0], ['Organization', 0], ['Active Listening', 0], ['Office Suite', 0], ['Time Management', 0], ['Attention to Detail', 0], ['Multi-tasking', 0]]\n"
     ]
    },
    {
     "name": "stderr",
     "output_type": "stream",
     "text": [
      " 70%|█████████████████████████████████████████████████████████████████████████████████████████████▍                                       | 612/871 [31:32<16:10,  3.75s/it]"
     ]
    },
    {
     "name": "stdout",
     "output_type": "stream",
     "text": [
      "[['ML libraries & algorithms', 0], ['Scrum', 0], ['DevOps', 0], ['Data Migration', 0], ['Data Integration', 0], ['Infrastructure', 0], ['Cloud', 0], ['Product Development', 0], ['SQL', 0], ['Tableau', 0], ['AWS', 0], ['JIRA', 0], ['Python', 0], ['R', 0], ['HTML', 0], ['JavaScript', 0], ['Oracle', 0], ['Ruby', 0], ['Linux', 0]]\n"
     ]
    },
    {
     "name": "stderr",
     "output_type": "stream",
     "text": [
      " 70%|█████████████████████████████████████████████████████████████████████████████████████████████▌                                       | 613/871 [31:35<15:41,  3.65s/it]"
     ]
    },
    {
     "name": "stdout",
     "output_type": "stream",
     "text": [
      "[['WordPress', 80], ['Adobe Illustrator', 70], ['Adobe Photoshop', 90], ['Joomla', 60], ['Adobe InDesign', 50], ['Communication', 70], ['Creativity', 60], ['Team Work', 80], ['Responsibility', 90], ['Personality', 100]]\n"
     ]
    },
    {
     "name": "stderr",
     "output_type": "stream",
     "text": [
      " 70%|█████████████████████████████████████████████████████████████████████████████████████████████▊                                       | 614/871 [31:40<16:13,  3.79s/it]"
     ]
    },
    {
     "name": "stdout",
     "output_type": "stream",
     "text": [
      "[['Wordpress', 70], ['Adobe Illustrator', 60], ['Adobe Photoshop', 80], ['Joomla', 50], ['Adobe Indesign', 40], ['Communication', 90], ['Creativity', 60], ['Team Work', 70], ['Responsibility', 80], ['Personality', 75]]\n"
     ]
    },
    {
     "name": "stderr",
     "output_type": "stream",
     "text": [
      " 71%|█████████████████████████████████████████████████████████████████████████████████████████████▉                                       | 615/871 [31:43<15:35,  3.66s/it]"
     ]
    },
    {
     "name": "stdout",
     "output_type": "stream",
     "text": [
      "[['Wordpress', 80], ['Adobe Illustrator', 70], ['Adobe Photoshop', 90], ['Joomla', 60], ['Adobe Indesign', 70], ['Communication', 80], ['Creativity', 75], ['Team Work', 85], ['Responsibility', 90], ['Personality', 70]]\n"
     ]
    },
    {
     "name": "stderr",
     "output_type": "stream",
     "text": [
      " 71%|██████████████████████████████████████████████████████████████████████████████████████████████                                       | 616/871 [31:44<12:53,  3.03s/it]"
     ]
    },
    {
     "name": "stdout",
     "output_type": "stream",
     "text": [
      "[]\n"
     ]
    },
    {
     "name": "stderr",
     "output_type": "stream",
     "text": [
      " 71%|██████████████████████████████████████████████████████████████████████████████████████████████▏                                      | 617/871 [31:48<12:58,  3.06s/it]"
     ]
    },
    {
     "name": "stdout",
     "output_type": "stream",
     "text": [
      "[['Communication', 0], ['Organization', 0], ['Active Listening', 0], ['Office Suite', 0], ['Time Management', 0], ['Attention to Detail', 0], ['Multi-tasking', 0]]\n"
     ]
    },
    {
     "name": "stderr",
     "output_type": "stream",
     "text": [
      " 71%|██████████████████████████████████████████████████████████████████████████████████████████████▎                                      | 618/871 [31:49<10:55,  2.59s/it]"
     ]
    },
    {
     "name": "stdout",
     "output_type": "stream",
     "text": [
      "[]\n"
     ]
    },
    {
     "name": "stderr",
     "output_type": "stream",
     "text": [
      " 71%|██████████████████████████████████████████████████████████████████████████████████████████████▌                                      | 619/871 [31:52<11:45,  2.80s/it]"
     ]
    },
    {
     "name": "stdout",
     "output_type": "stream",
     "text": [
      "[]\n"
     ]
    },
    {
     "name": "stderr",
     "output_type": "stream",
     "text": [
      " 71%|██████████████████████████████████████████████████████████████████████████████████████████████▋                                      | 620/871 [31:54<10:43,  2.57s/it]"
     ]
    },
    {
     "name": "stdout",
     "output_type": "stream",
     "text": [
      "[]\n"
     ]
    },
    {
     "name": "stderr",
     "output_type": "stream",
     "text": [
      " 71%|██████████████████████████████████████████████████████████████████████████████████████████████▊                                      | 621/871 [31:56<09:35,  2.30s/it]"
     ]
    },
    {
     "name": "stdout",
     "output_type": "stream",
     "text": [
      "[]\n"
     ]
    },
    {
     "name": "stderr",
     "output_type": "stream",
     "text": [
      " 71%|██████████████████████████████████████████████████████████████████████████████████████████████▉                                      | 622/871 [31:58<08:57,  2.16s/it]"
     ]
    },
    {
     "name": "stdout",
     "output_type": "stream",
     "text": [
      "[]\n"
     ]
    },
    {
     "name": "stderr",
     "output_type": "stream",
     "text": [
      " 72%|███████████████████████████████████████████████████████████████████████████████████████████████▏                                     | 623/871 [32:00<08:37,  2.09s/it]"
     ]
    },
    {
     "name": "stdout",
     "output_type": "stream",
     "text": [
      "[]\n"
     ]
    },
    {
     "name": "stderr",
     "output_type": "stream",
     "text": [
      " 72%|███████████████████████████████████████████████████████████████████████████████████████████████▎                                     | 624/871 [32:02<08:44,  2.12s/it]"
     ]
    },
    {
     "name": "stdout",
     "output_type": "stream",
     "text": [
      "[]\n"
     ]
    },
    {
     "name": "stderr",
     "output_type": "stream",
     "text": [
      " 72%|███████████████████████████████████████████████████████████████████████████████████████████████▍                                     | 625/871 [32:04<09:06,  2.22s/it]"
     ]
    },
    {
     "name": "stdout",
     "output_type": "stream",
     "text": [
      "[]\n"
     ]
    },
    {
     "name": "stderr",
     "output_type": "stream",
     "text": [
      " 72%|███████████████████████████████████████████████████████████████████████████████████████████████▌                                     | 626/871 [32:09<12:11,  2.99s/it]"
     ]
    },
    {
     "name": "stdout",
     "output_type": "stream",
     "text": [
      "[['Project Management', 80], ['Software Development', 60], ['Budgeting and Cost Analysis', 60], ['Enterprise Resource Planning', 60], ['Staff and User Training', 60], ['Process Improvement', 60]]\n"
     ]
    },
    {
     "name": "stderr",
     "output_type": "stream",
     "text": [
      " 72%|███████████████████████████████████████████████████████████████████████████████████████████████▋                                     | 627/871 [32:15<15:49,  3.89s/it]"
     ]
    },
    {
     "name": "stdout",
     "output_type": "stream",
     "text": [
      "[['Project Management', 0], ['Software Development', 0], ['Budgeting and Cost Analysis', 0], ['Enterprise Resource Planning', 0], ['Staff and User Training', 0], ['Process Improvement', 0]]\n"
     ]
    },
    {
     "name": "stderr",
     "output_type": "stream",
     "text": [
      " 72%|███████████████████████████████████████████████████████████████████████████████████████████████▉                                     | 628/871 [32:18<14:28,  3.57s/it]"
     ]
    },
    {
     "name": "stdout",
     "output_type": "stream",
     "text": [
      "[['Project Management', 0], ['Software Development', 0], ['Budgeting and Cost Analysis', 0], ['Enterprise Resource Planning', 0], ['Staff and User Training', 0], ['Process Improvement', 0]]\n"
     ]
    },
    {
     "name": "stderr",
     "output_type": "stream",
     "text": [
      " 72%|████████████████████████████████████████████████████████████████████████████████████████████████                                     | 629/871 [32:21<13:37,  3.38s/it]"
     ]
    },
    {
     "name": "stdout",
     "output_type": "stream",
     "text": [
      "[['Inventory', 0], ['Inventory Control', 0], ['Budgets', 0], ['Facilities Management', 0], ['Problem Solver', 0], ['Logistics Management', 0], ['Operations Management', 0], ['Process Improvement', 0], ['Project Management', 0]]\n"
     ]
    },
    {
     "name": "stderr",
     "output_type": "stream",
     "text": [
      " 72%|████████████████████████████████████████████████████████████████████████████████████████████████▏                                    | 630/871 [32:23<12:29,  3.11s/it]"
     ]
    },
    {
     "name": "stdout",
     "output_type": "stream",
     "text": [
      "[['Inventory', 0], ['Inventory Control', 0], ['Budgets', 0], ['Facilities Management', 0], ['Problem Solver', 0], ['Logistics Management', 0], ['Operations Management', 0], ['Process Improvement', 0], ['Project Management', 0]]\n"
     ]
    },
    {
     "name": "stderr",
     "output_type": "stream",
     "text": [
      " 72%|████████████████████████████████████████████████████████████████████████████████████████████████▎                                    | 631/871 [32:27<12:26,  3.11s/it]"
     ]
    },
    {
     "name": "stdout",
     "output_type": "stream",
     "text": [
      "[['Inventory', 0], ['Inventory Control', 0], ['Budgets', 0], ['Facilities Management', 0], ['Problem Solver', 0], ['Logistics Management', 0], ['Operations Management', 0], ['Process Improvement', 0], ['Project Management', 0]]\n"
     ]
    },
    {
     "name": "stderr",
     "output_type": "stream",
     "text": [
      " 73%|████████████████████████████████████████████████████████████████████████████████████████████████▌                                    | 632/871 [32:29<11:05,  2.78s/it]"
     ]
    },
    {
     "name": "stdout",
     "output_type": "stream",
     "text": [
      "[['Adobe Photoshop', 0], ['Adobe Illustrator', 0], ['Adobe After Effects', 0], ['WordPress', 0]]\n"
     ]
    },
    {
     "name": "stderr",
     "output_type": "stream",
     "text": [
      " 73%|████████████████████████████████████████████████████████████████████████████████████████████████▋                                    | 633/871 [32:31<10:15,  2.59s/it]"
     ]
    },
    {
     "name": "stdout",
     "output_type": "stream",
     "text": [
      "[]\n"
     ]
    },
    {
     "name": "stderr",
     "output_type": "stream",
     "text": [
      " 73%|████████████████████████████████████████████████████████████████████████████████████████████████▊                                    | 634/871 [32:33<09:54,  2.51s/it]"
     ]
    },
    {
     "name": "stdout",
     "output_type": "stream",
     "text": [
      "[['Adobe Photoshop', 0], ['Adobe Illustrator', 0], ['Adobe After Effects', 0], ['Wordpress', 0]]\n"
     ]
    },
    {
     "name": "stderr",
     "output_type": "stream",
     "text": [
      " 73%|████████████████████████████████████████████████████████████████████████████████████████████████▉                                    | 635/871 [32:36<10:33,  2.68s/it]"
     ]
    },
    {
     "name": "stdout",
     "output_type": "stream",
     "text": [
      "[['User Interface Design', 0], ['User Experience Design', 0], ['Adobe Photoshop', 0], ['Sketch', 0], ['AfterEffects', 0], ['Adobe Illustrator', 0]]\n"
     ]
    },
    {
     "name": "stderr",
     "output_type": "stream",
     "text": [
      " 73%|█████████████████████████████████████████████████████████████████████████████████████████████████                                    | 636/871 [32:40<11:54,  3.04s/it]"
     ]
    },
    {
     "name": "stdout",
     "output_type": "stream",
     "text": [
      "[['User Interface Design', 0], ['User Experience Design', 0], ['Adobe Photoshop', 0], ['Sketch', 0], ['AfterEffects', 0], ['Adobe Illustrator', 0]]\n"
     ]
    },
    {
     "name": "stderr",
     "output_type": "stream",
     "text": [
      " 73%|█████████████████████████████████████████████████████████████████████████████████████████████████▎                                   | 637/871 [32:43<12:06,  3.10s/it]"
     ]
    },
    {
     "name": "stdout",
     "output_type": "stream",
     "text": [
      "[['User Interface Design', 0], ['User Experience Design', 0], ['Adobe Photoshop', 0], ['Sketch', 0], ['AfterEffects', 0], ['Adobe Illustrator', 0]]\n"
     ]
    },
    {
     "name": "stderr",
     "output_type": "stream",
     "text": [
      " 73%|█████████████████████████████████████████████████████████████████████████████████████████████████▍                                   | 638/871 [32:45<10:58,  2.83s/it]"
     ]
    },
    {
     "name": "stdout",
     "output_type": "stream",
     "text": [
      "[]\n"
     ]
    },
    {
     "name": "stderr",
     "output_type": "stream",
     "text": [
      " 73%|█████████████████████████████████████████████████████████████████████████████████████████████████▌                                   | 639/871 [32:48<10:06,  2.61s/it]"
     ]
    },
    {
     "name": "stdout",
     "output_type": "stream",
     "text": [
      "[['Photoshop', 0], ['Illustrator', 0], ['After Effects', 0], ['Design', 0]]\n"
     ]
    },
    {
     "name": "stderr",
     "output_type": "stream",
     "text": [
      " 73%|█████████████████████████████████████████████████████████████████████████████████████████████████▋                                   | 640/871 [32:49<08:49,  2.29s/it]"
     ]
    },
    {
     "name": "stdout",
     "output_type": "stream",
     "text": [
      "[]\n"
     ]
    },
    {
     "name": "stderr",
     "output_type": "stream",
     "text": [
      " 74%|█████████████████████████████████████████████████████████████████████████████████████████████████▉                                   | 641/871 [32:51<08:04,  2.11s/it]"
     ]
    },
    {
     "name": "stdout",
     "output_type": "stream",
     "text": [
      "[['Adobe Photoshop', 0], ['Adobe Illustrator', 0], ['Adobe After Effects', 0], ['WordPress', 0]]\n"
     ]
    },
    {
     "name": "stderr",
     "output_type": "stream",
     "text": [
      " 74%|██████████████████████████████████████████████████████████████████████████████████████████████████                                   | 642/871 [32:53<07:55,  2.08s/it]"
     ]
    },
    {
     "name": "stdout",
     "output_type": "stream",
     "text": [
      "[['Photoshop', 0], ['Illustrator', 0], ['Adobe XD', 0], ['Design', 0], ['After Effects', 0]]\n"
     ]
    },
    {
     "name": "stderr",
     "output_type": "stream",
     "text": [
      " 74%|██████████████████████████████████████████████████████████████████████████████████████████████████▏                                  | 643/871 [32:56<09:02,  2.38s/it]"
     ]
    },
    {
     "name": "stdout",
     "output_type": "stream",
     "text": [
      "[['Photoshop', 0], ['Illustrator', 0], ['Design', 0], ['After Effects', 0]]\n"
     ]
    },
    {
     "name": "stderr",
     "output_type": "stream",
     "text": [
      " 74%|██████████████████████████████████████████████████████████████████████████████████████████████████▎                                  | 644/871 [32:59<10:02,  2.66s/it]"
     ]
    },
    {
     "name": "stdout",
     "output_type": "stream",
     "text": [
      "[]\n"
     ]
    },
    {
     "name": "stderr",
     "output_type": "stream",
     "text": [
      " 74%|██████████████████████████████████████████████████████████████████████████████████████████████████▍                                  | 645/871 [33:03<10:44,  2.85s/it]"
     ]
    },
    {
     "name": "stdout",
     "output_type": "stream",
     "text": [
      "[['MS Word', 0], ['MS Excel', 0], ['PTC Creo', 0], ['Catia', 0], ['Python', 0], ['Java', 0], ['CSS', 0]]\n"
     ]
    },
    {
     "name": "stderr",
     "output_type": "stream",
     "text": [
      " 74%|██████████████████████████████████████████████████████████████████████████████████████████████████▋                                  | 646/871 [33:05<10:02,  2.68s/it]"
     ]
    },
    {
     "name": "stdout",
     "output_type": "stream",
     "text": [
      "[['English', 0], ['Spanish', 0], ['Adobe', 0], ['Photoshop', 0], ['MS Word', 0]]\n"
     ]
    },
    {
     "name": "stderr",
     "output_type": "stream",
     "text": [
      " 74%|██████████████████████████████████████████████████████████████████████████████████████████████████▊                                  | 647/871 [33:07<09:53,  2.65s/it]"
     ]
    },
    {
     "name": "stdout",
     "output_type": "stream",
     "text": [
      "[]\n"
     ]
    },
    {
     "name": "stderr",
     "output_type": "stream",
     "text": [
      " 74%|██████████████████████████████████████████████████████████████████████████████████████████████████▉                                  | 648/871 [33:10<09:40,  2.61s/it]"
     ]
    },
    {
     "name": "stdout",
     "output_type": "stream",
     "text": [
      "[]\n"
     ]
    },
    {
     "name": "stderr",
     "output_type": "stream",
     "text": [
      " 75%|███████████████████████████████████████████████████████████████████████████████████████████████████                                  | 649/871 [33:13<10:19,  2.79s/it]"
     ]
    },
    {
     "name": "stdout",
     "output_type": "stream",
     "text": [
      "[['English', 0], ['Spanish', 0], ['Adobe', 0], ['Photoshop', 0], ['MS Word', 0]]\n"
     ]
    },
    {
     "name": "stderr",
     "output_type": "stream",
     "text": [
      " 75%|███████████████████████████████████████████████████████████████████████████████████████████████████▎                                 | 650/871 [33:16<10:56,  2.97s/it]"
     ]
    },
    {
     "name": "stdout",
     "output_type": "stream",
     "text": [
      "[['MS Word', 0], ['MS Excel', 0], ['PTC Creo', 0], ['Catia', 0], ['Python', 0], ['Java', 0], ['CSS', 0]]\n"
     ]
    },
    {
     "name": "stderr",
     "output_type": "stream",
     "text": [
      " 75%|███████████████████████████████████████████████████████████████████████████████████████████████████▍                                 | 651/871 [33:20<11:26,  3.12s/it]"
     ]
    },
    {
     "name": "stdout",
     "output_type": "stream",
     "text": [
      "[]\n"
     ]
    },
    {
     "name": "stderr",
     "output_type": "stream",
     "text": [
      " 75%|███████████████████████████████████████████████████████████████████████████████████████████████████▌                                 | 652/871 [33:23<11:28,  3.15s/it]"
     ]
    },
    {
     "name": "stdout",
     "output_type": "stream",
     "text": [
      "[['English', 0], ['Spanish', 0], ['Adobe', 0], ['Photoshop', 0], ['MS Word', 0]]\n"
     ]
    },
    {
     "name": "stderr",
     "output_type": "stream",
     "text": [
      " 75%|███████████████████████████████████████████████████████████████████████████████████████████████████▋                                 | 653/871 [33:26<11:19,  3.12s/it]"
     ]
    },
    {
     "name": "stdout",
     "output_type": "stream",
     "text": [
      "[['MS Word', 0], ['MS Excel', 0], ['PTC Creo', 0], ['Catia', 0], ['Python', 0], ['Java', 0], ['CSS', 0]]\n"
     ]
    },
    {
     "name": "stderr",
     "output_type": "stream",
     "text": [
      " 75%|███████████████████████████████████████████████████████████████████████████████████████████████████▊                                 | 654/871 [33:29<10:37,  2.94s/it]"
     ]
    },
    {
     "name": "stdout",
     "output_type": "stream",
     "text": [
      "[['Photoshop', 80], ['Illustrator', 70], ['InDesign', 60], ['Adobe XD', 50]]\n"
     ]
    },
    {
     "name": "stderr",
     "output_type": "stream",
     "text": [
      " 75%|████████████████████████████████████████████████████████████████████████████████████████████████████                                 | 655/871 [33:33<11:37,  3.23s/it]"
     ]
    },
    {
     "name": "stdout",
     "output_type": "stream",
     "text": [
      "[['MS Word', 0], ['MS Excel', 0], ['PTC Creo', 0], ['Catia', 0], ['Python', 0], ['Java', 0], ['CSS', 0]]\n"
     ]
    },
    {
     "name": "stderr",
     "output_type": "stream",
     "text": [
      " 75%|████████████████████████████████████████████████████████████████████████████████████████████████████▏                                | 656/871 [33:36<11:35,  3.23s/it]"
     ]
    },
    {
     "name": "stdout",
     "output_type": "stream",
     "text": [
      "[['Photoshop', 80], ['Illustrator', 70], ['InDesign', 60], ['Adobe XD', 50]]\n"
     ]
    },
    {
     "name": "stderr",
     "output_type": "stream",
     "text": [
      " 75%|████████████████████████████████████████████████████████████████████████████████████████████████████▎                                | 657/871 [33:39<11:41,  3.28s/it]"
     ]
    },
    {
     "name": "stdout",
     "output_type": "stream",
     "text": [
      "[['MS Word', 0], ['MS Excel', 0], ['PTC Creo', 0], ['Catia', 0], ['Python', 0], ['Java', 0], ['CSS', 0]]\n"
     ]
    },
    {
     "name": "stderr",
     "output_type": "stream",
     "text": [
      " 76%|████████████████████████████████████████████████████████████████████████████████████████████████████▍                                | 658/871 [33:42<10:39,  3.00s/it]"
     ]
    },
    {
     "name": "stdout",
     "output_type": "stream",
     "text": [
      "[['Photoshop', 80], ['Illustrator', 70], ['InDesign', 60], ['Adobe XD', 50]]\n"
     ]
    },
    {
     "name": "stderr",
     "output_type": "stream",
     "text": [
      " 76%|████████████████████████████████████████████████████████████████████████████████████████████████████▋                                | 659/871 [33:43<09:08,  2.59s/it]"
     ]
    },
    {
     "name": "stdout",
     "output_type": "stream",
     "text": [
      "[]\n"
     ]
    },
    {
     "name": "stderr",
     "output_type": "stream",
     "text": [
      " 76%|████████████████████████████████████████████████████████████████████████████████████████████████████▊                                | 660/871 [33:46<08:55,  2.54s/it]"
     ]
    },
    {
     "name": "stdout",
     "output_type": "stream",
     "text": [
      "[['UX/UI Design', 0], ['Graphic Design', 0], ['Web Design', 0], ['Data Analysis', 0], ['Adobe Photoshop', 0], ['Adobe Illustrator', 0], ['Adobe InDesign', 0], ['HTML/CSS', 0]]\n"
     ]
    },
    {
     "name": "stderr",
     "output_type": "stream",
     "text": [
      " 76%|████████████████████████████████████████████████████████████████████████████████████████████████████▉                                | 661/871 [33:48<09:08,  2.61s/it]"
     ]
    },
    {
     "name": "stdout",
     "output_type": "stream",
     "text": [
      "[['UX/UI Design', 0], ['Graphic Design', 0], ['Data Analysis', 0], ['Adobe Photoshop', 0], ['Adobe Illustrator', 0], ['Adobe InDesign', 0]]\n"
     ]
    },
    {
     "name": "stderr",
     "output_type": "stream",
     "text": [
      " 76%|█████████████████████████████████████████████████████████████████████████████████████████████████████                                | 662/871 [33:51<09:17,  2.67s/it]"
     ]
    },
    {
     "name": "stdout",
     "output_type": "stream",
     "text": [
      "[]\n"
     ]
    },
    {
     "name": "stderr",
     "output_type": "stream",
     "text": [
      " 76%|█████████████████████████████████████████████████████████████████████████████████████████████████████▏                               | 663/871 [33:55<09:54,  2.86s/it]"
     ]
    },
    {
     "name": "stdout",
     "output_type": "stream",
     "text": [
      "[]\n"
     ]
    },
    {
     "name": "stderr",
     "output_type": "stream",
     "text": [
      " 76%|█████████████████████████████████████████████████████████████████████████████████████████████████████▍                               | 664/871 [33:57<09:44,  2.82s/it]"
     ]
    },
    {
     "name": "stdout",
     "output_type": "stream",
     "text": [
      "[['UX/UI Design', 0], ['Web Design', 0], ['Branding', 0], ['Data Analysis', 0], ['Adobe Photoshop', 0], ['Adobe Illustrator', 0], ['Adobe InDesign', 0], ['HTML', 0], ['CSS', 0]]\n"
     ]
    },
    {
     "name": "stderr",
     "output_type": "stream",
     "text": [
      " 76%|█████████████████████████████████████████████████████████████████████████████████████████████████████▌                               | 665/871 [34:02<11:59,  3.49s/it]"
     ]
    },
    {
     "name": "stdout",
     "output_type": "stream",
     "text": [
      "[['Understands the learning process for special needs students with a range of mental and physical special needs and learning disabilities', 0], ['Can employ a range of learning support techniques to suit individuals', 0], ['Can understand and follow lesson plans', 0], ['Health and safety trained including first aid, manual handling and challenging behaviour', 0], ['Excellent team member with strong communication skills', 0]]\n"
     ]
    },
    {
     "name": "stderr",
     "output_type": "stream",
     "text": [
      " 76%|█████████████████████████████████████████████████████████████████████████████████████████████████████▋                               | 666/871 [34:06<11:46,  3.45s/it]"
     ]
    },
    {
     "name": "stdout",
     "output_type": "stream",
     "text": [
      "[['understands the learning process for special needs students', 0], ['can employ a range of learning support techniques', 0], ['can understand and follow lesson plans', 0], ['health and safety trained including first aid', 0], ['excellent team member with strong communication skills', 0]]\n"
     ]
    },
    {
     "name": "stderr",
     "output_type": "stream",
     "text": [
      " 77%|█████████████████████████████████████████████████████████████████████████████████████████████████████▊                               | 667/871 [34:09<11:08,  3.28s/it]"
     ]
    },
    {
     "name": "stdout",
     "output_type": "stream",
     "text": [
      "[['Understands the learning process for special needs students with a range of mental and physical special needs and learning disabilities', 0], ['Can employ a range of learning support techniques to suit individuals', 0], ['Can understand and follow lesson plans', 0], ['Health and safety trained including first aid, manual handling and challenging behaviour', 0], ['Excellent team member with strong communication skills', 0]]\n"
     ]
    },
    {
     "name": "stderr",
     "output_type": "stream",
     "text": [
      " 77%|██████████████████████████████████████████████████████████████████████████████████████████████████████                               | 668/871 [34:12<10:46,  3.18s/it]"
     ]
    },
    {
     "name": "stdout",
     "output_type": "stream",
     "text": [
      "[]\n"
     ]
    },
    {
     "name": "stderr",
     "output_type": "stream",
     "text": [
      " 77%|██████████████████████████████████████████████████████████████████████████████████████████████████████▏                              | 669/871 [34:14<09:50,  2.92s/it]"
     ]
    },
    {
     "name": "stdout",
     "output_type": "stream",
     "text": [
      "[]\n"
     ]
    },
    {
     "name": "stderr",
     "output_type": "stream",
     "text": [
      " 77%|██████████████████████████████████████████████████████████████████████████████████████████████████████▎                              | 670/871 [34:16<09:13,  2.75s/it]"
     ]
    },
    {
     "name": "stdout",
     "output_type": "stream",
     "text": [
      "[['MS Word', 10], ['Admin', 0], ['Text here', 0], ['Text here', 0]]\n"
     ]
    },
    {
     "name": "stderr",
     "output_type": "stream",
     "text": [
      " 77%|██████████████████████████████████████████████████████████████████████████████████████████████████████▍                              | 671/871 [34:19<09:17,  2.79s/it]"
     ]
    },
    {
     "name": "stdout",
     "output_type": "stream",
     "text": [
      "[['MS Word', 10], ['Admin', 0], ['Text here', 0], ['Text here', 0]]\n"
     ]
    },
    {
     "name": "stderr",
     "output_type": "stream",
     "text": [
      " 77%|██████████████████████████████████████████████████████████████████████████████████████████████████████▌                              | 672/871 [34:21<08:32,  2.58s/it]"
     ]
    },
    {
     "name": "stdout",
     "output_type": "stream",
     "text": [
      "[['MS Word', 10], ['Admin', 0], ['Text here', 0], ['Text here', 0]]\n"
     ]
    },
    {
     "name": "stderr",
     "output_type": "stream",
     "text": [
      " 77%|██████████████████████████████████████████████████████████████████████████████████████████████████████▊                              | 673/871 [34:23<08:06,  2.46s/it]"
     ]
    },
    {
     "name": "stdout",
     "output_type": "stream",
     "text": [
      "[['Français', 80], ['Anglais', 70], ['Pack Office', 75], ['Zoho CRM', 0], ['Intranet', 0]]\n"
     ]
    },
    {
     "name": "stderr",
     "output_type": "stream",
     "text": [
      " 77%|██████████████████████████████████████████████████████████████████████████████████████████████████████▉                              | 674/871 [34:28<09:49,  2.99s/it]"
     ]
    },
    {
     "name": "stdout",
     "output_type": "stream",
     "text": [
      "[]\n"
     ]
    },
    {
     "name": "stderr",
     "output_type": "stream",
     "text": [
      " 77%|███████████████████████████████████████████████████████████████████████████████████████████████████████                              | 675/871 [34:29<08:44,  2.67s/it]"
     ]
    },
    {
     "name": "stdout",
     "output_type": "stream",
     "text": [
      "[]\n"
     ]
    },
    {
     "name": "stderr",
     "output_type": "stream",
     "text": [
      " 78%|███████████████████████████████████████████████████████████████████████████████████████████████████████▏                             | 676/871 [34:33<09:34,  2.95s/it]"
     ]
    },
    {
     "name": "stdout",
     "output_type": "stream",
     "text": [
      "[]\n"
     ]
    },
    {
     "name": "stderr",
     "output_type": "stream",
     "text": [
      " 78%|███████████████████████████████████████████████████████████████████████████████████████████████████████▍                             | 677/871 [34:36<09:09,  2.83s/it]"
     ]
    },
    {
     "name": "stdout",
     "output_type": "stream",
     "text": [
      "[]\n"
     ]
    },
    {
     "name": "stderr",
     "output_type": "stream",
     "text": [
      " 78%|███████████████████████████████████████████████████████████████████████████████████████████████████████▌                             | 678/871 [34:38<08:29,  2.64s/it]"
     ]
    },
    {
     "name": "stdout",
     "output_type": "stream",
     "text": [
      "[]\n"
     ]
    },
    {
     "name": "stderr",
     "output_type": "stream",
     "text": [
      " 78%|███████████████████████████████████████████████████████████████████████████████████████████████████████▋                             | 679/871 [34:40<07:40,  2.40s/it]"
     ]
    },
    {
     "name": "stdout",
     "output_type": "stream",
     "text": [
      "[]\n"
     ]
    },
    {
     "name": "stderr",
     "output_type": "stream",
     "text": [
      " 78%|███████████████████████████████████████████████████████████████████████████████████████████████████████▊                             | 680/871 [34:43<08:05,  2.54s/it]"
     ]
    },
    {
     "name": "stdout",
     "output_type": "stream",
     "text": [
      "[]\n"
     ]
    },
    {
     "name": "stderr",
     "output_type": "stream",
     "text": [
      " 78%|███████████████████████████████████████████████████████████████████████████████████████████████████████▉                             | 681/871 [34:46<08:59,  2.84s/it]"
     ]
    },
    {
     "name": "stdout",
     "output_type": "stream",
     "text": [
      "[]\n"
     ]
    },
    {
     "name": "stderr",
     "output_type": "stream",
     "text": [
      " 78%|████████████████████████████████████████████████████████████████████████████████████████████████████████▏                            | 682/871 [34:48<08:23,  2.66s/it]"
     ]
    },
    {
     "name": "stdout",
     "output_type": "stream",
     "text": [
      "[]\n"
     ]
    },
    {
     "name": "stderr",
     "output_type": "stream",
     "text": [
      " 78%|████████████████████████████████████████████████████████████████████████████████████████████████████████▎                            | 683/871 [34:50<07:43,  2.46s/it]"
     ]
    },
    {
     "name": "stdout",
     "output_type": "stream",
     "text": [
      "[]\n"
     ]
    },
    {
     "name": "stderr",
     "output_type": "stream",
     "text": [
      " 79%|████████████████████████████████████████████████████████████████████████████████████████████████████████▍                            | 684/871 [34:53<07:25,  2.38s/it]"
     ]
    },
    {
     "name": "stdout",
     "output_type": "stream",
     "text": [
      "[['UI Design', 0], ['Web Design', 0]]\n"
     ]
    },
    {
     "name": "stderr",
     "output_type": "stream",
     "text": [
      " 79%|████████████████████████████████████████████████████████████████████████████████████████████████████████▌                            | 685/871 [34:55<07:35,  2.45s/it]"
     ]
    },
    {
     "name": "stdout",
     "output_type": "stream",
     "text": [
      "[]\n"
     ]
    },
    {
     "name": "stderr",
     "output_type": "stream",
     "text": [
      " 79%|████████████████████████████████████████████████████████████████████████████████████████████████████████▊                            | 686/871 [34:57<07:03,  2.29s/it]"
     ]
    },
    {
     "name": "stdout",
     "output_type": "stream",
     "text": [
      "[['UI Design', 0], ['Web Design', 0]]\n"
     ]
    },
    {
     "name": "stderr",
     "output_type": "stream",
     "text": [
      " 79%|████████████████████████████████████████████████████████████████████████████████████████████████████████▉                            | 687/871 [35:02<09:08,  2.98s/it]"
     ]
    },
    {
     "name": "stdout",
     "output_type": "stream",
     "text": [
      "[]\n"
     ]
    },
    {
     "name": "stderr",
     "output_type": "stream",
     "text": [
      " 79%|█████████████████████████████████████████████████████████████████████████████████████████████████████████                            | 688/871 [35:05<09:31,  3.12s/it]"
     ]
    },
    {
     "name": "stdout",
     "output_type": "stream",
     "text": [
      "[['Analytical Skills', 0], ['Communication Skills', 0], ['Time Management Skills', 0], ['Technical Skills', 0], ['Management Skills', 0], ['Photoshop', 0], ['Illustrator', 0], ['Indesign', 0], ['Dreamweaver', 0]]\n"
     ]
    },
    {
     "name": "stderr",
     "output_type": "stream",
     "text": [
      " 79%|█████████████████████████████████████████████████████████████████████████████████████████████████████████▏                           | 689/871 [35:08<09:06,  3.00s/it]"
     ]
    },
    {
     "name": "stdout",
     "output_type": "stream",
     "text": [
      "[]\n"
     ]
    },
    {
     "name": "stderr",
     "output_type": "stream",
     "text": [
      " 79%|█████████████████████████████████████████████████████████████████████████████████████████████████████████▎                           | 690/871 [35:10<08:22,  2.78s/it]"
     ]
    },
    {
     "name": "stdout",
     "output_type": "stream",
     "text": [
      "[]\n"
     ]
    },
    {
     "name": "stderr",
     "output_type": "stream",
     "text": [
      " 79%|█████████████████████████████████████████████████████████████████████████████████████████████████████████▌                           | 691/871 [35:12<07:47,  2.60s/it]"
     ]
    },
    {
     "name": "stdout",
     "output_type": "stream",
     "text": [
      "[]\n"
     ]
    },
    {
     "name": "stderr",
     "output_type": "stream",
     "text": [
      " 79%|█████████████████████████████████████████████████████████████████████████████████████████████████████████▋                           | 692/871 [35:15<08:07,  2.73s/it]"
     ]
    },
    {
     "name": "stdout",
     "output_type": "stream",
     "text": [
      "[]\n"
     ]
    },
    {
     "name": "stderr",
     "output_type": "stream",
     "text": [
      " 80%|█████████████████████████████████████████████████████████████████████████████████████████████████████████▊                           | 693/871 [35:17<07:00,  2.36s/it]"
     ]
    },
    {
     "name": "stdout",
     "output_type": "stream",
     "text": [
      "[]\n"
     ]
    },
    {
     "name": "stderr",
     "output_type": "stream",
     "text": [
      " 80%|█████████████████████████████████████████████████████████████████████████████████████████████████████████▉                           | 694/871 [35:19<07:13,  2.45s/it]"
     ]
    },
    {
     "name": "stdout",
     "output_type": "stream",
     "text": [
      "[['Photoshop', 100], ['Illustrator', 80], ['InDesign', 0], ['HTML 5', 0], ['CSS 3', 0]]\n"
     ]
    },
    {
     "name": "stderr",
     "output_type": "stream",
     "text": [
      " 80%|██████████████████████████████████████████████████████████████████████████████████████████████████████████▏                          | 695/871 [35:21<06:50,  2.33s/it]"
     ]
    },
    {
     "name": "stdout",
     "output_type": "stream",
     "text": [
      "[]\n"
     ]
    },
    {
     "name": "stderr",
     "output_type": "stream",
     "text": [
      " 80%|██████████████████████████████████████████████████████████████████████████████████████████████████████████▎                          | 696/871 [35:23<05:59,  2.06s/it]"
     ]
    },
    {
     "name": "stdout",
     "output_type": "stream",
     "text": [
      "[['UI Design', 0], ['Web Design', 0]]\n"
     ]
    },
    {
     "name": "stderr",
     "output_type": "stream",
     "text": [
      " 80%|██████████████████████████████████████████████████████████████████████████████████████████████████████████▍                          | 697/871 [35:25<05:43,  1.97s/it]"
     ]
    },
    {
     "name": "stdout",
     "output_type": "stream",
     "text": [
      "[]\n"
     ]
    },
    {
     "name": "stderr",
     "output_type": "stream",
     "text": [
      " 80%|██████████████████████████████████████████████████████████████████████████████████████████████████████████▌                          | 698/871 [35:27<06:07,  2.12s/it]"
     ]
    },
    {
     "name": "stdout",
     "output_type": "stream",
     "text": [
      "[['Photoshop', 100], ['Illustrator', 80], ['InDesign', 0], ['HTML 5', 0], ['CSS 3', 0]]\n"
     ]
    },
    {
     "name": "stderr",
     "output_type": "stream",
     "text": [
      " 80%|██████████████████████████████████████████████████████████████████████████████████████████████████████████▋                          | 699/871 [35:29<05:47,  2.02s/it]"
     ]
    },
    {
     "name": "stdout",
     "output_type": "stream",
     "text": [
      "[]\n"
     ]
    },
    {
     "name": "stderr",
     "output_type": "stream",
     "text": [
      " 80%|██████████████████████████████████████████████████████████████████████████████████████████████████████████▉                          | 700/871 [35:30<05:08,  1.80s/it]"
     ]
    },
    {
     "name": "stdout",
     "output_type": "stream",
     "text": [
      "[]\n"
     ]
    },
    {
     "name": "stderr",
     "output_type": "stream",
     "text": [
      " 80%|███████████████████████████████████████████████████████████████████████████████████████████████████████████                          | 701/871 [35:34<06:43,  2.37s/it]"
     ]
    },
    {
     "name": "stdout",
     "output_type": "stream",
     "text": [
      "invalid syntax (<unknown>, line 1)\n"
     ]
    },
    {
     "name": "stderr",
     "output_type": "stream",
     "text": [
      " 81%|███████████████████████████████████████████████████████████████████████████████████████████████████████████▏                         | 702/871 [35:37<07:36,  2.70s/it]"
     ]
    },
    {
     "name": "stdout",
     "output_type": "stream",
     "text": [
      "[['Business Process Improvement', 0], ['Vendor Management', 0], ['Project Scheduling', 0], ['Sales Analysis', 0], ['Strategic Planning', 0], ['Communication Skills', 0]]\n"
     ]
    },
    {
     "name": "stderr",
     "output_type": "stream",
     "text": [
      " 81%|███████████████████████████████████████████████████████████████████████████████████████████████████████████▎                         | 703/871 [35:39<06:42,  2.40s/it]"
     ]
    },
    {
     "name": "stdout",
     "output_type": "stream",
     "text": [
      "[]\n"
     ]
    },
    {
     "name": "stderr",
     "output_type": "stream",
     "text": [
      " 81%|███████████████████████████████████████████████████████████████████████████████████████████████████████████▍                         | 704/871 [35:41<06:17,  2.26s/it]"
     ]
    },
    {
     "name": "stdout",
     "output_type": "stream",
     "text": [
      "[]\n"
     ]
    },
    {
     "name": "stderr",
     "output_type": "stream",
     "text": [
      " 81%|███████████████████████████████████████████████████████████████████████████████████████████████████████████▋                         | 705/871 [35:44<06:44,  2.44s/it]"
     ]
    },
    {
     "name": "stdout",
     "output_type": "stream",
     "text": [
      "[['Business Process Improvement', 0], ['Vendor Management', 0], ['Project Scheduling', 0], ['Sales Analysis', 0], ['Strategic Planning', 0], ['Communication Skills', 0]]\n"
     ]
    },
    {
     "name": "stderr",
     "output_type": "stream",
     "text": [
      " 81%|███████████████████████████████████████████████████████████████████████████████████████████████████████████▊                         | 706/871 [35:46<06:23,  2.33s/it]"
     ]
    },
    {
     "name": "stdout",
     "output_type": "stream",
     "text": [
      "[['UI/UX', 100], ['Photoshop', 75], ['HTML', 90], ['CSS', 85]]\n"
     ]
    },
    {
     "name": "stderr",
     "output_type": "stream",
     "text": [
      " 81%|███████████████████████████████████████████████████████████████████████████████████████████████████████████▉                         | 707/871 [35:50<07:36,  2.78s/it]"
     ]
    },
    {
     "name": "stdout",
     "output_type": "stream",
     "text": [
      "[]\n"
     ]
    },
    {
     "name": "stderr",
     "output_type": "stream",
     "text": [
      " 81%|████████████████████████████████████████████████████████████████████████████████████████████████████████████                         | 708/871 [35:54<08:19,  3.06s/it]"
     ]
    },
    {
     "name": "stdout",
     "output_type": "stream",
     "text": [
      "[]\n"
     ]
    },
    {
     "name": "stderr",
     "output_type": "stream",
     "text": [
      " 81%|████████████████████████████████████████████████████████████████████████████████████████████████████████████▎                        | 709/871 [35:57<08:22,  3.10s/it]"
     ]
    },
    {
     "name": "stdout",
     "output_type": "stream",
     "text": [
      "[['UI/UX', 100], ['Photoshop', 80], ['HTML', 70], ['CSS', 60]]\n"
     ]
    },
    {
     "name": "stderr",
     "output_type": "stream",
     "text": [
      " 82%|████████████████████████████████████████████████████████████████████████████████████████████████████████████▍                        | 710/871 [36:01<08:58,  3.35s/it]"
     ]
    },
    {
     "name": "stdout",
     "output_type": "stream",
     "text": [
      "[]\n"
     ]
    },
    {
     "name": "stderr",
     "output_type": "stream",
     "text": [
      " 82%|████████████████████████████████████████████████████████████████████████████████████████████████████████████▌                        | 711/871 [36:03<07:53,  2.96s/it]"
     ]
    },
    {
     "name": "stdout",
     "output_type": "stream",
     "text": [
      "[]\n"
     ]
    },
    {
     "name": "stderr",
     "output_type": "stream",
     "text": [
      " 82%|████████████████████████████████████████████████████████████████████████████████████████████████████████████▋                        | 712/871 [36:04<06:27,  2.43s/it]"
     ]
    },
    {
     "name": "stdout",
     "output_type": "stream",
     "text": [
      "[]\n"
     ]
    },
    {
     "name": "stderr",
     "output_type": "stream",
     "text": [
      " 82%|████████████████████████████████████████████████████████████████████████████████████████████████████████████▊                        | 713/871 [36:05<05:34,  2.12s/it]"
     ]
    },
    {
     "name": "stdout",
     "output_type": "stream",
     "text": [
      "[]\n"
     ]
    },
    {
     "name": "stderr",
     "output_type": "stream",
     "text": [
      " 82%|█████████████████████████████████████████████████████████████████████████████████████████████████████████████                        | 714/871 [36:06<04:48,  1.84s/it]"
     ]
    },
    {
     "name": "stdout",
     "output_type": "stream",
     "text": [
      "[]\n"
     ]
    },
    {
     "name": "stderr",
     "output_type": "stream",
     "text": [
      " 82%|█████████████████████████████████████████████████████████████████████████████████████████████████████████████▏                       | 715/871 [36:09<05:11,  2.00s/it]"
     ]
    },
    {
     "name": "stdout",
     "output_type": "stream",
     "text": [
      "[['Skill 1', 0], ['Skill 2', 0], ['Skill 3', 0], ['Skill 4', 0], ['Skill 5', 0], ['Skill 6', 0]]\n"
     ]
    },
    {
     "name": "stderr",
     "output_type": "stream",
     "text": [
      " 82%|█████████████████████████████████████████████████████████████████████████████████████████████████████████████▎                       | 716/871 [36:11<05:02,  1.95s/it]"
     ]
    },
    {
     "name": "stdout",
     "output_type": "stream",
     "text": [
      "[['UI/UX', 100], ['Photoshop', 100], ['HTML', 100], ['CSS', 100]]\n"
     ]
    },
    {
     "name": "stderr",
     "output_type": "stream",
     "text": [
      " 82%|█████████████████████████████████████████████████████████████████████████████████████████████████████████████▍                       | 717/871 [36:13<05:02,  1.97s/it]"
     ]
    },
    {
     "name": "stdout",
     "output_type": "stream",
     "text": [
      "[]\n"
     ]
    },
    {
     "name": "stderr",
     "output_type": "stream",
     "text": [
      " 82%|█████████████████████████████████████████████████████████████████████████████████████████████████████████████▋                       | 718/871 [36:16<06:09,  2.41s/it]"
     ]
    },
    {
     "name": "stdout",
     "output_type": "stream",
     "text": [
      "[['InDesign', 0], ['Illustrator', 0], ['SolidWorks', 0], ['Photoshop', 0], ['Premiere Pro', 0], ['MS Office', 0], ['Danish', 0], ['Icelandic', 0], ['English', 0], ['Swedish', 0]]\n"
     ]
    },
    {
     "name": "stderr",
     "output_type": "stream",
     "text": [
      " 83%|█████████████████████████████████████████████████████████████████████████████████████████████████████████████▊                       | 719/871 [36:19<06:08,  2.42s/it]"
     ]
    },
    {
     "name": "stdout",
     "output_type": "stream",
     "text": [
      "[['Skill 1', 0], ['Skill 2', 0], ['Skill 3', 0], ['Skill 4', 0], ['Skill 5', 0], ['Skill 6', 0]]\n"
     ]
    },
    {
     "name": "stderr",
     "output_type": "stream",
     "text": [
      " 83%|█████████████████████████████████████████████████████████████████████████████████████████████████████████████▉                       | 720/871 [36:22<06:42,  2.67s/it]"
     ]
    },
    {
     "name": "stdout",
     "output_type": "stream",
     "text": [
      "[['Text here', 0], ['Text here', 0], ['Text here', 0], ['Organising', 0], ['Microsoft Office', 0]]\n"
     ]
    },
    {
     "name": "stderr",
     "output_type": "stream",
     "text": [
      " 83%|██████████████████████████████████████████████████████████████████████████████████████████████████████████████                       | 721/871 [36:25<07:01,  2.81s/it]"
     ]
    },
    {
     "name": "stdout",
     "output_type": "stream",
     "text": [
      "[['InDesign', 0], ['Illustrator', 0], ['SolidWorks', 0], ['Photoshop', 0], ['Premiere Pro', 0], ['MS Office', 0]]\n"
     ]
    },
    {
     "name": "stderr",
     "output_type": "stream",
     "text": [
      " 83%|██████████████████████████████████████████████████████████████████████████████████████████████████████████████▏                      | 722/871 [36:29<07:38,  3.08s/it]"
     ]
    },
    {
     "name": "stdout",
     "output_type": "stream",
     "text": [
      "[['InDesign', 0], ['Illustrator', 0], ['SolidWorks', 0], ['Photoshop', 0], ['Premiere Pro', 0], ['MS Office', 0], ['Danish', 0], ['Icelandic', 0], ['English', 0], ['Swedish', 0]]\n"
     ]
    },
    {
     "name": "stderr",
     "output_type": "stream",
     "text": [
      " 83%|██████████████████████████████████████████████████████████████████████████████████████████████████████████████▍                      | 723/871 [36:31<07:09,  2.91s/it]"
     ]
    },
    {
     "name": "stdout",
     "output_type": "stream",
     "text": [
      "[['UI/UX', 0], ['Photoshop', 0], ['Illustrator', 0], ['HTML', 0], ['CSS', 0]]\n"
     ]
    },
    {
     "name": "stderr",
     "output_type": "stream",
     "text": [
      " 83%|██████████████████████████████████████████████████████████████████████████████████████████████████████████████▌                      | 724/871 [36:33<06:07,  2.50s/it]"
     ]
    },
    {
     "name": "stdout",
     "output_type": "stream",
     "text": [
      "[['UI/UX', 0], ['Photoshop', 0], ['Illustrator', 0], ['HTML', 0], ['CSS', 0]]\n"
     ]
    },
    {
     "name": "stderr",
     "output_type": "stream",
     "text": [
      " 83%|██████████████████████████████████████████████████████████████████████████████████████████████████████████████▋                      | 725/871 [36:35<06:05,  2.51s/it]"
     ]
    },
    {
     "name": "stdout",
     "output_type": "stream",
     "text": [
      "[['UI/UX', 0], ['Photoshop', 0], ['Illustrator', 0], ['HTML', 0], ['CSS', 0]]\n"
     ]
    },
    {
     "name": "stderr",
     "output_type": "stream",
     "text": [
      " 83%|██████████████████████████████████████████████████████████████████████████████████████████████████████████████▊                      | 726/871 [36:38<06:06,  2.53s/it]"
     ]
    },
    {
     "name": "stdout",
     "output_type": "stream",
     "text": [
      "[['UI/UX', 0], ['Photoshop', 0], ['Illustrator', 0], ['HTML', 0], ['CSS', 0]]\n"
     ]
    },
    {
     "name": "stderr",
     "output_type": "stream",
     "text": [
      " 83%|███████████████████████████████████████████████████████████████████████████████████████████████████████████████                      | 727/871 [36:42<07:20,  3.06s/it]"
     ]
    },
    {
     "name": "stdout",
     "output_type": "stream",
     "text": [
      "[['GRAPHIC DESIGNING', 0], ['UI / UX DESIGNING', 0], ['SEO', 0], ['HTML', 0], ['CSS', 0], ['JAVASCRIPT', 0], ['WORDPRESS', 0], ['PHOTOSHOP', 0], ['ILLUSTRATOR', 0]]\n"
     ]
    },
    {
     "name": "stderr",
     "output_type": "stream",
     "text": [
      " 84%|███████████████████████████████████████████████████████████████████████████████████████████████████████████████▏                     | 728/871 [36:45<06:53,  2.89s/it]"
     ]
    },
    {
     "name": "stdout",
     "output_type": "stream",
     "text": [
      "[['UI/UX', 0], ['Photoshop', 0], ['Illustrator', 0], ['HTML', 0], ['CSS', 0]]\n"
     ]
    },
    {
     "name": "stderr",
     "output_type": "stream",
     "text": [
      " 84%|███████████████████████████████████████████████████████████████████████████████████████████████████████████████▎                     | 729/871 [36:47<06:48,  2.88s/it]"
     ]
    },
    {
     "name": "stdout",
     "output_type": "stream",
     "text": [
      "[]\n"
     ]
    },
    {
     "name": "stderr",
     "output_type": "stream",
     "text": [
      " 84%|███████████████████████████████████████████████████████████████████████████████████████████████████████████████▍                     | 730/871 [36:49<05:52,  2.50s/it]"
     ]
    },
    {
     "name": "stdout",
     "output_type": "stream",
     "text": [
      "[]\n"
     ]
    },
    {
     "name": "stderr",
     "output_type": "stream",
     "text": [
      " 84%|███████████████████████████████████████████████████████████████████████████████████████████████████████████████▌                     | 731/871 [36:52<06:01,  2.58s/it]"
     ]
    },
    {
     "name": "stdout",
     "output_type": "stream",
     "text": [
      "[]\n"
     ]
    },
    {
     "name": "stderr",
     "output_type": "stream",
     "text": [
      " 84%|███████████████████████████████████████████████████████████████████████████████████████████████████████████████▊                     | 732/871 [36:57<07:45,  3.35s/it]"
     ]
    },
    {
     "name": "stdout",
     "output_type": "stream",
     "text": [
      "[['GRAPHIC DESIGNING', 0], ['UI / UX DESIGNING', 0], ['SEO', 0], ['HTML', 0], ['CSS', 0], ['JAVASCRIPT', 0], ['WORDPRESS', 0], ['PHOTOSHOP', 0], ['ILLUSTRATOR', 0]]\n"
     ]
    },
    {
     "name": "stderr",
     "output_type": "stream",
     "text": [
      " 84%|███████████████████████████████████████████████████████████████████████████████████████████████████████████████▉                     | 733/871 [37:01<08:10,  3.56s/it]"
     ]
    },
    {
     "name": "stdout",
     "output_type": "stream",
     "text": [
      "[['GRAPHIC DESIGNING', 0], ['UI / UX DESIGNING', 0], ['SEO', 0], ['HTML', 0], ['CSS', 0], ['JAVASCRIPT', 0], ['WORDPRESS', 0], ['PHOTOSHOP', 0], ['ILLUSTRATOR', 0]]\n"
     ]
    },
    {
     "name": "stderr",
     "output_type": "stream",
     "text": [
      " 84%|████████████████████████████████████████████████████████████████████████████████████████████████████████████████                     | 734/871 [37:05<08:43,  3.82s/it]"
     ]
    },
    {
     "name": "stdout",
     "output_type": "stream",
     "text": [
      "[['GRAPHIC DESIGNING', 0], ['UI / UX DESIGNING', 0], ['SEO', 0], ['HTML', 0], ['CSS', 0], ['JAVASCRIPT', 0], ['WORDPRESS', 0], ['PHOTOSHOP', 0], ['ILLUSTRATOR', 0]]\n"
     ]
    },
    {
     "name": "stderr",
     "output_type": "stream",
     "text": [
      " 84%|████████████████████████████████████████████████████████████████████████████████████████████████████████████████▏                    | 735/871 [37:10<09:10,  4.05s/it]"
     ]
    },
    {
     "name": "stdout",
     "output_type": "stream",
     "text": [
      "[['Text here', 0], ['Text here', 0], ['Text here', 0], ['Organising', 0], ['Microsoft Office', 0]]\n"
     ]
    },
    {
     "name": "stderr",
     "output_type": "stream",
     "text": [
      " 85%|████████████████████████████████████████████████████████████████████████████████████████████████████████████████▍                    | 736/871 [37:13<08:05,  3.60s/it]"
     ]
    },
    {
     "name": "stdout",
     "output_type": "stream",
     "text": [
      "[]\n"
     ]
    },
    {
     "name": "stderr",
     "output_type": "stream",
     "text": [
      " 85%|████████████████████████████████████████████████████████████████████████████████████████████████████████████████▌                    | 737/871 [37:15<07:12,  3.23s/it]"
     ]
    },
    {
     "name": "stdout",
     "output_type": "stream",
     "text": [
      "[]\n"
     ]
    },
    {
     "name": "stderr",
     "output_type": "stream",
     "text": [
      " 85%|████████████████████████████████████████████████████████████████████████████████████████████████████████████████▋                    | 738/871 [37:21<09:19,  4.20s/it]"
     ]
    },
    {
     "name": "stdout",
     "output_type": "stream",
     "text": [
      "[['GRAPHIC DESIGNING', 0], ['UI / UX DESIGNING', 0], ['SEO', 0], ['HTML', 0], ['CSS', 0], ['JAVASCRIPT', 0], ['WORDPRESS', 0], ['PHOTOSHOP', 0], ['ILLUSTRATOR', 0]]\n"
     ]
    },
    {
     "name": "stderr",
     "output_type": "stream",
     "text": [
      " 85%|████████████████████████████████████████████████████████████████████████████████████████████████████████████████▊                    | 739/871 [37:24<08:16,  3.76s/it]"
     ]
    },
    {
     "name": "stdout",
     "output_type": "stream",
     "text": [
      "[]\n"
     ]
    },
    {
     "name": "stderr",
     "output_type": "stream",
     "text": [
      " 85%|████████████████████████████████████████████████████████████████████████████████████████████████████████████████▉                    | 740/871 [37:26<07:04,  3.24s/it]"
     ]
    },
    {
     "name": "stdout",
     "output_type": "stream",
     "text": [
      "[]\n"
     ]
    },
    {
     "name": "stderr",
     "output_type": "stream",
     "text": [
      " 85%|█████████████████████████████████████████████████████████████████████████████████████████████████████████████████▏                   | 741/871 [37:28<05:59,  2.77s/it]"
     ]
    },
    {
     "name": "stdout",
     "output_type": "stream",
     "text": [
      "[]\n"
     ]
    },
    {
     "name": "stderr",
     "output_type": "stream",
     "text": [
      " 85%|█████████████████████████████████████████████████████████████████████████████████████████████████████████████████▎                   | 742/871 [37:29<05:13,  2.43s/it]"
     ]
    },
    {
     "name": "stdout",
     "output_type": "stream",
     "text": [
      "[]\n"
     ]
    },
    {
     "name": "stderr",
     "output_type": "stream",
     "text": [
      " 85%|█████████████████████████████████████████████████████████████████████████████████████████████████████████████████▍                   | 743/871 [37:32<05:07,  2.40s/it]"
     ]
    },
    {
     "name": "stdout",
     "output_type": "stream",
     "text": [
      "[['Best skill #1', 0], ['Skill #2', 0], ['Skill #2', 0]]\n"
     ]
    },
    {
     "name": "stderr",
     "output_type": "stream",
     "text": [
      " 85%|█████████████████████████████████████████████████████████████████████████████████████████████████████████████████▌                   | 744/871 [37:34<04:57,  2.34s/it]"
     ]
    },
    {
     "name": "stdout",
     "output_type": "stream",
     "text": [
      "[['Best skill #1', 0], ['Skill #2', 0], ['Skill #2', 0]]\n"
     ]
    },
    {
     "name": "stderr",
     "output_type": "stream",
     "text": [
      " 86%|█████████████████████████████████████████████████████████████████████████████████████████████████████████████████▊                   | 745/871 [37:36<04:35,  2.19s/it]"
     ]
    },
    {
     "name": "stdout",
     "output_type": "stream",
     "text": [
      "[['Best skill #1', 0], ['Skill #2', 0], ['Skill #2', 0]]\n"
     ]
    },
    {
     "name": "stderr",
     "output_type": "stream",
     "text": [
      " 86%|█████████████████████████████████████████████████████████████████████████████████████████████████████████████████▉                   | 746/871 [37:39<04:54,  2.36s/it]"
     ]
    },
    {
     "name": "stdout",
     "output_type": "stream",
     "text": [
      "[['MS Word', 0], ['Adobe Photoshop CC', 0], ['Adobe Illustrator CC', 0], ['Adobe InDesign', 0]]\n"
     ]
    },
    {
     "name": "stderr",
     "output_type": "stream",
     "text": [
      " 86%|██████████████████████████████████████████████████████████████████████████████████████████████████████████████████                   | 747/871 [37:41<05:07,  2.48s/it]"
     ]
    },
    {
     "name": "stdout",
     "output_type": "stream",
     "text": [
      "[['MS Word', 0], ['Adobe Photoshop CC', 0], ['Adobe Illustrator CC', 0], ['Adobe InDesign', 0]]\n"
     ]
    },
    {
     "name": "stderr",
     "output_type": "stream",
     "text": [
      " 86%|██████████████████████████████████████████████████████████████████████████████████████████████████████████████████▏                  | 748/871 [37:45<05:45,  2.81s/it]"
     ]
    },
    {
     "name": "stdout",
     "output_type": "stream",
     "text": [
      "[['NETWORKING', 0], ['WEB PROGRAMMER', 0], ['BRANDING', 0], ['GRAPHIC DESIGN', 0], ['INTERFACE DESIGN', 0], ['SEO', 0]]\n"
     ]
    },
    {
     "name": "stderr",
     "output_type": "stream",
     "text": [
      " 86%|██████████████████████████████████████████████████████████████████████████████████████████████████████████████████▎                  | 749/871 [37:50<07:04,  3.48s/it]"
     ]
    },
    {
     "name": "stdout",
     "output_type": "stream",
     "text": [
      "[['NETWORKING', 0], ['WEB PROGRAMMER', 0], ['BRANDING', 0], ['GRAPHIC DESIGN', 0], ['INTERFACE DESIGN', 0], ['SEO', 0]]\n"
     ]
    },
    {
     "name": "stderr",
     "output_type": "stream",
     "text": [
      " 86%|██████████████████████████████████████████████████████████████████████████████████████████████████████████████████▌                  | 750/871 [37:53<06:50,  3.39s/it]"
     ]
    },
    {
     "name": "stdout",
     "output_type": "stream",
     "text": [
      "[['MS Word', 0], ['Adobe Photoshop CC', 0], ['Adobe Illustrator CC', 0], ['Adobe InDesign', 0]]\n"
     ]
    },
    {
     "name": "stderr",
     "output_type": "stream",
     "text": [
      " 86%|██████████████████████████████████████████████████████████████████████████████████████████████████████████████████▋                  | 751/871 [37:55<06:03,  3.03s/it]"
     ]
    },
    {
     "name": "stdout",
     "output_type": "stream",
     "text": [
      "[['NETWORKING', 0], ['WEB PROGRAMMER', 0], ['BRANDING', 0], ['GRAPHIC DESIGN', 0], ['INTERFACE DESIGN', 0], ['SEO', 0]]\n"
     ]
    },
    {
     "name": "stderr",
     "output_type": "stream",
     "text": [
      " 86%|██████████████████████████████████████████████████████████████████████████████████████████████████████████████████▊                  | 752/871 [38:03<08:38,  4.35s/it]"
     ]
    },
    {
     "name": "stdout",
     "output_type": "stream",
     "text": [
      "[['MS Word', 0], ['Adobe Photoshop CC', 0], ['Adobe Illustrator CC', 0], ['Adobe InDesign', 0]]\n"
     ]
    },
    {
     "name": "stderr",
     "output_type": "stream",
     "text": [
      " 86%|██████████████████████████████████████████████████████████████████████████████████████████████████████████████████▉                  | 753/871 [38:06<08:01,  4.08s/it]"
     ]
    },
    {
     "name": "stdout",
     "output_type": "stream",
     "text": [
      "[['Oracle E-Business Suite', 0], ['Enterprise Software', 0], ['Problem Solving', 0], ['Software as a Service', 0], ['Change Management', 0], ['CRM', 0], ['Negotiation', 0]]\n"
     ]
    },
    {
     "name": "stderr",
     "output_type": "stream",
     "text": [
      " 87%|███████████████████████████████████████████████████████████████████████████████████████████████████████████████████▏                 | 754/871 [38:13<09:21,  4.80s/it]"
     ]
    },
    {
     "name": "stdout",
     "output_type": "stream",
     "text": [
      "[['Oracle E-Business Suite', 0], ['Enterprise Software', 0], ['Problem Solving', 0], ['Software as a Service', 0], ['Change Management', 0], ['CRM', 0], ['Negotiation', 0]]\n"
     ]
    },
    {
     "name": "stderr",
     "output_type": "stream",
     "text": [
      " 87%|███████████████████████████████████████████████████████████████████████████████████████████████████████████████████▎                 | 755/871 [38:15<08:04,  4.17s/it]"
     ]
    },
    {
     "name": "stdout",
     "output_type": "stream",
     "text": [
      "[['Oracle E-Business Suite', 0], ['Enterprise Software', 0], ['Problem Solving', 0], ['Software as a Service', 0], ['Change Management', 0], ['CRM', 0], ['Negotiation', 0]]\n"
     ]
    },
    {
     "name": "stderr",
     "output_type": "stream",
     "text": [
      " 87%|███████████████████████████████████████████████████████████████████████████████████████████████████████████████████▍                 | 756/871 [38:18<07:02,  3.67s/it]"
     ]
    },
    {
     "name": "stdout",
     "output_type": "stream",
     "text": [
      "[['ADVERTISING SALES', 0], ['INITIATIVE SENSE', 0]]\n"
     ]
    },
    {
     "name": "stderr",
     "output_type": "stream",
     "text": [
      " 87%|███████████████████████████████████████████████████████████████████████████████████████████████████████████████████▌                 | 757/871 [38:21<06:22,  3.35s/it]"
     ]
    },
    {
     "name": "stdout",
     "output_type": "stream",
     "text": [
      "[['ADVERTISING SALES', 0], ['INITIATIVE SENSE', 0]]\n"
     ]
    },
    {
     "name": "stderr",
     "output_type": "stream",
     "text": [
      " 87%|███████████████████████████████████████████████████████████████████████████████████████████████████████████████████▋                 | 758/871 [38:23<06:01,  3.20s/it]"
     ]
    },
    {
     "name": "stdout",
     "output_type": "stream",
     "text": [
      "[['ADVERTISING SALES', 0], ['INITIATIVE SENSE', 0]]\n"
     ]
    },
    {
     "name": "stderr",
     "output_type": "stream",
     "text": [
      " 87%|███████████████████████████████████████████████████████████████████████████████████████████████████████████████████▉                 | 759/871 [38:29<07:05,  3.80s/it]"
     ]
    },
    {
     "name": "stdout",
     "output_type": "stream",
     "text": [
      "[['Photoshop', 80], ['InDesign', 70], ['Illustrator', 60], ['MS Office', 80], ['JavaScript', 70], ['HTML', 80], ['WordPress', 60], ['Team Work', 80], ['Creativity', 90], ['Networking', 70], ['Leadership', 80]]\n"
     ]
    },
    {
     "name": "stderr",
     "output_type": "stream",
     "text": [
      " 87%|████████████████████████████████████████████████████████████████████████████████████████████████████████████████████                 | 760/871 [38:33<07:26,  4.02s/it]"
     ]
    },
    {
     "name": "stdout",
     "output_type": "stream",
     "text": [
      "[['Photoshop', 80], ['InDesign', 70], ['Illustrator', 60], ['MS Office', 80], ['JavaScript', 70], ['HTML', 60], ['WordPress', 50], ['Team Work', 80], ['Creativity', 90], ['Networking', 70], ['Leadership', 60]]\n"
     ]
    },
    {
     "name": "stderr",
     "output_type": "stream",
     "text": [
      " 87%|████████████████████████████████████████████████████████████████████████████████████████████████████████████████████▏                | 761/871 [38:37<07:30,  4.09s/it]"
     ]
    },
    {
     "name": "stdout",
     "output_type": "stream",
     "text": [
      "[['Photoshop', 80], ['InDesign', 70], ['Illustrator', 60], ['MS Office', 80], ['JavaScript', 60], ['HTML', 70], ['WordPress', 50], ['Team Work', 80], ['Creativity', 70], ['Networking', 60], ['Leadership', 70]]\n"
     ]
    },
    {
     "name": "stderr",
     "output_type": "stream",
     "text": [
      " 87%|████████████████████████████████████████████████████████████████████████████████████████████████████████████████████▎                | 762/871 [38:39<06:12,  3.41s/it]"
     ]
    },
    {
     "name": "stdout",
     "output_type": "stream",
     "text": [
      "[]\n"
     ]
    },
    {
     "name": "stderr",
     "output_type": "stream",
     "text": [
      " 88%|████████████████████████████████████████████████████████████████████████████████████████████████████████████████████▌                | 763/871 [38:41<05:20,  2.97s/it]"
     ]
    },
    {
     "name": "stdout",
     "output_type": "stream",
     "text": [
      "[]\n"
     ]
    },
    {
     "name": "stderr",
     "output_type": "stream",
     "text": [
      " 88%|████████████████████████████████████████████████████████████████████████████████████████████████████████████████████▋                | 764/871 [38:43<04:31,  2.54s/it]"
     ]
    },
    {
     "name": "stdout",
     "output_type": "stream",
     "text": [
      "[]\n"
     ]
    },
    {
     "name": "stderr",
     "output_type": "stream",
     "text": [
      " 88%|████████████████████████████████████████████████████████████████████████████████████████████████████████████████████▊                | 765/871 [38:47<05:11,  2.93s/it]"
     ]
    },
    {
     "name": "stdout",
     "output_type": "stream",
     "text": [
      "[['Ux Design', 70], ['Ui Design', 90], ['User Research', 50], ['Design System', 70], ['Development', 35], ['Innovation', 70], ['Creative', 50], ['Team Work', 50], ['Management', 35], ['Research', 35]]\n"
     ]
    },
    {
     "name": "stderr",
     "output_type": "stream",
     "text": [
      " 88%|████████████████████████████████████████████████████████████████████████████████████████████████████████████████████▉                | 766/871 [38:50<05:21,  3.06s/it]"
     ]
    },
    {
     "name": "stdout",
     "output_type": "stream",
     "text": [
      "[['Ux Design', 70], ['Ui Design', 90], ['User Research', 50], ['Design System', 70], ['Development', 35], ['Innovation', 70], ['Creative', 50], ['Team Work', 50], ['Management', 35], ['Research', 35]]\n"
     ]
    },
    {
     "name": "stderr",
     "output_type": "stream",
     "text": [
      " 88%|█████████████████████████████████████████████████████████████████████████████████████████████████████████████████████                | 767/871 [38:53<05:33,  3.20s/it]"
     ]
    },
    {
     "name": "stdout",
     "output_type": "stream",
     "text": [
      "[['Ux Design', 70], ['Ui Design', 90], ['User Research', 50], ['Design System', 70], ['Development', 35], ['Innovation', 70], ['Creative', 50], ['Team Work', 50], ['Management', 35], ['Research', 35]]\n"
     ]
    },
    {
     "name": "stderr",
     "output_type": "stream",
     "text": [
      " 88%|█████████████████████████████████████████████████████████████████████████████████████████████████████████████████████▎               | 768/871 [38:56<04:56,  2.88s/it]"
     ]
    },
    {
     "name": "stdout",
     "output_type": "stream",
     "text": [
      "[]\n"
     ]
    },
    {
     "name": "stderr",
     "output_type": "stream",
     "text": [
      " 88%|█████████████████████████████████████████████████████████████████████████████████████████████████████████████████████▍               | 769/871 [39:00<05:39,  3.33s/it]"
     ]
    },
    {
     "name": "stdout",
     "output_type": "stream",
     "text": [
      "[]\n"
     ]
    },
    {
     "name": "stderr",
     "output_type": "stream",
     "text": [
      " 88%|█████████████████████████████████████████████████████████████████████████████████████████████████████████████████████▌               | 770/871 [39:04<05:55,  3.52s/it]"
     ]
    },
    {
     "name": "stdout",
     "output_type": "stream",
     "text": [
      "[['Attention to Detail', 0], ['Verbal Communication', 0], ['Executive Presentations', 0], ['Collaboration', 0], ['Sales and Pricing Strategy', 0], ['SEO Writing', 0], ['Account Management', 0], ['Customer Focus', 0], ['Business Management', 0], ['Strategic Orientation', 0]]\n"
     ]
    },
    {
     "name": "stderr",
     "output_type": "stream",
     "text": [
      " 89%|█████████████████████████████████████████████████████████████████████████████████████████████████████████████████████▋               | 771/871 [39:06<05:20,  3.21s/it]"
     ]
    },
    {
     "name": "stdout",
     "output_type": "stream",
     "text": [
      "[['Doskonałe zarządzanie czasem', 0], ['Zarządzanie zespołem', 0], ['Praca w zespole', 0], ['Obsługa klienta', 0], ['Komunikacja', 0], ['Monitoring rozmów telefonicznych', 0]]\n"
     ]
    },
    {
     "name": "stderr",
     "output_type": "stream",
     "text": [
      " 89%|█████████████████████████████████████████████████████████████████████████████████████████████████████████████████████▉               | 772/871 [39:10<05:20,  3.23s/it]"
     ]
    },
    {
     "name": "stdout",
     "output_type": "stream",
     "text": [
      "[['language', 0], ['MS Office', 0], ['software', 0], ['software proficiency', 0], ['extracurricular activities', 0], ['fundraising', 0]]\n"
     ]
    },
    {
     "name": "stderr",
     "output_type": "stream",
     "text": [
      " 89%|██████████████████████████████████████████████████████████████████████████████████████████████████████████████████████               | 773/871 [39:13<05:17,  3.24s/it]"
     ]
    },
    {
     "name": "stdout",
     "output_type": "stream",
     "text": [
      "[['Attention to Detail', 0], ['Verbal Communication', 0], ['Executive Presentations', 0], ['Collaboration', 0], ['Sales and Pricing Strategy', 0], ['SEO Writing', 0], ['Account Management', 0], ['Customer Focus', 0], ['Business Management', 0], ['Strategic Orientation', 0]]\n"
     ]
    },
    {
     "name": "stderr",
     "output_type": "stream",
     "text": [
      " 89%|██████████████████████████████████████████████████████████████████████████████████████████████████████████████████████▏              | 774/871 [39:15<04:49,  2.99s/it]"
     ]
    },
    {
     "name": "stdout",
     "output_type": "stream",
     "text": [
      "[['Doskonałe zarządzanie czasem', 0], ['Umiejętność pracy w zespole', 0], ['Monitorowanie rozmów telefonicznych', 0], ['Prowadzenie biura', 0]]\n"
     ]
    },
    {
     "name": "stderr",
     "output_type": "stream",
     "text": [
      " 89%|██████████████████████████████████████████████████████████████████████████████████████████████████████████████████████▎              | 775/871 [39:19<05:11,  3.25s/it]"
     ]
    },
    {
     "name": "stdout",
     "output_type": "stream",
     "text": [
      "[['HTML/HTML5', 80], ['CSS/CSS3', 80], ['JavaScript', 70], ['jQuery', 70], ['WordPress', 60], ['PHP', 50], ['Wireframing', 50]]\n"
     ]
    },
    {
     "name": "stderr",
     "output_type": "stream",
     "text": [
      " 89%|██████████████████████████████████████████████████████████████████████████████████████████████████████████████████████▍              | 776/871 [39:21<04:41,  2.97s/it]"
     ]
    },
    {
     "name": "stdout",
     "output_type": "stream",
     "text": [
      "[]\n"
     ]
    },
    {
     "name": "stderr",
     "output_type": "stream",
     "text": [
      " 89%|██████████████████████████████████████████████████████████████████████████████████████████████████████████████████████▋              | 777/871 [39:24<04:25,  2.83s/it]"
     ]
    },
    {
     "name": "stdout",
     "output_type": "stream",
     "text": [
      "[['Doskonałe zarządzanie czasem', 0], ['Umiejętność pracy w zespole', 0], ['Monitorowanie rozmów telefonicznych', 0], ['Prowadzenie bieżących spraw biura', 0]]\n"
     ]
    },
    {
     "name": "stderr",
     "output_type": "stream",
     "text": [
      " 89%|██████████████████████████████████████████████████████████████████████████████████████████████████████████████████████▊              | 778/871 [39:27<04:37,  2.98s/it]"
     ]
    },
    {
     "name": "stdout",
     "output_type": "stream",
     "text": [
      "[['language', 0], ['MS Office', 0], ['software', 0], ['software', 0], ['extracurricular', 0], ['fundraising', 0]]\n"
     ]
    },
    {
     "name": "stderr",
     "output_type": "stream",
     "text": [
      " 89%|██████████████████████████████████████████████████████████████████████████████████████████████████████████████████████▉              | 779/871 [39:32<05:19,  3.48s/it]"
     ]
    },
    {
     "name": "stdout",
     "output_type": "stream",
     "text": [
      "[['language', 0], ['software', 0], ['hardware', 0], ['fundraising', 0]]\n"
     ]
    },
    {
     "name": "stderr",
     "output_type": "stream",
     "text": [
      " 90%|███████████████████████████████████████████████████████████████████████████████████████████████████████████████████████              | 780/871 [39:36<05:40,  3.74s/it]"
     ]
    },
    {
     "name": "stdout",
     "output_type": "stream",
     "text": [
      "[['Attention to Detail', 0], ['Verbal Communication', 0], ['Executive Presentations', 0], ['Collaboration', 0], ['Sales and Pricing Strategy', 0], ['SEO Writing', 0], ['Account Management', 0], ['Customer Focus', 0], ['Business Management', 0], ['Strategic Orientation', 0]]\n"
     ]
    },
    {
     "name": "stderr",
     "output_type": "stream",
     "text": [
      " 90%|███████████████████████████████████████████████████████████████████████████████████████████████████████████████████████▎             | 781/871 [39:40<05:29,  3.66s/it]"
     ]
    },
    {
     "name": "stdout",
     "output_type": "stream",
     "text": [
      "[['HTML/HTML5', 80], ['CSS/CSS3', 70], ['JavaScript', 60], ['jQuery', 50], ['WordPress', 40], ['PHP', 30], ['Wireframing', 20]]\n"
     ]
    },
    {
     "name": "stderr",
     "output_type": "stream",
     "text": [
      " 90%|███████████████████████████████████████████████████████████████████████████████████████████████████████████████████████▍             | 782/871 [39:43<05:21,  3.61s/it]"
     ]
    },
    {
     "name": "stdout",
     "output_type": "stream",
     "text": [
      "[['HTML/HTML5', 80], ['CSS/CSS3', 80], ['JavaScript', 80], ['jQuery', 80], ['WordPress', 80], ['PHP', 60], ['Wireframing', 60]]\n"
     ]
    },
    {
     "name": "stderr",
     "output_type": "stream",
     "text": [
      " 90%|███████████████████████████████████████████████████████████████████████████████████████████████████████████████████████▌             | 783/871 [39:45<04:28,  3.05s/it]"
     ]
    },
    {
     "name": "stdout",
     "output_type": "stream",
     "text": [
      "[]\n"
     ]
    },
    {
     "name": "stderr",
     "output_type": "stream",
     "text": [
      " 90%|███████████████████████████████████████████████████████████████████████████████████████████████████████████████████████▋             | 784/871 [39:46<03:35,  2.48s/it]"
     ]
    },
    {
     "name": "stdout",
     "output_type": "stream",
     "text": [
      "[]\n"
     ]
    },
    {
     "name": "stderr",
     "output_type": "stream",
     "text": [
      " 90%|███████████████████████████████████████████████████████████████████████████████████████████████████████████████████████▊             | 785/871 [39:48<03:09,  2.20s/it]"
     ]
    },
    {
     "name": "stdout",
     "output_type": "stream",
     "text": [
      "[]\n"
     ]
    },
    {
     "name": "stderr",
     "output_type": "stream",
     "text": [
      " 90%|████████████████████████████████████████████████████████████████████████████████████████████████████████████████████████             | 786/871 [39:51<03:22,  2.38s/it]"
     ]
    },
    {
     "name": "stdout",
     "output_type": "stream",
     "text": [
      "[['Photoshop', 0], ['Illustrator', 0], ['MS Office', 0], ['Keynote', 0]]\n"
     ]
    },
    {
     "name": "stderr",
     "output_type": "stream",
     "text": [
      " 90%|████████████████████████████████████████████████████████████████████████████████████████████████████████████████████████▏            | 787/871 [39:54<03:56,  2.82s/it]"
     ]
    },
    {
     "name": "stdout",
     "output_type": "stream",
     "text": [
      "[['Photoshop', 0], ['Illustrator', 0], ['Ms Office', 0], ['Keynote', 0]]\n"
     ]
    },
    {
     "name": "stderr",
     "output_type": "stream",
     "text": [
      " 90%|████████████████████████████████████████████████████████████████████████████████████████████████████████████████████████▎            | 788/871 [39:57<03:51,  2.79s/it]"
     ]
    },
    {
     "name": "stdout",
     "output_type": "stream",
     "text": [
      "[]\n"
     ]
    },
    {
     "name": "stderr",
     "output_type": "stream",
     "text": [
      " 91%|████████████████████████████████████████████████████████████████████████████████████████████████████████████████████████▍            | 789/871 [40:00<03:53,  2.85s/it]"
     ]
    },
    {
     "name": "stdout",
     "output_type": "stream",
     "text": [
      "[['Photoshop', 0], ['Illustrator', 0], ['Ms Office', 0], ['Keynote', 0]]\n"
     ]
    },
    {
     "name": "stderr",
     "output_type": "stream",
     "text": [
      " 91%|████████████████████████████████████████████████████████████████████████████████████████████████████████████████████████▋            | 790/871 [40:03<03:42,  2.75s/it]"
     ]
    },
    {
     "name": "stdout",
     "output_type": "stream",
     "text": [
      "[['Photoshop', 0], ['Illustrator', 0], ['Ms Office', 0], ['Keynote', 0]]\n"
     ]
    },
    {
     "name": "stderr",
     "output_type": "stream",
     "text": [
      " 91%|████████████████████████████████████████████████████████████████████████████████████████████████████████████████████████▊            | 791/871 [40:05<03:39,  2.75s/it]"
     ]
    },
    {
     "name": "stdout",
     "output_type": "stream",
     "text": [
      "[['Photoshop', 0], ['Illustrator', 0], ['Ms Office', 0], ['Keynote', 0]]\n"
     ]
    },
    {
     "name": "stderr",
     "output_type": "stream",
     "text": [
      " 91%|████████████████████████████████████████████████████████████████████████████████████████████████████████████████████████▉            | 792/871 [40:08<03:32,  2.69s/it]"
     ]
    },
    {
     "name": "stdout",
     "output_type": "stream",
     "text": [
      "[['Communication', 0], ['Computer', 0], ['Leadership', 0], ['Motivation', 0], ['Team work', 0], ['Planning', 0], ['Oration', 0], ['Service', 0], ['Creativity', 0], ['Innovation', 0]]\n"
     ]
    },
    {
     "name": "stderr",
     "output_type": "stream",
     "text": [
      " 91%|█████████████████████████████████████████████████████████████████████████████████████████████████████████████████████████            | 793/871 [40:11<03:44,  2.88s/it]"
     ]
    },
    {
     "name": "stdout",
     "output_type": "stream",
     "text": [
      "[['Communication', 75], ['Computer', 80], ['Leadership', 70], ['Motivation', 65], ['Team work', 85], ['Planning', 60], ['Oration', 0], ['Service', 0], ['Creativity', 0], ['Innovation', 0]]\n"
     ]
    },
    {
     "name": "stderr",
     "output_type": "stream",
     "text": [
      " 91%|█████████████████████████████████████████████████████████████████████████████████████████████████████████████████████████▏           | 794/871 [40:13<03:26,  2.69s/it]"
     ]
    },
    {
     "name": "stdout",
     "output_type": "stream",
     "text": [
      "[['MS Office', 80], ['Text here', 0], ['Text here', 60], ['Text here', 0]]\n"
     ]
    },
    {
     "name": "stderr",
     "output_type": "stream",
     "text": [
      " 91%|█████████████████████████████████████████████████████████████████████████████████████████████████████████████████████████▍           | 795/871 [40:16<03:27,  2.73s/it]"
     ]
    },
    {
     "name": "stdout",
     "output_type": "stream",
     "text": [
      "[['MS Office', 80], ['Text here', 0], ['Text here', 0], ['Text here', 0]]\n"
     ]
    },
    {
     "name": "stderr",
     "output_type": "stream",
     "text": [
      " 91%|█████████████████████████████████████████████████████████████████████████████████████████████████████████████████████████▌           | 796/871 [40:19<03:24,  2.72s/it]"
     ]
    },
    {
     "name": "stdout",
     "output_type": "stream",
     "text": [
      "[['Communication', 80], ['Computer', 70], ['Leadership', 60], ['Motivation', 50], ['Team work', 75], ['Planning', 65], ['Oration', 55], ['Service', 70], ['Creativity', 40], ['Innovation', 30]]\n"
     ]
    },
    {
     "name": "stderr",
     "output_type": "stream",
     "text": [
      " 92%|█████████████████████████████████████████████████████████████████████████████████████████████████████████████████████████▋           | 797/871 [40:21<03:08,  2.54s/it]"
     ]
    },
    {
     "name": "stdout",
     "output_type": "stream",
     "text": [
      "[['MS Office', 80], ['Text here', 50], ['Text here', 0], ['Text here', 0]]\n"
     ]
    },
    {
     "name": "stderr",
     "output_type": "stream",
     "text": [
      " 92%|█████████████████████████████████████████████████████████████████████████████████████████████████████████████████████████▊           | 798/871 [40:24<03:05,  2.54s/it]"
     ]
    },
    {
     "name": "stdout",
     "output_type": "stream",
     "text": [
      "[]\n"
     ]
    },
    {
     "name": "stderr",
     "output_type": "stream",
     "text": [
      " 92%|██████████████████████████████████████████████████████████████████████████████████████████████████████████████████████████           | 799/871 [40:27<03:12,  2.67s/it]"
     ]
    },
    {
     "name": "stdout",
     "output_type": "stream",
     "text": [
      "[['Mirco MD', 0], ['Kareo', 0], ['Meditech', 0], ['Radekal', 0], ['NueMD', 0], ['Microsoft', 0], ['Internet', 0], ['Email', 0]]\n"
     ]
    },
    {
     "name": "stderr",
     "output_type": "stream",
     "text": [
      " 92%|██████████████████████████████████████████████████████████████████████████████████████████████████████████████████████████▏          | 800/871 [40:32<04:15,  3.60s/it]"
     ]
    },
    {
     "name": "stdout",
     "output_type": "stream",
     "text": [
      "[]\n"
     ]
    },
    {
     "name": "stderr",
     "output_type": "stream",
     "text": [
      " 92%|██████████████████████████████████████████████████████████████████████████████████████████████████████████████████████████▎          | 801/871 [40:36<04:10,  3.59s/it]"
     ]
    },
    {
     "name": "stdout",
     "output_type": "stream",
     "text": [
      "[['Mirc0 MD', 0], ['Kareo', 0], ['MedITouch', 0], ['Radekal', 0], ['NueMD', 0], ['Microsoft', 0], ['Internet', 0], ['Email', 0]]\n"
     ]
    },
    {
     "name": "stderr",
     "output_type": "stream",
     "text": [
      " 92%|██████████████████████████████████████████████████████████████████████████████████████████████████████████████████████████▍          | 802/871 [40:39<03:58,  3.46s/it]"
     ]
    },
    {
     "name": "stdout",
     "output_type": "stream",
     "text": [
      "[]\n"
     ]
    },
    {
     "name": "stderr",
     "output_type": "stream",
     "text": [
      " 92%|██████████████████████████████████████████████████████████████████████████████████████████████████████████████████████████▌          | 803/871 [40:42<03:42,  3.28s/it]"
     ]
    },
    {
     "name": "stdout",
     "output_type": "stream",
     "text": [
      "[['Creativity', 80], ['Skill 2', 30], ['Skill 3', 0], ['Skill 4', 20]]\n"
     ]
    },
    {
     "name": "stderr",
     "output_type": "stream",
     "text": [
      " 92%|██████████████████████████████████████████████████████████████████████████████████████████████████████████████████████████▊          | 804/871 [40:46<03:49,  3.43s/it]"
     ]
    },
    {
     "name": "stdout",
     "output_type": "stream",
     "text": [
      "[['Creativity', 80], ['Skill 2', 40], ['Skill 3', 0], ['Skill 4', 20]]\n"
     ]
    },
    {
     "name": "stderr",
     "output_type": "stream",
     "text": [
      " 92%|██████████████████████████████████████████████████████████████████████████████████████████████████████████████████████████▉          | 805/871 [40:49<03:38,  3.31s/it]"
     ]
    },
    {
     "name": "stdout",
     "output_type": "stream",
     "text": [
      "[['Creativity', 75], ['Skill 2', 25], ['Skill 3', 0], ['Skill 4', 50]]\n"
     ]
    },
    {
     "name": "stderr",
     "output_type": "stream",
     "text": [
      " 93%|███████████████████████████████████████████████████████████████████████████████████████████████████████████████████████████          | 806/871 [40:51<03:23,  3.14s/it]"
     ]
    },
    {
     "name": "stdout",
     "output_type": "stream",
     "text": [
      "[['French', 0], ['English', 0], ['Class 5 license', 0], ['Hunting', 0], ['fishing', 0], ['guitar', 0], ['drums', 0]]\n"
     ]
    },
    {
     "name": "stderr",
     "output_type": "stream",
     "text": [
      " 93%|███████████████████████████████████████████████████████████████████████████████████████████████████████████████████████████▏         | 807/871 [40:55<03:22,  3.16s/it]"
     ]
    },
    {
     "name": "stdout",
     "output_type": "stream",
     "text": [
      "[['French', 0], ['English', 0], ['Class 5 license', 0], ['Hunting', 0], ['fishing', 0], ['guitar', 0], ['drums', 0]]\n"
     ]
    },
    {
     "name": "stderr",
     "output_type": "stream",
     "text": [
      " 93%|███████████████████████████████████████████████████████████████████████████████████████████████████████████████████████████▍         | 808/871 [40:57<03:08,  2.99s/it]"
     ]
    },
    {
     "name": "stdout",
     "output_type": "stream",
     "text": [
      "[['French', 0], ['English', 0], ['Class 5 license', 0], ['Hunting', 0], ['Fishing', 0], ['Guitar', 0], ['Drums', 0]]\n"
     ]
    },
    {
     "name": "stderr",
     "output_type": "stream",
     "text": [
      " 93%|███████████████████████████████████████████████████████████████████████████████████████████████████████████████████████████▌         | 809/871 [41:00<02:54,  2.81s/it]"
     ]
    },
    {
     "name": "stdout",
     "output_type": "stream",
     "text": [
      "[]\n"
     ]
    },
    {
     "name": "stderr",
     "output_type": "stream",
     "text": [
      " 93%|███████████████████████████████████████████████████████████████████████████████████████████████████████████████████████████▋         | 810/871 [41:03<03:00,  2.96s/it]"
     ]
    },
    {
     "name": "stdout",
     "output_type": "stream",
     "text": [
      "[['Resultaatgericht', 0], ['Leergierig', 0], ['Zelfstandig', 0], ['Analytisch', 0], ['Betrouwbaar', 0], ['Doorstaand', 0], ['Loyal', 0]]\n"
     ]
    },
    {
     "name": "stderr",
     "output_type": "stream",
     "text": [
      " 93%|███████████████████████████████████████████████████████████████████████████████████████████████████████████████████████████▊         | 811/871 [41:05<02:34,  2.57s/it]"
     ]
    },
    {
     "name": "stdout",
     "output_type": "stream",
     "text": [
      "[['Business improvement', 0], ['Employee relations', 0]]\n"
     ]
    },
    {
     "name": "stderr",
     "output_type": "stream",
     "text": [
      " 93%|███████████████████████████████████████████████████████████████████████████████████████████████████████████████████████████▉         | 812/871 [41:12<03:57,  4.03s/it]"
     ]
    },
    {
     "name": "stdout",
     "output_type": "stream",
     "text": [
      "[['Teaching Plans', 0], ['Grading Papers', 0], ['Test Design', 0], ['Classroom Management', 0], ['School SIS', 0], ['Blackboard', 0], ['Blabber', 0], ['Classkit', 0]]\n"
     ]
    },
    {
     "name": "stderr",
     "output_type": "stream",
     "text": [
      " 93%|████████████████████████████████████████████████████████████████████████████████████████████████████████████████████████████▏        | 813/871 [41:17<04:00,  4.14s/it]"
     ]
    },
    {
     "name": "stdout",
     "output_type": "stream",
     "text": [
      "[['Teaching Plans', 0], ['Grading Papers', 0], ['Test Design', 0], ['Classroom Management', 0], ['School SIS', 0], ['Blackboard', 0], ['Blabber', 0], ['Classkit', 0]]\n"
     ]
    },
    {
     "name": "stderr",
     "output_type": "stream",
     "text": [
      " 93%|████████████████████████████████████████████████████████████████████████████████████████████████████████████████████████████▎        | 814/871 [41:21<03:55,  4.13s/it]"
     ]
    },
    {
     "name": "stdout",
     "output_type": "stream",
     "text": [
      "[['Teaching Plans', 0], ['Grading Papers', 0], ['Test Design', 0], ['Classroom Management', 0], ['School SIS', 0], ['Blackboard', 0], ['Blabber', 0], ['Classkit', 0]]\n"
     ]
    },
    {
     "name": "stderr",
     "output_type": "stream",
     "text": [
      " 94%|████████████████████████████████████████████████████████████████████████████████████████████████████████████████████████████▍        | 815/871 [41:23<03:13,  3.46s/it]"
     ]
    },
    {
     "name": "stdout",
     "output_type": "stream",
     "text": [
      "[['Business improvement', 0], ['Employee relations', 0]]\n"
     ]
    },
    {
     "name": "stderr",
     "output_type": "stream",
     "text": [
      " 94%|████████████████████████████████████████████████████████████████████████████████████████████████████████████████████████████▌        | 816/871 [41:24<02:40,  2.92s/it]"
     ]
    },
    {
     "name": "stdout",
     "output_type": "stream",
     "text": [
      "[['Adobe Photoshop', 0], ['Adobe Illustrator', 0], ['Adobe After Effects', 0], ['WordPress', 0]]\n"
     ]
    },
    {
     "name": "stderr",
     "output_type": "stream",
     "text": [
      " 94%|████████████████████████████████████████████████████████████████████████████████████████████████████████████████████████████▊        | 817/871 [41:28<02:52,  3.20s/it]"
     ]
    },
    {
     "name": "stdout",
     "output_type": "stream",
     "text": [
      "[['Adobe Photoshop', 0], ['Adobe Illustrator', 0], ['Adobe After Effects', 0], ['WordPress', 0]]\n"
     ]
    },
    {
     "name": "stderr",
     "output_type": "stream",
     "text": [
      " 94%|████████████████████████████████████████████████████████████████████████████████████████████████████████████████████████████▉        | 818/871 [41:31<02:38,  2.98s/it]"
     ]
    },
    {
     "name": "stdout",
     "output_type": "stream",
     "text": [
      "[['Business improvement', 0], ['Employee relations', 0]]\n"
     ]
    },
    {
     "name": "stderr",
     "output_type": "stream",
     "text": [
      " 94%|█████████████████████████████████████████████████████████████████████████████████████████████████████████████████████████████        | 819/871 [41:37<03:22,  3.90s/it]"
     ]
    },
    {
     "name": "stdout",
     "output_type": "stream",
     "text": [
      "[['GRAPHIC DESIGNING', 0], ['UI / UX DESIGNING', 0], ['SEO', 0], ['HTML', 0], ['CSS', 0], ['JAVASCRIPT', 0], ['WORDPRESS', 0], ['PHOTOSHOP', 0], ['ILLUSTRATOR', 0]]\n"
     ]
    },
    {
     "name": "stderr",
     "output_type": "stream",
     "text": [
      " 94%|█████████████████████████████████████████████████████████████████████████████████████████████████████████████████████████████▏       | 820/871 [41:40<03:14,  3.81s/it]"
     ]
    },
    {
     "name": "stdout",
     "output_type": "stream",
     "text": [
      "[['Verbal Communication', 0], ['Teamwork', 0], ['Negotiation', 0], ['Problem solving', 0]]\n"
     ]
    },
    {
     "name": "stderr",
     "output_type": "stream",
     "text": [
      " 94%|█████████████████████████████████████████████████████████████████████████████████████████████████████████████████████████████▎       | 821/871 [41:44<03:05,  3.71s/it]"
     ]
    },
    {
     "name": "stdout",
     "output_type": "stream",
     "text": [
      "[['Verbal Communication', 0], ['Teamwork', 0], ['Negotiation', 0], ['Problem solving', 0]]\n"
     ]
    },
    {
     "name": "stderr",
     "output_type": "stream",
     "text": [
      " 94%|█████████████████████████████████████████████████████████████████████████████████████████████████████████████████████████████▌       | 822/871 [41:47<02:53,  3.54s/it]"
     ]
    },
    {
     "name": "stdout",
     "output_type": "stream",
     "text": [
      "[['Photoshop', 0], ['Illustrator', 0], ['Dreamweaver', 0], ['After Effects', 0], ['Ms Word', 0], ['Ms Excel', 0], ['Creativity', 0], ['Flexibility', 0], ['Work in group', 0]]\n"
     ]
    },
    {
     "name": "stderr",
     "output_type": "stream",
     "text": [
      " 94%|█████████████████████████████████████████████████████████████████████████████████████████████████████████████████████████████▋       | 823/871 [41:50<02:44,  3.42s/it]"
     ]
    },
    {
     "name": "stdout",
     "output_type": "stream",
     "text": [
      "[['English', 0], ['Responsibility', 0], ['Productivity', 0], ['Presentation', 0]]\n"
     ]
    },
    {
     "name": "stderr",
     "output_type": "stream",
     "text": [
      " 95%|█████████████████████████████████████████████████████████████████████████████████████████████████████████████████████████████▊       | 824/871 [41:55<02:58,  3.79s/it]"
     ]
    },
    {
     "name": "stdout",
     "output_type": "stream",
     "text": [
      "[['Python', 0], ['Java', 0], ['C#', 0], ['Adobe Photoshop', 0], ['HTML/CSS', 0], ['Microsoft Office', 0], ['MySQL', 0], ['JavaScript', 0], ['Ruby on Rails', 0], ['C++', 0]]\n"
     ]
    },
    {
     "name": "stderr",
     "output_type": "stream",
     "text": [
      " 95%|█████████████████████████████████████████████████████████████████████████████████████████████████████████████████████████████▉       | 825/871 [41:59<03:06,  4.06s/it]"
     ]
    },
    {
     "name": "stdout",
     "output_type": "stream",
     "text": [
      "[['Photoshop', 0], ['Illustrator', 0], ['Dreamweaver', 0], ['AfterEffects', 0], ['MS Word', 0], ['MS Excel', 0], ['Creativity', 0], ['Flexibility', 0], ['Work in group', 0]]\n"
     ]
    },
    {
     "name": "stderr",
     "output_type": "stream",
     "text": [
      " 95%|██████████████████████████████████████████████████████████████████████████████████████████████████████████████████████████████▏      | 826/871 [42:02<02:41,  3.59s/it]"
     ]
    },
    {
     "name": "stdout",
     "output_type": "stream",
     "text": [
      "[['Microsoft Office', 0], ['AutoCAD', 0], ['Adobe Photoshop', 0], ['Adobe Illustrator', 0], ['Adobe InDesign', 0], ['Microsoft Excel', 0]]\n"
     ]
    },
    {
     "name": "stderr",
     "output_type": "stream",
     "text": [
      " 95%|██████████████████████████████████████████████████████████████████████████████████████████████████████████████████████████████▎      | 827/871 [42:05<02:38,  3.61s/it]"
     ]
    },
    {
     "name": "stdout",
     "output_type": "stream",
     "text": [
      "[['English', 0], ['Responsibility', 0], ['Productivity', 0], ['Presentation', 0]]\n"
     ]
    },
    {
     "name": "stderr",
     "output_type": "stream",
     "text": [
      " 95%|██████████████████████████████████████████████████████████████████████████████████████████████████████████████████████████████▍      | 828/871 [42:08<02:19,  3.25s/it]"
     ]
    },
    {
     "name": "stdout",
     "output_type": "stream",
     "text": [
      "[['Problem Solving', 0], ['Adaptability', 0], ['Collaboration', 0], ['Strong Work Ethic', 0], ['Critical Thinking', 0], ['Handing Pressure', 0], ['Leadership', 0]]\n"
     ]
    },
    {
     "name": "stderr",
     "output_type": "stream",
     "text": [
      " 95%|██████████████████████████████████████████████████████████████████████████████████████████████████████████████████████████████▌      | 829/871 [42:13<02:36,  3.72s/it]"
     ]
    },
    {
     "name": "stdout",
     "output_type": "stream",
     "text": [
      "[['Verbal Communication', 0], ['Teamwork', 0], ['Negotiation', 0], ['Problem solving', 0]]\n"
     ]
    },
    {
     "name": "stderr",
     "output_type": "stream",
     "text": [
      " 95%|██████████████████████████████████████████████████████████████████████████████████████████████████████████████████████████████▋      | 830/871 [42:17<02:39,  3.89s/it]"
     ]
    },
    {
     "name": "stdout",
     "output_type": "stream",
     "text": [
      "[['Microsoft Office', 0], ['AutoCAD', 0], ['Adobe Photoshop', 0], ['Adobe Illustrator', 0], ['Adobe InDesign', 0], ['Microsoft Excel', 0]]\n"
     ]
    },
    {
     "name": "stderr",
     "output_type": "stream",
     "text": [
      " 95%|██████████████████████████████████████████████████████████████████████████████████████████████████████████████████████████████▉      | 831/871 [42:19<02:19,  3.48s/it]"
     ]
    },
    {
     "name": "stdout",
     "output_type": "stream",
     "text": [
      "[['English', 0], ['Responsibility', 0], ['Productivity', 0], ['Presentation', 0]]\n"
     ]
    },
    {
     "name": "stderr",
     "output_type": "stream",
     "text": [
      " 96%|███████████████████████████████████████████████████████████████████████████████████████████████████████████████████████████████      | 832/871 [42:23<02:12,  3.40s/it]"
     ]
    },
    {
     "name": "stdout",
     "output_type": "stream",
     "text": [
      "[['Problem Solving', 0], ['Adaptability', 0], ['Collaboration', 0], ['Strong Work Ethic', 0], ['Critical Thinking', 0], ['Planning', 0], ['Leadership', 0]]\n"
     ]
    },
    {
     "name": "stderr",
     "output_type": "stream",
     "text": [
      " 96%|███████████████████████████████████████████████████████████████████████████████████████████████████████████████████████████████▏     | 833/871 [42:27<02:15,  3.58s/it]"
     ]
    },
    {
     "name": "stdout",
     "output_type": "stream",
     "text": [
      "[['Python', 0], ['Java', 0], ['C#', 0], ['Adobe Photoshop', 0], ['HTML/CSS', 0], ['Microsoft Office', 0], ['MySQL', 0], ['JavaScript', 0], ['Ruby on Rails', 0], ['C++', 0]]\n"
     ]
    },
    {
     "name": "stderr",
     "output_type": "stream",
     "text": [
      " 96%|███████████████████████████████████████████████████████████████████████████████████████████████████████████████████████████████▎     | 834/871 [42:31<02:20,  3.80s/it]"
     ]
    },
    {
     "name": "stdout",
     "output_type": "stream",
     "text": [
      "[['Text here', 0], ['Text here', 0], ['Text here', 0], ['Organising', 0], ['Microsoft Office', 0]]\n"
     ]
    },
    {
     "name": "stderr",
     "output_type": "stream",
     "text": [
      " 96%|███████████████████████████████████████████████████████████████████████████████████████████████████████████████████████████████▌     | 835/871 [42:34<02:12,  3.69s/it]"
     ]
    },
    {
     "name": "stdout",
     "output_type": "stream",
     "text": [
      "[['Python', 0], ['Java', 0], ['C#', 0], ['Adobe Photoshop', 0], ['HTML/CSS', 0], ['Microsoft Office', 0], ['MySQL', 0], ['JavaScript', 0], ['Ruby on Rails', 0], ['C++', 0]]\n"
     ]
    },
    {
     "name": "stderr",
     "output_type": "stream",
     "text": [
      " 96%|███████████████████████████████████████████████████████████████████████████████████████████████████████████████████████████████▋     | 836/871 [42:38<02:13,  3.82s/it]"
     ]
    },
    {
     "name": "stdout",
     "output_type": "stream",
     "text": [
      "[['Photoshop', 0], ['Illustrator', 0], ['Dreamweaver', 0], ['AfterEffects', 0], ['Ms Word', 0], ['Ms Excel', 0], ['Creativity', 0], ['Flexibility', 0], ['Work in group', 0]]\n"
     ]
    },
    {
     "name": "stderr",
     "output_type": "stream",
     "text": [
      " 96%|███████████████████████████████████████████████████████████████████████████████████████████████████████████████████████████████▊     | 837/871 [42:41<01:57,  3.45s/it]"
     ]
    },
    {
     "name": "stdout",
     "output_type": "stream",
     "text": [
      "[['Problem Solving', 0], ['Adaptability', 0], ['Collaboration', 0], ['Strong Work Ethic', 0], ['Critical Thinking', 0], ['Hand-on Experience', 0], ['Leadership', 0]]\n"
     ]
    },
    {
     "name": "stderr",
     "output_type": "stream",
     "text": [
      " 96%|███████████████████████████████████████████████████████████████████████████████████████████████████████████████████████████████▉     | 838/871 [42:43<01:39,  3.01s/it]"
     ]
    },
    {
     "name": "stdout",
     "output_type": "stream",
     "text": [
      "[['Microsoft Office', 100], ['Excel', 100], ['Spanish', 100], ['English', 100], ['Web and tech savvy', 0]]\n"
     ]
    },
    {
     "name": "stderr",
     "output_type": "stream",
     "text": [
      " 96%|████████████████████████████████████████████████████████████████████████████████████████████████████████████████████████████████     | 839/871 [42:46<01:34,  2.94s/it]"
     ]
    },
    {
     "name": "stdout",
     "output_type": "stream",
     "text": [
      "[['Microsoft Office', 0], ['Autocad', 0], ['Adobe Photoshop', 0], ['Adobe Illustrator', 0], ['Adobe Indesign', 0], ['Microsoft Excel', 0]]\n"
     ]
    },
    {
     "name": "stderr",
     "output_type": "stream",
     "text": [
      " 96%|████████████████████████████████████████████████████████████████████████████████████████████████████████████████████████████████▎    | 840/871 [42:49<01:29,  2.88s/it]"
     ]
    },
    {
     "name": "stdout",
     "output_type": "stream",
     "text": [
      "[['Microsoft Office', 100], ['Excel', 100], ['Spanish', 100], ['English', 100], ['Web and tech savvy', 0]]\n"
     ]
    },
    {
     "name": "stderr",
     "output_type": "stream",
     "text": [
      " 97%|████████████████████████████████████████████████████████████████████████████████████████████████████████████████████████████████▍    | 841/871 [42:50<01:16,  2.54s/it]"
     ]
    },
    {
     "name": "stdout",
     "output_type": "stream",
     "text": [
      "[['Expert in Microsoft Office, with a focus on Excel', 0], ['Bilingual in Spanish and English', 0], ['Web and tech savvy, require little to no training', 0]]\n"
     ]
    },
    {
     "name": "stderr",
     "output_type": "stream",
     "text": [
      " 97%|████████████████████████████████████████████████████████████████████████████████████████████████████████████████████████████████▌    | 842/871 [42:52<01:05,  2.27s/it]"
     ]
    },
    {
     "name": "stdout",
     "output_type": "stream",
     "text": [
      "[]\n"
     ]
    },
    {
     "name": "stderr",
     "output_type": "stream",
     "text": [
      " 97%|████████████████████████████████████████████████████████████████████████████████████████████████████████████████████████████████▋    | 843/871 [42:54<01:01,  2.20s/it]"
     ]
    },
    {
     "name": "stdout",
     "output_type": "stream",
     "text": [
      "[]\n"
     ]
    },
    {
     "name": "stderr",
     "output_type": "stream",
     "text": [
      " 97%|████████████████████████████████████████████████████████████████████████████████████████████████████████████████████████████████▉    | 844/871 [42:57<01:09,  2.56s/it]"
     ]
    },
    {
     "name": "stdout",
     "output_type": "stream",
     "text": [
      "[['Creativity', 85], ['Team Work', 80], ['Communication', 60], ['Gen. Knowledge', 0], ['Organization', 85], ['Adobe Illustrator', 85], ['Adobe Photoshop', 80], ['Adobe InDesign', 75], ['Adobe Flash', 65], ['HTML/CSS', 0]]\n"
     ]
    },
    {
     "name": "stderr",
     "output_type": "stream",
     "text": [
      " 97%|█████████████████████████████████████████████████████████████████████████████████████████████████████████████████████████████████    | 845/871 [43:02<01:24,  3.25s/it]"
     ]
    },
    {
     "name": "stdout",
     "output_type": "stream",
     "text": [
      "[['Creativity', 85], ['Team Work', 80], ['Communication', 60], ['Gen. Knowledge', 0], ['Organization', 85], ['Adobe Illustrator', 85], ['Adobe Photoshop', 80], ['Adobe InDesign', 75], ['Adobe Flash', 65], ['HTML/CSS', 0]]\n"
     ]
    },
    {
     "name": "stderr",
     "output_type": "stream",
     "text": [
      " 97%|█████████████████████████████████████████████████████████████████████████████████████████████████████████████████████████████████▏   | 846/871 [43:05<01:16,  3.06s/it]"
     ]
    },
    {
     "name": "stdout",
     "output_type": "stream",
     "text": [
      "[]\n"
     ]
    },
    {
     "name": "stderr",
     "output_type": "stream",
     "text": [
      " 97%|█████████████████████████████████████████████████████████████████████████████████████████████████████████████████████████████████▎   | 847/871 [43:09<01:18,  3.27s/it]"
     ]
    },
    {
     "name": "stdout",
     "output_type": "stream",
     "text": [
      "[['Creativity', 85], ['Team Work', 80], ['Communication', 60], ['Gen. Knowledge', 0], ['Organization', 85], ['Adobe Illustrator', 85], ['Adobe Photoshop', 80], ['Adobe InDesign', 75], ['Adobe Flash', 65], ['HTML/CSS', 0]]\n"
     ]
    },
    {
     "name": "stderr",
     "output_type": "stream",
     "text": [
      " 97%|█████████████████████████████████████████████████████████████████████████████████████████████████████████████████████████████████▍   | 848/871 [43:11<01:11,  3.09s/it]"
     ]
    },
    {
     "name": "stdout",
     "output_type": "stream",
     "text": [
      "[['Strategic Orientation', 0], ['Business Development', 0], ['Account Management', 0], ['Business Strategy', 0], ['Market and Pricing Strategy', 0], ['Creative Problem Solving', 0]]\n"
     ]
    },
    {
     "name": "stderr",
     "output_type": "stream",
     "text": [
      " 97%|█████████████████████████████████████████████████████████████████████████████████████████████████████████████████████████████████▋   | 849/871 [43:13<01:01,  2.79s/it]"
     ]
    },
    {
     "name": "stdout",
     "output_type": "stream",
     "text": [
      "[['Professional', 0], ['Communication', 0], ['Team Leadership', 0], ['Project Management', 0], ['Client Relations', 0]]\n"
     ]
    },
    {
     "name": "stderr",
     "output_type": "stream",
     "text": [
      " 98%|█████████████████████████████████████████████████████████████████████████████████████████████████████████████████████████████████▊   | 850/871 [43:15<00:53,  2.54s/it]"
     ]
    },
    {
     "name": "stdout",
     "output_type": "stream",
     "text": [
      "[]\n"
     ]
    },
    {
     "name": "stderr",
     "output_type": "stream",
     "text": [
      " 98%|█████████████████████████████████████████████████████████████████████████████████████████████████████████████████████████████████▉   | 851/871 [43:19<00:55,  2.76s/it]"
     ]
    },
    {
     "name": "stdout",
     "output_type": "stream",
     "text": [
      "[['Français', 100], ['Anglais', 100], ['Espagnol', 0], ['Italien', 0], ['Pack Office', 100], ['Internet', 90], ['Zoho CRM', 68], ['Indesign', 75]]\n"
     ]
    },
    {
     "name": "stderr",
     "output_type": "stream",
     "text": [
      " 98%|██████████████████████████████████████████████████████████████████████████████████████████████████████████████████████████████████   | 852/871 [43:22<00:53,  2.83s/it]"
     ]
    },
    {
     "name": "stdout",
     "output_type": "stream",
     "text": [
      "[['Adobe Photoshop', 0], ['Adobe Illustrator', 0], ['Adobe Flash', 0], ['Adobe Dreamweaver', 0], ['CSS3', 0], ['Microsoft Office', 0], ['Final Cut Pro', 0], ['QuarkXPress', 0]]\n"
     ]
    },
    {
     "name": "stderr",
     "output_type": "stream",
     "text": [
      " 98%|██████████████████████████████████████████████████████████████████████████████████████████████████████████████████████████████████▎  | 853/871 [43:25<00:54,  3.00s/it]"
     ]
    },
    {
     "name": "stdout",
     "output_type": "stream",
     "text": [
      "[['Français', 100], ['Anglais', 90], ['Espagnol', 0], ['Italien', 0], ['Pack Office', 100], ['Internet', 90], ['Zoho CRM', 68], ['Indesign', 75]]\n"
     ]
    },
    {
     "name": "stderr",
     "output_type": "stream",
     "text": [
      " 98%|██████████████████████████████████████████████████████████████████████████████████████████████████████████████████████████████████▍  | 854/871 [43:28<00:49,  2.92s/it]"
     ]
    },
    {
     "name": "stdout",
     "output_type": "stream",
     "text": [
      "[['Français', 100], ['Anglais', 100], ['Espagnol', 90], ['Italien', 0], ['Pack Office', 100], ['Internet', 90], ['Zoho CRM', 65], ['Indesign', 75]]\n"
     ]
    },
    {
     "name": "stderr",
     "output_type": "stream",
     "text": [
      " 98%|██████████████████████████████████████████████████████████████████████████████████████████████████████████████████████████████████▌  | 855/871 [43:31<00:47,  3.00s/it]"
     ]
    },
    {
     "name": "stdout",
     "output_type": "stream",
     "text": [
      "[['Strategic Orientation', 0], ['Creative Solution to Detail', 0], ['Business Management', 0], ['Financial Planning Strategy', 0], ['Account Management', 0]]\n"
     ]
    },
    {
     "name": "stderr",
     "output_type": "stream",
     "text": [
      " 98%|██████████████████████████████████████████████████████████████████████████████████████████████████████████████████████████████████▋  | 856/871 [43:33<00:41,  2.77s/it]"
     ]
    },
    {
     "name": "stdout",
     "output_type": "stream",
     "text": [
      "[['Adobe Photoshop', 0], ['Adobe Illustrator', 0], ['Adobe Flash', 0], ['Adobe Dreamweaver', 0], ['CSS3', 0], ['Microsoft Office', 0], ['Final Cut Pro', 0], ['QuarkXPress', 0]]\n"
     ]
    },
    {
     "name": "stderr",
     "output_type": "stream",
     "text": [
      " 98%|██████████████████████████████████████████████████████████████████████████████████████████████████████████████████████████████████▊  | 857/871 [43:35<00:36,  2.58s/it]"
     ]
    },
    {
     "name": "stdout",
     "output_type": "stream",
     "text": [
      "[]\n"
     ]
    },
    {
     "name": "stderr",
     "output_type": "stream",
     "text": [
      " 99%|███████████████████████████████████████████████████████████████████████████████████████████████████████████████████████████████████  | 858/871 [43:38<00:34,  2.68s/it]"
     ]
    },
    {
     "name": "stdout",
     "output_type": "stream",
     "text": [
      "[['Photoshop', 100], ['Illustrator', 100], ['InDesign', 60], ['HTML&CSS', 60]]\n"
     ]
    },
    {
     "name": "stderr",
     "output_type": "stream",
     "text": [
      " 99%|███████████████████████████████████████████████████████████████████████████████████████████████████████████████████████████████████▏ | 859/871 [43:41<00:32,  2.70s/it]"
     ]
    },
    {
     "name": "stdout",
     "output_type": "stream",
     "text": [
      "[['Photoshop', 100], ['Illustrator', 80], ['InDesign', 60], ['HTML&CSS', 40]]\n"
     ]
    },
    {
     "name": "stderr",
     "output_type": "stream",
     "text": [
      " 99%|███████████████████████████████████████████████████████████████████████████████████████████████████████████████████████████████████▎ | 860/871 [43:43<00:26,  2.45s/it]"
     ]
    },
    {
     "name": "stdout",
     "output_type": "stream",
     "text": [
      "[]\n"
     ]
    },
    {
     "name": "stderr",
     "output_type": "stream",
     "text": [
      " 99%|███████████████████████████████████████████████████████████████████████████████████████████████████████████████████████████████████▍ | 861/871 [43:45<00:24,  2.47s/it]"
     ]
    },
    {
     "name": "stdout",
     "output_type": "stream",
     "text": [
      "[['Adobe Photoshop', 0], ['Adobe Illustrator', 0], ['Adobe Flash', 0], ['Adobe Dreamweaver', 0], ['CSS3', 0], ['Microsoft Office', 0], ['Final Cut Pro', 0], ['QuarkXPress', 0]]\n"
     ]
    },
    {
     "name": "stderr",
     "output_type": "stream",
     "text": [
      " 99%|███████████████████████████████████████████████████████████████████████████████████████████████████████████████████████████████████▋ | 862/871 [43:47<00:20,  2.28s/it]"
     ]
    },
    {
     "name": "stdout",
     "output_type": "stream",
     "text": [
      "[['Professional', 0], ['Creative', 0], ['Detail-oriented', 0], ['Adaptable', 0], ['Passionate', 0]]\n"
     ]
    },
    {
     "name": "stderr",
     "output_type": "stream",
     "text": [
      " 99%|███████████████████████████████████████████████████████████████████████████████████████████████████████████████████████████████████▊ | 863/871 [43:53<00:26,  3.28s/it]"
     ]
    },
    {
     "name": "stdout",
     "output_type": "stream",
     "text": [
      "[['Photoshop', 100], ['Illustrator', 80], ['InDesign', 60], ['HTML&CSS', 60]]\n"
     ]
    },
    {
     "name": "stderr",
     "output_type": "stream",
     "text": [
      " 99%|███████████████████████████████████████████████████████████████████████████████████████████████████████████████████████████████████▉ | 864/871 [43:56<00:21,  3.13s/it]"
     ]
    },
    {
     "name": "stdout",
     "output_type": "stream",
     "text": [
      "[['Strategic Orientation', 0], ['Execution to Detail', 0], ['Business Knowledge', 0], ['Account Management', 0], ['Market and Pricing Strategy', 0]]\n"
     ]
    },
    {
     "name": "stderr",
     "output_type": "stream",
     "text": [
      " 99%|████████████████████████████████████████████████████████████████████████████████████████████████████████████████████████████████████ | 865/871 [43:57<00:16,  2.68s/it]"
     ]
    },
    {
     "name": "stdout",
     "output_type": "stream",
     "text": [
      "[['Professional', 0], ['Communication', 0], ['Team Leadership', 0], ['Project Management', 0], ['Customer Relationship Management', 0]]\n"
     ]
    },
    {
     "name": "stderr",
     "output_type": "stream",
     "text": [
      " 99%|████████████████████████████████████████████████████████████████████████████████████████████████████████████████████████████████████▏| 866/871 [44:01<00:15,  3.11s/it]"
     ]
    },
    {
     "name": "stdout",
     "output_type": "stream",
     "text": [
      "[]\n"
     ]
    },
    {
     "name": "stderr",
     "output_type": "stream",
     "text": [
      "100%|████████████████████████████████████████████████████████████████████████████████████████████████████████████████████████████████████▍| 867/871 [44:04<00:11,  2.97s/it]"
     ]
    },
    {
     "name": "stdout",
     "output_type": "stream",
     "text": [
      "[['Task Planning', 90], ['Team Player', 80], ['Leadership', 85], ['Management', 90]]\n"
     ]
    },
    {
     "name": "stderr",
     "output_type": "stream",
     "text": [
      "100%|████████████████████████████████████████████████████████████████████████████████████████████████████████████████████████████████████▌| 868/871 [44:05<00:07,  2.53s/it]"
     ]
    },
    {
     "name": "stdout",
     "output_type": "stream",
     "text": [
      "[]\n"
     ]
    },
    {
     "name": "stderr",
     "output_type": "stream",
     "text": [
      "100%|████████████████████████████████████████████████████████████████████████████████████████████████████████████████████████████████████▋| 869/871 [44:09<00:05,  2.74s/it]"
     ]
    },
    {
     "name": "stdout",
     "output_type": "stream",
     "text": [
      "[['Task Planning', 90], ['Team Player', 80], ['Leadership', 85], ['Management', 90]]\n"
     ]
    },
    {
     "name": "stderr",
     "output_type": "stream",
     "text": [
      "100%|████████████████████████████████████████████████████████████████████████████████████████████████████████████████████████████████████▊| 870/871 [44:13<00:03,  3.20s/it]"
     ]
    },
    {
     "name": "stdout",
     "output_type": "stream",
     "text": [
      "[['Task Planning', 90], ['Team Player', 80], ['Leadership', 85], ['Management', 90]]\n"
     ]
    },
    {
     "name": "stderr",
     "output_type": "stream",
     "text": [
      "100%|█████████████████████████████████████████████████████████████████████████████████████████████████████████████████████████████████████| 871/871 [44:15<00:00,  3.05s/it]"
     ]
    },
    {
     "name": "stdout",
     "output_type": "stream",
     "text": [
      "[]\n"
     ]
    },
    {
     "name": "stderr",
     "output_type": "stream",
     "text": [
      "\n"
     ]
    }
   ],
   "source": [
    "\n",
    "image_folder = Path(\"/data/ubuntu/resume_skills/data/train/images\")\n",
    "image_paths = [p for p in image_folder.glob(\"*\")]\n",
    "target_folder = Path(\"/data/ubuntu/resume_skills/data/train/labels\")\n",
    "\n",
    "headers = {\n",
    "  \"Content-Type\": \"application/json\",\n",
    "  \"Authorization\": f\"Bearer {api_key}\"\n",
    "}\n",
    "payload = {\n",
    "  \"model\": \"gpt-4o-mini\",\n",
    "  \"messages\": [\n",
    "    {\n",
    "      \"role\": \"user\",\n",
    "      \"content\": [\n",
    "        {\n",
    "          \"type\": \"text\",\n",
    "          \"text\": f\"{text}\",        \n",
    "        },\n",
    "        {\n",
    "          \"type\": \"image_url\",\n",
    "          \"image_url\": {\n",
    "            \"url\": \"\"\n",
    "          }\n",
    "        }\n",
    "      ]\n",
    "    }\n",
    "  ],\n",
    "  \"max_tokens\": 300,\n",
    "   \n",
    "}\n",
    "\n",
    "for image_path in tqdm(image_paths[115:]):\n",
    "    base64_image = encode_image(image_path)\n",
    "    payload[\"messages\"][0][\"content\"][1][\"image_url\"][\"url\"] = f\"data:image/jpeg;base64,{base64_image}\"\n",
    "\n",
    "\n",
    "    string,response = completions_with_backoff(headers=headers, payload=payload)\n",
    "\n",
    "  \n",
    "    try:\n",
    "        list_ = string[string.index(\"[\"):]\n",
    "        list_= list_.replace('\\n',\"\")\n",
    "        list_= ast.literal_eval(list_)\n",
    "        print(list_)\n",
    "    \n",
    "        destination = target_folder / (image_path.stem + \".json\")\n",
    "        with open(destination, \"w\") as f:\n",
    "            json.dump(list_,f, indent=4)\n",
    "    except Exception as e :\n",
    "        print(e)"
   ]
  },
  {
   "cell_type": "code",
   "execution_count": null,
   "id": "72300d52-45bd-42ce-8ecf-006d8532b9a8",
   "metadata": {},
   "outputs": [],
   "source": []
  }
 ],
 "metadata": {
  "kernelspec": {
   "display_name": "Python 3 (ipykernel)",
   "language": "python",
   "name": "python3"
  },
  "language_info": {
   "codemirror_mode": {
    "name": "ipython",
    "version": 3
   },
   "file_extension": ".py",
   "mimetype": "text/x-python",
   "name": "python",
   "nbconvert_exporter": "python",
   "pygments_lexer": "ipython3",
   "version": "3.10.5"
  }
 },
 "nbformat": 4,
 "nbformat_minor": 5
}
