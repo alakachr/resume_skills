{
 "cells": [
  {
   "cell_type": "code",
   "execution_count": 1,
   "id": "df13b21f-8164-4cb7-9f49-08c64e5ef7ea",
   "metadata": {},
   "outputs": [
    {
     "name": "stderr",
     "output_type": "stream",
     "text": [
      "/data/ubuntu/resume_skills/.venv/lib/python3.10/site-packages/tqdm/auto.py:21: TqdmWarning: IProgress not found. Please update jupyter and ipywidgets. See https://ipywidgets.readthedocs.io/en/stable/user_install.html\n",
      "  from .autonotebook import tqdm as notebook_tqdm\n"
     ]
    }
   ],
   "source": [
    "from transformers import DonutProcessor, VisionEncoderDecoderModel\n",
    "import re\n",
    "import torch"
   ]
  },
  {
   "cell_type": "code",
   "execution_count": null,
   "id": "a0166d89-1bdc-48b6-b891-b35f09539a22",
   "metadata": {},
   "outputs": [],
   "source": [
    "processor = DonutProcessor.from_pretrained(\"naver-clova-ix/donut-base-finetuned-cord-v2\")\n",
    "model = VisionEncoderDecoderModel.from_pretrained(\"naver-clova-ix/donut-base-finetuned-cord-v2\")\n"
   ]
  },
  {
   "cell_type": "code",
   "execution_count": null,
   "id": "1c2bc829-7366-43ef-94ed-88be3943efff",
   "metadata": {},
   "outputs": [],
   "source": [
    "\n",
    "pixel_values = processor(image, return_tensors=\"pt\").pixel_values\n",
    "print(pixel_values.shape)\n",
    "\n",
    "\n",
    "\n",
    "task_prompt = \"\"\n",
    "decoder_input_ids = processor.tokenizer(task_prompt, add_special_tokens=False, return_tensors=\"pt\")[\"input_ids\"]\n",
    "\n",
    "device = \"cuda\" if torch.cuda.is_available() else \"cpu\"\n",
    "model.to(device)\n",
    "\n",
    "outputs = model.generate(pixel_values.to(device),\n",
    "                               decoder_input_ids=decoder_input_ids.to(device),\n",
    "                               max_length=model.decoder.config.max_position_embeddings,\n",
    "                               early_stopping=True,\n",
    "                               pad_token_id=processor.tokenizer.pad_token_id,\n",
    "                               eos_token_id=processor.tokenizer.eos_token_id,\n",
    "                               use_cache=True,\n",
    "                               num_beams=1,\n",
    "                               bad_words_ids=[[processor.tokenizer.unk_token_id]],\n",
    "                               return_dict_in_generate=True,\n",
    "                               output_scores=True,)"
   ]
  },
  {
   "cell_type": "code",
   "execution_count": null,
   "id": "7fd618fe-e39e-4c4b-a567-265a27615b00",
   "metadata": {},
   "outputs": [],
   "source": [
    "\n",
    "\n",
    "\n",
    "sequence = processor.batch_decode(outputs.sequences)[0]\n",
    "sequence = sequence.replace(processor.tokenizer.eos_token, \"\").replace(processor.tokenizer.pad_token, \"\")\n",
    "sequence = re.sub(r\"<.*?>\", \"\", sequence, count=1).strip()  # remove first task start token\n",
    "print(sequence)"
   ]
  }
 ],
 "metadata": {
  "kernelspec": {
   "display_name": "Python 3 (ipykernel)",
   "language": "python",
   "name": "python3"
  },
  "language_info": {
   "codemirror_mode": {
    "name": "ipython",
    "version": 3
   },
   "file_extension": ".py",
   "mimetype": "text/x-python",
   "name": "python",
   "nbconvert_exporter": "python",
   "pygments_lexer": "ipython3",
   "version": "3.10.5"
  }
 },
 "nbformat": 4,
 "nbformat_minor": 5
}
